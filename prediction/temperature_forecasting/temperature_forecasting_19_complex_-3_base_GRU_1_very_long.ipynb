{
 "cells": [
  {
   "cell_type": "code",
   "execution_count": 1,
   "metadata": {},
   "outputs": [
    {
     "data": {
      "text/plain": [
       "'2.3.0-tf'"
      ]
     },
     "execution_count": 1,
     "metadata": {},
     "output_type": "execute_result"
    }
   ],
   "source": [
    "import tensorflow.keras as keras\n",
    "keras.__version__"
   ]
  },
  {
   "cell_type": "markdown",
   "metadata": {},
   "source": [
    "## loading Jena weather dataset"
   ]
  },
  {
   "cell_type": "code",
   "execution_count": 2,
   "metadata": {},
   "outputs": [],
   "source": [
    "import os\n",
    "\n",
    "data_dir = 'C:/data/jena_climate/'\n",
    "fname = os.path.join(data_dir, 'jena_climate_2009_2016.csv')\n",
    "\n",
    "f = open(fname)\n",
    "data = f.read()\n",
    "f.close()\n",
    "\n",
    "lines = data.split('\\n')\n",
    "header = lines[0].split(',')\n",
    "lines = lines[1:]"
   ]
  },
  {
   "cell_type": "markdown",
   "metadata": {},
   "source": [
    "## parsing data"
   ]
  },
  {
   "cell_type": "code",
   "execution_count": 3,
   "metadata": {},
   "outputs": [],
   "source": [
    "import numpy as np\n",
    "\n",
    "float_data = np.zeros((len(lines), len(header) - 1))  #exclude date feature\n",
    "for i, line in enumerate(lines):\n",
    "    values = [float(x) for x in line.split(',')[1:]]  #exclude date feature\n",
    "    float_data[i, :] = values"
   ]
  },
  {
   "cell_type": "markdown",
   "metadata": {},
   "source": [
    "## normalizing data"
   ]
  },
  {
   "cell_type": "code",
   "execution_count": 4,
   "metadata": {},
   "outputs": [],
   "source": [
    "mean = float_data[:200000].mean(axis=0)\n",
    "float_data -= mean\n",
    "std = float_data[:200000].std(axis=0)\n",
    "float_data /= std"
   ]
  },
  {
   "cell_type": "markdown",
   "metadata": {},
   "source": [
    "## preparing training, validation, and test generators"
   ]
  },
  {
   "cell_type": "code",
   "execution_count": 5,
   "metadata": {},
   "outputs": [],
   "source": [
    "def generator(data, lookback, delay, min_index, max_index,\n",
    "              shuffle=False, batch_size=128, step=6):\n",
    "    if max_index is None:\n",
    "        max_index = len(data) - delay - 1  #for last segment of data: limit index.\n",
    "    i = min_index + lookback  #current time step from which to look back in the past and ahead in the future.\n",
    "    while 1:\n",
    "        if shuffle:\n",
    "            rows = np.random.randint(\n",
    "                min_index + lookback, max_index, size=batch_size)\n",
    "        else:\n",
    "            if i + batch_size >= max_index:\n",
    "                i = min_index + lookback\n",
    "            rows = np.arange(i, min(i + batch_size, max_index))  #[i, i + batch_size]\n",
    "            i += len(rows)  #i = i + batch_size\n",
    "\n",
    "        samples = np.zeros((len(rows),    #batch_size\n",
    "                           lookback // step,  #sample_per_past_period: 24hours x 10days = 240 samples in past 10 days\n",
    "                           data.shape[-1]))  #feature_size = 14\n",
    "        targets = np.zeros((len(rows),))\n",
    "        for j, row in enumerate(rows):  #number of elements = batch_size:\n",
    "            indices = range(rows[j] - lookback, rows[j], step)  #past: [i - lookback, i], for i in {i,...,i+batch_size}; caution: refer to i before being updated to i = i + batch_size\n",
    "            samples[j] = data[indices]  #sample_per_past_period data points, each 14 features\n",
    "            targets[j] = data[rows[j] + delay][1]  #future: target temperature in i + delay time steps.\n",
    "        yield samples, targets"
   ]
  },
  {
   "cell_type": "code",
   "execution_count": 6,
   "metadata": {},
   "outputs": [],
   "source": [
    "lookback = 1440\n",
    "step = 6\n",
    "delay = 144\n",
    "batch_size = 128\n",
    "\n",
    "train_gen = generator(float_data,\n",
    "                      lookback=lookback,\n",
    "                      delay=delay,\n",
    "                      min_index=0,\n",
    "                      max_index=200000,\n",
    "                      shuffle=True,\n",
    "                      step=step, \n",
    "                      batch_size=batch_size)\n",
    "val_gen = generator(float_data,\n",
    "                    lookback=lookback,\n",
    "                    delay=delay,\n",
    "                    min_index=200001,\n",
    "                    max_index=300000,\n",
    "                    step=step,\n",
    "                    batch_size=batch_size)\n",
    "test_gen = generator(float_data,\n",
    "                     lookback=lookback,\n",
    "                     delay=delay,\n",
    "                     min_index=300001,\n",
    "                     max_index=None,\n",
    "                     step=step,\n",
    "                     batch_size=batch_size)\n",
    "\n",
    "#number of steps to see the whole validation set:\n",
    "val_steps = (300000 - 200001 - lookback) // batch_size  #start from 200001 + lookback\n",
    "\n",
    "#number of steps to see the whole test set:\n",
    "test_steps = (len(float_data) - 300001 - lookback) // batch_size  #start from 300001 + lookback"
   ]
  },
  {
   "cell_type": "markdown",
   "metadata": {},
   "source": [
    "## training base GRU model"
   ]
  },
  {
   "cell_type": "code",
   "execution_count": 7,
   "metadata": {},
   "outputs": [
    {
     "name": "stdout",
     "output_type": "stream",
     "text": [
      "WARNING:tensorflow:From <ipython-input-7-436e4b4eacea>:14: Model.fit_generator (from tensorflow.python.keras.engine.training) is deprecated and will be removed in a future version.\n",
      "Instructions for updating:\n",
      "Please use Model.fit, which supports generators.\n",
      "Epoch 1/60\n",
      "500/500 [==============================] - 125s 250ms/step - loss: 0.3679 - val_loss: 0.2770\n",
      "Epoch 2/60\n",
      "500/500 [==============================] - 129s 258ms/step - loss: 0.2943 - val_loss: 0.2727\n",
      "Epoch 3/60\n",
      "500/500 [==============================] - 125s 250ms/step - loss: 0.2910 - val_loss: 0.2711\n",
      "Epoch 4/60\n",
      "500/500 [==============================] - 126s 253ms/step - loss: 0.2864 - val_loss: 0.2709\n",
      "Epoch 5/60\n",
      "500/500 [==============================] - 123s 246ms/step - loss: 0.2863 - val_loss: 0.2711\n",
      "Epoch 6/60\n",
      "500/500 [==============================] - 123s 246ms/step - loss: 0.2833 - val_loss: 0.2685\n",
      "Epoch 7/60\n",
      "500/500 [==============================] - 124s 248ms/step - loss: 0.2827 - val_loss: 0.2658\n",
      "Epoch 8/60\n",
      "500/500 [==============================] - 122s 244ms/step - loss: 0.2809 - val_loss: 0.2664\n",
      "Epoch 9/60\n",
      "500/500 [==============================] - 126s 252ms/step - loss: 0.2804 - val_loss: 0.2648\n",
      "Epoch 10/60\n",
      "500/500 [==============================] - 127s 253ms/step - loss: 0.2787 - val_loss: 0.2642\n",
      "Epoch 11/60\n",
      "500/500 [==============================] - 139s 278ms/step - loss: 0.2794 - val_loss: 0.2640\n",
      "Epoch 12/60\n",
      "500/500 [==============================] - 129s 258ms/step - loss: 0.2773 - val_loss: 0.2631\n",
      "Epoch 13/60\n",
      "500/500 [==============================] - 135s 270ms/step - loss: 0.2764 - val_loss: 0.2660\n",
      "Epoch 14/60\n",
      "500/500 [==============================] - 133s 266ms/step - loss: 0.2757 - val_loss: 0.2650\n",
      "Epoch 15/60\n",
      "500/500 [==============================] - 140s 279ms/step - loss: 0.2746 - val_loss: 0.2646\n",
      "Epoch 16/60\n",
      "500/500 [==============================] - 131s 261ms/step - loss: 0.2736 - val_loss: 0.2629\n",
      "Epoch 17/60\n",
      "500/500 [==============================] - 130s 260ms/step - loss: 0.2729 - val_loss: 0.2663\n",
      "Epoch 18/60\n",
      "500/500 [==============================] - 161s 321ms/step - loss: 0.2724 - val_loss: 0.2662\n",
      "Epoch 19/60\n",
      "500/500 [==============================] - 134s 267ms/step - loss: 0.2718 - val_loss: 0.2667\n",
      "Epoch 20/60\n",
      "500/500 [==============================] - 143s 285ms/step - loss: 0.2719 - val_loss: 0.2698\n",
      "Epoch 21/60\n",
      "500/500 [==============================] - 130s 261ms/step - loss: 0.2718 - val_loss: 0.2669\n",
      "Epoch 22/60\n",
      "500/500 [==============================] - 169s 338ms/step - loss: 0.2693 - val_loss: 0.2672TA: 7s - \n",
      "Epoch 23/60\n",
      "500/500 [==============================] - 203s 406ms/step - loss: 0.2704 - val_loss: 0.2702\n",
      "Epoch 24/60\n",
      "500/500 [==============================] - 154s 308ms/step - loss: 0.2708 - val_loss: 0.2671\n",
      "Epoch 25/60\n",
      "500/500 [==============================] - 134s 269ms/step - loss: 0.2707 - val_loss: 0.2680\n",
      "Epoch 26/60\n",
      "500/500 [==============================] - 145s 290ms/step - loss: 0.2687 - val_loss: 0.2685\n",
      "Epoch 27/60\n",
      "500/500 [==============================] - 142s 284ms/step - loss: 0.2690 - val_loss: 0.2705\n",
      "Epoch 28/60\n",
      "500/500 [==============================] - 153s 305ms/step - loss: 0.2689 - val_loss: 0.2692\n",
      "Epoch 29/60\n",
      "500/500 [==============================] - 144s 288ms/step - loss: 0.2674 - val_loss: 0.2701\n",
      "Epoch 30/60\n",
      "500/500 [==============================] - 147s 294ms/step - loss: 0.2667 - val_loss: 0.2699\n",
      "Epoch 31/60\n",
      "500/500 [==============================] - 140s 281ms/step - loss: 0.2675 - val_loss: 0.2701\n",
      "Epoch 32/60\n",
      "500/500 [==============================] - 155s 309ms/step - loss: 0.2659 - val_loss: 0.2747\n",
      "Epoch 33/60\n",
      "500/500 [==============================] - 150s 301ms/step - loss: 0.2660 - val_loss: 0.2702\n",
      "Epoch 34/60\n",
      "500/500 [==============================] - 138s 276ms/step - loss: 0.2658 - val_loss: 0.2711\n",
      "Epoch 35/60\n",
      "500/500 [==============================] - 161s 322ms/step - loss: 0.2645 - val_loss: 0.2704\n",
      "Epoch 36/60\n",
      "500/500 [==============================] - 159s 318ms/step - loss: 0.2630 - val_loss: 0.2724\n",
      "Epoch 37/60\n",
      "500/500 [==============================] - 137s 273ms/step - loss: 0.2638 - val_loss: 0.2718\n",
      "Epoch 38/60\n",
      "500/500 [==============================] - 135s 270ms/step - loss: 0.2635 - val_loss: 0.2732\n",
      "Epoch 39/60\n",
      "500/500 [==============================] - 146s 292ms/step - loss: 0.2629 - val_loss: 0.2728\n",
      "Epoch 40/60\n",
      "500/500 [==============================] - 137s 274ms/step - loss: 0.2630 - val_loss: 0.2731\n",
      "Epoch 41/60\n",
      "500/500 [==============================] - 140s 281ms/step - loss: 0.2623 - val_loss: 0.2739\n",
      "Epoch 42/60\n",
      "500/500 [==============================] - 136s 273ms/step - loss: 0.2633 - val_loss: 0.2739\n",
      "Epoch 43/60\n",
      "500/500 [==============================] - 148s 297ms/step - loss: 0.2613 - val_loss: 0.2735\n",
      "Epoch 44/60\n",
      "500/500 [==============================] - 133s 265ms/step - loss: 0.2614 - val_loss: 0.2757\n",
      "Epoch 45/60\n",
      "500/500 [==============================] - 143s 286ms/step - loss: 0.2621 - val_loss: 0.2731\n",
      "Epoch 46/60\n",
      "500/500 [==============================] - 138s 275ms/step - loss: 0.2619 - val_loss: 0.2754\n",
      "Epoch 47/60\n",
      "500/500 [==============================] - 149s 298ms/step - loss: 0.2600 - val_loss: 0.2753\n",
      "Epoch 48/60\n",
      "500/500 [==============================] - 135s 271ms/step - loss: 0.2604 - val_loss: 0.2763\n",
      "Epoch 49/60\n",
      "500/500 [==============================] - 155s 310ms/step - loss: 0.2598 - val_loss: 0.2746\n",
      "Epoch 50/60\n",
      "500/500 [==============================] - 136s 272ms/step - loss: 0.2598 - val_loss: 0.2775\n",
      "Epoch 51/60\n",
      "500/500 [==============================] - 141s 281ms/step - loss: 0.2587 - val_loss: 0.2755\n",
      "Epoch 52/60\n",
      "500/500 [==============================] - 151s 302ms/step - loss: 0.2597 - val_loss: 0.2775\n",
      "Epoch 53/60\n",
      "500/500 [==============================] - 134s 267ms/step - loss: 0.2573 - val_loss: 0.2773\n",
      "Epoch 54/60\n",
      "500/500 [==============================] - 137s 273ms/step - loss: 0.2588 - val_loss: 0.2772\n",
      "Epoch 55/60\n",
      "500/500 [==============================] - 154s 307ms/step - loss: 0.2597 - val_loss: 0.2796\n",
      "Epoch 56/60\n",
      "500/500 [==============================] - 138s 276ms/step - loss: 0.2581 - val_loss: 0.2788\n",
      "Epoch 57/60\n",
      "500/500 [==============================] - 140s 280ms/step - loss: 0.2594 - val_loss: 0.2782\n",
      "Epoch 58/60\n",
      "500/500 [==============================] - 151s 302ms/step - loss: 0.2576 - val_loss: 0.2811\n",
      "Epoch 59/60\n",
      "500/500 [==============================] - 136s 271ms/step - loss: 0.2576 - val_loss: 0.2837\n",
      "Epoch 60/60\n",
      "500/500 [==============================] - 150s 301ms/step - loss: 0.2586 - val_loss: 0.2800\n"
     ]
    }
   ],
   "source": [
    "from tensorflow.keras.models import Sequential\n",
    "from tensorflow.keras import layers\n",
    "from tensorflow.keras.optimizers import RMSprop\n",
    "\n",
    "model = Sequential()\n",
    "model.add(layers.GRU(8, input_shape=(None, float_data.shape[-1])))\n",
    "model.add(layers.Dense(1))\n",
    "\n",
    "model.compile(optimizer=RMSprop(), loss='mae')\n",
    "history = model.fit_generator(train_gen,\n",
    "                              steps_per_epoch=500,\n",
    "                              epochs=60,\n",
    "                              validation_data=val_gen,\n",
    "                              validation_steps=val_steps)"
   ]
  },
  {
   "cell_type": "code",
   "execution_count": 8,
   "metadata": {},
   "outputs": [
    {
     "data": {
      "image/png": "[encoded data removed]",
      "text/plain": [
       "<Figure size 432x288 with 1 Axes>"
      ]
     },
     "metadata": {
      "needs_background": "light"
     },
     "output_type": "display_data"
    }
   ],
   "source": [
    "import matplotlib.pyplot as plt\n",
    "%matplotlib inline\n",
    "\n",
    "loss = history.history['loss']\n",
    "val_loss = history.history['val_loss']\n",
    "\n",
    "epochs = range(len(loss))\n",
    "\n",
    "plt.figure()\n",
    "\n",
    "plt.plot(epochs, loss, 'bo', label='Training loss')\n",
    "plt.plot(epochs, val_loss, 'b', label='Validation loss')\n",
    "plt.title('Training and validation loss')\n",
    "plt.legend()\n",
    "\n",
    "plt.show()"
   ]
  },
  {
   "cell_type": "code",
   "execution_count": 9,
   "metadata": {},
   "outputs": [],
   "source": [
    "#val loss minimum at second epoch"
   ]
  },
  {
   "cell_type": "code",
   "execution_count": 10,
   "metadata": {},
   "outputs": [
    {
     "data": {
      "text/plain": [
       "16"
      ]
     },
     "execution_count": 10,
     "metadata": {},
     "output_type": "execute_result"
    }
   ],
   "source": [
    "np.argmin(val_loss)+1"
   ]
  },
  {
   "cell_type": "code",
   "execution_count": 11,
   "metadata": {},
   "outputs": [
    {
     "data": {
      "text/plain": [
       "0.26286476850509644"
      ]
     },
     "execution_count": 11,
     "metadata": {},
     "output_type": "execute_result"
    }
   ],
   "source": [
    "val_loss[np.argmin(val_loss)]"
   ]
  },
  {
   "cell_type": "code",
   "execution_count": 12,
   "metadata": {},
   "outputs": [],
   "source": [
    "#baseline: denormalized average absolute error: 2.57°C"
   ]
  },
  {
   "cell_type": "code",
   "execution_count": 13,
   "metadata": {},
   "outputs": [],
   "source": [
    "celsius_mae = val_loss[np.argmin(val_loss)] * std[1]"
   ]
  },
  {
   "cell_type": "code",
   "execution_count": 14,
   "metadata": {},
   "outputs": [
    {
     "data": {
      "text/plain": [
       "2.33"
      ]
     },
     "execution_count": 14,
     "metadata": {},
     "output_type": "execute_result"
    }
   ],
   "source": [
    "round(celsius_mae,2)"
   ]
  }
 ],
 "metadata": {
  "kernelspec": {
   "display_name": "tensorflow22_env",
   "language": "python",
   "name": "tensorflow22_env"
  },
  "language_info": {
   "codemirror_mode": {
    "name": "ipython",
    "version": 3
   },
   "file_extension": ".py",
   "mimetype": "text/x-python",
   "name": "python",
   "nbconvert_exporter": "python",
   "pygments_lexer": "ipython3",
   "version": "3.7.7"
  }
 },
 "nbformat": 4,
 "nbformat_minor": 4
}

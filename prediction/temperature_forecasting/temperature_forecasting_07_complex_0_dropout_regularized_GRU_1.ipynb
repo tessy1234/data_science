{
 "cells": [
  {
   "cell_type": "code",
   "execution_count": 1,
   "metadata": {},
   "outputs": [
    {
     "data": {
      "text/plain": [
       "'2.3.0-tf'"
      ]
     },
     "execution_count": 1,
     "metadata": {},
     "output_type": "execute_result"
    }
   ],
   "source": [
    "import tensorflow.keras as keras\n",
    "keras.__version__"
   ]
  },
  {
   "cell_type": "markdown",
   "metadata": {},
   "source": [
    "## loading Jena weather dataset"
   ]
  },
  {
   "cell_type": "code",
   "execution_count": 2,
   "metadata": {},
   "outputs": [],
   "source": [
    "import os\n",
    "\n",
    "data_dir = 'C:/data/jena_climate/'\n",
    "fname = os.path.join(data_dir, 'jena_climate_2009_2016.csv')\n",
    "\n",
    "f = open(fname)\n",
    "data = f.read()\n",
    "f.close()\n",
    "\n",
    "lines = data.split('\\n')\n",
    "header = lines[0].split(',')\n",
    "lines = lines[1:]"
   ]
  },
  {
   "cell_type": "markdown",
   "metadata": {},
   "source": [
    "## parsing data"
   ]
  },
  {
   "cell_type": "code",
   "execution_count": 3,
   "metadata": {},
   "outputs": [],
   "source": [
    "import numpy as np\n",
    "\n",
    "float_data = np.zeros((len(lines), len(header) - 1))  #exclude date feature\n",
    "for i, line in enumerate(lines):\n",
    "    values = [float(x) for x in line.split(',')[1:]]  #exclude date feature\n",
    "    float_data[i, :] = values"
   ]
  },
  {
   "cell_type": "markdown",
   "metadata": {},
   "source": [
    "## normalizing data"
   ]
  },
  {
   "cell_type": "code",
   "execution_count": 4,
   "metadata": {},
   "outputs": [],
   "source": [
    "mean = float_data[:200000].mean(axis=0)\n",
    "float_data -= mean\n",
    "std = float_data[:200000].std(axis=0)\n",
    "float_data /= std"
   ]
  },
  {
   "cell_type": "markdown",
   "metadata": {},
   "source": [
    "## preparing training, validation, and test generators"
   ]
  },
  {
   "cell_type": "code",
   "execution_count": 5,
   "metadata": {},
   "outputs": [],
   "source": [
    "def generator(data, lookback, delay, min_index, max_index,\n",
    "              shuffle=False, batch_size=128, step=6):\n",
    "    if max_index is None:\n",
    "        max_index = len(data) - delay - 1  #for last segment of data: limit index.\n",
    "    i = min_index + lookback  #current time step from which to look back in the past and ahead in the future.\n",
    "    while 1:\n",
    "        if shuffle:\n",
    "            rows = np.random.randint(\n",
    "                min_index + lookback, max_index, size=batch_size)\n",
    "        else:\n",
    "            if i + batch_size >= max_index:\n",
    "                i = min_index + lookback\n",
    "            rows = np.arange(i, min(i + batch_size, max_index))  #[i, i + batch_size]\n",
    "            i += len(rows)  #i = i + batch_size\n",
    "\n",
    "        samples = np.zeros((len(rows),    #batch_size\n",
    "                           lookback // step,  #sample_per_past_period: 24hours x 10days = 240 samples in past 10 days\n",
    "                           data.shape[-1]))  #feature_size = 14\n",
    "        targets = np.zeros((len(rows),))\n",
    "        for j, row in enumerate(rows):  #number of elements = batch_size:\n",
    "            indices = range(rows[j] - lookback, rows[j], step)  #past: [i - lookback, i], for i in {i,...,i+batch_size}; caution: refer to i before being updated to i = i + batch_size\n",
    "            samples[j] = data[indices]  #sample_per_past_period data points, each 14 features\n",
    "            targets[j] = data[rows[j] + delay][1]  #future: target temperature in i + delay time steps.\n",
    "        yield samples, targets"
   ]
  },
  {
   "cell_type": "code",
   "execution_count": 6,
   "metadata": {},
   "outputs": [],
   "source": [
    "lookback = 1440\n",
    "step = 6\n",
    "delay = 144\n",
    "batch_size = 128\n",
    "\n",
    "train_gen = generator(float_data,\n",
    "                      lookback=lookback,\n",
    "                      delay=delay,\n",
    "                      min_index=0,\n",
    "                      max_index=200000,\n",
    "                      shuffle=True,\n",
    "                      step=step, \n",
    "                      batch_size=batch_size)\n",
    "val_gen = generator(float_data,\n",
    "                    lookback=lookback,\n",
    "                    delay=delay,\n",
    "                    min_index=200001,\n",
    "                    max_index=300000,\n",
    "                    step=step,\n",
    "                    batch_size=batch_size)\n",
    "test_gen = generator(float_data,\n",
    "                     lookback=lookback,\n",
    "                     delay=delay,\n",
    "                     min_index=300001,\n",
    "                     max_index=None,\n",
    "                     step=step,\n",
    "                     batch_size=batch_size)\n",
    "\n",
    "#number of steps to see the whole validation set:\n",
    "val_steps = (300000 - 200001 - lookback) // batch_size  #start from 200001 + lookback\n",
    "\n",
    "#number of steps to see the whole test set:\n",
    "test_steps = (len(float_data) - 300001 - lookback) // batch_size  #start from 300001 + lookback"
   ]
  },
  {
   "cell_type": "markdown",
   "metadata": {},
   "source": [
    "## training dropout-regularized GRU model"
   ]
  },
  {
   "cell_type": "code",
   "execution_count": null,
   "metadata": {},
   "outputs": [],
   "source": [
    "#use same dropout mask at each time step for both inputs, outputs, and recurrent layers."
   ]
  },
  {
   "cell_type": "code",
   "execution_count": 7,
   "metadata": {},
   "outputs": [
    {
     "name": "stdout",
     "output_type": "stream",
     "text": [
      "WARNING:tensorflow:From <ipython-input-7-dd85efd12e94>:17: Model.fit_generator (from tensorflow.python.keras.engine.training) is deprecated and will be removed in a future version.\n",
      "Instructions for updating:\n",
      "Please use Model.fit, which supports generators.\n",
      "Epoch 1/40\n",
      "500/500 [==============================] - 327s 654ms/step - loss: 0.3233 - val_loss: 0.2806\n",
      "Epoch 2/40\n",
      "500/500 [==============================] - 426s 853ms/step - loss: 0.3043 - val_loss: 0.2740\n",
      "Epoch 3/40\n",
      "500/500 [==============================] - 433s 866ms/step - loss: 0.2963 - val_loss: 0.2744\n",
      "Epoch 4/40\n",
      "500/500 [==============================] - 456s 913ms/step - loss: 0.2922 - val_loss: 0.2666\n",
      "Epoch 5/40\n",
      "500/500 [==============================] - 446s 891ms/step - loss: 0.2878 - val_loss: 0.2791\n",
      "Epoch 6/40\n",
      "500/500 [==============================] - 468s 937ms/step - loss: 0.2842 - val_loss: 0.2669\n",
      "Epoch 7/40\n",
      "500/500 [==============================] - 443s 887ms/step - loss: 0.2813 - val_loss: 0.2695\n",
      "Epoch 8/40\n",
      "500/500 [==============================] - 449s 898ms/step - loss: 0.2773 - val_loss: 0.2708\n",
      "Epoch 9/40\n",
      "500/500 [==============================] - 437s 874ms/step - loss: 0.2756 - val_loss: 0.2727\n",
      "Epoch 10/40\n",
      "500/500 [==============================] - 447s 893ms/step - loss: 0.2725 - val_loss: 0.2709\n",
      "Epoch 11/40\n",
      "500/500 [==============================] - 436s 873ms/step - loss: 0.2714 - val_loss: 0.2696\n",
      "Epoch 12/40\n",
      "500/500 [==============================] - 398s 797ms/step - loss: 0.2691 - val_loss: 0.2765\n",
      "Epoch 13/40\n",
      "500/500 [==============================] - 419s 838ms/step - loss: 0.2664 - val_loss: 0.2767\n",
      "Epoch 14/40\n",
      "500/500 [==============================] - 411s 822ms/step - loss: 0.2664 - val_loss: 0.2713\n",
      "Epoch 15/40\n",
      "500/500 [==============================] - 420s 840ms/step - loss: 0.2629 - val_loss: 0.2778\n",
      "Epoch 16/40\n",
      "500/500 [==============================] - 430s 861ms/step - loss: 0.2622 - val_loss: 0.2784\n",
      "Epoch 17/40\n",
      "500/500 [==============================] - 421s 843ms/step - loss: 0.2600 - val_loss: 0.2747\n",
      "Epoch 18/40\n",
      "500/500 [==============================] - 416s 833ms/step - loss: 0.2577 - val_loss: 0.2813\n",
      "Epoch 19/40\n",
      "500/500 [==============================] - 427s 854ms/step - loss: 0.2569 - val_loss: 0.2787\n",
      "Epoch 20/40\n",
      "500/500 [==============================] - 399s 798ms/step - loss: 0.2536 - val_loss: 0.2831\n",
      "Epoch 21/40\n",
      "500/500 [==============================] - 412s 824ms/step - loss: 0.2506 - val_loss: 0.2907\n",
      "Epoch 22/40\n",
      "500/500 [==============================] - 405s 809ms/step - loss: 0.2516 - val_loss: 0.2882\n",
      "Epoch 23/40\n",
      "500/500 [==============================] - 415s 829ms/step - loss: 0.2494 - val_loss: 0.2883\n",
      "Epoch 24/40\n",
      "500/500 [==============================] - 395s 790ms/step - loss: 0.2461 - val_loss: 0.2862\n",
      "Epoch 25/40\n",
      "500/500 [==============================] - 413s 827ms/step - loss: 0.2451 - val_loss: 0.2873\n",
      "Epoch 26/40\n",
      "500/500 [==============================] - 408s 815ms/step - loss: 0.2443 - val_loss: 0.2925\n",
      "Epoch 27/40\n",
      "500/500 [==============================] - 404s 808ms/step - loss: 0.2427 - val_loss: 0.2967\n",
      "Epoch 28/40\n",
      "500/500 [==============================] - 403s 807ms/step - loss: 0.2412 - val_loss: 0.2978\n",
      "Epoch 29/40\n",
      "500/500 [==============================] - 429s 858ms/step - loss: 0.2414 - val_loss: 0.2995\n",
      "Epoch 30/40\n",
      "500/500 [==============================] - 400s 801ms/step - loss: 0.2388 - val_loss: 0.3012\n",
      "Epoch 31/40\n",
      "500/500 [==============================] - 399s 799ms/step - loss: 0.2373 - val_loss: 0.2950\n",
      "Epoch 32/40\n",
      "500/500 [==============================] - 429s 859ms/step - loss: 0.2359 - val_loss: 0.2965\n",
      "Epoch 33/40\n",
      "500/500 [==============================] - 399s 797ms/step - loss: 0.2359 - val_loss: 0.3043\n",
      "Epoch 34/40\n",
      "500/500 [==============================] - 409s 818ms/step - loss: 0.2339 - val_loss: 0.3046\n",
      "Epoch 35/40\n",
      "500/500 [==============================] - 394s 788ms/step - loss: 0.2321 - val_loss: 0.3053\n",
      "Epoch 36/40\n",
      "500/500 [==============================] - 400s 800ms/step - loss: 0.2309 - val_loss: 0.3035\n",
      "Epoch 37/40\n",
      "500/500 [==============================] - 418s 836ms/step - loss: 0.2309 - val_loss: 0.3031\n",
      "Epoch 38/40\n",
      "500/500 [==============================] - 400s 800ms/step - loss: 0.2307 - val_loss: 0.3119\n",
      "Epoch 39/40\n",
      "500/500 [==============================] - 393s 786ms/step - loss: 0.2296 - val_loss: 0.3078\n",
      "Epoch 40/40\n",
      "500/500 [==============================] - 420s 841ms/step - loss: 0.2269 - val_loss: 0.3086\n"
     ]
    }
   ],
   "source": [
    "from tensorflow.keras.models import Sequential\n",
    "from tensorflow.keras import layers\n",
    "from tensorflow.keras.optimizers import RMSprop\n",
    "\n",
    "model = Sequential()\n",
    "model.add(layers.GRU(32,\n",
    "                     dropout=0.2,\n",
    "                     recurrent_dropout=0.2,\n",
    "                     input_shape=(None, float_data.shape[-1])))\n",
    "model.add(layers.Dense(1))\n",
    "\n",
    "model.compile(optimizer=RMSprop(), loss='mae')\n",
    "history = model.fit_generator(train_gen,\n",
    "                              steps_per_epoch=500,\n",
    "                              epochs=40,\n",
    "                              validation_data=val_gen,\n",
    "                              validation_steps=val_steps)"
   ]
  },
  {
   "cell_type": "code",
   "execution_count": 8,
   "metadata": {},
   "outputs": [
    {
     "data": {
      "image/png": "[encoded data removed]",
      "text/plain": [
       "<Figure size 432x288 with 1 Axes>"
      ]
     },
     "metadata": {
      "needs_background": "light"
     },
     "output_type": "display_data"
    }
   ],
   "source": [
    "import matplotlib.pyplot as plt\n",
    "%matplotlib inline\n",
    "\n",
    "loss = history.history['loss']\n",
    "val_loss = history.history['val_loss']\n",
    "\n",
    "epochs = range(len(loss))\n",
    "\n",
    "plt.figure()\n",
    "\n",
    "plt.plot(epochs, loss, 'bo', label='Training loss')\n",
    "plt.plot(epochs, val_loss, 'b', label='Validation loss')\n",
    "plt.title('Training and validation loss')\n",
    "plt.legend()\n",
    "\n",
    "plt.show()"
   ]
  },
  {
   "cell_type": "code",
   "execution_count": 9,
   "metadata": {},
   "outputs": [
    {
     "data": {
      "text/plain": [
       "4"
      ]
     },
     "execution_count": 9,
     "metadata": {},
     "output_type": "execute_result"
    }
   ],
   "source": [
    "np.argmin(val_loss)+1"
   ]
  },
  {
   "cell_type": "code",
   "execution_count": 10,
   "metadata": {},
   "outputs": [
    {
     "data": {
      "text/plain": [
       "0.2665887176990509"
      ]
     },
     "execution_count": 10,
     "metadata": {},
     "output_type": "execute_result"
    }
   ],
   "source": [
    "val_loss[np.argmin(val_loss)]"
   ]
  },
  {
   "cell_type": "code",
   "execution_count": 11,
   "metadata": {},
   "outputs": [],
   "source": [
    "#baseline: denormalized average absolute error: 2.57°C"
   ]
  },
  {
   "cell_type": "code",
   "execution_count": 12,
   "metadata": {},
   "outputs": [],
   "source": [
    "celsius_mae = val_loss[np.argmin(val_loss)] * std[1]"
   ]
  },
  {
   "cell_type": "code",
   "execution_count": 13,
   "metadata": {},
   "outputs": [
    {
     "data": {
      "text/plain": [
       "2.36"
      ]
     },
     "execution_count": 13,
     "metadata": {},
     "output_type": "execute_result"
    }
   ],
   "source": [
    "round(celsius_mae,2)"
   ]
  },
  {
   "cell_type": "code",
   "execution_count": null,
   "metadata": {},
   "outputs": [],
   "source": []
  }
 ],
 "metadata": {
  "kernelspec": {
   "display_name": "tensorflow22_env",
   "language": "python",
   "name": "tensorflow22_env"
  },
  "language_info": {
   "codemirror_mode": {
    "name": "ipython",
    "version": 3
   },
   "file_extension": ".py",
   "mimetype": "text/x-python",
   "name": "python",
   "nbconvert_exporter": "python",
   "pygments_lexer": "ipython3",
   "version": "3.7.7"
  }
 },
 "nbformat": 4,
 "nbformat_minor": 4
}

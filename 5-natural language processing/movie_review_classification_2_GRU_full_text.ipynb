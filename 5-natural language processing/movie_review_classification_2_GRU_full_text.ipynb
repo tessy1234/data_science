{
 "cells": [
  {
   "cell_type": "code",
   "execution_count": 26,
   "metadata": {},
   "outputs": [],
   "source": [
    "import tensorflow as tf\n",
    "from tensorflow import keras"
   ]
  },
  {
   "cell_type": "code",
   "execution_count": 27,
   "metadata": {},
   "outputs": [],
   "source": [
    "import numpy as np\n",
    "import os"
   ]
  },
  {
   "cell_type": "markdown",
   "metadata": {},
   "source": [
    "## Sentiment Analysis"
   ]
  },
  {
   "cell_type": "markdown",
   "metadata": {},
   "source": [
    "### loading IMDb reviews using TensorFlow Datasets"
   ]
  },
  {
   "cell_type": "code",
   "execution_count": 28,
   "metadata": {},
   "outputs": [],
   "source": [
    "#downloading dataset imdb_reviews to C:\\Users\\josef\\tensorflow_datasets\\imdb_reviews\\..."
   ]
  },
  {
   "cell_type": "code",
   "execution_count": 29,
   "metadata": {},
   "outputs": [],
   "source": [
    "import tensorflow_datasets as tfds\n",
    "\n",
    "train_ds, info_train = tfds.load('imdb_reviews', split='train[:80%]', as_supervised=True, with_info=True)\n",
    "val_ds, info_val = tfds.load('imdb_reviews', split='train[80%:]', as_supervised=True, with_info=True)"
   ]
  },
  {
   "cell_type": "code",
   "execution_count": 30,
   "metadata": {},
   "outputs": [
    {
     "data": {
      "text/plain": [
       "20000"
      ]
     },
     "execution_count": 30,
     "metadata": {},
     "output_type": "execute_result"
    }
   ],
   "source": [
    "train_size = info_train.splits[\"train[:80%]\"].num_examples; train_size"
   ]
  },
  {
   "cell_type": "code",
   "execution_count": 31,
   "metadata": {},
   "outputs": [
    {
     "data": {
      "text/plain": [
       "5000"
      ]
     },
     "execution_count": 31,
     "metadata": {},
     "output_type": "execute_result"
    }
   ],
   "source": [
    "val_size = info_val.splits[\"train[80%:]\"].num_examples; val_size"
   ]
  },
  {
   "cell_type": "code",
   "execution_count": 32,
   "metadata": {},
   "outputs": [],
   "source": [
    "#preprocessing: text data restricted to 500 words"
   ]
  },
  {
   "cell_type": "code",
   "execution_count": 33,
   "metadata": {},
   "outputs": [],
   "source": [
    "maxwordlen = 500  #max word length for each review\n",
    "def preprocess(X_batch, y_batch):\n",
    "    X_batch = tf.strings.substr(X_batch, 0, 3000)  #delimiting string to 3000 characters which relates to max 589 words\n",
    "    X_batch = tf.strings.regex_replace(X_batch, rb\"<br\\s*/?>\", b\" \")\n",
    "    X_batch = tf.strings.regex_replace(X_batch, b\"[^a-zA-Z']\", b\" \")\n",
    "    X_batch = tf.strings.split(X_batch, maxsplit=maxwordlen)[:,:maxwordlen] #split string into words; #words restricted\n",
    "    return X_batch.to_tensor(default_value=b\"<pad>\"), y_batch  #batch will be filled with padding token"
   ]
  },
  {
   "cell_type": "code",
   "execution_count": 34,
   "metadata": {},
   "outputs": [],
   "source": [
    "#build up vocabulary from text data"
   ]
  },
  {
   "cell_type": "code",
   "execution_count": 35,
   "metadata": {},
   "outputs": [],
   "source": [
    "from collections import Counter\n",
    "\n",
    "vocabulary = Counter()\n",
    "for X_batch, y_batch in train_ds.batch(32).map(preprocess):\n",
    "    for review in X_batch:\n",
    "        vocabulary.update(list(review.numpy()))"
   ]
  },
  {
   "cell_type": "code",
   "execution_count": 36,
   "metadata": {},
   "outputs": [],
   "source": [
    "vocab_size = 10000\n",
    "truncated_vocabulary = [\n",
    "    word for word, count in vocabulary.most_common()[:vocab_size]]"
   ]
  },
  {
   "cell_type": "code",
   "execution_count": 37,
   "metadata": {},
   "outputs": [],
   "source": [
    "word_to_id = {word: index for index, word in enumerate(truncated_vocabulary)}"
   ]
  },
  {
   "cell_type": "code",
   "execution_count": 38,
   "metadata": {},
   "outputs": [],
   "source": [
    "words = tf.constant(truncated_vocabulary)\n",
    "word_ids = tf.range(len(truncated_vocabulary), dtype=tf.int64)\n",
    "vocab_init = tf.lookup.KeyValueTensorInitializer(words, word_ids)\n",
    "num_oov_buckets = 1000\n",
    "table = tf.lookup.StaticVocabularyTable(vocab_init, num_oov_buckets)"
   ]
  },
  {
   "cell_type": "code",
   "execution_count": 39,
   "metadata": {},
   "outputs": [],
   "source": [
    "def encode_words(X_batch, y_batch):\n",
    "    return table.lookup(X_batch), y_batch"
   ]
  },
  {
   "cell_type": "code",
   "execution_count": 40,
   "metadata": {},
   "outputs": [],
   "source": [
    "train_set = train_ds.repeat().batch(32).map(preprocess)  #batches with 32 reviews are going to be preprocessed\n",
    "train_set = train_set.map(encode_words).prefetch(1)      #tokenization: encode words to integer\n",
    "\n",
    "val_set = val_ds.repeat().batch(32).map(preprocess)\n",
    "val_set = val_set.map(encode_words).prefetch(1)"
   ]
  },
  {
   "cell_type": "code",
   "execution_count": 41,
   "metadata": {},
   "outputs": [],
   "source": [
    "#calculate maximum number of words for each review"
   ]
  },
  {
   "cell_type": "code",
   "execution_count": 42,
   "metadata": {},
   "outputs": [],
   "source": [
    "i=0\n",
    "max_dim=np.array([])\n",
    "for data in train_ds.batch(32).map(preprocess).map(encode_words).batch(1):\n",
    "    i+=1\n",
    "    max_dim = np.append(max_dim, np.count_nonzero(data[0].numpy()[0], axis=1).max())"
   ]
  },
  {
   "cell_type": "code",
   "execution_count": 43,
   "metadata": {},
   "outputs": [
    {
     "data": {
      "text/plain": [
       "((625,), 500.0)"
      ]
     },
     "execution_count": 43,
     "metadata": {},
     "output_type": "execute_result"
    }
   ],
   "source": [
    "max_dim.shape, max_dim.max()  #maximum number of words of all reviews"
   ]
  },
  {
   "cell_type": "code",
   "execution_count": 44,
   "metadata": {},
   "outputs": [],
   "source": [
    "#calculate maximum number of out-of-vocabulary (oov) buckets"
   ]
  },
  {
   "cell_type": "code",
   "execution_count": 45,
   "metadata": {},
   "outputs": [],
   "source": [
    "i=0\n",
    "max_oov=np.array([])\n",
    "for data in train_ds.batch(32).map(preprocess).map(encode_words).batch(1):\n",
    "    i+=1\n",
    "    count_oov = np.count_nonzero(data[0].numpy()[0]>10000, axis=1)  #count elements along columns with x>10000; return array with 32 values;\n",
    "    max_oov = np.append(max_oov, count_oov.max())"
   ]
  },
  {
   "cell_type": "code",
   "execution_count": 46,
   "metadata": {},
   "outputs": [
    {
     "data": {
      "text/plain": [
       "((625,), 122.0)"
      ]
     },
     "execution_count": 46,
     "metadata": {},
     "output_type": "execute_result"
    }
   ],
   "source": [
    "max_oov.shape, max_oov.max()  #x out of 1000 out-of-vocabulary (oov) buckets are occupied"
   ]
  },
  {
   "cell_type": "markdown",
   "metadata": {},
   "source": [
    "### training recurrent network: stacked GRU"
   ]
  },
  {
   "cell_type": "code",
   "execution_count": 47,
   "metadata": {},
   "outputs": [],
   "source": [
    "#model.summary()"
   ]
  },
  {
   "cell_type": "code",
   "execution_count": 48,
   "metadata": {},
   "outputs": [],
   "source": [
    "#keras.utils.plot_model(model, show_shapes=True)"
   ]
  },
  {
   "cell_type": "code",
   "execution_count": 49,
   "metadata": {},
   "outputs": [],
   "source": [
    "#LSTM layer expects inputs to have shape of (batch_size, timesteps, input_dim)"
   ]
  },
  {
   "cell_type": "code",
   "execution_count": 50,
   "metadata": {},
   "outputs": [
    {
     "name": "stdout",
     "output_type": "stream",
     "text": [
      "Epoch 1/10\n",
      "625/625 [==============================] - 3256s 5s/step - loss: 0.5079 - accuracy: 0.7534 - val_loss: 0.3634 - val_accuracy: 0.8411\n",
      "Epoch 2/10\n",
      "625/625 [==============================] - 3964s 6s/step - loss: 0.3124 - accuracy: 0.8765 - val_loss: 0.2924 - val_accuracy: 0.8818\n",
      "Epoch 3/10\n",
      "625/625 [==============================] - 4416s 7s/step - loss: 0.2071 - accuracy: 0.9224 - val_loss: 0.3000 - val_accuracy: 0.8770\n",
      "Epoch 4/10\n",
      "625/625 [==============================] - 4159s 7s/step - loss: 0.1490 - accuracy: 0.9457 - val_loss: 0.3838 - val_accuracy: 0.8598\n",
      "Epoch 5/10\n",
      "625/625 [==============================] - 4120s 7s/step - loss: 0.1091 - accuracy: 0.9625 - val_loss: 0.3982 - val_accuracy: 0.8628\n",
      "Epoch 6/10\n",
      "625/625 [==============================] - 4246s 7s/step - loss: 0.0740 - accuracy: 0.9757 - val_loss: 0.3975 - val_accuracy: 0.8680\n",
      "Epoch 7/10\n",
      "625/625 [==============================] - 4105s 7s/step - loss: 0.0495 - accuracy: 0.9847 - val_loss: 0.4667 - val_accuracy: 0.8646\n",
      "Epoch 8/10\n",
      "625/625 [==============================] - 4077s 7s/step - loss: 0.0336 - accuracy: 0.9893 - val_loss: 0.5315 - val_accuracy: 0.8680\n",
      "Epoch 9/10\n",
      "625/625 [==============================] - 4063s 7s/step - loss: 0.0226 - accuracy: 0.9931 - val_loss: 0.5936 - val_accuracy: 0.8676\n",
      "Epoch 10/10\n",
      "625/625 [==============================] - 4170s 7s/step - loss: 0.0139 - accuracy: 0.9954 - val_loss: 0.7338 - val_accuracy: 0.8590\n"
     ]
    }
   ],
   "source": [
    "embed_size = 128\n",
    "model = keras.models.Sequential([\n",
    "    keras.layers.Embedding(vocab_size+num_oov_buckets, embed_size, mask_zero=True),  #default: mask_zero=False\n",
    "    keras.layers.GRU(128, return_sequences=True),\n",
    "    keras.layers.GRU(128),\n",
    "    keras.layers.Dense(1, activation=\"sigmoid\")\n",
    "])\n",
    "model.compile(loss=\"binary_crossentropy\", optimizer=\"rmsprop\", metrics=[\"accuracy\"])\n",
    "history = model.fit(train_set,\n",
    "                    steps_per_epoch=train_size // 32, \n",
    "                    epochs=10,\n",
    "                    validation_data=val_set,\n",
    "                    validation_steps=val_size // 32 )"
   ]
  },
  {
   "cell_type": "markdown",
   "metadata": {},
   "source": [
    "### evaluating model"
   ]
  },
  {
   "cell_type": "code",
   "execution_count": 51,
   "metadata": {},
   "outputs": [
    {
     "data": {
      "image/png": "[encoded data removed]",
      "text/plain": [
       "<Figure size 432x288 with 1 Axes>"
      ]
     },
     "metadata": {
      "needs_background": "light"
     },
     "output_type": "display_data"
    },
    {
     "data": {
      "image/png": "[encoded data removed]",
      "text/plain": [
       "<Figure size 432x288 with 1 Axes>"
      ]
     },
     "metadata": {
      "needs_background": "light"
     },
     "output_type": "display_data"
    }
   ],
   "source": [
    "import matplotlib.pyplot as plt\n",
    "%matplotlib inline\n",
    "\n",
    "acc = history.history['accuracy']\n",
    "val_acc = history.history['val_accuracy']\n",
    "loss = history.history['loss']\n",
    "val_loss = history.history['val_loss']\n",
    "\n",
    "epochs = range(len(acc))\n",
    "\n",
    "plt.plot(epochs, acc, 'bo', label='Training acc')\n",
    "plt.plot(epochs, val_acc, 'b', label='Validation acc')\n",
    "plt.title('Training and validation accuracy')\n",
    "plt.legend()\n",
    "\n",
    "plt.figure()\n",
    "\n",
    "plt.plot(epochs, loss, 'bo', label='Training loss')\n",
    "plt.plot(epochs, val_loss, 'b', label='Validation loss')\n",
    "plt.title('Training and validation loss')\n",
    "plt.legend()\n",
    "\n",
    "plt.show()"
   ]
  },
  {
   "cell_type": "code",
   "execution_count": 52,
   "metadata": {},
   "outputs": [
    {
     "data": {
      "text/plain": [
       "2"
      ]
     },
     "execution_count": 52,
     "metadata": {},
     "output_type": "execute_result"
    }
   ],
   "source": [
    "import numpy as np\n",
    "np.argmax(val_acc)+1"
   ]
  },
  {
   "cell_type": "code",
   "execution_count": 53,
   "metadata": {},
   "outputs": [
    {
     "data": {
      "text/plain": [
       "0.88"
      ]
     },
     "execution_count": 53,
     "metadata": {},
     "output_type": "execute_result"
    }
   ],
   "source": [
    "round(val_acc[np.argmax(val_acc)],2)"
   ]
  },
  {
   "cell_type": "code",
   "execution_count": null,
   "metadata": {},
   "outputs": [],
   "source": []
  }
 ],
 "metadata": {
  "kernelspec": {
   "display_name": "tensorflow22_env",
   "language": "python",
   "name": "tensorflow22_env"
  },
  "language_info": {
   "codemirror_mode": {
    "name": "ipython",
    "version": 3
   },
   "file_extension": ".py",
   "mimetype": "text/x-python",
   "name": "python",
   "nbconvert_exporter": "python",
   "pygments_lexer": "ipython3",
   "version": "3.7.7"
  }
 },
 "nbformat": 4,
 "nbformat_minor": 2
}

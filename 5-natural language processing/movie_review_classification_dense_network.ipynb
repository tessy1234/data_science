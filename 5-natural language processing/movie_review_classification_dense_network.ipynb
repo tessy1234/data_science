{
 "cells": [
  {
   "cell_type": "markdown",
   "metadata": {},
   "source": [
    "## classifying movie reviews: binary classification"
   ]
  },
  {
   "cell_type": "markdown",
   "metadata": {},
   "source": [
    "### loading IMDB dataset"
   ]
  },
  {
   "cell_type": "code",
   "execution_count": 1,
   "metadata": {},
   "outputs": [
    {
     "name": "stdout",
     "output_type": "stream",
     "text": [
      "25000 train sequences\n",
      "25000 test sequences\n"
     ]
    }
   ],
   "source": [
    "from tensorflow.keras.datasets import imdb\n",
    "\n",
    "(train_data, train_labels), (test_data, test_labels) = imdb.load_data(num_words=10000)\n",
    "print(len(train_data), 'train sequences')\n",
    "print(len(test_data), 'test sequences')"
   ]
  },
  {
   "cell_type": "markdown",
   "metadata": {},
   "source": [
    "### vectorizing sequences"
   ]
  },
  {
   "cell_type": "code",
   "execution_count": 2,
   "metadata": {},
   "outputs": [],
   "source": [
    "import numpy as np\n",
    "\n",
    "def vectorize_sequences(sequences, dimension=10000):\n",
    "    #create an all-zero matrix of shape (len(sequences), dimension)\n",
    "    results = np.zeros((len(sequences), dimension))\n",
    "    for i, sequence in enumerate(sequences):\n",
    "        results[i, sequence] = 1.  #set specific indices of results[i] to 1s\n",
    "    return results\n",
    "\n",
    "#vectorized training data\n",
    "x_train = vectorize_sequences(train_data)\n",
    "#vectorized test data\n",
    "x_test = vectorize_sequences(test_data)"
   ]
  },
  {
   "cell_type": "code",
   "execution_count": 3,
   "metadata": {},
   "outputs": [],
   "source": [
    "#vectorized labels\n",
    "y_train = np.asarray(train_labels).astype('float32')\n",
    "y_test = np.asarray(test_labels).astype('float32')"
   ]
  },
  {
   "cell_type": "code",
   "execution_count": 4,
   "metadata": {},
   "outputs": [
    {
     "name": "stdout",
     "output_type": "stream",
     "text": [
      "x_train shape: (25000, 10000)\n",
      "x_test shape: (25000, 10000)\n"
     ]
    }
   ],
   "source": [
    "print('x_train shape:', x_train.shape)\n",
    "print('x_test shape:', x_test.shape)"
   ]
  },
  {
   "cell_type": "markdown",
   "metadata": {},
   "source": [
    "### creating validation data"
   ]
  },
  {
   "cell_type": "code",
   "execution_count": 5,
   "metadata": {},
   "outputs": [],
   "source": [
    "x_val = x_train[:10000]\n",
    "partial_x_train = x_train[10000:]\n",
    "\n",
    "y_val = y_train[:10000]\n",
    "partial_y_train = y_train[10000:]"
   ]
  },
  {
   "cell_type": "code",
   "execution_count": 6,
   "metadata": {},
   "outputs": [
    {
     "name": "stdout",
     "output_type": "stream",
     "text": [
      "partial_x_train shape: (15000, 10000)\n",
      "partial_y_train shape: (15000,)\n"
     ]
    }
   ],
   "source": [
    "print('partial_x_train shape:', partial_x_train.shape)\n",
    "print('partial_y_train shape:', partial_y_train.shape)"
   ]
  },
  {
   "cell_type": "code",
   "execution_count": 7,
   "metadata": {},
   "outputs": [
    {
     "name": "stdout",
     "output_type": "stream",
     "text": [
      "x_val shape: (10000, 10000)\n",
      "y_val shape: (10000,)\n"
     ]
    }
   ],
   "source": [
    "print('x_val shape:', x_val.shape)\n",
    "print('y_val shape:', y_val.shape)"
   ]
  },
  {
   "cell_type": "markdown",
   "metadata": {},
   "source": [
    "### training dense network"
   ]
  },
  {
   "cell_type": "code",
   "execution_count": 8,
   "metadata": {},
   "outputs": [],
   "source": [
    "from tensorflow.keras import models\n",
    "from tensorflow.keras import layers\n",
    "\n",
    "model = models.Sequential()\n",
    "model.add(layers.Dense(16, activation='relu', input_shape=(10000,)))\n",
    "model.add(layers.Dense(16, activation='relu'))\n",
    "model.add(layers.Dense(1, activation='sigmoid'))"
   ]
  },
  {
   "cell_type": "code",
   "execution_count": 9,
   "metadata": {},
   "outputs": [],
   "source": [
    "from tensorflow.keras import optimizers\n",
    "from tensorflow.keras import losses\n",
    "from tensorflow.keras import metrics\n",
    "\n",
    "model.compile(optimizer=optimizers.RMSprop(lr=0.001),\n",
    "              loss=losses.binary_crossentropy,\n",
    "              metrics=[metrics.binary_accuracy])"
   ]
  },
  {
   "cell_type": "code",
   "execution_count": 10,
   "metadata": {},
   "outputs": [
    {
     "name": "stdout",
     "output_type": "stream",
     "text": [
      "Epoch 1/20\n",
      "30/30 [==============================] - 8s 274ms/step - loss: 0.5637 - binary_accuracy: 0.7754 - val_loss: 0.4365 - val_binary_accuracy: 0.8572\n",
      "Epoch 2/20\n",
      "30/30 [==============================] - 3s 101ms/step - loss: 0.3441 - binary_accuracy: 0.8956 - val_loss: 0.3341 - val_binary_accuracy: 0.8740\n",
      "Epoch 3/20\n",
      "30/30 [==============================] - 3s 101ms/step - loss: 0.2454 - binary_accuracy: 0.9191 - val_loss: 0.2856 - val_binary_accuracy: 0.8903\n",
      "Epoch 4/20\n",
      "30/30 [==============================] - 3s 96ms/step - loss: 0.1905 - binary_accuracy: 0.9383 - val_loss: 0.2799 - val_binary_accuracy: 0.8874\n",
      "Epoch 5/20\n",
      "30/30 [==============================] - 3s 100ms/step - loss: 0.1579 - binary_accuracy: 0.9483 - val_loss: 0.2882 - val_binary_accuracy: 0.8827\n",
      "Epoch 6/20\n",
      "30/30 [==============================] - 4s 118ms/step - loss: 0.1308 - binary_accuracy: 0.9591 - val_loss: 0.2844 - val_binary_accuracy: 0.8872\n",
      "Epoch 7/20\n",
      "30/30 [==============================] - 4s 118ms/step - loss: 0.1081 - binary_accuracy: 0.9665 - val_loss: 0.3071 - val_binary_accuracy: 0.8871\n",
      "Epoch 8/20\n",
      "30/30 [==============================] - 3s 98ms/step - loss: 0.0921 - binary_accuracy: 0.9723 - val_loss: 0.3263 - val_binary_accuracy: 0.8838\n",
      "Epoch 9/20\n",
      "30/30 [==============================] - 3s 88ms/step - loss: 0.0747 - binary_accuracy: 0.9801 - val_loss: 0.3393 - val_binary_accuracy: 0.8791\n",
      "Epoch 10/20\n",
      "30/30 [==============================] - 3s 88ms/step - loss: 0.0607 - binary_accuracy: 0.9856 - val_loss: 0.3620 - val_binary_accuracy: 0.8790\n",
      "Epoch 11/20\n",
      "30/30 [==============================] - 3s 90ms/step - loss: 0.0535 - binary_accuracy: 0.9868 - val_loss: 0.3917 - val_binary_accuracy: 0.8791 loss: 0.0492 - binary_accu\n",
      "Epoch 12/20\n",
      "30/30 [==============================] - 3s 97ms/step - loss: 0.0404 - binary_accuracy: 0.9913 - val_loss: 0.4198 - val_binary_accuracy: 0.8783\n",
      "Epoch 13/20\n",
      "30/30 [==============================] - 3s 109ms/step - loss: 0.0335 - binary_accuracy: 0.9925 - val_loss: 0.4480 - val_binary_accuracy: 0.8756\n",
      "Epoch 14/20\n",
      "30/30 [==============================] - 3s 113ms/step - loss: 0.0256 - binary_accuracy: 0.9953 - val_loss: 0.4777 - val_binary_accuracy: 0.8748\n",
      "Epoch 15/20\n",
      "30/30 [==============================] - 5s 154ms/step - loss: 0.0206 - binary_accuracy: 0.9963 - val_loss: 0.5079 - val_binary_accuracy: 0.8722\n",
      "Epoch 16/20\n",
      "30/30 [==============================] - 4s 121ms/step - loss: 0.0146 - binary_accuracy: 0.9985 - val_loss: 0.5414 - val_binary_accuracy: 0.8668\n",
      "Epoch 17/20\n",
      "30/30 [==============================] - 3s 89ms/step - loss: 0.0121 - binary_accuracy: 0.9985 - val_loss: 0.5747 - val_binary_accuracy: 0.8714\n",
      "Epoch 18/20\n",
      "30/30 [==============================] - 3s 92ms/step - loss: 0.0095 - binary_accuracy: 0.9991 - val_loss: 0.6114 - val_binary_accuracy: 0.8663\n",
      "Epoch 19/20\n",
      "30/30 [==============================] - 3s 92ms/step - loss: 0.0069 - binary_accuracy: 0.9993 - val_loss: 0.6585 - val_binary_accuracy: 0.8704\n",
      "Epoch 20/20\n",
      "30/30 [==============================] - 3s 87ms/step - loss: 0.0039 - binary_accuracy: 0.9999 - val_loss: 0.6907 - val_binary_accuracy: 0.8690\n"
     ]
    }
   ],
   "source": [
    "history = model.fit(partial_x_train,\n",
    "                    partial_y_train,\n",
    "                    epochs=20,\n",
    "                    batch_size=512,\n",
    "                    validation_data=(x_val, y_val))"
   ]
  },
  {
   "cell_type": "markdown",
   "metadata": {},
   "source": [
    "### evaluating model"
   ]
  },
  {
   "cell_type": "code",
   "execution_count": 11,
   "metadata": {},
   "outputs": [
    {
     "data": {
      "image/png": "[encoded data removed]",
      "text/plain": [
       "<Figure size 432x288 with 1 Axes>"
      ]
     },
     "metadata": {
      "needs_background": "light"
     },
     "output_type": "display_data"
    },
    {
     "data": {
      "image/png": "[encoded data removed]",
      "text/plain": [
       "<Figure size 432x288 with 1 Axes>"
      ]
     },
     "metadata": {
      "needs_background": "light"
     },
     "output_type": "display_data"
    }
   ],
   "source": [
    "import matplotlib.pyplot as plt\n",
    "%matplotlib inline\n",
    "\n",
    "acc = history.history['binary_accuracy']\n",
    "val_acc = history.history['val_binary_accuracy']\n",
    "loss = history.history['loss']\n",
    "val_loss = history.history['val_loss']\n",
    "\n",
    "epochs = range(len(acc))\n",
    "\n",
    "plt.plot(epochs, acc, 'bo', label='Training acc')\n",
    "plt.plot(epochs, val_acc, 'b', label='Validation acc')\n",
    "plt.title('Training and validation accuracy')\n",
    "plt.legend()\n",
    "\n",
    "plt.figure()\n",
    "\n",
    "plt.plot(epochs, loss, 'bo', label='Training loss')\n",
    "plt.plot(epochs, val_loss, 'b', label='Validation loss')\n",
    "plt.title('Training and validation loss')\n",
    "plt.legend()\n",
    "\n",
    "plt.show()"
   ]
  },
  {
   "cell_type": "code",
   "execution_count": 12,
   "metadata": {},
   "outputs": [
    {
     "data": {
      "text/plain": [
       "3"
      ]
     },
     "execution_count": 12,
     "metadata": {},
     "output_type": "execute_result"
    }
   ],
   "source": [
    "np.argmax(val_acc)+1"
   ]
  },
  {
   "cell_type": "code",
   "execution_count": 13,
   "metadata": {},
   "outputs": [
    {
     "data": {
      "text/plain": [
       "0.89"
      ]
     },
     "execution_count": 13,
     "metadata": {},
     "output_type": "execute_result"
    }
   ],
   "source": [
    "round(val_acc[np.argmax(val_acc)],2)"
   ]
  },
  {
   "cell_type": "code",
   "execution_count": null,
   "metadata": {},
   "outputs": [],
   "source": []
  }
 ],
 "metadata": {
  "kernelspec": {
   "display_name": "tensorflow22_env",
   "language": "python",
   "name": "tensorflow22_env"
  },
  "language_info": {
   "codemirror_mode": {
    "name": "ipython",
    "version": 3
   },
   "file_extension": ".py",
   "mimetype": "text/x-python",
   "name": "python",
   "nbconvert_exporter": "python",
   "pygments_lexer": "ipython3",
   "version": "3.7.7"
  }
 },
 "nbformat": 4,
 "nbformat_minor": 4
}

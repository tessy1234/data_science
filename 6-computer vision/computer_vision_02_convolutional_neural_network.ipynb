{
 "cells": [
  {
   "cell_type": "markdown",
   "metadata": {
    "id": "pGWvtGqvd_s9"
   },
   "source": [
    "# image classification of fashion MNIST using convolutional neural network "
   ]
  },
  {
   "cell_type": "code",
   "execution_count": 1,
   "metadata": {
    "executionInfo": {
     "elapsed": 2527,
     "status": "ok",
     "timestamp": 1617786293817,
     "user": {
      "displayName": "josef",
      "photoUrl": "",
      "userId": "01549770466407113647"
     },
     "user_tz": -120
    },
    "id": "t4NLBpIpd_tM"
   },
   "outputs": [],
   "source": [
    "import tensorflow as tf\n",
    "from tensorflow import keras"
   ]
  },
  {
   "cell_type": "code",
   "execution_count": 2,
   "metadata": {
    "executionInfo": {
     "elapsed": 2523,
     "status": "ok",
     "timestamp": 1617786293819,
     "user": {
      "displayName": "josef",
      "photoUrl": "",
      "userId": "01549770466407113647"
     },
     "user_tz": -120
    },
    "id": "mjpxxbTWd_tO"
   },
   "outputs": [],
   "source": [
    "import numpy as np\n",
    "import sklearn\n",
    "import pandas as pd"
   ]
  },
  {
   "cell_type": "code",
   "execution_count": 3,
   "metadata": {
    "executionInfo": {
     "elapsed": 3050,
     "status": "ok",
     "timestamp": 1617786294352,
     "user": {
      "displayName": "josef",
      "photoUrl": "",
      "userId": "01549770466407113647"
     },
     "user_tz": -120
    },
    "id": "tKo0A6swd_tQ"
   },
   "outputs": [],
   "source": [
    "import matplotlib as mpl\n",
    "import matplotlib.pyplot as plt\n",
    "\n",
    "mpl.rc('axes', labelsize=14)\n",
    "mpl.rc('xtick', labelsize=12)\n",
    "mpl.rc('ytick', labelsize=12)"
   ]
  },
  {
   "cell_type": "markdown",
   "metadata": {
    "id": "1XBMPDyrd_tR"
   },
   "source": [
    "## load fashion MNIST dataset"
   ]
  },
  {
   "cell_type": "code",
   "execution_count": 4,
   "metadata": {
    "executionInfo": {
     "elapsed": 3031,
     "status": "ok",
     "timestamp": 1617786294354,
     "user": {
      "displayName": "josef",
      "photoUrl": "",
      "userId": "01549770466407113647"
     },
     "user_tz": -120
    },
    "id": "U1mGxP5od_tT"
   },
   "outputs": [],
   "source": [
    "fashion_mnist = keras.datasets.fashion_mnist\n",
    "(X_train_full, y_train_full), (X_test, y_test) = fashion_mnist.load_data()"
   ]
  },
  {
   "cell_type": "code",
   "execution_count": 5,
   "metadata": {
    "executionInfo": {
     "elapsed": 3674,
     "status": "ok",
     "timestamp": 1617786295002,
     "user": {
      "displayName": "josef",
      "photoUrl": "",
      "userId": "01549770466407113647"
     },
     "user_tz": -120
    },
    "id": "7bu-AT45d_tU"
   },
   "outputs": [],
   "source": [
    "X_train, X_valid = X_train_full[:-5000], X_train_full[-5000:]\n",
    "y_train, y_valid = y_train_full[:-5000], y_train_full[-5000:]"
   ]
  },
  {
   "cell_type": "markdown",
   "metadata": {
    "id": "HbGTERgLd_tU"
   },
   "source": [
    "## scale dataset"
   ]
  },
  {
   "cell_type": "code",
   "execution_count": 6,
   "metadata": {
    "executionInfo": {
     "elapsed": 4160,
     "status": "ok",
     "timestamp": 1617786295490,
     "user": {
      "displayName": "josef",
      "photoUrl": "",
      "userId": "01549770466407113647"
     },
     "user_tz": -120
    },
    "id": "RE5MbPEld_tV"
   },
   "outputs": [],
   "source": [
    "X_mean = X_train.mean(axis=0, keepdims=True)\n",
    "X_std = X_train.std(axis=0, keepdims=True) + 1e-7\n",
    "X_train = (X_train - X_mean) / X_std\n",
    "X_valid = (X_valid - X_mean) / X_std\n",
    "X_test = (X_test - X_mean) / X_std\n",
    "\n",
    "X_train = X_train[..., np.newaxis]\n",
    "X_valid = X_valid[..., np.newaxis]\n",
    "X_test = X_test[..., np.newaxis]"
   ]
  },
  {
   "cell_type": "code",
   "execution_count": 7,
   "metadata": {
    "executionInfo": {
     "elapsed": 4158,
     "status": "ok",
     "timestamp": 1617786295491,
     "user": {
      "displayName": "josef",
      "photoUrl": "",
      "userId": "01549770466407113647"
     },
     "user_tz": -120
    },
    "id": "A6onY-07d_tX"
   },
   "outputs": [],
   "source": [
    "class_names = [\"T-shirt/top\", \"Trouser\", \"Pullover\", \"Dress\", \"Coat\",\n",
    "               \"Sandal\", \"Shirt\", \"Sneaker\", \"Bag\", \"Ankle boot\"]"
   ]
  },
  {
   "cell_type": "markdown",
   "metadata": {
    "id": "0ICtDLsZd_tY"
   },
   "source": [
    "## build model"
   ]
  },
  {
   "cell_type": "code",
   "execution_count": 8,
   "metadata": {
    "executionInfo": {
     "elapsed": 4158,
     "status": "ok",
     "timestamp": 1617786295493,
     "user": {
      "displayName": "josef",
      "photoUrl": "",
      "userId": "01549770466407113647"
     },
     "user_tz": -120
    },
    "id": "E9X8WR0kd_tc"
   },
   "outputs": [],
   "source": [
    "#convolutional neural network (CNN)"
   ]
  },
  {
   "cell_type": "code",
   "execution_count": 9,
   "metadata": {
    "executionInfo": {
     "elapsed": 4679,
     "status": "ok",
     "timestamp": 1617786296016,
     "user": {
      "displayName": "josef",
      "photoUrl": "",
      "userId": "01549770466407113647"
     },
     "user_tz": -120
    },
    "id": "BuCkzZWKd_tc"
   },
   "outputs": [],
   "source": [
    "from functools import partial\n",
    "\n",
    "DefaultConv2D = partial(keras.layers.Conv2D,\n",
    "                        kernel_size=3, activation='relu', padding=\"SAME\")\n",
    "\n",
    "model = keras.models.Sequential([\n",
    "    DefaultConv2D(filters=64, kernel_size=7, input_shape=[28, 28, 1]),\n",
    "    keras.layers.MaxPooling2D(pool_size=2),\n",
    "    DefaultConv2D(filters=128),\n",
    "    DefaultConv2D(filters=128),\n",
    "    keras.layers.MaxPooling2D(pool_size=2),\n",
    "    DefaultConv2D(filters=256),\n",
    "    DefaultConv2D(filters=256),\n",
    "    keras.layers.MaxPooling2D(pool_size=2),\n",
    "    keras.layers.Flatten(),\n",
    "    keras.layers.Dense(units=128, activation='relu'),\n",
    "    keras.layers.Dropout(0.5),\n",
    "    keras.layers.Dense(units=64, activation='relu'),\n",
    "    keras.layers.Dropout(0.5),\n",
    "    keras.layers.Dense(units=10, activation='softmax'),\n",
    "])"
   ]
  },
  {
   "cell_type": "markdown",
   "metadata": {
    "id": "7TUSSvJvd_td"
   },
   "source": [
    "## compile model"
   ]
  },
  {
   "cell_type": "code",
   "execution_count": 10,
   "metadata": {
    "executionInfo": {
     "elapsed": 4677,
     "status": "ok",
     "timestamp": 1617786296017,
     "user": {
      "displayName": "josef",
      "photoUrl": "",
      "userId": "01549770466407113647"
     },
     "user_tz": -120
    },
    "id": "2hOHlcb2d_te"
   },
   "outputs": [],
   "source": [
    "model.compile(loss=\"sparse_categorical_crossentropy\", optimizer=\"nadam\", metrics=[\"accuracy\"])"
   ]
  },
  {
   "cell_type": "markdown",
   "metadata": {
    "id": "RTO8ouiyd_tf"
   },
   "source": [
    "## train model"
   ]
  },
  {
   "cell_type": "code",
   "execution_count": 11,
   "metadata": {
    "colab": {
     "base_uri": "https://localhost:8080/"
    },
    "executionInfo": {
     "elapsed": 356580,
     "status": "ok",
     "timestamp": 1617786647926,
     "user": {
      "displayName": "josef",
      "photoUrl": "",
      "userId": "01549770466407113647"
     },
     "user_tz": -120
    },
    "id": "ZLBojEmXd_tf",
    "outputId": "7fa66904-f39d-4313-f0e8-408a04629052"
   },
   "outputs": [
    {
     "name": "stdout",
     "output_type": "stream",
     "text": [
      "Epoch 1/10\n",
      "1719/1719 [==============================] - 39s 21ms/step - loss: 1.0566 - accuracy: 0.6216 - val_loss: 0.3768 - val_accuracy: 0.8670\n",
      "Epoch 2/10\n",
      "1719/1719 [==============================] - 35s 20ms/step - loss: 0.4435 - accuracy: 0.8523 - val_loss: 0.3165 - val_accuracy: 0.8830\n",
      "Epoch 3/10\n",
      "1719/1719 [==============================] - 35s 20ms/step - loss: 0.3738 - accuracy: 0.8760 - val_loss: 0.3276 - val_accuracy: 0.8810\n",
      "Epoch 4/10\n",
      "1719/1719 [==============================] - 35s 20ms/step - loss: 0.3333 - accuracy: 0.8866 - val_loss: 0.2906 - val_accuracy: 0.8932\n",
      "Epoch 5/10\n",
      "1719/1719 [==============================] - 35s 20ms/step - loss: 0.3181 - accuracy: 0.8914 - val_loss: 0.2959 - val_accuracy: 0.8954\n",
      "Epoch 6/10\n",
      "1719/1719 [==============================] - 35s 20ms/step - loss: 0.2815 - accuracy: 0.9029 - val_loss: 0.2872 - val_accuracy: 0.8942\n",
      "Epoch 7/10\n",
      "1719/1719 [==============================] - 35s 20ms/step - loss: 0.2687 - accuracy: 0.9076 - val_loss: 0.2877 - val_accuracy: 0.9032\n",
      "Epoch 8/10\n",
      "1719/1719 [==============================] - 35s 20ms/step - loss: 0.2630 - accuracy: 0.9093 - val_loss: 0.2792 - val_accuracy: 0.8988\n",
      "Epoch 9/10\n",
      "1719/1719 [==============================] - 35s 20ms/step - loss: 0.2515 - accuracy: 0.9132 - val_loss: 0.2898 - val_accuracy: 0.8972\n",
      "Epoch 10/10\n",
      "1719/1719 [==============================] - 35s 20ms/step - loss: 0.2362 - accuracy: 0.9168 - val_loss: 0.3003 - val_accuracy: 0.8944\n"
     ]
    }
   ],
   "source": [
    "history = model.fit(X_train, y_train, epochs=10, validation_data=(X_valid, y_valid))"
   ]
  },
  {
   "cell_type": "markdown",
   "metadata": {
    "id": "E38DB9Y7d_ti"
   },
   "source": [
    "## learning curves"
   ]
  },
  {
   "cell_type": "code",
   "execution_count": 12,
   "metadata": {
    "colab": {
     "base_uri": "https://localhost:8080/",
     "height": 328
    },
    "executionInfo": {
     "elapsed": 356582,
     "status": "ok",
     "timestamp": 1617786647930,
     "user": {
      "displayName": "josef",
      "photoUrl": "",
      "userId": "01549770466407113647"
     },
     "user_tz": -120
    },
    "id": "e19A_mnVd_tj",
    "outputId": "c7d5d7cc-f260-4fcd-8700-d4c39c1bc94d"
   },
   "outputs": [
    {
     "data": {
      "image/png": "[encoded data removed]",
      "text/plain": [
       "<Figure size 576x360 with 1 Axes>"
      ]
     },
     "metadata": {
      "needs_background": "light",
      "tags": []
     },
     "output_type": "display_data"
    }
   ],
   "source": [
    "pd.DataFrame(history.history).plot(figsize=(8, 5))\n",
    "plt.grid(True)\n",
    "plt.gca().set_ylim(0, 1)\n",
    "plt.show()"
   ]
  },
  {
   "cell_type": "code",
   "execution_count": 13,
   "metadata": {
    "colab": {
     "base_uri": "https://localhost:8080/"
    },
    "executionInfo": {
     "elapsed": 356581,
     "status": "ok",
     "timestamp": 1617786647932,
     "user": {
      "displayName": "josef",
      "photoUrl": "",
      "userId": "01549770466407113647"
     },
     "user_tz": -120
    },
    "id": "GwRHK4gAd_tk",
    "outputId": "1411c71e-1a30-4955-feac-f5a69f6b3454"
   },
   "outputs": [
    {
     "data": {
      "text/plain": [
       "dict_keys(['loss', 'accuracy', 'val_loss', 'val_accuracy'])"
      ]
     },
     "execution_count": 13,
     "metadata": {
      "tags": []
     },
     "output_type": "execute_result"
    }
   ],
   "source": [
    "history.history.keys()"
   ]
  },
  {
   "cell_type": "code",
   "execution_count": 14,
   "metadata": {
    "executionInfo": {
     "elapsed": 357064,
     "status": "ok",
     "timestamp": 1617786648417,
     "user": {
      "displayName": "josef",
      "photoUrl": "",
      "userId": "01549770466407113647"
     },
     "user_tz": -120
    },
    "id": "qWuqVL92d_tl"
   },
   "outputs": [],
   "source": [
    "val_acc = history.history['val_accuracy']"
   ]
  },
  {
   "cell_type": "code",
   "execution_count": 15,
   "metadata": {
    "colab": {
     "base_uri": "https://localhost:8080/"
    },
    "executionInfo": {
     "elapsed": 357063,
     "status": "ok",
     "timestamp": 1617786648418,
     "user": {
      "displayName": "josef",
      "photoUrl": "",
      "userId": "01549770466407113647"
     },
     "user_tz": -120
    },
    "id": "E0fx-wIdd_tm",
    "outputId": "affb7dd8-222f-4b18-ae5e-53a2b595ec2c"
   },
   "outputs": [
    {
     "data": {
      "text/plain": [
       "6"
      ]
     },
     "execution_count": 15,
     "metadata": {
      "tags": []
     },
     "output_type": "execute_result"
    }
   ],
   "source": [
    "np.argmax(val_acc) #epoch position of maximum; attention: position counted from zero; training output counted from one."
   ]
  },
  {
   "cell_type": "code",
   "execution_count": 16,
   "metadata": {
    "colab": {
     "base_uri": "https://localhost:8080/"
    },
    "executionInfo": {
     "elapsed": 357062,
     "status": "ok",
     "timestamp": 1617786648419,
     "user": {
      "displayName": "josef",
      "photoUrl": "",
      "userId": "01549770466407113647"
     },
     "user_tz": -120
    },
    "id": "9uzAGjfkd_tn",
    "outputId": "3cb89b17-8ca0-4549-f888-3034d534de5b"
   },
   "outputs": [
    {
     "data": {
      "text/plain": [
       "0.9032"
      ]
     },
     "execution_count": 16,
     "metadata": {
      "tags": []
     },
     "output_type": "execute_result"
    }
   ],
   "source": [
    "round(np.max(val_acc),4)"
   ]
  },
  {
   "cell_type": "markdown",
   "metadata": {
    "id": "cqN6Gb2-d_tn"
   },
   "source": [
    "## evaluate model"
   ]
  },
  {
   "cell_type": "code",
   "execution_count": 17,
   "metadata": {
    "executionInfo": {
     "elapsed": 357061,
     "status": "ok",
     "timestamp": 1617786648421,
     "user": {
      "displayName": "josef",
      "photoUrl": "",
      "userId": "01549770466407113647"
     },
     "user_tz": -120
    },
    "id": "jhpTVtI1d_to"
   },
   "outputs": [],
   "source": [
    "#check generalization accuracy on the test set"
   ]
  },
  {
   "cell_type": "code",
   "execution_count": 42,
   "metadata": {
    "colab": {
     "base_uri": "https://localhost:8080/"
    },
    "executionInfo": {
     "elapsed": 2910,
     "status": "ok",
     "timestamp": 1617787679109,
     "user": {
      "displayName": "josef",
      "photoUrl": "",
      "userId": "01549770466407113647"
     },
     "user_tz": -120
    },
    "id": "6eijC5Rwd_tp",
    "outputId": "7ce7a966-7012-428e-c4f3-b2a875502162"
   },
   "outputs": [
    {
     "name": "stdout",
     "output_type": "stream",
     "text": [
      "313/313 [==============================] - 2s 7ms/step - loss: 0.2981 - accuracy: 0.8972\n"
     ]
    }
   ],
   "source": [
    "score = model.evaluate(X_test, y_test)"
   ]
  },
  {
   "cell_type": "code",
   "execution_count": 43,
   "metadata": {
    "colab": {
     "base_uri": "https://localhost:8080/"
    },
    "executionInfo": {
     "elapsed": 826,
     "status": "ok",
     "timestamp": 1617787686785,
     "user": {
      "displayName": "josef",
      "photoUrl": "",
      "userId": "01549770466407113647"
     },
     "user_tz": -120
    },
    "id": "ro9VFjETqLK8",
    "outputId": "7f579348-6a35-4453-e950-146140c3bc3a"
   },
   "outputs": [
    {
     "data": {
      "text/plain": [
       "0.8972"
      ]
     },
     "execution_count": 43,
     "metadata": {
      "tags": []
     },
     "output_type": "execute_result"
    }
   ],
   "source": [
    "round(score[1],4)"
   ]
  },
  {
   "cell_type": "markdown",
   "metadata": {
    "id": "K-24mY0md_tp"
   },
   "source": [
    "## prediction"
   ]
  },
  {
   "cell_type": "code",
   "execution_count": 44,
   "metadata": {
    "executionInfo": {
     "elapsed": 781,
     "status": "ok",
     "timestamp": 1617787864310,
     "user": {
      "displayName": "josef",
      "photoUrl": "",
      "userId": "01549770466407113647"
     },
     "user_tz": -120
    },
    "id": "kP23g2D9d_tp"
   },
   "outputs": [],
   "source": [
    "X_new = X_test[:10]  #new instances taken from test set"
   ]
  },
  {
   "cell_type": "code",
   "execution_count": 45,
   "metadata": {
    "colab": {
     "base_uri": "https://localhost:8080/"
    },
    "executionInfo": {
     "elapsed": 721,
     "status": "ok",
     "timestamp": 1617787866181,
     "user": {
      "displayName": "josef",
      "photoUrl": "",
      "userId": "01549770466407113647"
     },
     "user_tz": -120
    },
    "id": "xNrdE_nPd_tq",
    "outputId": "d6ebb092-469c-4a09-f27a-a382652d5b61"
   },
   "outputs": [
    {
     "data": {
      "text/plain": [
       "array([9, 2, 1, 1, 6, 1, 4, 6, 5, 7])"
      ]
     },
     "execution_count": 45,
     "metadata": {
      "tags": []
     },
     "output_type": "execute_result"
    }
   ],
   "source": [
    "y_pred = np.argmax(model.predict(X_new), axis=-1)\n",
    "y_pred"
   ]
  },
  {
   "cell_type": "code",
   "execution_count": 46,
   "metadata": {
    "colab": {
     "base_uri": "https://localhost:8080/"
    },
    "executionInfo": {
     "elapsed": 1254,
     "status": "ok",
     "timestamp": 1617787875295,
     "user": {
      "displayName": "josef",
      "photoUrl": "",
      "userId": "01549770466407113647"
     },
     "user_tz": -120
    },
    "id": "t0xCDcQDd_tq",
    "outputId": "2260cfff-4bb6-4fa5-abc6-b98d198554ee"
   },
   "outputs": [
    {
     "data": {
      "text/plain": [
       "array([9, 2, 1, 1, 6, 1, 4, 6, 5, 7], dtype=uint8)"
      ]
     },
     "execution_count": 46,
     "metadata": {
      "tags": []
     },
     "output_type": "execute_result"
    }
   ],
   "source": [
    "y_test[:10]  #check prediction"
   ]
  },
  {
   "cell_type": "code",
   "execution_count": 22,
   "metadata": {
    "colab": {
     "base_uri": "https://localhost:8080/"
    },
    "executionInfo": {
     "elapsed": 359496,
     "status": "ok",
     "timestamp": 1617786650867,
     "user": {
      "displayName": "josef",
      "photoUrl": "",
      "userId": "01549770466407113647"
     },
     "user_tz": -120
    },
    "id": "t78_iZrod_tr",
    "outputId": "f06b219c-951f-4708-8849-a3efcc7ef9ce"
   },
   "outputs": [
    {
     "data": {
      "text/plain": [
       "array(['Ankle boot'], dtype='<U11')"
      ]
     },
     "execution_count": 22,
     "metadata": {
      "tags": []
     },
     "output_type": "execute_result"
    }
   ],
   "source": [
    "np.array(class_names)[y_pred]  #convert class index to class name"
   ]
  },
  {
   "cell_type": "code",
   "execution_count": 41,
   "metadata": {
    "colab": {
     "base_uri": "https://localhost:8080/",
     "height": 284
    },
    "executionInfo": {
     "elapsed": 925,
     "status": "ok",
     "timestamp": 1617787216473,
     "user": {
      "displayName": "josef",
      "photoUrl": "",
      "userId": "01549770466407113647"
     },
     "user_tz": -120
    },
    "id": "eB49QVoLd_tr",
    "outputId": "18da7a15-7ab0-4162-dea8-2e38b8734f45"
   },
   "outputs": [
    {
     "data": {
      "image/png": "[encoded data removed]",
      "text/plain": [
       "<Figure size 432x288 with 1 Axes>"
      ]
     },
     "metadata": {
      "needs_background": "light",
      "tags": []
     },
     "output_type": "display_data"
    }
   ],
   "source": [
    "plt.imshow(X_new[0,...,0], cmap=\"binary\", interpolation=\"nearest\")\n",
    "plt.title(class_names[y_test[0]], fontsize=12)\n",
    "plt.show()"
   ]
  },
  {
   "cell_type": "code",
   "execution_count": null,
   "metadata": {
    "executionInfo": {
     "elapsed": 359492,
     "status": "aborted",
     "timestamp": 1617786650868,
     "user": {
      "displayName": "josef",
      "photoUrl": "",
      "userId": "01549770466407113647"
     },
     "user_tz": -120
    },
    "id": "HpiV7Ol0d_ts"
   },
   "outputs": [],
   "source": []
  }
 ],
 "metadata": {
  "accelerator": "GPU",
  "colab": {
   "collapsed_sections": [],
   "name": "my_14_deep_computer_vision_02_convolutional_neural_network.ipynb",
   "provenance": []
  },
  "kernelspec": {
   "display_name": "tensorflow22_env",
   "language": "python",
   "name": "tensorflow22_env"
  },
  "language_info": {
   "codemirror_mode": {
    "name": "ipython",
    "version": 3
   },
   "file_extension": ".py",
   "mimetype": "text/x-python",
   "name": "python",
   "nbconvert_exporter": "python",
   "pygments_lexer": "ipython3",
   "version": "3.7.7"
  }
 },
 "nbformat": 4,
 "nbformat_minor": 1
}

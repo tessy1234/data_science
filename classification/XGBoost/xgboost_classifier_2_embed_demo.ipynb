{
 "cells": [
  {
   "cell_type": "markdown",
   "id": "edce92df",
   "metadata": {},
   "source": [
    "## Problem Statement:\n",
    "### Predict whether it will rain today or not based on weather measurements."
   ]
  },
  {
   "cell_type": "markdown",
   "id": "59efc4c2",
   "metadata": {},
   "source": [
    "## Coding:"
   ]
  },
  {
   "cell_type": "code",
   "execution_count": 1,
   "id": "a6559c5e",
   "metadata": {},
   "outputs": [],
   "source": [
    "import warnings\n",
    "warnings.filterwarnings('ignore')"
   ]
  },
  {
   "cell_type": "code",
   "execution_count": 2,
   "id": "b8c0b0f1",
   "metadata": {},
   "outputs": [],
   "source": [
    "from timeit import default_timer\n",
    "from datetime import timedelta\n",
    "import numpy as np\n",
    "import pandas as pd\n",
    "import matplotlib.pyplot as plt\n",
    "import seaborn as sns\n",
    "from sklearn.preprocessing import OneHotEncoder, StandardScaler, LabelEncoder\n",
    "from sklearn.compose import ColumnTransformer\n",
    "from sklearn.pipeline import Pipeline\n",
    "from sklearn.impute import SimpleImputer\n",
    "from sklearn.model_selection import train_test_split\n",
    "from sklearn.metrics import accuracy_score\n",
    "from sklearn.metrics import roc_auc_score\n",
    "from sklearn.metrics import classification_report, confusion_matrix\n",
    "\n",
    "from xgboost import XGBClassifier\n",
    "from embedding_encoder import EmbeddingEncoder\n",
    "from embedding_encoder.utils.compose import ColumnTransformerWithNames"
   ]
  },
  {
   "cell_type": "code",
   "execution_count": 68,
   "id": "1b4ec57f",
   "metadata": {},
   "outputs": [],
   "source": [
    "#data source: https://www.kaggle.com/datasets/jsphyg/weather-dataset-rattle-package"
   ]
  },
  {
   "cell_type": "code",
   "execution_count": 3,
   "id": "fc2bed92",
   "metadata": {},
   "outputs": [],
   "source": [
    "rain = pd.read_csv(\"data/weatherAUS.csv\")"
   ]
  },
  {
   "cell_type": "code",
   "execution_count": 4,
   "id": "e093c61e",
   "metadata": {},
   "outputs": [
    {
     "data": {
      "text/html": [
       "<div>\n",
       "<style scoped>\n",
       "    .dataframe tbody tr th:only-of-type {\n",
       "        vertical-align: middle;\n",
       "    }\n",
       "\n",
       "    .dataframe tbody tr th {\n",
       "        vertical-align: top;\n",
       "    }\n",
       "\n",
       "    .dataframe thead th {\n",
       "        text-align: right;\n",
       "    }\n",
       "</style>\n",
       "<table border=\"1\" class=\"dataframe\">\n",
       "  <thead>\n",
       "    <tr style=\"text-align: right;\">\n",
       "      <th></th>\n",
       "      <th>Date</th>\n",
       "      <th>Location</th>\n",
       "      <th>MinTemp</th>\n",
       "      <th>MaxTemp</th>\n",
       "      <th>Rainfall</th>\n",
       "      <th>Evaporation</th>\n",
       "      <th>Sunshine</th>\n",
       "      <th>WindGustDir</th>\n",
       "      <th>WindGustSpeed</th>\n",
       "      <th>WindDir9am</th>\n",
       "      <th>...</th>\n",
       "      <th>Humidity9am</th>\n",
       "      <th>Humidity3pm</th>\n",
       "      <th>Pressure9am</th>\n",
       "      <th>Pressure3pm</th>\n",
       "      <th>Cloud9am</th>\n",
       "      <th>Cloud3pm</th>\n",
       "      <th>Temp9am</th>\n",
       "      <th>Temp3pm</th>\n",
       "      <th>RainToday</th>\n",
       "      <th>RainTomorrow</th>\n",
       "    </tr>\n",
       "  </thead>\n",
       "  <tbody>\n",
       "    <tr>\n",
       "      <th>0</th>\n",
       "      <td>2008-12-01</td>\n",
       "      <td>Albury</td>\n",
       "      <td>13.4</td>\n",
       "      <td>22.9</td>\n",
       "      <td>0.6</td>\n",
       "      <td>NaN</td>\n",
       "      <td>NaN</td>\n",
       "      <td>W</td>\n",
       "      <td>44.0</td>\n",
       "      <td>W</td>\n",
       "      <td>...</td>\n",
       "      <td>71.0</td>\n",
       "      <td>22.0</td>\n",
       "      <td>1007.7</td>\n",
       "      <td>1007.1</td>\n",
       "      <td>8.0</td>\n",
       "      <td>NaN</td>\n",
       "      <td>16.9</td>\n",
       "      <td>21.8</td>\n",
       "      <td>No</td>\n",
       "      <td>No</td>\n",
       "    </tr>\n",
       "    <tr>\n",
       "      <th>1</th>\n",
       "      <td>2008-12-02</td>\n",
       "      <td>Albury</td>\n",
       "      <td>7.4</td>\n",
       "      <td>25.1</td>\n",
       "      <td>0.0</td>\n",
       "      <td>NaN</td>\n",
       "      <td>NaN</td>\n",
       "      <td>WNW</td>\n",
       "      <td>44.0</td>\n",
       "      <td>NNW</td>\n",
       "      <td>...</td>\n",
       "      <td>44.0</td>\n",
       "      <td>25.0</td>\n",
       "      <td>1010.6</td>\n",
       "      <td>1007.8</td>\n",
       "      <td>NaN</td>\n",
       "      <td>NaN</td>\n",
       "      <td>17.2</td>\n",
       "      <td>24.3</td>\n",
       "      <td>No</td>\n",
       "      <td>No</td>\n",
       "    </tr>\n",
       "    <tr>\n",
       "      <th>2</th>\n",
       "      <td>2008-12-03</td>\n",
       "      <td>Albury</td>\n",
       "      <td>12.9</td>\n",
       "      <td>25.7</td>\n",
       "      <td>0.0</td>\n",
       "      <td>NaN</td>\n",
       "      <td>NaN</td>\n",
       "      <td>WSW</td>\n",
       "      <td>46.0</td>\n",
       "      <td>W</td>\n",
       "      <td>...</td>\n",
       "      <td>38.0</td>\n",
       "      <td>30.0</td>\n",
       "      <td>1007.6</td>\n",
       "      <td>1008.7</td>\n",
       "      <td>NaN</td>\n",
       "      <td>2.0</td>\n",
       "      <td>21.0</td>\n",
       "      <td>23.2</td>\n",
       "      <td>No</td>\n",
       "      <td>No</td>\n",
       "    </tr>\n",
       "    <tr>\n",
       "      <th>3</th>\n",
       "      <td>2008-12-04</td>\n",
       "      <td>Albury</td>\n",
       "      <td>9.2</td>\n",
       "      <td>28.0</td>\n",
       "      <td>0.0</td>\n",
       "      <td>NaN</td>\n",
       "      <td>NaN</td>\n",
       "      <td>NE</td>\n",
       "      <td>24.0</td>\n",
       "      <td>SE</td>\n",
       "      <td>...</td>\n",
       "      <td>45.0</td>\n",
       "      <td>16.0</td>\n",
       "      <td>1017.6</td>\n",
       "      <td>1012.8</td>\n",
       "      <td>NaN</td>\n",
       "      <td>NaN</td>\n",
       "      <td>18.1</td>\n",
       "      <td>26.5</td>\n",
       "      <td>No</td>\n",
       "      <td>No</td>\n",
       "    </tr>\n",
       "    <tr>\n",
       "      <th>4</th>\n",
       "      <td>2008-12-05</td>\n",
       "      <td>Albury</td>\n",
       "      <td>17.5</td>\n",
       "      <td>32.3</td>\n",
       "      <td>1.0</td>\n",
       "      <td>NaN</td>\n",
       "      <td>NaN</td>\n",
       "      <td>W</td>\n",
       "      <td>41.0</td>\n",
       "      <td>ENE</td>\n",
       "      <td>...</td>\n",
       "      <td>82.0</td>\n",
       "      <td>33.0</td>\n",
       "      <td>1010.8</td>\n",
       "      <td>1006.0</td>\n",
       "      <td>7.0</td>\n",
       "      <td>8.0</td>\n",
       "      <td>17.8</td>\n",
       "      <td>29.7</td>\n",
       "      <td>No</td>\n",
       "      <td>No</td>\n",
       "    </tr>\n",
       "  </tbody>\n",
       "</table>\n",
       "<p>5 rows × 23 columns</p>\n",
       "</div>"
      ],
      "text/plain": [
       "         Date Location  MinTemp  MaxTemp  Rainfall  Evaporation  Sunshine  \\\n",
       "0  2008-12-01   Albury     13.4     22.9       0.6          NaN       NaN   \n",
       "1  2008-12-02   Albury      7.4     25.1       0.0          NaN       NaN   \n",
       "2  2008-12-03   Albury     12.9     25.7       0.0          NaN       NaN   \n",
       "3  2008-12-04   Albury      9.2     28.0       0.0          NaN       NaN   \n",
       "4  2008-12-05   Albury     17.5     32.3       1.0          NaN       NaN   \n",
       "\n",
       "  WindGustDir  WindGustSpeed WindDir9am  ... Humidity9am  Humidity3pm  \\\n",
       "0           W           44.0          W  ...        71.0         22.0   \n",
       "1         WNW           44.0        NNW  ...        44.0         25.0   \n",
       "2         WSW           46.0          W  ...        38.0         30.0   \n",
       "3          NE           24.0         SE  ...        45.0         16.0   \n",
       "4           W           41.0        ENE  ...        82.0         33.0   \n",
       "\n",
       "   Pressure9am  Pressure3pm  Cloud9am  Cloud3pm  Temp9am  Temp3pm  RainToday  \\\n",
       "0       1007.7       1007.1       8.0       NaN     16.9     21.8         No   \n",
       "1       1010.6       1007.8       NaN       NaN     17.2     24.3         No   \n",
       "2       1007.6       1008.7       NaN       2.0     21.0     23.2         No   \n",
       "3       1017.6       1012.8       NaN       NaN     18.1     26.5         No   \n",
       "4       1010.8       1006.0       7.0       8.0     17.8     29.7         No   \n",
       "\n",
       "   RainTomorrow  \n",
       "0            No  \n",
       "1            No  \n",
       "2            No  \n",
       "3            No  \n",
       "4            No  \n",
       "\n",
       "[5 rows x 23 columns]"
      ]
     },
     "execution_count": 4,
     "metadata": {},
     "output_type": "execute_result"
    }
   ],
   "source": [
    "rain.head()"
   ]
  },
  {
   "cell_type": "markdown",
   "id": "2d1200b0",
   "metadata": {},
   "source": [
    "### Drop features"
   ]
  },
  {
   "cell_type": "code",
   "execution_count": 5,
   "id": "722721b8",
   "metadata": {},
   "outputs": [],
   "source": [
    "cols_to_drop = [\"Date\", \"Location\", \"RainTomorrow\", \"Rainfall\"]"
   ]
  },
  {
   "cell_type": "code",
   "execution_count": 6,
   "id": "d143495b",
   "metadata": {},
   "outputs": [],
   "source": [
    "rain.drop(cols_to_drop, axis=1, inplace=True)"
   ]
  },
  {
   "cell_type": "code",
   "execution_count": 7,
   "id": "d03f339c",
   "metadata": {},
   "outputs": [],
   "source": [
    "#drop columns with excessive null values (>40%)\n",
    "missing_props = rain.isna().mean(axis=0)  #mean of null-values for each column"
   ]
  },
  {
   "cell_type": "code",
   "execution_count": 8,
   "id": "d9c2b7b9",
   "metadata": {},
   "outputs": [],
   "source": [
    "over_threshold = missing_props[missing_props >= 0.4]"
   ]
  },
  {
   "cell_type": "code",
   "execution_count": 9,
   "id": "b3dd2969",
   "metadata": {},
   "outputs": [],
   "source": [
    "rain.drop(over_threshold.index, \n",
    "          axis=1, \n",
    "          inplace=True)"
   ]
  },
  {
   "cell_type": "code",
   "execution_count": 10,
   "id": "2154186e",
   "metadata": {},
   "outputs": [],
   "source": [
    "X = rain.drop(\"RainToday\", axis=1)"
   ]
  },
  {
   "cell_type": "code",
   "execution_count": 11,
   "id": "8bda8fde",
   "metadata": {},
   "outputs": [],
   "source": [
    "y = rain['RainToday']"
   ]
  },
  {
   "cell_type": "code",
   "execution_count": 12,
   "id": "61ec88f4",
   "metadata": {},
   "outputs": [
    {
     "name": "stdout",
     "output_type": "stream",
     "text": [
      "<class 'pandas.core.frame.DataFrame'>\n",
      "RangeIndex: 145460 entries, 0 to 145459\n",
      "Data columns (total 15 columns):\n",
      " #   Column         Non-Null Count   Dtype  \n",
      "---  ------         --------------   -----  \n",
      " 0   MinTemp        143975 non-null  float64\n",
      " 1   MaxTemp        144199 non-null  float64\n",
      " 2   WindGustDir    135134 non-null  object \n",
      " 3   WindGustSpeed  135197 non-null  float64\n",
      " 4   WindDir9am     134894 non-null  object \n",
      " 5   WindDir3pm     141232 non-null  object \n",
      " 6   WindSpeed9am   143693 non-null  float64\n",
      " 7   WindSpeed3pm   142398 non-null  float64\n",
      " 8   Humidity9am    142806 non-null  float64\n",
      " 9   Humidity3pm    140953 non-null  float64\n",
      " 10  Pressure9am    130395 non-null  float64\n",
      " 11  Pressure3pm    130432 non-null  float64\n",
      " 12  Cloud9am       89572 non-null   float64\n",
      " 13  Temp9am        143693 non-null  float64\n",
      " 14  Temp3pm        141851 non-null  float64\n",
      "dtypes: float64(12), object(3)\n",
      "memory usage: 16.6+ MB\n"
     ]
    }
   ],
   "source": [
    "X.info()  #12 numerical and 3 categorical features"
   ]
  },
  {
   "cell_type": "code",
   "execution_count": 13,
   "id": "ca25fd07",
   "metadata": {},
   "outputs": [
    {
     "data": {
      "text/plain": [
       "array(['W', 'NNW', 'SE', 'ENE', 'SW', 'SSE', 'S', 'NE', nan, 'SSW', 'N',\n",
       "       'WSW', 'ESE', 'E', 'NW', 'WNW', 'NNE'], dtype=object)"
      ]
     },
     "execution_count": 13,
     "metadata": {},
     "output_type": "execute_result"
    }
   ],
   "source": [
    "X['WindDir9am'].unique()  #categorical variable: categorical values (fixed number of possible values (categories; levels))"
   ]
  },
  {
   "cell_type": "code",
   "execution_count": 14,
   "id": "70b85d34",
   "metadata": {},
   "outputs": [
    {
     "data": {
      "text/plain": [
       "145460"
      ]
     },
     "execution_count": 14,
     "metadata": {},
     "output_type": "execute_result"
    }
   ],
   "source": [
    "y.shape[0]"
   ]
  },
  {
   "cell_type": "code",
   "execution_count": 15,
   "id": "d99d08a1",
   "metadata": {},
   "outputs": [
    {
     "data": {
      "text/plain": [
       "142199"
      ]
     },
     "execution_count": 15,
     "metadata": {},
     "output_type": "execute_result"
    }
   ],
   "source": [
    "y.notna().sum()  #non-null values count"
   ]
  },
  {
   "cell_type": "code",
   "execution_count": 16,
   "id": "7e534f1f",
   "metadata": {},
   "outputs": [
    {
     "data": {
      "text/plain": [
       "3261"
      ]
     },
     "execution_count": 16,
     "metadata": {},
     "output_type": "execute_result"
    }
   ],
   "source": [
    "y.isna().sum()  #null values count"
   ]
  },
  {
   "cell_type": "code",
   "execution_count": 17,
   "id": "58b20f21",
   "metadata": {},
   "outputs": [
    {
     "data": {
      "text/plain": [
       "No     110319\n",
       "Yes     31880\n",
       "Name: RainToday, dtype: int64"
      ]
     },
     "execution_count": 17,
     "metadata": {},
     "output_type": "execute_result"
    }
   ],
   "source": [
    "y.value_counts()  #target distribution of labels"
   ]
  },
  {
   "cell_type": "markdown",
   "id": "699650d1",
   "metadata": {},
   "source": [
    "### Preprocessing"
   ]
  },
  {
   "cell_type": "code",
   "execution_count": 18,
   "id": "ac40d599",
   "metadata": {},
   "outputs": [],
   "source": [
    "categorical_pipeline = Pipeline(\n",
    "    steps=[\n",
    "        (\"impute\", SimpleImputer(strategy=\"most_frequent\")),\n",
    "        (\"embedding\", EmbeddingEncoder(task=\"classification\")),  #dim: int(np.ceil((unique+1)/2)))\n",
    "         ]\n",
    ")"
   ]
  },
  {
   "cell_type": "code",
   "execution_count": 19,
   "id": "4cd09ffe",
   "metadata": {},
   "outputs": [],
   "source": [
    "numeric_pipeline = Pipeline(\n",
    "    steps=[(\"impute\", SimpleImputer(strategy=\"mean\")), \n",
    "           (\"scale\", StandardScaler())]\n",
    ")"
   ]
  },
  {
   "cell_type": "code",
   "execution_count": 20,
   "id": "5e0d872b",
   "metadata": {},
   "outputs": [],
   "source": [
    "cat_cols = X.select_dtypes(exclude=\"number\").columns\n",
    "num_cols = X.select_dtypes(include=\"number\").columns"
   ]
  },
  {
   "cell_type": "code",
   "execution_count": 21,
   "id": "bd058da4",
   "metadata": {},
   "outputs": [],
   "source": [
    "full_processor = ColumnTransformerWithNames(\n",
    "    transformers=[\n",
    "        (\"numeric\", numeric_pipeline, num_cols),\n",
    "        (\"categorical\", categorical_pipeline, cat_cols),  #pattern: (name, transformer, columns)\n",
    "    ]\n",
    ")"
   ]
  },
  {
   "cell_type": "code",
   "execution_count": 22,
   "id": "df581808",
   "metadata": {},
   "outputs": [],
   "source": [
    "#target values transformed\n",
    "y = SimpleImputer(strategy=\"most_frequent\").fit_transform(y.values.reshape(-1, 1))  #fill missing values\n",
    "y_processed = LabelEncoder().fit_transform(y.ravel())  #encode labels as integers"
   ]
  },
  {
   "cell_type": "code",
   "execution_count": 23,
   "id": "76cf9d04",
   "metadata": {},
   "outputs": [
    {
     "name": "stdout",
     "output_type": "stream",
     "text": [
      "Time elapsed (hh:mm:ss.ms) 0:00:48.207163\n"
     ]
    }
   ],
   "source": [
    "start = default_timer()\n",
    "X_processed = full_processor.fit_transform(X,y_processed)  #fit neural network to get the embedding matrix\n",
    "end = default_timer()\n",
    "print(f'Time elapsed (hh:mm:ss.ms) {timedelta(seconds=end-start)}')"
   ]
  },
  {
   "cell_type": "markdown",
   "id": "742532d7",
   "metadata": {},
   "source": [
    "### Analyze preprocessed data"
   ]
  },
  {
   "cell_type": "code",
   "execution_count": 24,
   "id": "4574e379",
   "metadata": {},
   "outputs": [
    {
     "data": {
      "text/html": [
       "<div>\n",
       "<style scoped>\n",
       "    .dataframe tbody tr th:only-of-type {\n",
       "        vertical-align: middle;\n",
       "    }\n",
       "\n",
       "    .dataframe tbody tr th {\n",
       "        vertical-align: top;\n",
       "    }\n",
       "\n",
       "    .dataframe thead th {\n",
       "        text-align: right;\n",
       "    }\n",
       "</style>\n",
       "<table border=\"1\" class=\"dataframe\">\n",
       "  <thead>\n",
       "    <tr style=\"text-align: right;\">\n",
       "      <th></th>\n",
       "      <th>MinTemp</th>\n",
       "      <th>MaxTemp</th>\n",
       "      <th>WindGustSpeed</th>\n",
       "      <th>WindSpeed9am</th>\n",
       "      <th>WindSpeed3pm</th>\n",
       "      <th>Humidity9am</th>\n",
       "      <th>Humidity3pm</th>\n",
       "      <th>Pressure9am</th>\n",
       "      <th>Pressure3pm</th>\n",
       "      <th>Cloud9am</th>\n",
       "      <th>...</th>\n",
       "      <th>embedding_cat1_8</th>\n",
       "      <th>embedding_cat2_0</th>\n",
       "      <th>embedding_cat2_1</th>\n",
       "      <th>embedding_cat2_2</th>\n",
       "      <th>embedding_cat2_3</th>\n",
       "      <th>embedding_cat2_4</th>\n",
       "      <th>embedding_cat2_5</th>\n",
       "      <th>embedding_cat2_6</th>\n",
       "      <th>embedding_cat2_7</th>\n",
       "      <th>embedding_cat2_8</th>\n",
       "    </tr>\n",
       "  </thead>\n",
       "  <tbody>\n",
       "    <tr>\n",
       "      <th>0</th>\n",
       "      <td>0.189447</td>\n",
       "      <td>-0.045336</td>\n",
       "      <td>0.302234</td>\n",
       "      <td>0.672222</td>\n",
       "      <td>0.612323</td>\n",
       "      <td>0.112395</td>\n",
       "      <td>-1.442965</td>\n",
       "      <td>-1.478788</td>\n",
       "      <td>-1.223882</td>\n",
       "      <td>1.568037e+00</td>\n",
       "      <td>...</td>\n",
       "      <td>-0.116134</td>\n",
       "      <td>-0.009313</td>\n",
       "      <td>-0.060099</td>\n",
       "      <td>0.040355</td>\n",
       "      <td>-0.065011</td>\n",
       "      <td>0.117645</td>\n",
       "      <td>-0.058552</td>\n",
       "      <td>0.006593</td>\n",
       "      <td>-0.016590</td>\n",
       "      <td>-0.011286</td>\n",
       "    </tr>\n",
       "    <tr>\n",
       "      <th>1</th>\n",
       "      <td>-0.753101</td>\n",
       "      <td>0.265043</td>\n",
       "      <td>0.302234</td>\n",
       "      <td>-1.133438</td>\n",
       "      <td>0.382874</td>\n",
       "      <td>-1.319609</td>\n",
       "      <td>-1.296417</td>\n",
       "      <td>-1.047782</td>\n",
       "      <td>-1.118839</td>\n",
       "      <td>-3.920285e-16</td>\n",
       "      <td>...</td>\n",
       "      <td>0.097130</td>\n",
       "      <td>-0.041146</td>\n",
       "      <td>-0.012182</td>\n",
       "      <td>0.042706</td>\n",
       "      <td>-0.085070</td>\n",
       "      <td>-0.044459</td>\n",
       "      <td>-0.140173</td>\n",
       "      <td>0.040419</td>\n",
       "      <td>-0.047045</td>\n",
       "      <td>0.038246</td>\n",
       "    </tr>\n",
       "    <tr>\n",
       "      <th>2</th>\n",
       "      <td>0.110901</td>\n",
       "      <td>0.349692</td>\n",
       "      <td>0.454694</td>\n",
       "      <td>0.559368</td>\n",
       "      <td>0.841771</td>\n",
       "      <td>-1.637832</td>\n",
       "      <td>-1.052171</td>\n",
       "      <td>-1.493650</td>\n",
       "      <td>-0.983784</td>\n",
       "      <td>-3.920285e-16</td>\n",
       "      <td>...</td>\n",
       "      <td>-0.116134</td>\n",
       "      <td>-0.041146</td>\n",
       "      <td>-0.012182</td>\n",
       "      <td>0.042706</td>\n",
       "      <td>-0.085070</td>\n",
       "      <td>-0.044459</td>\n",
       "      <td>-0.140173</td>\n",
       "      <td>0.040419</td>\n",
       "      <td>-0.047045</td>\n",
       "      <td>0.038246</td>\n",
       "    </tr>\n",
       "    <tr>\n",
       "      <th>3</th>\n",
       "      <td>-0.470337</td>\n",
       "      <td>0.674180</td>\n",
       "      <td>-1.222364</td>\n",
       "      <td>-0.343462</td>\n",
       "      <td>-1.108541</td>\n",
       "      <td>-1.266572</td>\n",
       "      <td>-1.736061</td>\n",
       "      <td>-0.007422</td>\n",
       "      <td>-0.368534</td>\n",
       "      <td>-3.920285e-16</td>\n",
       "      <td>...</td>\n",
       "      <td>0.014961</td>\n",
       "      <td>-0.034547</td>\n",
       "      <td>-0.055045</td>\n",
       "      <td>-0.014351</td>\n",
       "      <td>0.061622</td>\n",
       "      <td>0.047357</td>\n",
       "      <td>0.161521</td>\n",
       "      <td>0.031288</td>\n",
       "      <td>0.158522</td>\n",
       "      <td>-0.053857</td>\n",
       "    </tr>\n",
       "    <tr>\n",
       "      <th>4</th>\n",
       "      <td>0.833521</td>\n",
       "      <td>1.280830</td>\n",
       "      <td>0.073544</td>\n",
       "      <td>-0.794877</td>\n",
       "      <td>0.153426</td>\n",
       "      <td>0.695804</td>\n",
       "      <td>-0.905623</td>\n",
       "      <td>-1.018057</td>\n",
       "      <td>-1.388949</td>\n",
       "      <td>1.126652e+00</td>\n",
       "      <td>...</td>\n",
       "      <td>-0.043832</td>\n",
       "      <td>-0.053001</td>\n",
       "      <td>0.018032</td>\n",
       "      <td>-0.001322</td>\n",
       "      <td>-0.007542</td>\n",
       "      <td>0.090222</td>\n",
       "      <td>0.041792</td>\n",
       "      <td>0.075772</td>\n",
       "      <td>0.055143</td>\n",
       "      <td>0.026995</td>\n",
       "    </tr>\n",
       "  </tbody>\n",
       "</table>\n",
       "<p>5 rows × 39 columns</p>\n",
       "</div>"
      ],
      "text/plain": [
       "    MinTemp   MaxTemp  WindGustSpeed  WindSpeed9am  WindSpeed3pm  Humidity9am  \\\n",
       "0  0.189447 -0.045336       0.302234      0.672222      0.612323     0.112395   \n",
       "1 -0.753101  0.265043       0.302234     -1.133438      0.382874    -1.319609   \n",
       "2  0.110901  0.349692       0.454694      0.559368      0.841771    -1.637832   \n",
       "3 -0.470337  0.674180      -1.222364     -0.343462     -1.108541    -1.266572   \n",
       "4  0.833521  1.280830       0.073544     -0.794877      0.153426     0.695804   \n",
       "\n",
       "   Humidity3pm  Pressure9am  Pressure3pm      Cloud9am  ...  embedding_cat1_8  \\\n",
       "0    -1.442965    -1.478788    -1.223882  1.568037e+00  ...         -0.116134   \n",
       "1    -1.296417    -1.047782    -1.118839 -3.920285e-16  ...          0.097130   \n",
       "2    -1.052171    -1.493650    -0.983784 -3.920285e-16  ...         -0.116134   \n",
       "3    -1.736061    -0.007422    -0.368534 -3.920285e-16  ...          0.014961   \n",
       "4    -0.905623    -1.018057    -1.388949  1.126652e+00  ...         -0.043832   \n",
       "\n",
       "   embedding_cat2_0  embedding_cat2_1  embedding_cat2_2  embedding_cat2_3  \\\n",
       "0         -0.009313         -0.060099          0.040355         -0.065011   \n",
       "1         -0.041146         -0.012182          0.042706         -0.085070   \n",
       "2         -0.041146         -0.012182          0.042706         -0.085070   \n",
       "3         -0.034547         -0.055045         -0.014351          0.061622   \n",
       "4         -0.053001          0.018032         -0.001322         -0.007542   \n",
       "\n",
       "   embedding_cat2_4  embedding_cat2_5  embedding_cat2_6  embedding_cat2_7  \\\n",
       "0          0.117645         -0.058552          0.006593         -0.016590   \n",
       "1         -0.044459         -0.140173          0.040419         -0.047045   \n",
       "2         -0.044459         -0.140173          0.040419         -0.047045   \n",
       "3          0.047357          0.161521          0.031288          0.158522   \n",
       "4          0.090222          0.041792          0.075772          0.055143   \n",
       "\n",
       "   embedding_cat2_8  \n",
       "0         -0.011286  \n",
       "1          0.038246  \n",
       "2          0.038246  \n",
       "3         -0.053857  \n",
       "4          0.026995  \n",
       "\n",
       "[5 rows x 39 columns]"
      ]
     },
     "execution_count": 24,
     "metadata": {},
     "output_type": "execute_result"
    }
   ],
   "source": [
    "X_processed.head()"
   ]
  },
  {
   "cell_type": "code",
   "execution_count": 25,
   "id": "1b9f09a3",
   "metadata": {},
   "outputs": [
    {
     "data": {
      "text/plain": [
       "['embedding_cat0_0',\n",
       " 'embedding_cat0_1',\n",
       " 'embedding_cat0_2',\n",
       " 'embedding_cat0_3',\n",
       " 'embedding_cat0_4',\n",
       " 'embedding_cat0_5',\n",
       " 'embedding_cat0_6',\n",
       " 'embedding_cat0_7',\n",
       " 'embedding_cat0_8',\n",
       " 'embedding_cat1_0',\n",
       " 'embedding_cat1_1',\n",
       " 'embedding_cat1_2',\n",
       " 'embedding_cat1_3',\n",
       " 'embedding_cat1_4',\n",
       " 'embedding_cat1_5',\n",
       " 'embedding_cat1_6',\n",
       " 'embedding_cat1_7',\n",
       " 'embedding_cat1_8',\n",
       " 'embedding_cat2_0',\n",
       " 'embedding_cat2_1',\n",
       " 'embedding_cat2_2',\n",
       " 'embedding_cat2_3',\n",
       " 'embedding_cat2_4',\n",
       " 'embedding_cat2_5',\n",
       " 'embedding_cat2_6',\n",
       " 'embedding_cat2_7',\n",
       " 'embedding_cat2_8']"
      ]
     },
     "execution_count": 25,
     "metadata": {},
     "output_type": "execute_result"
    }
   ],
   "source": [
    "[item for item in np.array(X_processed.columns) if item[:13]=='embedding_cat']  #embedding categories"
   ]
  },
  {
   "cell_type": "code",
   "execution_count": 26,
   "id": "cfff5008",
   "metadata": {},
   "outputs": [
    {
     "data": {
      "text/plain": [
       "(145460, 39)"
      ]
     },
     "execution_count": 26,
     "metadata": {},
     "output_type": "execute_result"
    }
   ],
   "source": [
    "X_processed.shape"
   ]
  },
  {
   "cell_type": "code",
   "execution_count": 27,
   "id": "c0c6ee27",
   "metadata": {},
   "outputs": [
    {
     "data": {
      "text/plain": [
       "12"
      ]
     },
     "execution_count": 27,
     "metadata": {},
     "output_type": "execute_result"
    }
   ],
   "source": [
    "len(num_cols)"
   ]
  },
  {
   "cell_type": "code",
   "execution_count": 28,
   "id": "e45fdd05",
   "metadata": {},
   "outputs": [
    {
     "data": {
      "text/plain": [
       "27"
      ]
     },
     "execution_count": 28,
     "metadata": {},
     "output_type": "execute_result"
    }
   ],
   "source": [
    "len(full_processor.transformers_[1][1]['embedding'].get_feature_names())  #3*9=27 categorical variables"
   ]
  },
  {
   "cell_type": "code",
   "execution_count": 29,
   "id": "35a7bf18",
   "metadata": {},
   "outputs": [
    {
     "data": {
      "text/plain": [
       "['WindGustDir', 'WindDir9am', 'WindDir3pm']"
      ]
     },
     "execution_count": 29,
     "metadata": {},
     "output_type": "execute_result"
    }
   ],
   "source": [
    "list(cat_cols)"
   ]
  },
  {
   "cell_type": "code",
   "execution_count": 30,
   "id": "c8ff31f1",
   "metadata": {},
   "outputs": [
    {
     "data": {
      "text/plain": [
       "dict_keys(['cat0', 'cat1', 'cat2'])"
      ]
     },
     "execution_count": 30,
     "metadata": {},
     "output_type": "execute_result"
    }
   ],
   "source": [
    "full_processor.transformers_[1][1]['embedding']._embeddings_mapping.keys()"
   ]
  },
  {
   "cell_type": "code",
   "execution_count": 31,
   "id": "0fdcb609",
   "metadata": {},
   "outputs": [
    {
     "data": {
      "text/plain": [
       "(17, 9)"
      ]
     },
     "execution_count": 31,
     "metadata": {},
     "output_type": "execute_result"
    }
   ],
   "source": [
    "full_processor.transformers_[1][1]['embedding']._embeddings_mapping['cat1'].shape"
   ]
  },
  {
   "cell_type": "code",
   "execution_count": 32,
   "id": "240eb557",
   "metadata": {},
   "outputs": [
    {
     "data": {
      "text/html": [
       "<div>\n",
       "<style scoped>\n",
       "    .dataframe tbody tr th:only-of-type {\n",
       "        vertical-align: middle;\n",
       "    }\n",
       "\n",
       "    .dataframe tbody tr th {\n",
       "        vertical-align: top;\n",
       "    }\n",
       "\n",
       "    .dataframe thead th {\n",
       "        text-align: right;\n",
       "    }\n",
       "</style>\n",
       "<table border=\"1\" class=\"dataframe\">\n",
       "  <thead>\n",
       "    <tr style=\"text-align: right;\">\n",
       "      <th></th>\n",
       "      <th>embedding_cat1_0</th>\n",
       "      <th>embedding_cat1_1</th>\n",
       "      <th>embedding_cat1_2</th>\n",
       "      <th>embedding_cat1_3</th>\n",
       "      <th>embedding_cat1_4</th>\n",
       "      <th>embedding_cat1_5</th>\n",
       "      <th>embedding_cat1_6</th>\n",
       "      <th>embedding_cat1_7</th>\n",
       "      <th>embedding_cat1_8</th>\n",
       "    </tr>\n",
       "  </thead>\n",
       "  <tbody>\n",
       "    <tr>\n",
       "      <th>0.0</th>\n",
       "      <td>-0.032798</td>\n",
       "      <td>0.024255</td>\n",
       "      <td>-0.039679</td>\n",
       "      <td>0.007608</td>\n",
       "      <td>-0.003730</td>\n",
       "      <td>-0.014390</td>\n",
       "      <td>-0.023478</td>\n",
       "      <td>0.015392</td>\n",
       "      <td>0.044992</td>\n",
       "    </tr>\n",
       "    <tr>\n",
       "      <th>1.0</th>\n",
       "      <td>0.160770</td>\n",
       "      <td>0.188872</td>\n",
       "      <td>-0.162337</td>\n",
       "      <td>-0.120985</td>\n",
       "      <td>0.132126</td>\n",
       "      <td>0.093257</td>\n",
       "      <td>0.104248</td>\n",
       "      <td>0.154404</td>\n",
       "      <td>-0.063753</td>\n",
       "    </tr>\n",
       "    <tr>\n",
       "      <th>2.0</th>\n",
       "      <td>0.073308</td>\n",
       "      <td>0.177519</td>\n",
       "      <td>-0.188532</td>\n",
       "      <td>-0.103990</td>\n",
       "      <td>0.117031</td>\n",
       "      <td>0.082876</td>\n",
       "      <td>0.094345</td>\n",
       "      <td>0.172511</td>\n",
       "      <td>-0.043832</td>\n",
       "    </tr>\n",
       "    <tr>\n",
       "      <th>3.0</th>\n",
       "      <td>0.149446</td>\n",
       "      <td>0.128035</td>\n",
       "      <td>-0.152210</td>\n",
       "      <td>-0.169362</td>\n",
       "      <td>0.075635</td>\n",
       "      <td>0.111818</td>\n",
       "      <td>0.108329</td>\n",
       "      <td>0.115186</td>\n",
       "      <td>-0.058650</td>\n",
       "    </tr>\n",
       "    <tr>\n",
       "      <th>4.0</th>\n",
       "      <td>0.147681</td>\n",
       "      <td>0.116232</td>\n",
       "      <td>-0.035779</td>\n",
       "      <td>0.024197</td>\n",
       "      <td>0.041721</td>\n",
       "      <td>0.144197</td>\n",
       "      <td>0.108194</td>\n",
       "      <td>0.138464</td>\n",
       "      <td>-0.039419</td>\n",
       "    </tr>\n",
       "    <tr>\n",
       "      <th>5.0</th>\n",
       "      <td>0.146074</td>\n",
       "      <td>0.165264</td>\n",
       "      <td>-0.155273</td>\n",
       "      <td>-0.118555</td>\n",
       "      <td>0.109240</td>\n",
       "      <td>0.040543</td>\n",
       "      <td>0.089651</td>\n",
       "      <td>0.143516</td>\n",
       "      <td>-0.063846</td>\n",
       "    </tr>\n",
       "    <tr>\n",
       "      <th>6.0</th>\n",
       "      <td>0.166255</td>\n",
       "      <td>0.175620</td>\n",
       "      <td>-0.124586</td>\n",
       "      <td>-0.116669</td>\n",
       "      <td>0.068566</td>\n",
       "      <td>0.109782</td>\n",
       "      <td>0.105128</td>\n",
       "      <td>0.175670</td>\n",
       "      <td>-0.062127</td>\n",
       "    </tr>\n",
       "    <tr>\n",
       "      <th>7.0</th>\n",
       "      <td>-0.007841</td>\n",
       "      <td>0.041310</td>\n",
       "      <td>0.080907</td>\n",
       "      <td>0.050222</td>\n",
       "      <td>0.038981</td>\n",
       "      <td>-0.035299</td>\n",
       "      <td>0.009044</td>\n",
       "      <td>-0.051319</td>\n",
       "      <td>0.097130</td>\n",
       "    </tr>\n",
       "    <tr>\n",
       "      <th>8.0</th>\n",
       "      <td>0.063724</td>\n",
       "      <td>0.003425</td>\n",
       "      <td>0.007156</td>\n",
       "      <td>0.121555</td>\n",
       "      <td>-0.100361</td>\n",
       "      <td>0.038694</td>\n",
       "      <td>0.027376</td>\n",
       "      <td>0.019819</td>\n",
       "      <td>-0.099523</td>\n",
       "    </tr>\n",
       "    <tr>\n",
       "      <th>9.0</th>\n",
       "      <td>0.012940</td>\n",
       "      <td>-0.043406</td>\n",
       "      <td>-0.004504</td>\n",
       "      <td>-0.025186</td>\n",
       "      <td>0.077259</td>\n",
       "      <td>0.031864</td>\n",
       "      <td>0.026773</td>\n",
       "      <td>-0.027807</td>\n",
       "      <td>0.181119</td>\n",
       "    </tr>\n",
       "    <tr>\n",
       "      <th>10.0</th>\n",
       "      <td>0.056502</td>\n",
       "      <td>0.103454</td>\n",
       "      <td>-0.095025</td>\n",
       "      <td>-0.034572</td>\n",
       "      <td>0.068929</td>\n",
       "      <td>0.057278</td>\n",
       "      <td>0.059691</td>\n",
       "      <td>0.037957</td>\n",
       "      <td>0.014961</td>\n",
       "    </tr>\n",
       "    <tr>\n",
       "      <th>11.0</th>\n",
       "      <td>0.108810</td>\n",
       "      <td>-0.028392</td>\n",
       "      <td>-0.039100</td>\n",
       "      <td>-0.065887</td>\n",
       "      <td>0.058170</td>\n",
       "      <td>0.116134</td>\n",
       "      <td>0.019002</td>\n",
       "      <td>0.090693</td>\n",
       "      <td>0.038780</td>\n",
       "    </tr>\n",
       "    <tr>\n",
       "      <th>12.0</th>\n",
       "      <td>-0.056819</td>\n",
       "      <td>-0.016203</td>\n",
       "      <td>0.019951</td>\n",
       "      <td>0.037504</td>\n",
       "      <td>-0.004859</td>\n",
       "      <td>0.008248</td>\n",
       "      <td>-0.014048</td>\n",
       "      <td>-0.059178</td>\n",
       "      <td>0.023814</td>\n",
       "    </tr>\n",
       "    <tr>\n",
       "      <th>13.0</th>\n",
       "      <td>-0.115963</td>\n",
       "      <td>-0.091731</td>\n",
       "      <td>0.093457</td>\n",
       "      <td>0.013047</td>\n",
       "      <td>-0.051138</td>\n",
       "      <td>-0.066576</td>\n",
       "      <td>-0.082897</td>\n",
       "      <td>-0.061399</td>\n",
       "      <td>0.002121</td>\n",
       "    </tr>\n",
       "    <tr>\n",
       "      <th>14.0</th>\n",
       "      <td>-0.025043</td>\n",
       "      <td>-0.078237</td>\n",
       "      <td>0.093816</td>\n",
       "      <td>0.012360</td>\n",
       "      <td>-0.086176</td>\n",
       "      <td>-0.040464</td>\n",
       "      <td>-0.076635</td>\n",
       "      <td>-0.044300</td>\n",
       "      <td>-0.116134</td>\n",
       "    </tr>\n",
       "    <tr>\n",
       "      <th>15.0</th>\n",
       "      <td>0.011666</td>\n",
       "      <td>-0.041109</td>\n",
       "      <td>0.069150</td>\n",
       "      <td>0.093991</td>\n",
       "      <td>-0.042276</td>\n",
       "      <td>0.050400</td>\n",
       "      <td>0.009925</td>\n",
       "      <td>-0.001996</td>\n",
       "      <td>-0.091992</td>\n",
       "    </tr>\n",
       "    <tr>\n",
       "      <th>16.0</th>\n",
       "      <td>-0.035002</td>\n",
       "      <td>-0.066401</td>\n",
       "      <td>0.027080</td>\n",
       "      <td>-0.040876</td>\n",
       "      <td>-0.048965</td>\n",
       "      <td>-0.069711</td>\n",
       "      <td>-0.057831</td>\n",
       "      <td>-0.041459</td>\n",
       "      <td>0.023687</td>\n",
       "    </tr>\n",
       "  </tbody>\n",
       "</table>\n",
       "</div>"
      ],
      "text/plain": [
       "      embedding_cat1_0  embedding_cat1_1  embedding_cat1_2  embedding_cat1_3  \\\n",
       "0.0          -0.032798          0.024255         -0.039679          0.007608   \n",
       "1.0           0.160770          0.188872         -0.162337         -0.120985   \n",
       "2.0           0.073308          0.177519         -0.188532         -0.103990   \n",
       "3.0           0.149446          0.128035         -0.152210         -0.169362   \n",
       "4.0           0.147681          0.116232         -0.035779          0.024197   \n",
       "5.0           0.146074          0.165264         -0.155273         -0.118555   \n",
       "6.0           0.166255          0.175620         -0.124586         -0.116669   \n",
       "7.0          -0.007841          0.041310          0.080907          0.050222   \n",
       "8.0           0.063724          0.003425          0.007156          0.121555   \n",
       "9.0           0.012940         -0.043406         -0.004504         -0.025186   \n",
       "10.0          0.056502          0.103454         -0.095025         -0.034572   \n",
       "11.0          0.108810         -0.028392         -0.039100         -0.065887   \n",
       "12.0         -0.056819         -0.016203          0.019951          0.037504   \n",
       "13.0         -0.115963         -0.091731          0.093457          0.013047   \n",
       "14.0         -0.025043         -0.078237          0.093816          0.012360   \n",
       "15.0          0.011666         -0.041109          0.069150          0.093991   \n",
       "16.0         -0.035002         -0.066401          0.027080         -0.040876   \n",
       "\n",
       "      embedding_cat1_4  embedding_cat1_5  embedding_cat1_6  embedding_cat1_7  \\\n",
       "0.0          -0.003730         -0.014390         -0.023478          0.015392   \n",
       "1.0           0.132126          0.093257          0.104248          0.154404   \n",
       "2.0           0.117031          0.082876          0.094345          0.172511   \n",
       "3.0           0.075635          0.111818          0.108329          0.115186   \n",
       "4.0           0.041721          0.144197          0.108194          0.138464   \n",
       "5.0           0.109240          0.040543          0.089651          0.143516   \n",
       "6.0           0.068566          0.109782          0.105128          0.175670   \n",
       "7.0           0.038981         -0.035299          0.009044         -0.051319   \n",
       "8.0          -0.100361          0.038694          0.027376          0.019819   \n",
       "9.0           0.077259          0.031864          0.026773         -0.027807   \n",
       "10.0          0.068929          0.057278          0.059691          0.037957   \n",
       "11.0          0.058170          0.116134          0.019002          0.090693   \n",
       "12.0         -0.004859          0.008248         -0.014048         -0.059178   \n",
       "13.0         -0.051138         -0.066576         -0.082897         -0.061399   \n",
       "14.0         -0.086176         -0.040464         -0.076635         -0.044300   \n",
       "15.0         -0.042276          0.050400          0.009925         -0.001996   \n",
       "16.0         -0.048965         -0.069711         -0.057831         -0.041459   \n",
       "\n",
       "      embedding_cat1_8  \n",
       "0.0           0.044992  \n",
       "1.0          -0.063753  \n",
       "2.0          -0.043832  \n",
       "3.0          -0.058650  \n",
       "4.0          -0.039419  \n",
       "5.0          -0.063846  \n",
       "6.0          -0.062127  \n",
       "7.0           0.097130  \n",
       "8.0          -0.099523  \n",
       "9.0           0.181119  \n",
       "10.0          0.014961  \n",
       "11.0          0.038780  \n",
       "12.0          0.023814  \n",
       "13.0          0.002121  \n",
       "14.0         -0.116134  \n",
       "15.0         -0.091992  \n",
       "16.0          0.023687  "
      ]
     },
     "execution_count": 32,
     "metadata": {},
     "output_type": "execute_result"
    }
   ],
   "source": [
    "full_processor.transformers_[1][1]['embedding']._embeddings_mapping['cat1']"
   ]
  },
  {
   "cell_type": "code",
   "execution_count": 33,
   "id": "41ff09e8",
   "metadata": {},
   "outputs": [
    {
     "data": {
      "image/png": "[encoded data removed]",
      "text/plain": [
       "<Figure size 800x600 with 1 Axes>"
      ]
     },
     "metadata": {},
     "output_type": "display_data"
    }
   ],
   "source": [
    "full_processor.transformers_[1][1]['embedding'].plot_embeddings(\"cat0\", model=\"pca\");  #default: pca"
   ]
  },
  {
   "cell_type": "markdown",
   "id": "f3fbf653",
   "metadata": {},
   "source": [
    "### Split data into training, evaluation and test dataset"
   ]
  },
  {
   "cell_type": "code",
   "execution_count": 34,
   "id": "2ba2e8b6",
   "metadata": {},
   "outputs": [],
   "source": [
    "X_train, X_test, y_train, y_test = train_test_split(X_processed, y_processed, stratify=y_processed, random_state=42)  #total=100%; train=75%; test=25%\n",
    "X_train_short, X_val, y_train_short, y_val = train_test_split(X_train, y_train, stratify=y_train, random_state=42)    #train_short=56% total; val=19% total; train_short=3/4*3/4=9/16=0.56; val=3/4*1/4=3/16=0.19"
   ]
  },
  {
   "cell_type": "markdown",
   "id": "17c97904",
   "metadata": {},
   "source": [
    "### Tune number of decision trees"
   ]
  },
  {
   "cell_type": "code",
   "execution_count": 35,
   "id": "2225c515",
   "metadata": {},
   "outputs": [],
   "source": [
    "best_params = {\n",
    "    'gamma': 0.25,\n",
    "    'learning_rate': 0.1,\n",
    "    'max_depth': 7,\n",
    "    'reg_lambda': 10,\n",
    "    'scale_pos_weight': 1,\n",
    "}"
   ]
  },
  {
   "cell_type": "code",
   "execution_count": 36,
   "id": "a1c4e800",
   "metadata": {},
   "outputs": [],
   "source": [
    "explore_n_estimators = 600"
   ]
  },
  {
   "cell_type": "code",
   "execution_count": 37,
   "id": "57b347fb",
   "metadata": {},
   "outputs": [],
   "source": [
    "model = XGBClassifier(\n",
    "    n_estimators=explore_n_estimators,\n",
    "    **best_params,\n",
    "    objective=\"binary:logistic\",\n",
    "    colsample_bytree=0.5,\n",
    "    subsample=0.8,\n",
    "    use_label_encoder=False\n",
    ")"
   ]
  },
  {
   "cell_type": "code",
   "execution_count": 38,
   "id": "74e0562d",
   "metadata": {},
   "outputs": [],
   "source": [
    "eval_set = [(X_train_short, y_train_short), (X_val, y_val)]  #metric applied on both train and val dataset"
   ]
  },
  {
   "cell_type": "code",
   "execution_count": 39,
   "id": "46200d55",
   "metadata": {},
   "outputs": [
    {
     "name": "stdout",
     "output_type": "stream",
     "text": [
      "Time elapsed (hh:mm:ss.ms) 0:01:10.556840\n"
     ]
    }
   ],
   "source": [
    "start = default_timer()\n",
    "model.fit(X_train_short, y_train_short, eval_metric=[\"error\", \"logloss\"], eval_set=eval_set, verbose=False)\n",
    "end = default_timer()\n",
    "print(f'Time elapsed (hh:mm:ss.ms) {timedelta(seconds=end-start)}')"
   ]
  },
  {
   "cell_type": "code",
   "execution_count": 40,
   "id": "31dc38cd",
   "metadata": {},
   "outputs": [
    {
     "name": "stdout",
     "output_type": "stream",
     "text": [
      "Accuracy: 85.00\n"
     ]
    }
   ],
   "source": [
    "from sklearn.metrics import accuracy_score\n",
    "\n",
    "y_pred = model.predict(X_val)\n",
    "accuracy = accuracy_score(y_val, y_pred)\n",
    "print(f'Accuracy: {accuracy * 100.0:.2f}')"
   ]
  },
  {
   "cell_type": "code",
   "execution_count": 41,
   "id": "0c4bebc8",
   "metadata": {},
   "outputs": [],
   "source": [
    "results = model.evals_result()\n",
    "epochs = len(results['validation_0']['error'])\n",
    "x_axis = range(0, epochs)"
   ]
  },
  {
   "cell_type": "code",
   "execution_count": 42,
   "id": "484bf392",
   "metadata": {},
   "outputs": [],
   "source": [
    "logloss_errors = results['validation_1']['logloss']  #log loss on val dataset"
   ]
  },
  {
   "cell_type": "code",
   "execution_count": 43,
   "id": "473b979a",
   "metadata": {},
   "outputs": [
    {
     "data": {
      "text/plain": [
       "0.336979"
      ]
     },
     "execution_count": 43,
     "metadata": {},
     "output_type": "execute_result"
    }
   ],
   "source": [
    "min_logloss_errors = np.min(logloss_errors); min_logloss_errors"
   ]
  },
  {
   "cell_type": "code",
   "execution_count": 44,
   "id": "b9bf72c0",
   "metadata": {},
   "outputs": [
    {
     "data": {
      "text/plain": [
       "280"
      ]
     },
     "execution_count": 44,
     "metadata": {},
     "output_type": "execute_result"
    }
   ],
   "source": [
    "bst_n_estimators = np.argmin(logloss_errors); bst_n_estimators"
   ]
  },
  {
   "cell_type": "code",
   "execution_count": 45,
   "id": "62692dc7",
   "metadata": {},
   "outputs": [],
   "source": [
    "acc_error = results['validation_1']['error']  #accuracy on val dataset"
   ]
  },
  {
   "cell_type": "code",
   "execution_count": 46,
   "id": "fbeb14f1",
   "metadata": {},
   "outputs": [
    {
     "data": {
      "text/plain": [
       "0.14809"
      ]
     },
     "execution_count": 46,
     "metadata": {},
     "output_type": "execute_result"
    }
   ],
   "source": [
    "min_acc_error = np.min(acc_error); min_acc_error"
   ]
  },
  {
   "cell_type": "code",
   "execution_count": 47,
   "id": "deaf31d0",
   "metadata": {},
   "outputs": [
    {
     "data": {
      "text/plain": [
       "470"
      ]
     },
     "execution_count": 47,
     "metadata": {},
     "output_type": "execute_result"
    }
   ],
   "source": [
    "bst_n_estimators_acc = np.argmin(acc_error); bst_n_estimators_acc"
   ]
  },
  {
   "cell_type": "code",
   "execution_count": 48,
   "id": "765ace2e",
   "metadata": {},
   "outputs": [
    {
     "data": {
      "text/plain": [
       "600"
      ]
     },
     "execution_count": 48,
     "metadata": {},
     "output_type": "execute_result"
    }
   ],
   "source": [
    "len(results['validation_0']['logloss'])"
   ]
  },
  {
   "cell_type": "code",
   "execution_count": 49,
   "id": "b048c467",
   "metadata": {},
   "outputs": [
    {
     "data": {
      "image/png": "[encoded data removed]",
      "text/plain": [
       "<Figure size 1008x288 with 2 Axes>"
      ]
     },
     "metadata": {},
     "output_type": "display_data"
    }
   ],
   "source": [
    "# plot log loss\n",
    "plt.style.use('default')  #seaborn plot causes style changes; side-effect of plot_embeddings above\n",
    "\n",
    "plt.figure(figsize=(14, 4), dpi=72)  #default dpi=100\n",
    "plt.subplot(121)\n",
    "plt.plot(x_axis, results['validation_0']['logloss'], label='Train')\n",
    "plt.plot(x_axis, results['validation_1']['logloss'], label='Val')\n",
    "plt.annotate(\"#estimators: \"+str(bst_n_estimators), \n",
    "            xy =(bst_n_estimators, -0.05),\n",
    "            xytext =(bst_n_estimators, -0.15),\n",
    "            horizontalalignment=\"center\",\n",
    "            arrowprops=dict(facecolor ='red'),\n",
    "            annotation_clip=False\n",
    "           )\n",
    "plt.plot([bst_n_estimators, bst_n_estimators], [0, min_logloss_errors], \"k--\")\n",
    "plt.plot(bst_n_estimators, min_logloss_errors, \"ko\")\n",
    "plt.text(bst_n_estimators, min_logloss_errors*1.07, \"Minimum\", ha=\"center\", fontsize=14)\n",
    "plt.axis([0, explore_n_estimators, 0, 0.6])\n",
    "plt.legend()\n",
    "plt.ylabel('Log Loss')\n",
    "plt.title('XGBoost Log Loss')\n",
    "\n",
    "# plot classification error\n",
    "plt.subplot(122)\n",
    "plt.plot(x_axis, results['validation_0']['error'], label='Train')\n",
    "plt.plot(x_axis, results['validation_1']['error'], label='Val')\n",
    "plt.annotate(\"#estimators: \"+str(bst_n_estimators_acc), \n",
    "            xy =(bst_n_estimators_acc, -0.016),\n",
    "            xytext =(bst_n_estimators_acc, -0.05),\n",
    "            horizontalalignment=\"center\",\n",
    "            arrowprops=dict(facecolor ='red'),\n",
    "            annotation_clip=False\n",
    "           )\n",
    "plt.plot([bst_n_estimators_acc, bst_n_estimators_acc], [0, min_acc_error], \"k--\")\n",
    "plt.plot(bst_n_estimators_acc, min_acc_error, \"ko\")\n",
    "plt.text(bst_n_estimators_acc, min_acc_error*1.06, \"Minimum\", ha=\"center\", fontsize=14)\n",
    "plt.axis([0, explore_n_estimators, 0, 0.2])\n",
    "plt.legend()\n",
    "plt.ylabel('Classification Error')\n",
    "plt.title('XGBoost Classification Error')\n",
    "\n",
    "plt.show()"
   ]
  },
  {
   "cell_type": "markdown",
   "id": "d52218f5",
   "metadata": {},
   "source": [
    "### Train XGBoost classifier with optimal number of decision trees"
   ]
  },
  {
   "cell_type": "code",
   "execution_count": 50,
   "id": "300811f9",
   "metadata": {},
   "outputs": [
    {
     "data": {
      "text/plain": [
       "280"
      ]
     },
     "execution_count": 50,
     "metadata": {},
     "output_type": "execute_result"
    }
   ],
   "source": [
    "bst_n_estimators"
   ]
  },
  {
   "cell_type": "code",
   "execution_count": 51,
   "id": "8c540e82",
   "metadata": {},
   "outputs": [],
   "source": [
    "final_cl = XGBClassifier(\n",
    "    n_estimators=bst_n_estimators,\n",
    "    **best_params,\n",
    "    colsample_bytree=0.5,\n",
    "    subsample=0.8,\n",
    "    use_label_encoder=False,\n",
    "    verbosity = 0\n",
    ")"
   ]
  },
  {
   "cell_type": "code",
   "execution_count": 52,
   "id": "e4a73aa2",
   "metadata": {},
   "outputs": [
    {
     "name": "stdout",
     "output_type": "stream",
     "text": [
      "Time elapsed (hh:mm:ss.ms) 0:00:37.629055\n"
     ]
    }
   ],
   "source": [
    "start = default_timer()\n",
    "final_cl.fit(X_train, y_train, verbose=False)\n",
    "end = default_timer()\n",
    "print(f'Time elapsed (hh:mm:ss.ms) {timedelta(seconds=end-start)}')"
   ]
  },
  {
   "cell_type": "markdown",
   "id": "a309ccde",
   "metadata": {},
   "source": [
    "### Performance of XGBoost classifier"
   ]
  },
  {
   "cell_type": "code",
   "execution_count": 53,
   "id": "f4e9b250",
   "metadata": {},
   "outputs": [
    {
     "data": {
      "text/plain": [
       "0.8520830468857418"
      ]
     },
     "execution_count": 53,
     "metadata": {},
     "output_type": "execute_result"
    }
   ],
   "source": [
    "final_cl.score(X_test,y_test)"
   ]
  },
  {
   "cell_type": "code",
   "execution_count": 54,
   "id": "3a9b63be",
   "metadata": {},
   "outputs": [
    {
     "data": {
      "text/plain": [
       "0.8833498926132356"
      ]
     },
     "execution_count": 54,
     "metadata": {},
     "output_type": "execute_result"
    }
   ],
   "source": [
    "roc_auc_score(y_test, final_cl.predict_proba(X_test)[:,1])"
   ]
  },
  {
   "cell_type": "code",
   "execution_count": 55,
   "id": "862fda32",
   "metadata": {},
   "outputs": [
    {
     "name": "stdout",
     "output_type": "stream",
     "text": [
      "              precision    recall  f1-score   support\n",
      "\n",
      "           0       0.88      0.94      0.91     28395\n",
      "           1       0.72      0.53      0.61      7970\n",
      "\n",
      "    accuracy                           0.85     36365\n",
      "   macro avg       0.80      0.74      0.76     36365\n",
      "weighted avg       0.84      0.85      0.84     36365\n",
      "\n"
     ]
    }
   ],
   "source": [
    "print(classification_report(y_test, final_cl.predict(X_test)))"
   ]
  },
  {
   "cell_type": "markdown",
   "id": "08eed955",
   "metadata": {},
   "source": [
    "### Determine top-level features"
   ]
  },
  {
   "cell_type": "code",
   "execution_count": 56,
   "id": "e7e76cff",
   "metadata": {},
   "outputs": [
    {
     "data": {
      "text/plain": [
       "(39,)"
      ]
     },
     "execution_count": 56,
     "metadata": {},
     "output_type": "execute_result"
    }
   ],
   "source": [
    "final_cl.feature_importances_.shape"
   ]
  },
  {
   "cell_type": "code",
   "execution_count": 57,
   "id": "73fe8bfa",
   "metadata": {},
   "outputs": [],
   "source": [
    "list_of_tuples = list(zip(X_train.columns.to_numpy(), final_cl.feature_importances_))"
   ]
  },
  {
   "cell_type": "code",
   "execution_count": 58,
   "id": "b8e9e8da",
   "metadata": {},
   "outputs": [],
   "source": [
    "df = pd.DataFrame(list_of_tuples, columns = ['score', 'feature_importances']).sort_values('feature_importances',ascending=False)"
   ]
  },
  {
   "cell_type": "code",
   "execution_count": 59,
   "id": "4dd6b162",
   "metadata": {},
   "outputs": [
    {
     "data": {
      "text/html": [
       "<div>\n",
       "<style scoped>\n",
       "    .dataframe tbody tr th:only-of-type {\n",
       "        vertical-align: middle;\n",
       "    }\n",
       "\n",
       "    .dataframe tbody tr th {\n",
       "        vertical-align: top;\n",
       "    }\n",
       "\n",
       "    .dataframe thead th {\n",
       "        text-align: right;\n",
       "    }\n",
       "</style>\n",
       "<table border=\"1\" class=\"dataframe\">\n",
       "  <thead>\n",
       "    <tr style=\"text-align: right;\">\n",
       "      <th></th>\n",
       "      <th>score</th>\n",
       "      <th>feature_importances</th>\n",
       "    </tr>\n",
       "  </thead>\n",
       "  <tbody>\n",
       "    <tr>\n",
       "      <th>5</th>\n",
       "      <td>Humidity9am</td>\n",
       "      <td>0.153977</td>\n",
       "    </tr>\n",
       "    <tr>\n",
       "      <th>6</th>\n",
       "      <td>Humidity3pm</td>\n",
       "      <td>0.068752</td>\n",
       "    </tr>\n",
       "    <tr>\n",
       "      <th>1</th>\n",
       "      <td>MaxTemp</td>\n",
       "      <td>0.043211</td>\n",
       "    </tr>\n",
       "    <tr>\n",
       "      <th>0</th>\n",
       "      <td>MinTemp</td>\n",
       "      <td>0.042274</td>\n",
       "    </tr>\n",
       "    <tr>\n",
       "      <th>9</th>\n",
       "      <td>Cloud9am</td>\n",
       "      <td>0.041744</td>\n",
       "    </tr>\n",
       "  </tbody>\n",
       "</table>\n",
       "</div>"
      ],
      "text/plain": [
       "         score  feature_importances\n",
       "5  Humidity9am             0.153977\n",
       "6  Humidity3pm             0.068752\n",
       "1      MaxTemp             0.043211\n",
       "0      MinTemp             0.042274\n",
       "9     Cloud9am             0.041744"
      ]
     },
     "execution_count": 59,
     "metadata": {},
     "output_type": "execute_result"
    }
   ],
   "source": [
    "df.head()"
   ]
  },
  {
   "cell_type": "code",
   "execution_count": 60,
   "id": "14f61931",
   "metadata": {},
   "outputs": [],
   "source": [
    "skew_ness = df['feature_importances'].skew()"
   ]
  },
  {
   "cell_type": "code",
   "execution_count": 61,
   "id": "3230ca52",
   "metadata": {},
   "outputs": [
    {
     "data": {
      "image/png": "[encoded data removed]",
      "text/plain": [
       "<Figure size 576x360 with 1 Axes>"
      ]
     },
     "metadata": {},
     "output_type": "display_data"
    }
   ],
   "source": [
    "plt.figure(figsize = (8, 5), dpi=72)  #default dpi=100\n",
    "ax = sns.histplot(df['feature_importances'], label = f'Skewness: {skew_ness:.2f}', bins=10, kde=True)\n",
    "ax.set(xlabel='feature importances')\n",
    "plt.legend(loc = 'best')\n",
    "plt.title('Distribution of feature importances')\n",
    "plt.show()"
   ]
  },
  {
   "cell_type": "code",
   "execution_count": 62,
   "id": "e9466272",
   "metadata": {},
   "outputs": [],
   "source": [
    "cum_sum_features = pd.DataFrame(np.cumsum(df['feature_importances']))"
   ]
  },
  {
   "cell_type": "code",
   "execution_count": 63,
   "id": "c772aedf",
   "metadata": {},
   "outputs": [
    {
     "data": {
      "text/html": [
       "<div>\n",
       "<style scoped>\n",
       "    .dataframe tbody tr th:only-of-type {\n",
       "        vertical-align: middle;\n",
       "    }\n",
       "\n",
       "    .dataframe tbody tr th {\n",
       "        vertical-align: top;\n",
       "    }\n",
       "\n",
       "    .dataframe thead th {\n",
       "        text-align: right;\n",
       "    }\n",
       "</style>\n",
       "<table border=\"1\" class=\"dataframe\">\n",
       "  <thead>\n",
       "    <tr style=\"text-align: right;\">\n",
       "      <th></th>\n",
       "      <th>feature_importances</th>\n",
       "    </tr>\n",
       "  </thead>\n",
       "  <tbody>\n",
       "    <tr>\n",
       "      <th>5</th>\n",
       "      <td>0.153977</td>\n",
       "    </tr>\n",
       "    <tr>\n",
       "      <th>6</th>\n",
       "      <td>0.222730</td>\n",
       "    </tr>\n",
       "    <tr>\n",
       "      <th>1</th>\n",
       "      <td>0.265941</td>\n",
       "    </tr>\n",
       "    <tr>\n",
       "      <th>0</th>\n",
       "      <td>0.308215</td>\n",
       "    </tr>\n",
       "    <tr>\n",
       "      <th>9</th>\n",
       "      <td>0.349959</td>\n",
       "    </tr>\n",
       "  </tbody>\n",
       "</table>\n",
       "</div>"
      ],
      "text/plain": [
       "   feature_importances\n",
       "5             0.153977\n",
       "6             0.222730\n",
       "1             0.265941\n",
       "0             0.308215\n",
       "9             0.349959"
      ]
     },
     "execution_count": 63,
     "metadata": {},
     "output_type": "execute_result"
    }
   ],
   "source": [
    "cum_sum_features.head()"
   ]
  },
  {
   "cell_type": "code",
   "execution_count": 64,
   "id": "07a466ff",
   "metadata": {},
   "outputs": [],
   "source": [
    "top_features_threshold = 0.8  #threshold for accumulative feature importance"
   ]
  },
  {
   "cell_type": "code",
   "execution_count": 65,
   "id": "c8dbab5b",
   "metadata": {},
   "outputs": [
    {
     "data": {
      "text/plain": [
       "24"
      ]
     },
     "execution_count": 65,
     "metadata": {},
     "output_type": "execute_result"
    }
   ],
   "source": [
    "#get features for cumulative feature importance of 80%\n",
    "num_best_features = cum_sum_features[cum_sum_features['feature_importances']<top_features_threshold].shape[0]\n",
    "num_best_features"
   ]
  },
  {
   "cell_type": "code",
   "execution_count": 66,
   "id": "6430f18f",
   "metadata": {},
   "outputs": [
    {
     "data": {
      "text/plain": [
       "['WindGustDir', 'WindDir9am', 'WindDir3pm']"
      ]
     },
     "execution_count": 66,
     "metadata": {},
     "output_type": "execute_result"
    }
   ],
   "source": [
    "list(cat_cols)  #categorical features"
   ]
  },
  {
   "cell_type": "code",
   "execution_count": 67,
   "id": "37d41c58",
   "metadata": {},
   "outputs": [
    {
     "data": {
      "text/plain": [
       "Index(['MinTemp', 'MaxTemp', 'WindGustSpeed', 'WindSpeed9am', 'WindSpeed3pm',\n",
       "       'Humidity9am', 'Humidity3pm', 'Pressure9am', 'Pressure3pm', 'Cloud9am',\n",
       "       'Temp9am', 'Temp3pm', 'embedding_cat0_0', 'embedding_cat0_1',\n",
       "       'embedding_cat0_2', 'embedding_cat0_3', 'embedding_cat0_4',\n",
       "       'embedding_cat0_5', 'embedding_cat0_6', 'embedding_cat0_7',\n",
       "       'embedding_cat0_8', 'embedding_cat1_0', 'embedding_cat1_1',\n",
       "       'embedding_cat1_2'],\n",
       "      dtype='object')"
      ]
     },
     "execution_count": 67,
     "metadata": {},
     "output_type": "execute_result"
    }
   ],
   "source": [
    "X_train.columns[:num_best_features]  #categorical features translate to embedding_cat0_*, embedding_cat1_*, embedding_cat2_*"
   ]
  },
  {
   "cell_type": "code",
   "execution_count": null,
   "id": "4948e664",
   "metadata": {},
   "outputs": [],
   "source": []
  }
 ],
 "metadata": {
  "kernelspec": {
   "display_name": "parquet_env",
   "language": "python",
   "name": "parquet_env"
  },
  "language_info": {
   "codemirror_mode": {
    "name": "ipython",
    "version": 3
   },
   "file_extension": ".py",
   "mimetype": "text/x-python",
   "name": "python",
   "nbconvert_exporter": "python",
   "pygments_lexer": "ipython3",
   "version": "3.9.12"
  }
 },
 "nbformat": 4,
 "nbformat_minor": 5
}

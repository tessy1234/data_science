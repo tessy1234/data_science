{
 "cells": [
  {
   "cell_type": "markdown",
   "id": "de8439be",
   "metadata": {},
   "source": [
    "## Problem Statement:\n",
    "### Predict whether it will rain today or not based on weather measurements."
   ]
  },
  {
   "cell_type": "markdown",
   "id": "d7af8119",
   "metadata": {},
   "source": [
    "## Coding:"
   ]
  },
  {
   "cell_type": "code",
   "execution_count": 30,
   "id": "7f86c96d",
   "metadata": {},
   "outputs": [],
   "source": [
    "import warnings\n",
    "warnings.filterwarnings('ignore')"
   ]
  },
  {
   "cell_type": "code",
   "execution_count": 31,
   "id": "bb3d41d8",
   "metadata": {},
   "outputs": [],
   "source": [
    "from timeit import default_timer\n",
    "from datetime import datetime, timedelta\n",
    "import numpy as np\n",
    "import pandas as pd\n",
    "from sklearn.impute import SimpleImputer\n",
    "from sklearn.pipeline import Pipeline\n",
    "from sklearn.preprocessing import OneHotEncoder\n",
    "from sklearn.compose import ColumnTransformer\n",
    "from sklearn.model_selection import train_test_split, GridSearchCV, cross_val_score\n",
    "from sklearn.metrics import accuracy_score\n",
    "from sklearn.metrics import roc_auc_score\n",
    "from sklearn.metrics import classification_report, confusion_matrix\n",
    "import xgboost as xgb"
   ]
  },
  {
   "cell_type": "code",
   "execution_count": 32,
   "id": "fc2bed92",
   "metadata": {},
   "outputs": [],
   "source": [
    "rain = pd.read_csv(\"data/weatherAUS.csv\")"
   ]
  },
  {
   "cell_type": "code",
   "execution_count": 33,
   "id": "e093c61e",
   "metadata": {},
   "outputs": [
    {
     "data": {
      "text/html": [
       "<div>\n",
       "<style scoped>\n",
       "    .dataframe tbody tr th:only-of-type {\n",
       "        vertical-align: middle;\n",
       "    }\n",
       "\n",
       "    .dataframe tbody tr th {\n",
       "        vertical-align: top;\n",
       "    }\n",
       "\n",
       "    .dataframe thead th {\n",
       "        text-align: right;\n",
       "    }\n",
       "</style>\n",
       "<table border=\"1\" class=\"dataframe\">\n",
       "  <thead>\n",
       "    <tr style=\"text-align: right;\">\n",
       "      <th></th>\n",
       "      <th>Date</th>\n",
       "      <th>Location</th>\n",
       "      <th>MinTemp</th>\n",
       "      <th>MaxTemp</th>\n",
       "      <th>Rainfall</th>\n",
       "      <th>Evaporation</th>\n",
       "      <th>Sunshine</th>\n",
       "      <th>WindGustDir</th>\n",
       "      <th>WindGustSpeed</th>\n",
       "      <th>WindDir9am</th>\n",
       "      <th>...</th>\n",
       "      <th>Humidity9am</th>\n",
       "      <th>Humidity3pm</th>\n",
       "      <th>Pressure9am</th>\n",
       "      <th>Pressure3pm</th>\n",
       "      <th>Cloud9am</th>\n",
       "      <th>Cloud3pm</th>\n",
       "      <th>Temp9am</th>\n",
       "      <th>Temp3pm</th>\n",
       "      <th>RainToday</th>\n",
       "      <th>RainTomorrow</th>\n",
       "    </tr>\n",
       "  </thead>\n",
       "  <tbody>\n",
       "    <tr>\n",
       "      <th>0</th>\n",
       "      <td>2008-12-01</td>\n",
       "      <td>Albury</td>\n",
       "      <td>13.4</td>\n",
       "      <td>22.9</td>\n",
       "      <td>0.6</td>\n",
       "      <td>NaN</td>\n",
       "      <td>NaN</td>\n",
       "      <td>W</td>\n",
       "      <td>44.0</td>\n",
       "      <td>W</td>\n",
       "      <td>...</td>\n",
       "      <td>71.0</td>\n",
       "      <td>22.0</td>\n",
       "      <td>1007.7</td>\n",
       "      <td>1007.1</td>\n",
       "      <td>8.0</td>\n",
       "      <td>NaN</td>\n",
       "      <td>16.9</td>\n",
       "      <td>21.8</td>\n",
       "      <td>No</td>\n",
       "      <td>No</td>\n",
       "    </tr>\n",
       "    <tr>\n",
       "      <th>1</th>\n",
       "      <td>2008-12-02</td>\n",
       "      <td>Albury</td>\n",
       "      <td>7.4</td>\n",
       "      <td>25.1</td>\n",
       "      <td>0.0</td>\n",
       "      <td>NaN</td>\n",
       "      <td>NaN</td>\n",
       "      <td>WNW</td>\n",
       "      <td>44.0</td>\n",
       "      <td>NNW</td>\n",
       "      <td>...</td>\n",
       "      <td>44.0</td>\n",
       "      <td>25.0</td>\n",
       "      <td>1010.6</td>\n",
       "      <td>1007.8</td>\n",
       "      <td>NaN</td>\n",
       "      <td>NaN</td>\n",
       "      <td>17.2</td>\n",
       "      <td>24.3</td>\n",
       "      <td>No</td>\n",
       "      <td>No</td>\n",
       "    </tr>\n",
       "    <tr>\n",
       "      <th>2</th>\n",
       "      <td>2008-12-03</td>\n",
       "      <td>Albury</td>\n",
       "      <td>12.9</td>\n",
       "      <td>25.7</td>\n",
       "      <td>0.0</td>\n",
       "      <td>NaN</td>\n",
       "      <td>NaN</td>\n",
       "      <td>WSW</td>\n",
       "      <td>46.0</td>\n",
       "      <td>W</td>\n",
       "      <td>...</td>\n",
       "      <td>38.0</td>\n",
       "      <td>30.0</td>\n",
       "      <td>1007.6</td>\n",
       "      <td>1008.7</td>\n",
       "      <td>NaN</td>\n",
       "      <td>2.0</td>\n",
       "      <td>21.0</td>\n",
       "      <td>23.2</td>\n",
       "      <td>No</td>\n",
       "      <td>No</td>\n",
       "    </tr>\n",
       "    <tr>\n",
       "      <th>3</th>\n",
       "      <td>2008-12-04</td>\n",
       "      <td>Albury</td>\n",
       "      <td>9.2</td>\n",
       "      <td>28.0</td>\n",
       "      <td>0.0</td>\n",
       "      <td>NaN</td>\n",
       "      <td>NaN</td>\n",
       "      <td>NE</td>\n",
       "      <td>24.0</td>\n",
       "      <td>SE</td>\n",
       "      <td>...</td>\n",
       "      <td>45.0</td>\n",
       "      <td>16.0</td>\n",
       "      <td>1017.6</td>\n",
       "      <td>1012.8</td>\n",
       "      <td>NaN</td>\n",
       "      <td>NaN</td>\n",
       "      <td>18.1</td>\n",
       "      <td>26.5</td>\n",
       "      <td>No</td>\n",
       "      <td>No</td>\n",
       "    </tr>\n",
       "    <tr>\n",
       "      <th>4</th>\n",
       "      <td>2008-12-05</td>\n",
       "      <td>Albury</td>\n",
       "      <td>17.5</td>\n",
       "      <td>32.3</td>\n",
       "      <td>1.0</td>\n",
       "      <td>NaN</td>\n",
       "      <td>NaN</td>\n",
       "      <td>W</td>\n",
       "      <td>41.0</td>\n",
       "      <td>ENE</td>\n",
       "      <td>...</td>\n",
       "      <td>82.0</td>\n",
       "      <td>33.0</td>\n",
       "      <td>1010.8</td>\n",
       "      <td>1006.0</td>\n",
       "      <td>7.0</td>\n",
       "      <td>8.0</td>\n",
       "      <td>17.8</td>\n",
       "      <td>29.7</td>\n",
       "      <td>No</td>\n",
       "      <td>No</td>\n",
       "    </tr>\n",
       "  </tbody>\n",
       "</table>\n",
       "<p>5 rows × 23 columns</p>\n",
       "</div>"
      ],
      "text/plain": [
       "         Date Location  MinTemp  MaxTemp  Rainfall  Evaporation  Sunshine  \\\n",
       "0  2008-12-01   Albury     13.4     22.9       0.6          NaN       NaN   \n",
       "1  2008-12-02   Albury      7.4     25.1       0.0          NaN       NaN   \n",
       "2  2008-12-03   Albury     12.9     25.7       0.0          NaN       NaN   \n",
       "3  2008-12-04   Albury      9.2     28.0       0.0          NaN       NaN   \n",
       "4  2008-12-05   Albury     17.5     32.3       1.0          NaN       NaN   \n",
       "\n",
       "  WindGustDir  WindGustSpeed WindDir9am  ... Humidity9am  Humidity3pm  \\\n",
       "0           W           44.0          W  ...        71.0         22.0   \n",
       "1         WNW           44.0        NNW  ...        44.0         25.0   \n",
       "2         WSW           46.0          W  ...        38.0         30.0   \n",
       "3          NE           24.0         SE  ...        45.0         16.0   \n",
       "4           W           41.0        ENE  ...        82.0         33.0   \n",
       "\n",
       "   Pressure9am  Pressure3pm  Cloud9am  Cloud3pm  Temp9am  Temp3pm  RainToday  \\\n",
       "0       1007.7       1007.1       8.0       NaN     16.9     21.8         No   \n",
       "1       1010.6       1007.8       NaN       NaN     17.2     24.3         No   \n",
       "2       1007.6       1008.7       NaN       2.0     21.0     23.2         No   \n",
       "3       1017.6       1012.8       NaN       NaN     18.1     26.5         No   \n",
       "4       1010.8       1006.0       7.0       8.0     17.8     29.7         No   \n",
       "\n",
       "   RainTomorrow  \n",
       "0            No  \n",
       "1            No  \n",
       "2            No  \n",
       "3            No  \n",
       "4            No  \n",
       "\n",
       "[5 rows x 23 columns]"
      ]
     },
     "execution_count": 33,
     "metadata": {},
     "output_type": "execute_result"
    }
   ],
   "source": [
    "rain.head()"
   ]
  },
  {
   "cell_type": "markdown",
   "id": "2c1d0481",
   "metadata": {},
   "source": [
    "### Analyze target"
   ]
  },
  {
   "cell_type": "code",
   "execution_count": 34,
   "id": "3d264841",
   "metadata": {},
   "outputs": [
    {
     "data": {
      "text/plain": [
       "142199"
      ]
     },
     "execution_count": 34,
     "metadata": {},
     "output_type": "execute_result"
    }
   ],
   "source": [
    "rain['RainToday'].notna().sum()  #non-null target values"
   ]
  },
  {
   "cell_type": "code",
   "execution_count": 35,
   "id": "28ccfc0f",
   "metadata": {},
   "outputs": [
    {
     "data": {
      "text/plain": [
       "3261"
      ]
     },
     "execution_count": 35,
     "metadata": {},
     "output_type": "execute_result"
    }
   ],
   "source": [
    "rain['RainToday'].isna().sum()  #null target values"
   ]
  },
  {
   "cell_type": "code",
   "execution_count": 36,
   "id": "7028f776",
   "metadata": {},
   "outputs": [
    {
     "data": {
      "text/plain": [
       "No     110319\n",
       "Yes     31880\n",
       "Name: RainToday, dtype: int64"
      ]
     },
     "execution_count": 36,
     "metadata": {},
     "output_type": "execute_result"
    }
   ],
   "source": [
    "rain['RainToday'].value_counts()  #target value distribution"
   ]
  },
  {
   "cell_type": "code",
   "execution_count": 37,
   "id": "2ef534af",
   "metadata": {},
   "outputs": [
    {
     "data": {
      "text/plain": [
       "142199"
      ]
     },
     "execution_count": 37,
     "metadata": {},
     "output_type": "execute_result"
    }
   ],
   "source": [
    "rain['RainToday'].value_counts().sum()  #cross-check"
   ]
  },
  {
   "cell_type": "markdown",
   "id": "efa13fe9",
   "metadata": {},
   "source": [
    "### Drop features"
   ]
  },
  {
   "cell_type": "code",
   "execution_count": 38,
   "id": "76f6a778",
   "metadata": {},
   "outputs": [
    {
     "name": "stdout",
     "output_type": "stream",
     "text": [
      "<class 'pandas.core.frame.DataFrame'>\n",
      "RangeIndex: 145460 entries, 0 to 145459\n",
      "Data columns (total 23 columns):\n",
      " #   Column         Non-Null Count   Dtype  \n",
      "---  ------         --------------   -----  \n",
      " 0   Date           145460 non-null  object \n",
      " 1   Location       145460 non-null  object \n",
      " 2   MinTemp        143975 non-null  float64\n",
      " 3   MaxTemp        144199 non-null  float64\n",
      " 4   Rainfall       142199 non-null  float64\n",
      " 5   Evaporation    82670 non-null   float64\n",
      " 6   Sunshine       75625 non-null   float64\n",
      " 7   WindGustDir    135134 non-null  object \n",
      " 8   WindGustSpeed  135197 non-null  float64\n",
      " 9   WindDir9am     134894 non-null  object \n",
      " 10  WindDir3pm     141232 non-null  object \n",
      " 11  WindSpeed9am   143693 non-null  float64\n",
      " 12  WindSpeed3pm   142398 non-null  float64\n",
      " 13  Humidity9am    142806 non-null  float64\n",
      " 14  Humidity3pm    140953 non-null  float64\n",
      " 15  Pressure9am    130395 non-null  float64\n",
      " 16  Pressure3pm    130432 non-null  float64\n",
      " 17  Cloud9am       89572 non-null   float64\n",
      " 18  Cloud3pm       86102 non-null   float64\n",
      " 19  Temp9am        143693 non-null  float64\n",
      " 20  Temp3pm        141851 non-null  float64\n",
      " 21  RainToday      142199 non-null  object \n",
      " 22  RainTomorrow   142193 non-null  object \n",
      "dtypes: float64(16), object(7)\n",
      "memory usage: 25.5+ MB\n"
     ]
    }
   ],
   "source": [
    "rain.info()"
   ]
  },
  {
   "cell_type": "code",
   "execution_count": 39,
   "id": "722721b8",
   "metadata": {},
   "outputs": [],
   "source": [
    "cols_to_drop = [\"Date\", \"Location\", \"RainTomorrow\", \"Rainfall\"]"
   ]
  },
  {
   "cell_type": "code",
   "execution_count": 40,
   "id": "d143495b",
   "metadata": {},
   "outputs": [],
   "source": [
    "rain.drop(cols_to_drop, axis=1, inplace=True)"
   ]
  },
  {
   "cell_type": "code",
   "execution_count": 41,
   "id": "d03f339c",
   "metadata": {},
   "outputs": [],
   "source": [
    "missing_props = rain.isna().mean(axis=0)"
   ]
  },
  {
   "cell_type": "code",
   "execution_count": 42,
   "id": "8acdbfd7",
   "metadata": {},
   "outputs": [
    {
     "data": {
      "text/plain": [
       "Sunshine         0.480098\n",
       "Evaporation      0.431665\n",
       "Cloud3pm         0.408071\n",
       "Cloud9am         0.384216\n",
       "Pressure9am      0.103568\n",
       "Pressure3pm      0.103314\n",
       "WindDir9am       0.072639\n",
       "WindGustDir      0.070989\n",
       "WindGustSpeed    0.070555\n",
       "Humidity3pm      0.030984\n",
       "WindDir3pm       0.029066\n",
       "Temp3pm          0.024811\n",
       "RainToday        0.022419\n",
       "WindSpeed3pm     0.021050\n",
       "Humidity9am      0.018246\n",
       "Temp9am          0.012148\n",
       "WindSpeed9am     0.012148\n",
       "MinTemp          0.010209\n",
       "MaxTemp          0.008669\n",
       "dtype: float64"
      ]
     },
     "execution_count": 42,
     "metadata": {},
     "output_type": "execute_result"
    }
   ],
   "source": [
    "missing_props.sort_values(ascending=False)  #drop columns with excessive null values (>40%)"
   ]
  },
  {
   "cell_type": "code",
   "execution_count": 43,
   "id": "d9c2b7b9",
   "metadata": {},
   "outputs": [],
   "source": [
    "over_threshold = missing_props[missing_props >= 0.4]"
   ]
  },
  {
   "cell_type": "code",
   "execution_count": 44,
   "id": "af738c5a",
   "metadata": {},
   "outputs": [
    {
     "data": {
      "text/plain": [
       "Index(['Evaporation', 'Sunshine', 'Cloud3pm'], dtype='object')"
      ]
     },
     "execution_count": 44,
     "metadata": {},
     "output_type": "execute_result"
    }
   ],
   "source": [
    "over_threshold.index"
   ]
  },
  {
   "cell_type": "code",
   "execution_count": 45,
   "id": "b3dd2969",
   "metadata": {},
   "outputs": [],
   "source": [
    "rain.drop(over_threshold.index, \n",
    "          axis=1, \n",
    "          inplace=True)"
   ]
  },
  {
   "cell_type": "code",
   "execution_count": 46,
   "id": "2154186e",
   "metadata": {},
   "outputs": [],
   "source": [
    "X = rain.drop(\"RainToday\", axis=1)"
   ]
  },
  {
   "cell_type": "code",
   "execution_count": 47,
   "id": "8bda8fde",
   "metadata": {},
   "outputs": [],
   "source": [
    "y = rain['RainToday']"
   ]
  },
  {
   "cell_type": "markdown",
   "id": "6f518508",
   "metadata": {},
   "source": [
    "### Preprocessing"
   ]
  },
  {
   "cell_type": "code",
   "execution_count": 48,
   "id": "ac40d599",
   "metadata": {},
   "outputs": [],
   "source": [
    "categorical_pipeline = Pipeline(\n",
    "    steps=[\n",
    "        (\"impute\", SimpleImputer(strategy=\"most_frequent\")),\n",
    "        (\"oh-encode\", OneHotEncoder(handle_unknown=\"ignore\", sparse=False)),\n",
    "    ]\n",
    ")"
   ]
  },
  {
   "cell_type": "code",
   "execution_count": 49,
   "id": "4cd09ffe",
   "metadata": {},
   "outputs": [],
   "source": [
    "from sklearn.preprocessing import StandardScaler\n",
    "\n",
    "numeric_pipeline = Pipeline(\n",
    "    steps=[(\"impute\", SimpleImputer(strategy=\"mean\")), \n",
    "           (\"scale\", StandardScaler())]\n",
    ")"
   ]
  },
  {
   "cell_type": "code",
   "execution_count": 50,
   "id": "5e0d872b",
   "metadata": {},
   "outputs": [],
   "source": [
    "cat_cols = X.select_dtypes(exclude=\"number\").columns\n",
    "num_cols = X.select_dtypes(include=\"number\").columns"
   ]
  },
  {
   "cell_type": "code",
   "execution_count": 51,
   "id": "26d0e798",
   "metadata": {},
   "outputs": [
    {
     "name": "stdout",
     "output_type": "stream",
     "text": [
      "<class 'pandas.core.frame.DataFrame'>\n",
      "RangeIndex: 145460 entries, 0 to 145459\n",
      "Data columns (total 15 columns):\n",
      " #   Column         Non-Null Count   Dtype  \n",
      "---  ------         --------------   -----  \n",
      " 0   MinTemp        143975 non-null  float64\n",
      " 1   MaxTemp        144199 non-null  float64\n",
      " 2   WindGustDir    135134 non-null  object \n",
      " 3   WindGustSpeed  135197 non-null  float64\n",
      " 4   WindDir9am     134894 non-null  object \n",
      " 5   WindDir3pm     141232 non-null  object \n",
      " 6   WindSpeed9am   143693 non-null  float64\n",
      " 7   WindSpeed3pm   142398 non-null  float64\n",
      " 8   Humidity9am    142806 non-null  float64\n",
      " 9   Humidity3pm    140953 non-null  float64\n",
      " 10  Pressure9am    130395 non-null  float64\n",
      " 11  Pressure3pm    130432 non-null  float64\n",
      " 12  Cloud9am       89572 non-null   float64\n",
      " 13  Temp9am        143693 non-null  float64\n",
      " 14  Temp3pm        141851 non-null  float64\n",
      "dtypes: float64(12), object(3)\n",
      "memory usage: 16.6+ MB\n"
     ]
    }
   ],
   "source": [
    "X.info()"
   ]
  },
  {
   "cell_type": "code",
   "execution_count": 52,
   "id": "b7ae0e62",
   "metadata": {},
   "outputs": [
    {
     "data": {
      "text/plain": [
       "Index(['WindGustDir', 'WindDir9am', 'WindDir3pm'], dtype='object')"
      ]
     },
     "execution_count": 52,
     "metadata": {},
     "output_type": "execute_result"
    }
   ],
   "source": [
    "cat_cols"
   ]
  },
  {
   "cell_type": "code",
   "execution_count": 53,
   "id": "1eb91f4d",
   "metadata": {},
   "outputs": [
    {
     "data": {
      "text/plain": [
       "Index(['MinTemp', 'MaxTemp', 'WindGustSpeed', 'WindSpeed9am', 'WindSpeed3pm',\n",
       "       'Humidity9am', 'Humidity3pm', 'Pressure9am', 'Pressure3pm', 'Cloud9am',\n",
       "       'Temp9am', 'Temp3pm'],\n",
       "      dtype='object')"
      ]
     },
     "execution_count": 53,
     "metadata": {},
     "output_type": "execute_result"
    }
   ],
   "source": [
    "num_cols"
   ]
  },
  {
   "cell_type": "code",
   "execution_count": 54,
   "id": "1919c4a4",
   "metadata": {},
   "outputs": [
    {
     "data": {
      "text/plain": [
       "N      11758\n",
       "SE      9287\n",
       "E       9176\n",
       "SSE     9112\n",
       "NW      8749\n",
       "S       8659\n",
       "W       8459\n",
       "SW      8423\n",
       "NNE     8129\n",
       "NNW     7980\n",
       "ENE     7836\n",
       "NE      7671\n",
       "ESE     7630\n",
       "SSW     7587\n",
       "WNW     7414\n",
       "WSW     7024\n",
       "Name: WindDir9am, dtype: int64"
      ]
     },
     "execution_count": 54,
     "metadata": {},
     "output_type": "execute_result"
    }
   ],
   "source": [
    "X['WindDir9am'].value_counts()  #category distribution of a categorical variable"
   ]
  },
  {
   "cell_type": "code",
   "execution_count": 55,
   "id": "bd058da4",
   "metadata": {},
   "outputs": [],
   "source": [
    "full_processor = ColumnTransformer(\n",
    "    transformers=[\n",
    "        (\"numeric\", numeric_pipeline, num_cols),\n",
    "        (\"categorical\", categorical_pipeline, cat_cols),\n",
    "    ]\n",
    ")"
   ]
  },
  {
   "cell_type": "code",
   "execution_count": 56,
   "id": "76cf9d04",
   "metadata": {},
   "outputs": [],
   "source": [
    "X_processed = full_processor.fit_transform(X)"
   ]
  },
  {
   "cell_type": "code",
   "execution_count": 57,
   "id": "0790c855",
   "metadata": {},
   "outputs": [],
   "source": [
    "y_processed = SimpleImputer(strategy=\"most_frequent\").fit_transform(\n",
    "    y.values.reshape(-1, 1)\n",
    ")"
   ]
  },
  {
   "cell_type": "markdown",
   "id": "b86d7ddb",
   "metadata": {},
   "source": [
    "### Split data into training, evaluation and test dataset"
   ]
  },
  {
   "cell_type": "code",
   "execution_count": 58,
   "id": "2ba2e8b6",
   "metadata": {},
   "outputs": [],
   "source": [
    "X_train, X_test, y_train, y_test = train_test_split(\n",
    "    X_processed, y_processed, stratify=y_processed, random_state=42\n",
    ")"
   ]
  },
  {
   "cell_type": "markdown",
   "id": "a0e70d66",
   "metadata": {},
   "source": [
    "### parameter tuning"
   ]
  },
  {
   "cell_type": "code",
   "execution_count": 55,
   "id": "fcf0d615",
   "metadata": {},
   "outputs": [],
   "source": [
    "param_grid = {\n",
    "    \"max_depth\": [3, 4, 5, 7],\n",
    "    \"learning_rate\": [0.01, 0.05, 0.1],\n",
    "    \"gamma\": [0, 0.25, 1],\n",
    "    \"reg_lambda\": [0, 1, 10],\n",
    "    \"scale_pos_weight\": [1, 3, 5],\n",
    "    \"subsample\": [0.8],\n",
    "    \"colsample_bytree\": [0.5],\n",
    "}"
   ]
  },
  {
   "cell_type": "code",
   "execution_count": 57,
   "id": "e605f6b7",
   "metadata": {},
   "outputs": [],
   "source": [
    "xgb_cl = xgb.XGBClassifier(objective=\"binary:logistic\")"
   ]
  },
  {
   "cell_type": "code",
   "execution_count": 58,
   "id": "0a7ca131",
   "metadata": {},
   "outputs": [],
   "source": [
    "grid_cv = GridSearchCV(xgb_cl, param_grid, n_jobs=-1, cv=3, scoring=\"roc_auc\")"
   ]
  },
  {
   "cell_type": "code",
   "execution_count": 60,
   "id": "d593139f",
   "metadata": {},
   "outputs": [
    {
     "name": "stderr",
     "output_type": "stream",
     "text": [
      "C:\\Anaconda3\\envs\\tensorflow22_env\\lib\\site-packages\\sklearn\\utils\\validation.py:73: DataConversionWarning: A column-vector y was passed when a 1d array was expected. Please change the shape of y to (n_samples, ), for example using ravel().\n",
      "  return f(**kwargs)\n"
     ]
    },
    {
     "name": "stdout",
     "output_type": "stream",
     "text": [
      "Time elapsed (hh:mm:ss.ms) 5:23:07.122881\n"
     ]
    }
   ],
   "source": [
    "start = default_timer()\n",
    "grid_cv.fit(X_processed, y_processed.ravel())\n",
    "end = default_timer()\n",
    "print(f'Time elapsed (hh:mm:ss.ms) {timedelta(seconds=end-start)}')"
   ]
  },
  {
   "cell_type": "code",
   "execution_count": 61,
   "id": "8e93890b",
   "metadata": {},
   "outputs": [
    {
     "data": {
      "text/plain": [
       "0.8541085582312341"
      ]
     },
     "execution_count": 61,
     "metadata": {},
     "output_type": "execute_result"
    }
   ],
   "source": [
    "grid_cv.best_score_"
   ]
  },
  {
   "cell_type": "code",
   "execution_count": 62,
   "id": "0217e27f",
   "metadata": {},
   "outputs": [
    {
     "data": {
      "text/plain": [
       "{'colsample_bytree': 0.5,\n",
       " 'gamma': 0.25,\n",
       " 'learning_rate': 0.1,\n",
       " 'max_depth': 7,\n",
       " 'reg_lambda': 10,\n",
       " 'scale_pos_weight': 1,\n",
       " 'subsample': 0.8}"
      ]
     },
     "execution_count": 62,
     "metadata": {},
     "output_type": "execute_result"
    }
   ],
   "source": [
    "grid_cv.best_params_"
   ]
  },
  {
   "cell_type": "markdown",
   "id": "d6b7a85c",
   "metadata": {},
   "source": [
    "### final XGBoost classifier"
   ]
  },
  {
   "cell_type": "code",
   "execution_count": 46,
   "id": "e0003046",
   "metadata": {},
   "outputs": [],
   "source": [
    "best_params = {\n",
    "    'gamma': 0.25,\n",
    "    'learning_rate': 0.1,\n",
    "    'max_depth': 7,\n",
    "    'reg_lambda': 10,\n",
    "    'scale_pos_weight': 1,\n",
    "}"
   ]
  },
  {
   "cell_type": "code",
   "execution_count": 64,
   "id": "a753d9d4",
   "metadata": {},
   "outputs": [],
   "source": [
    "final_cl = xgb.XGBClassifier(\n",
    "    **best_params,\n",
    "    objective=\"binary:logistic\",\n",
    "    colsample_bytree=0.5,\n",
    "    subsample=0.8\n",
    ")"
   ]
  },
  {
   "cell_type": "code",
   "execution_count": 65,
   "id": "a2cad2c0",
   "metadata": {},
   "outputs": [
    {
     "name": "stdout",
     "output_type": "stream",
     "text": [
      "Time elapsed (hh:mm:ss.ms) 0:00:20.046535\n"
     ]
    }
   ],
   "source": [
    "start = default_timer()\n",
    "final_cl.fit(X_train, y_train.ravel())\n",
    "end = default_timer()\n",
    "print(f'Time elapsed (hh:mm:ss.ms) {timedelta(seconds=end-start)}')"
   ]
  },
  {
   "cell_type": "markdown",
   "id": "dbd56722",
   "metadata": {},
   "source": [
    "### Performance of XGBoost classifier"
   ]
  },
  {
   "cell_type": "code",
   "execution_count": 66,
   "id": "18f0abbd",
   "metadata": {},
   "outputs": [],
   "source": [
    "preds = final_cl.predict(X_test)"
   ]
  },
  {
   "cell_type": "code",
   "execution_count": 67,
   "id": "442500dc",
   "metadata": {},
   "outputs": [],
   "source": [
    "preds_prob = final_cl.predict_proba(X_test)"
   ]
  },
  {
   "cell_type": "code",
   "execution_count": 71,
   "id": "b0e7fe8e",
   "metadata": {},
   "outputs": [
    {
     "data": {
      "text/plain": [
       "0.8492506531005087"
      ]
     },
     "execution_count": 71,
     "metadata": {},
     "output_type": "execute_result"
    }
   ],
   "source": [
    "# Score\n",
    "accuracy_score(y_test, preds)"
   ]
  },
  {
   "cell_type": "code",
   "execution_count": 72,
   "id": "bba4f606",
   "metadata": {},
   "outputs": [
    {
     "data": {
      "text/plain": [
       "0.8812395488187237"
      ]
     },
     "execution_count": 72,
     "metadata": {},
     "output_type": "execute_result"
    }
   ],
   "source": [
    "roc_auc_score(y_test, preds_prob[:,1])"
   ]
  },
  {
   "cell_type": "markdown",
   "id": "5e7db493",
   "metadata": {},
   "source": [
    "### Detailed performance measures"
   ]
  },
  {
   "cell_type": "code",
   "execution_count": 74,
   "id": "e43fc1c3",
   "metadata": {},
   "outputs": [
    {
     "data": {
      "text/plain": [
       "array([0.882761  , 0.87467024, 0.86644512])"
      ]
     },
     "execution_count": 74,
     "metadata": {},
     "output_type": "execute_result"
    }
   ],
   "source": [
    "cross_val_score(final_cl, X_test, y_test.ravel(), scoring=\"roc_auc\", cv = 3)"
   ]
  },
  {
   "cell_type": "code",
   "execution_count": 75,
   "id": "66c85cc6",
   "metadata": {},
   "outputs": [
    {
     "data": {
      "text/plain": [
       "array([0.84730243, 0.84697245, 0.84308225])"
      ]
     },
     "execution_count": 75,
     "metadata": {},
     "output_type": "execute_result"
    }
   ],
   "source": [
    "cross_val_score(final_cl, X_test, y_test.ravel(), cv = 3)"
   ]
  },
  {
   "cell_type": "code",
   "execution_count": 76,
   "id": "564ff1f5",
   "metadata": {},
   "outputs": [
    {
     "name": "stdout",
     "output_type": "stream",
     "text": [
      "              precision    recall  f1-score   support\n",
      "\n",
      "          No       0.87      0.95      0.91     28395\n",
      "         Yes       0.72      0.50      0.59      7970\n",
      "\n",
      "    accuracy                           0.85     36365\n",
      "   macro avg       0.80      0.73      0.75     36365\n",
      "weighted avg       0.84      0.85      0.84     36365\n",
      "\n"
     ]
    }
   ],
   "source": [
    "print(classification_report(y_test, preds))"
   ]
  },
  {
   "cell_type": "code",
   "execution_count": 77,
   "id": "dfd8b81c",
   "metadata": {},
   "outputs": [
    {
     "data": {
      "text/plain": [
       "array([[26863,  1532],\n",
       "       [ 3950,  4020]], dtype=int64)"
      ]
     },
     "execution_count": 77,
     "metadata": {},
     "output_type": "execute_result"
    }
   ],
   "source": [
    "confusion_matrix(y_test, preds)   #confusion=[[TN,FP],[FN,TP]]"
   ]
  },
  {
   "cell_type": "code",
   "execution_count": 22,
   "id": "3f8e1194",
   "metadata": {},
   "outputs": [
    {
     "data": {
      "text/plain": [
       "0.72"
      ]
     },
     "execution_count": 22,
     "metadata": {},
     "output_type": "execute_result"
    }
   ],
   "source": [
    "precision = np.round(4020/(1532+4020),2); precision #precision = TP/(FP+TP)"
   ]
  },
  {
   "cell_type": "code",
   "execution_count": 23,
   "id": "44fa91fb",
   "metadata": {},
   "outputs": [
    {
     "data": {
      "text/plain": [
       "0.5"
      ]
     },
     "execution_count": 23,
     "metadata": {},
     "output_type": "execute_result"
    }
   ],
   "source": [
    "recall = np.round(4020/(3950+4020),2); recall  #recall = TP/(FN+TP)"
   ]
  },
  {
   "cell_type": "code",
   "execution_count": 24,
   "id": "8176209d",
   "metadata": {},
   "outputs": [
    {
     "data": {
      "text/plain": [
       "0.59"
      ]
     },
     "execution_count": 24,
     "metadata": {},
     "output_type": "execute_result"
    }
   ],
   "source": [
    "f1_score = np.round(2*(precision*recall)/(precision+recall),2); f1_score  #f1-score"
   ]
  },
  {
   "cell_type": "code",
   "execution_count": 25,
   "id": "d9773655",
   "metadata": {},
   "outputs": [
    {
     "data": {
      "text/plain": [
       "28395"
      ]
     },
     "execution_count": 25,
     "metadata": {},
     "output_type": "execute_result"
    }
   ],
   "source": [
    "26863+1532  #Actual Negative = TN+FP"
   ]
  },
  {
   "cell_type": "code",
   "execution_count": 26,
   "id": "7ac7ed3f",
   "metadata": {},
   "outputs": [
    {
     "data": {
      "text/plain": [
       "7970"
      ]
     },
     "execution_count": 26,
     "metadata": {},
     "output_type": "execute_result"
    }
   ],
   "source": [
    "3950+4020  #Actual Positive = FN+TP"
   ]
  },
  {
   "cell_type": "code",
   "execution_count": 81,
   "id": "13f2d213",
   "metadata": {},
   "outputs": [
    {
     "data": {
      "text/plain": [
       "No     28395\n",
       "Yes     7970\n",
       "dtype: int64"
      ]
     },
     "execution_count": 81,
     "metadata": {},
     "output_type": "execute_result"
    }
   ],
   "source": [
    "pd.DataFrame(y_test).value_counts()  #support"
   ]
  },
  {
   "cell_type": "code",
   "execution_count": null,
   "id": "ee37e088",
   "metadata": {},
   "outputs": [],
   "source": []
  }
 ],
 "metadata": {
  "kernelspec": {
   "display_name": "parquet_env",
   "language": "python",
   "name": "parquet_env"
  },
  "language_info": {
   "codemirror_mode": {
    "name": "ipython",
    "version": 3
   },
   "file_extension": ".py",
   "mimetype": "text/x-python",
   "name": "python",
   "nbconvert_exporter": "python",
   "pygments_lexer": "ipython3",
   "version": "3.9.12"
  }
 },
 "nbformat": 4,
 "nbformat_minor": 5
}

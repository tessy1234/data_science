{
 "cells": [
  {
   "cell_type": "markdown",
   "id": "30a22191",
   "metadata": {},
   "source": [
    "## Problem Statement:\n",
    "### Predict whether it will rain today or not based on weather measurements."
   ]
  },
  {
   "cell_type": "markdown",
   "id": "6303cc99",
   "metadata": {},
   "source": [
    "## Coding:"
   ]
  },
  {
   "cell_type": "code",
   "execution_count": 1,
   "id": "e1302f82",
   "metadata": {},
   "outputs": [],
   "source": [
    "import warnings\n",
    "warnings.filterwarnings('ignore')"
   ]
  },
  {
   "cell_type": "code",
   "execution_count": 2,
   "id": "b8c0b0f1",
   "metadata": {},
   "outputs": [],
   "source": [
    "from timeit import default_timer\n",
    "from datetime import timedelta\n",
    "import numpy as np\n",
    "import pandas as pd\n",
    "import matplotlib.pyplot as plt\n",
    "import seaborn as sns\n",
    "from sklearn.preprocessing import OneHotEncoder, OrdinalEncoder, StandardScaler, LabelEncoder\n",
    "from sklearn.compose import ColumnTransformer\n",
    "from sklearn.pipeline import Pipeline\n",
    "from sklearn.impute import SimpleImputer\n",
    "from sklearn.model_selection import train_test_split\n",
    "from sklearn.metrics import accuracy_score\n",
    "from sklearn.metrics import roc_auc_score\n",
    "from sklearn.metrics import classification_report, confusion_matrix\n",
    "\n",
    "from xgboost import XGBClassifier\n",
    "from embedding_encoder import EmbeddingEncoder\n",
    "from embedding_encoder.utils.compose import ColumnTransformerWithNames"
   ]
  },
  {
   "cell_type": "code",
   "execution_count": 69,
   "id": "c4f3af63",
   "metadata": {},
   "outputs": [],
   "source": [
    "#data source: https://www.kaggle.com/datasets/jsphyg/weather-dataset-rattle-package"
   ]
  },
  {
   "cell_type": "code",
   "execution_count": 3,
   "id": "fc2bed92",
   "metadata": {},
   "outputs": [],
   "source": [
    "rain = pd.read_csv(\"data/weatherAUS.csv\")"
   ]
  },
  {
   "cell_type": "code",
   "execution_count": 4,
   "id": "e093c61e",
   "metadata": {},
   "outputs": [
    {
     "data": {
      "text/html": [
       "<div>\n",
       "<style scoped>\n",
       "    .dataframe tbody tr th:only-of-type {\n",
       "        vertical-align: middle;\n",
       "    }\n",
       "\n",
       "    .dataframe tbody tr th {\n",
       "        vertical-align: top;\n",
       "    }\n",
       "\n",
       "    .dataframe thead th {\n",
       "        text-align: right;\n",
       "    }\n",
       "</style>\n",
       "<table border=\"1\" class=\"dataframe\">\n",
       "  <thead>\n",
       "    <tr style=\"text-align: right;\">\n",
       "      <th></th>\n",
       "      <th>Date</th>\n",
       "      <th>Location</th>\n",
       "      <th>MinTemp</th>\n",
       "      <th>MaxTemp</th>\n",
       "      <th>Rainfall</th>\n",
       "      <th>Evaporation</th>\n",
       "      <th>Sunshine</th>\n",
       "      <th>WindGustDir</th>\n",
       "      <th>WindGustSpeed</th>\n",
       "      <th>WindDir9am</th>\n",
       "      <th>...</th>\n",
       "      <th>Humidity9am</th>\n",
       "      <th>Humidity3pm</th>\n",
       "      <th>Pressure9am</th>\n",
       "      <th>Pressure3pm</th>\n",
       "      <th>Cloud9am</th>\n",
       "      <th>Cloud3pm</th>\n",
       "      <th>Temp9am</th>\n",
       "      <th>Temp3pm</th>\n",
       "      <th>RainToday</th>\n",
       "      <th>RainTomorrow</th>\n",
       "    </tr>\n",
       "  </thead>\n",
       "  <tbody>\n",
       "    <tr>\n",
       "      <th>0</th>\n",
       "      <td>2008-12-01</td>\n",
       "      <td>Albury</td>\n",
       "      <td>13.4</td>\n",
       "      <td>22.9</td>\n",
       "      <td>0.6</td>\n",
       "      <td>NaN</td>\n",
       "      <td>NaN</td>\n",
       "      <td>W</td>\n",
       "      <td>44.0</td>\n",
       "      <td>W</td>\n",
       "      <td>...</td>\n",
       "      <td>71.0</td>\n",
       "      <td>22.0</td>\n",
       "      <td>1007.7</td>\n",
       "      <td>1007.1</td>\n",
       "      <td>8.0</td>\n",
       "      <td>NaN</td>\n",
       "      <td>16.9</td>\n",
       "      <td>21.8</td>\n",
       "      <td>No</td>\n",
       "      <td>No</td>\n",
       "    </tr>\n",
       "    <tr>\n",
       "      <th>1</th>\n",
       "      <td>2008-12-02</td>\n",
       "      <td>Albury</td>\n",
       "      <td>7.4</td>\n",
       "      <td>25.1</td>\n",
       "      <td>0.0</td>\n",
       "      <td>NaN</td>\n",
       "      <td>NaN</td>\n",
       "      <td>WNW</td>\n",
       "      <td>44.0</td>\n",
       "      <td>NNW</td>\n",
       "      <td>...</td>\n",
       "      <td>44.0</td>\n",
       "      <td>25.0</td>\n",
       "      <td>1010.6</td>\n",
       "      <td>1007.8</td>\n",
       "      <td>NaN</td>\n",
       "      <td>NaN</td>\n",
       "      <td>17.2</td>\n",
       "      <td>24.3</td>\n",
       "      <td>No</td>\n",
       "      <td>No</td>\n",
       "    </tr>\n",
       "    <tr>\n",
       "      <th>2</th>\n",
       "      <td>2008-12-03</td>\n",
       "      <td>Albury</td>\n",
       "      <td>12.9</td>\n",
       "      <td>25.7</td>\n",
       "      <td>0.0</td>\n",
       "      <td>NaN</td>\n",
       "      <td>NaN</td>\n",
       "      <td>WSW</td>\n",
       "      <td>46.0</td>\n",
       "      <td>W</td>\n",
       "      <td>...</td>\n",
       "      <td>38.0</td>\n",
       "      <td>30.0</td>\n",
       "      <td>1007.6</td>\n",
       "      <td>1008.7</td>\n",
       "      <td>NaN</td>\n",
       "      <td>2.0</td>\n",
       "      <td>21.0</td>\n",
       "      <td>23.2</td>\n",
       "      <td>No</td>\n",
       "      <td>No</td>\n",
       "    </tr>\n",
       "    <tr>\n",
       "      <th>3</th>\n",
       "      <td>2008-12-04</td>\n",
       "      <td>Albury</td>\n",
       "      <td>9.2</td>\n",
       "      <td>28.0</td>\n",
       "      <td>0.0</td>\n",
       "      <td>NaN</td>\n",
       "      <td>NaN</td>\n",
       "      <td>NE</td>\n",
       "      <td>24.0</td>\n",
       "      <td>SE</td>\n",
       "      <td>...</td>\n",
       "      <td>45.0</td>\n",
       "      <td>16.0</td>\n",
       "      <td>1017.6</td>\n",
       "      <td>1012.8</td>\n",
       "      <td>NaN</td>\n",
       "      <td>NaN</td>\n",
       "      <td>18.1</td>\n",
       "      <td>26.5</td>\n",
       "      <td>No</td>\n",
       "      <td>No</td>\n",
       "    </tr>\n",
       "    <tr>\n",
       "      <th>4</th>\n",
       "      <td>2008-12-05</td>\n",
       "      <td>Albury</td>\n",
       "      <td>17.5</td>\n",
       "      <td>32.3</td>\n",
       "      <td>1.0</td>\n",
       "      <td>NaN</td>\n",
       "      <td>NaN</td>\n",
       "      <td>W</td>\n",
       "      <td>41.0</td>\n",
       "      <td>ENE</td>\n",
       "      <td>...</td>\n",
       "      <td>82.0</td>\n",
       "      <td>33.0</td>\n",
       "      <td>1010.8</td>\n",
       "      <td>1006.0</td>\n",
       "      <td>7.0</td>\n",
       "      <td>8.0</td>\n",
       "      <td>17.8</td>\n",
       "      <td>29.7</td>\n",
       "      <td>No</td>\n",
       "      <td>No</td>\n",
       "    </tr>\n",
       "  </tbody>\n",
       "</table>\n",
       "<p>5 rows × 23 columns</p>\n",
       "</div>"
      ],
      "text/plain": [
       "         Date Location  MinTemp  MaxTemp  Rainfall  Evaporation  Sunshine  \\\n",
       "0  2008-12-01   Albury     13.4     22.9       0.6          NaN       NaN   \n",
       "1  2008-12-02   Albury      7.4     25.1       0.0          NaN       NaN   \n",
       "2  2008-12-03   Albury     12.9     25.7       0.0          NaN       NaN   \n",
       "3  2008-12-04   Albury      9.2     28.0       0.0          NaN       NaN   \n",
       "4  2008-12-05   Albury     17.5     32.3       1.0          NaN       NaN   \n",
       "\n",
       "  WindGustDir  WindGustSpeed WindDir9am  ... Humidity9am  Humidity3pm  \\\n",
       "0           W           44.0          W  ...        71.0         22.0   \n",
       "1         WNW           44.0        NNW  ...        44.0         25.0   \n",
       "2         WSW           46.0          W  ...        38.0         30.0   \n",
       "3          NE           24.0         SE  ...        45.0         16.0   \n",
       "4           W           41.0        ENE  ...        82.0         33.0   \n",
       "\n",
       "   Pressure9am  Pressure3pm  Cloud9am  Cloud3pm  Temp9am  Temp3pm  RainToday  \\\n",
       "0       1007.7       1007.1       8.0       NaN     16.9     21.8         No   \n",
       "1       1010.6       1007.8       NaN       NaN     17.2     24.3         No   \n",
       "2       1007.6       1008.7       NaN       2.0     21.0     23.2         No   \n",
       "3       1017.6       1012.8       NaN       NaN     18.1     26.5         No   \n",
       "4       1010.8       1006.0       7.0       8.0     17.8     29.7         No   \n",
       "\n",
       "   RainTomorrow  \n",
       "0            No  \n",
       "1            No  \n",
       "2            No  \n",
       "3            No  \n",
       "4            No  \n",
       "\n",
       "[5 rows x 23 columns]"
      ]
     },
     "execution_count": 4,
     "metadata": {},
     "output_type": "execute_result"
    }
   ],
   "source": [
    "rain.head()"
   ]
  },
  {
   "cell_type": "markdown",
   "id": "2d1200b0",
   "metadata": {},
   "source": [
    "### Drop features"
   ]
  },
  {
   "cell_type": "code",
   "execution_count": 5,
   "id": "722721b8",
   "metadata": {},
   "outputs": [],
   "source": [
    "cols_to_drop = [\"Date\", \"Location\", \"RainTomorrow\", \"Rainfall\"]  #ad-hoc dropping of columns"
   ]
  },
  {
   "cell_type": "code",
   "execution_count": 6,
   "id": "d143495b",
   "metadata": {},
   "outputs": [],
   "source": [
    "rain.drop(cols_to_drop, axis=1, inplace=True)"
   ]
  },
  {
   "cell_type": "code",
   "execution_count": 7,
   "id": "d03f339c",
   "metadata": {},
   "outputs": [],
   "source": [
    "#drop columns with excessive null values (>40%)\n",
    "missing_props = rain.isna().mean(axis=0)  #mean of null-values for each column"
   ]
  },
  {
   "cell_type": "code",
   "execution_count": 8,
   "id": "d9c2b7b9",
   "metadata": {},
   "outputs": [],
   "source": [
    "over_threshold = missing_props[missing_props >= 0.4]"
   ]
  },
  {
   "cell_type": "code",
   "execution_count": 9,
   "id": "b3dd2969",
   "metadata": {},
   "outputs": [],
   "source": [
    "rain.drop(over_threshold.index, \n",
    "          axis=1, \n",
    "          inplace=True)"
   ]
  },
  {
   "cell_type": "code",
   "execution_count": 10,
   "id": "2154186e",
   "metadata": {},
   "outputs": [],
   "source": [
    "X = rain.drop(\"RainToday\", axis=1)"
   ]
  },
  {
   "cell_type": "code",
   "execution_count": 11,
   "id": "8bda8fde",
   "metadata": {},
   "outputs": [],
   "source": [
    "y = rain['RainToday']"
   ]
  },
  {
   "cell_type": "code",
   "execution_count": 12,
   "id": "ccb78412",
   "metadata": {},
   "outputs": [
    {
     "name": "stdout",
     "output_type": "stream",
     "text": [
      "<class 'pandas.core.frame.DataFrame'>\n",
      "RangeIndex: 145460 entries, 0 to 145459\n",
      "Data columns (total 15 columns):\n",
      " #   Column         Non-Null Count   Dtype  \n",
      "---  ------         --------------   -----  \n",
      " 0   MinTemp        143975 non-null  float64\n",
      " 1   MaxTemp        144199 non-null  float64\n",
      " 2   WindGustDir    135134 non-null  object \n",
      " 3   WindGustSpeed  135197 non-null  float64\n",
      " 4   WindDir9am     134894 non-null  object \n",
      " 5   WindDir3pm     141232 non-null  object \n",
      " 6   WindSpeed9am   143693 non-null  float64\n",
      " 7   WindSpeed3pm   142398 non-null  float64\n",
      " 8   Humidity9am    142806 non-null  float64\n",
      " 9   Humidity3pm    140953 non-null  float64\n",
      " 10  Pressure9am    130395 non-null  float64\n",
      " 11  Pressure3pm    130432 non-null  float64\n",
      " 12  Cloud9am       89572 non-null   float64\n",
      " 13  Temp9am        143693 non-null  float64\n",
      " 14  Temp3pm        141851 non-null  float64\n",
      "dtypes: float64(12), object(3)\n",
      "memory usage: 16.6+ MB\n"
     ]
    }
   ],
   "source": [
    "X.info()  #12 numerical and 3 categorical features"
   ]
  },
  {
   "cell_type": "code",
   "execution_count": 13,
   "id": "ca25fd07",
   "metadata": {},
   "outputs": [
    {
     "data": {
      "text/plain": [
       "array(['W', 'NNW', 'SE', 'ENE', 'SW', 'SSE', 'S', 'NE', nan, 'SSW', 'N',\n",
       "       'WSW', 'ESE', 'E', 'NW', 'WNW', 'NNE'], dtype=object)"
      ]
     },
     "execution_count": 13,
     "metadata": {},
     "output_type": "execute_result"
    }
   ],
   "source": [
    "X['WindDir9am'].unique()  #categories for this categorical variable"
   ]
  },
  {
   "cell_type": "code",
   "execution_count": 14,
   "id": "954d5646",
   "metadata": {},
   "outputs": [
    {
     "data": {
      "text/plain": [
       "145460"
      ]
     },
     "execution_count": 14,
     "metadata": {},
     "output_type": "execute_result"
    }
   ],
   "source": [
    "y.shape[0]"
   ]
  },
  {
   "cell_type": "code",
   "execution_count": 15,
   "id": "a596ef9d",
   "metadata": {},
   "outputs": [
    {
     "data": {
      "text/plain": [
       "142199"
      ]
     },
     "execution_count": 15,
     "metadata": {},
     "output_type": "execute_result"
    }
   ],
   "source": [
    "y.notna().sum()  #non-null values count"
   ]
  },
  {
   "cell_type": "code",
   "execution_count": 16,
   "id": "79d568b0",
   "metadata": {},
   "outputs": [
    {
     "data": {
      "text/plain": [
       "3261"
      ]
     },
     "execution_count": 16,
     "metadata": {},
     "output_type": "execute_result"
    }
   ],
   "source": [
    "y.isna().sum()  #null values count"
   ]
  },
  {
   "cell_type": "code",
   "execution_count": 17,
   "id": "ade772c9",
   "metadata": {},
   "outputs": [
    {
     "data": {
      "text/plain": [
       "No     110319\n",
       "Yes     31880\n",
       "Name: RainToday, dtype: int64"
      ]
     },
     "execution_count": 17,
     "metadata": {},
     "output_type": "execute_result"
    }
   ],
   "source": [
    "y.value_counts()  #target distribution of labels"
   ]
  },
  {
   "cell_type": "markdown",
   "id": "699650d1",
   "metadata": {},
   "source": [
    "### Preprocessing"
   ]
  },
  {
   "cell_type": "code",
   "execution_count": 18,
   "id": "ac40d599",
   "metadata": {},
   "outputs": [],
   "source": [
    "categorical_pipeline = Pipeline(\n",
    "    steps=[\n",
    "        (\"impute\", SimpleImputer(strategy=\"most_frequent\")),\n",
    "        (\"onehot\", OneHotEncoder(handle_unknown=\"ignore\", sparse=False)),        \n",
    "    ]\n",
    ")"
   ]
  },
  {
   "cell_type": "code",
   "execution_count": 19,
   "id": "4cd09ffe",
   "metadata": {},
   "outputs": [],
   "source": [
    "numeric_pipeline = Pipeline(\n",
    "    steps=[(\"impute\", SimpleImputer(strategy=\"mean\")), \n",
    "           (\"scale\", StandardScaler())]\n",
    ")"
   ]
  },
  {
   "cell_type": "code",
   "execution_count": 20,
   "id": "5e0d872b",
   "metadata": {},
   "outputs": [],
   "source": [
    "cat_cols = X.select_dtypes(exclude=\"number\").columns\n",
    "num_cols = X.select_dtypes(include=\"number\").columns"
   ]
  },
  {
   "cell_type": "code",
   "execution_count": 21,
   "id": "bd058da4",
   "metadata": {},
   "outputs": [],
   "source": [
    "full_processor = ColumnTransformerWithNames(\n",
    "    transformers=[\n",
    "        (\"numeric\", numeric_pipeline, num_cols),\n",
    "        (\"categorical\", categorical_pipeline, cat_cols),  #pattern: (name, transformer, columns)\n",
    "    ]\n",
    ")"
   ]
  },
  {
   "cell_type": "code",
   "execution_count": 22,
   "id": "df581808",
   "metadata": {},
   "outputs": [],
   "source": [
    "#target values transformed\n",
    "y = SimpleImputer(strategy=\"most_frequent\").fit_transform(y.values.reshape(-1, 1))  #fill missing values\n",
    "y_processed = LabelEncoder().fit_transform(y.ravel())  #encode labels as integers"
   ]
  },
  {
   "cell_type": "code",
   "execution_count": 23,
   "id": "76cf9d04",
   "metadata": {},
   "outputs": [
    {
     "name": "stdout",
     "output_type": "stream",
     "text": [
      "Time elapsed (hh:mm:ss.ms) 0:00:00.810278\n"
     ]
    }
   ],
   "source": [
    "start = default_timer()\n",
    "X_processed = full_processor.fit_transform(X)\n",
    "end = default_timer()\n",
    "print(f'Time elapsed (hh:mm:ss.ms) {timedelta(seconds=end-start)}')"
   ]
  },
  {
   "cell_type": "markdown",
   "id": "923f05cb",
   "metadata": {},
   "source": [
    "### Analyze preprocessed data"
   ]
  },
  {
   "cell_type": "code",
   "execution_count": 24,
   "id": "5b6ef9b8",
   "metadata": {},
   "outputs": [
    {
     "data": {
      "text/plain": [
       "['WindGustDir', 'WindDir9am', 'WindDir3pm']"
      ]
     },
     "execution_count": 24,
     "metadata": {},
     "output_type": "execute_result"
    }
   ],
   "source": [
    "list(cat_cols)"
   ]
  },
  {
   "cell_type": "code",
   "execution_count": 25,
   "id": "8f01745a",
   "metadata": {},
   "outputs": [
    {
     "data": {
      "text/plain": [
       "3"
      ]
     },
     "execution_count": 25,
     "metadata": {},
     "output_type": "execute_result"
    }
   ],
   "source": [
    "full_processor.transformers_[1][1]['onehot'].n_features_in_"
   ]
  },
  {
   "cell_type": "code",
   "execution_count": 26,
   "id": "b949f0e3",
   "metadata": {},
   "outputs": [
    {
     "data": {
      "text/plain": [
       "[array(['E', 'ENE', 'ESE', 'N', 'NE', 'NNE', 'NNW', 'NW', 'S', 'SE', 'SSE',\n",
       "        'SSW', 'SW', 'W', 'WNW', 'WSW'], dtype=object),\n",
       " array(['E', 'ENE', 'ESE', 'N', 'NE', 'NNE', 'NNW', 'NW', 'S', 'SE', 'SSE',\n",
       "        'SSW', 'SW', 'W', 'WNW', 'WSW'], dtype=object),\n",
       " array(['E', 'ENE', 'ESE', 'N', 'NE', 'NNE', 'NNW', 'NW', 'S', 'SE', 'SSE',\n",
       "        'SSW', 'SW', 'W', 'WNW', 'WSW'], dtype=object)]"
      ]
     },
     "execution_count": 26,
     "metadata": {},
     "output_type": "execute_result"
    }
   ],
   "source": [
    "full_processor.transformers_[1][1]['onehot'].categories_"
   ]
  },
  {
   "cell_type": "code",
   "execution_count": 27,
   "id": "83941249",
   "metadata": {},
   "outputs": [
    {
     "data": {
      "text/plain": [
       "(16,)"
      ]
     },
     "execution_count": 27,
     "metadata": {},
     "output_type": "execute_result"
    }
   ],
   "source": [
    "full_processor.transformers_[1][1]['onehot'].categories_[0].shape  #categories of first categorical variable"
   ]
  },
  {
   "cell_type": "code",
   "execution_count": 28,
   "id": "b4d47c78",
   "metadata": {},
   "outputs": [
    {
     "data": {
      "text/plain": [
       "12"
      ]
     },
     "execution_count": 28,
     "metadata": {},
     "output_type": "execute_result"
    }
   ],
   "source": [
    "len(num_cols)"
   ]
  },
  {
   "cell_type": "code",
   "execution_count": 29,
   "id": "4f81514d",
   "metadata": {},
   "outputs": [
    {
     "data": {
      "text/plain": [
       "(145460, 60)"
      ]
     },
     "execution_count": 29,
     "metadata": {},
     "output_type": "execute_result"
    }
   ],
   "source": [
    "X_processed.shape"
   ]
  },
  {
   "cell_type": "code",
   "execution_count": 30,
   "id": "c68a927b",
   "metadata": {},
   "outputs": [
    {
     "data": {
      "text/plain": [
       "Index(['MinTemp', 'MaxTemp', 'WindGustSpeed', 'WindSpeed9am', 'WindSpeed3pm',\n",
       "       'Humidity9am', 'Humidity3pm', 'Pressure9am', 'Pressure3pm', 'Cloud9am',\n",
       "       'Temp9am', 'Temp3pm', 'x0_E', 'x0_ENE', 'x0_ESE', 'x0_N', 'x0_NE',\n",
       "       'x0_NNE', 'x0_NNW', 'x0_NW', 'x0_S', 'x0_SE', 'x0_SSE', 'x0_SSW',\n",
       "       'x0_SW', 'x0_W', 'x0_WNW', 'x0_WSW', 'x1_E', 'x1_ENE', 'x1_ESE', 'x1_N',\n",
       "       'x1_NE', 'x1_NNE', 'x1_NNW', 'x1_NW', 'x1_S', 'x1_SE', 'x1_SSE',\n",
       "       'x1_SSW', 'x1_SW', 'x1_W', 'x1_WNW', 'x1_WSW', 'x2_E', 'x2_ENE',\n",
       "       'x2_ESE', 'x2_N', 'x2_NE', 'x2_NNE', 'x2_NNW', 'x2_NW', 'x2_S', 'x2_SE',\n",
       "       'x2_SSE', 'x2_SSW', 'x2_SW', 'x2_W', 'x2_WNW', 'x2_WSW'],\n",
       "      dtype='object')"
      ]
     },
     "execution_count": 30,
     "metadata": {},
     "output_type": "execute_result"
    }
   ],
   "source": [
    "X_processed.columns"
   ]
  },
  {
   "cell_type": "code",
   "execution_count": 31,
   "id": "69e28f33",
   "metadata": {},
   "outputs": [
    {
     "data": {
      "text/plain": [
       "16"
      ]
     },
     "execution_count": 31,
     "metadata": {},
     "output_type": "execute_result"
    }
   ],
   "source": [
    "len([item for item in np.array(X_processed.columns) if item[:2]=='x0'])  #categories of x0"
   ]
  },
  {
   "cell_type": "code",
   "execution_count": 32,
   "id": "9362444e",
   "metadata": {},
   "outputs": [
    {
     "data": {
      "text/html": [
       "<div>\n",
       "<style scoped>\n",
       "    .dataframe tbody tr th:only-of-type {\n",
       "        vertical-align: middle;\n",
       "    }\n",
       "\n",
       "    .dataframe tbody tr th {\n",
       "        vertical-align: top;\n",
       "    }\n",
       "\n",
       "    .dataframe thead th {\n",
       "        text-align: right;\n",
       "    }\n",
       "</style>\n",
       "<table border=\"1\" class=\"dataframe\">\n",
       "  <thead>\n",
       "    <tr style=\"text-align: right;\">\n",
       "      <th></th>\n",
       "      <th>x0_E</th>\n",
       "      <th>x0_ENE</th>\n",
       "      <th>x0_ESE</th>\n",
       "      <th>x0_N</th>\n",
       "      <th>x0_NE</th>\n",
       "      <th>x0_NNE</th>\n",
       "      <th>x0_NNW</th>\n",
       "      <th>x0_NW</th>\n",
       "      <th>x0_S</th>\n",
       "      <th>x0_SE</th>\n",
       "      <th>x0_SSE</th>\n",
       "      <th>x0_SSW</th>\n",
       "      <th>x0_SW</th>\n",
       "      <th>x0_W</th>\n",
       "      <th>x0_WNW</th>\n",
       "      <th>x0_WSW</th>\n",
       "    </tr>\n",
       "  </thead>\n",
       "  <tbody>\n",
       "    <tr>\n",
       "      <th>0</th>\n",
       "      <td>0.0</td>\n",
       "      <td>0.0</td>\n",
       "      <td>0.0</td>\n",
       "      <td>0.0</td>\n",
       "      <td>0.0</td>\n",
       "      <td>0.0</td>\n",
       "      <td>0.0</td>\n",
       "      <td>0.0</td>\n",
       "      <td>0.0</td>\n",
       "      <td>0.0</td>\n",
       "      <td>0.0</td>\n",
       "      <td>0.0</td>\n",
       "      <td>0.0</td>\n",
       "      <td>1.0</td>\n",
       "      <td>0.0</td>\n",
       "      <td>0.0</td>\n",
       "    </tr>\n",
       "    <tr>\n",
       "      <th>1</th>\n",
       "      <td>0.0</td>\n",
       "      <td>0.0</td>\n",
       "      <td>0.0</td>\n",
       "      <td>0.0</td>\n",
       "      <td>0.0</td>\n",
       "      <td>0.0</td>\n",
       "      <td>0.0</td>\n",
       "      <td>0.0</td>\n",
       "      <td>0.0</td>\n",
       "      <td>0.0</td>\n",
       "      <td>0.0</td>\n",
       "      <td>0.0</td>\n",
       "      <td>0.0</td>\n",
       "      <td>0.0</td>\n",
       "      <td>1.0</td>\n",
       "      <td>0.0</td>\n",
       "    </tr>\n",
       "    <tr>\n",
       "      <th>2</th>\n",
       "      <td>0.0</td>\n",
       "      <td>0.0</td>\n",
       "      <td>0.0</td>\n",
       "      <td>0.0</td>\n",
       "      <td>0.0</td>\n",
       "      <td>0.0</td>\n",
       "      <td>0.0</td>\n",
       "      <td>0.0</td>\n",
       "      <td>0.0</td>\n",
       "      <td>0.0</td>\n",
       "      <td>0.0</td>\n",
       "      <td>0.0</td>\n",
       "      <td>0.0</td>\n",
       "      <td>0.0</td>\n",
       "      <td>0.0</td>\n",
       "      <td>1.0</td>\n",
       "    </tr>\n",
       "    <tr>\n",
       "      <th>3</th>\n",
       "      <td>0.0</td>\n",
       "      <td>0.0</td>\n",
       "      <td>0.0</td>\n",
       "      <td>0.0</td>\n",
       "      <td>1.0</td>\n",
       "      <td>0.0</td>\n",
       "      <td>0.0</td>\n",
       "      <td>0.0</td>\n",
       "      <td>0.0</td>\n",
       "      <td>0.0</td>\n",
       "      <td>0.0</td>\n",
       "      <td>0.0</td>\n",
       "      <td>0.0</td>\n",
       "      <td>0.0</td>\n",
       "      <td>0.0</td>\n",
       "      <td>0.0</td>\n",
       "    </tr>\n",
       "    <tr>\n",
       "      <th>4</th>\n",
       "      <td>0.0</td>\n",
       "      <td>0.0</td>\n",
       "      <td>0.0</td>\n",
       "      <td>0.0</td>\n",
       "      <td>0.0</td>\n",
       "      <td>0.0</td>\n",
       "      <td>0.0</td>\n",
       "      <td>0.0</td>\n",
       "      <td>0.0</td>\n",
       "      <td>0.0</td>\n",
       "      <td>0.0</td>\n",
       "      <td>0.0</td>\n",
       "      <td>0.0</td>\n",
       "      <td>1.0</td>\n",
       "      <td>0.0</td>\n",
       "      <td>0.0</td>\n",
       "    </tr>\n",
       "  </tbody>\n",
       "</table>\n",
       "</div>"
      ],
      "text/plain": [
       "   x0_E  x0_ENE  x0_ESE  x0_N  x0_NE  x0_NNE  x0_NNW  x0_NW  x0_S  x0_SE  \\\n",
       "0   0.0     0.0     0.0   0.0    0.0     0.0     0.0    0.0   0.0    0.0   \n",
       "1   0.0     0.0     0.0   0.0    0.0     0.0     0.0    0.0   0.0    0.0   \n",
       "2   0.0     0.0     0.0   0.0    0.0     0.0     0.0    0.0   0.0    0.0   \n",
       "3   0.0     0.0     0.0   0.0    1.0     0.0     0.0    0.0   0.0    0.0   \n",
       "4   0.0     0.0     0.0   0.0    0.0     0.0     0.0    0.0   0.0    0.0   \n",
       "\n",
       "   x0_SSE  x0_SSW  x0_SW  x0_W  x0_WNW  x0_WSW  \n",
       "0     0.0     0.0    0.0   1.0     0.0     0.0  \n",
       "1     0.0     0.0    0.0   0.0     1.0     0.0  \n",
       "2     0.0     0.0    0.0   0.0     0.0     1.0  \n",
       "3     0.0     0.0    0.0   0.0     0.0     0.0  \n",
       "4     0.0     0.0    0.0   1.0     0.0     0.0  "
      ]
     },
     "execution_count": 32,
     "metadata": {},
     "output_type": "execute_result"
    }
   ],
   "source": [
    "X_processed[[item for item in np.array(X_processed.columns) if item[:2]=='x0']].head()"
   ]
  },
  {
   "cell_type": "code",
   "execution_count": 33,
   "id": "0779b813",
   "metadata": {},
   "outputs": [
    {
     "data": {
      "text/plain": [
       "0.0    136279\n",
       "1.0      9181\n",
       "Name: x0_E, dtype: int64"
      ]
     },
     "execution_count": 33,
     "metadata": {},
     "output_type": "execute_result"
    }
   ],
   "source": [
    "X_processed['x0_E'].value_counts()  "
   ]
  },
  {
   "cell_type": "markdown",
   "id": "f3fbf653",
   "metadata": {},
   "source": [
    "### Split data into training, evaluation and test dataset"
   ]
  },
  {
   "cell_type": "code",
   "execution_count": 34,
   "id": "2ba2e8b6",
   "metadata": {},
   "outputs": [],
   "source": [
    "X_train, X_test, y_train, y_test = train_test_split(X_processed, y_processed, stratify=y_processed, random_state=42)  #total=100%; train=75%; test=25%\n",
    "X_train_short, X_val, y_train_short, y_val = train_test_split(X_train, y_train, stratify=y_train, random_state=42)    #train_short=56% total; val=19% total; train_short=3/4*3/4=9/16=0.56; val=3/4*1/4=3/16=0.19"
   ]
  },
  {
   "cell_type": "markdown",
   "id": "17c97904",
   "metadata": {},
   "source": [
    "### Tune number of decision trees"
   ]
  },
  {
   "cell_type": "code",
   "execution_count": 35,
   "id": "2225c515",
   "metadata": {},
   "outputs": [],
   "source": [
    "best_params = {\n",
    "    'gamma': 0.25,\n",
    "    'learning_rate': 0.1,\n",
    "    'max_depth': 7,\n",
    "    'reg_lambda': 10,\n",
    "    'scale_pos_weight': 1,\n",
    "}"
   ]
  },
  {
   "cell_type": "code",
   "execution_count": 36,
   "id": "a1c4e800",
   "metadata": {},
   "outputs": [],
   "source": [
    "explore_n_estimators = 600"
   ]
  },
  {
   "cell_type": "code",
   "execution_count": 37,
   "id": "57b347fb",
   "metadata": {},
   "outputs": [],
   "source": [
    "model = XGBClassifier(\n",
    "    n_estimators=explore_n_estimators,\n",
    "    **best_params,\n",
    "    objective=\"binary:logistic\",\n",
    "    colsample_bytree=0.5,\n",
    "    subsample=0.8,\n",
    "    use_label_encoder=False\n",
    ")"
   ]
  },
  {
   "cell_type": "code",
   "execution_count": 38,
   "id": "74e0562d",
   "metadata": {},
   "outputs": [],
   "source": [
    "eval_set = [(X_train_short, y_train_short), (X_val, y_val)]  #metric applied on both train and val dataset"
   ]
  },
  {
   "cell_type": "code",
   "execution_count": 39,
   "id": "46200d55",
   "metadata": {},
   "outputs": [
    {
     "name": "stdout",
     "output_type": "stream",
     "text": [
      "Time elapsed (hh:mm:ss.ms) 0:01:17.966437\n"
     ]
    }
   ],
   "source": [
    "start = default_timer()\n",
    "model.fit(X_train_short, y_train_short, eval_metric=[\"error\", \"logloss\"], eval_set=eval_set, verbose=False)\n",
    "end = default_timer()\n",
    "print(f'Time elapsed (hh:mm:ss.ms) {timedelta(seconds=end-start)}')"
   ]
  },
  {
   "cell_type": "code",
   "execution_count": 40,
   "id": "31dc38cd",
   "metadata": {},
   "outputs": [
    {
     "name": "stdout",
     "output_type": "stream",
     "text": [
      "Accuracy: 84.99\n"
     ]
    }
   ],
   "source": [
    "from sklearn.metrics import accuracy_score\n",
    "\n",
    "y_pred = model.predict(X_val)\n",
    "accuracy = accuracy_score(y_val, y_pred)\n",
    "print(f'Accuracy: {accuracy * 100.0:.2f}')"
   ]
  },
  {
   "cell_type": "code",
   "execution_count": 41,
   "id": "0c4bebc8",
   "metadata": {},
   "outputs": [],
   "source": [
    "results = model.evals_result()\n",
    "epochs = len(results['validation_0']['error'])\n",
    "x_axis = range(0, epochs)"
   ]
  },
  {
   "cell_type": "code",
   "execution_count": 42,
   "id": "484bf392",
   "metadata": {},
   "outputs": [],
   "source": [
    "logloss_errors = results['validation_1']['logloss']  #log loss on val dataset"
   ]
  },
  {
   "cell_type": "code",
   "execution_count": 43,
   "id": "473b979a",
   "metadata": {},
   "outputs": [
    {
     "data": {
      "text/plain": [
       "0.335807"
      ]
     },
     "execution_count": 43,
     "metadata": {},
     "output_type": "execute_result"
    }
   ],
   "source": [
    "min_logloss_errors = np.min(logloss_errors); min_logloss_errors"
   ]
  },
  {
   "cell_type": "code",
   "execution_count": 44,
   "id": "b9bf72c0",
   "metadata": {},
   "outputs": [
    {
     "data": {
      "text/plain": [
       "375"
      ]
     },
     "execution_count": 44,
     "metadata": {},
     "output_type": "execute_result"
    }
   ],
   "source": [
    "bst_n_estimators = np.argmin(logloss_errors); bst_n_estimators"
   ]
  },
  {
   "cell_type": "code",
   "execution_count": 45,
   "id": "62692dc7",
   "metadata": {},
   "outputs": [],
   "source": [
    "acc_error = results['validation_1']['error']  #accuracy on val dataset"
   ]
  },
  {
   "cell_type": "code",
   "execution_count": 46,
   "id": "fbeb14f1",
   "metadata": {},
   "outputs": [
    {
     "data": {
      "text/plain": [
       "0.14809"
      ]
     },
     "execution_count": 46,
     "metadata": {},
     "output_type": "execute_result"
    }
   ],
   "source": [
    "min_acc_error = np.min(acc_error); min_acc_error"
   ]
  },
  {
   "cell_type": "code",
   "execution_count": 47,
   "id": "99ced843",
   "metadata": {},
   "outputs": [
    {
     "data": {
      "text/plain": [
       "288"
      ]
     },
     "execution_count": 47,
     "metadata": {},
     "output_type": "execute_result"
    }
   ],
   "source": [
    "bst_n_estimators_acc = np.argmin(acc_error); bst_n_estimators_acc"
   ]
  },
  {
   "cell_type": "code",
   "execution_count": 48,
   "id": "765ace2e",
   "metadata": {},
   "outputs": [
    {
     "data": {
      "text/plain": [
       "600"
      ]
     },
     "execution_count": 48,
     "metadata": {},
     "output_type": "execute_result"
    }
   ],
   "source": [
    "len(results['validation_0']['logloss'])"
   ]
  },
  {
   "cell_type": "code",
   "execution_count": 49,
   "id": "b048c467",
   "metadata": {},
   "outputs": [
    {
     "data": {
      "image/png": "[encoded data removed]",
      "text/plain": [
       "<Figure size 1008x288 with 2 Axes>"
      ]
     },
     "metadata": {
      "needs_background": "light"
     },
     "output_type": "display_data"
    }
   ],
   "source": [
    "# plot log loss\n",
    "plt.figure(figsize=(14, 4))\n",
    "plt.subplot(121)\n",
    "plt.plot(x_axis, results['validation_0']['logloss'], label='Train')\n",
    "plt.plot(x_axis, results['validation_1']['logloss'], label='Val')\n",
    "plt.annotate(\"#estimators: \"+str(bst_n_estimators), \n",
    "            xy =(bst_n_estimators, -0.05),\n",
    "            xytext =(bst_n_estimators, -0.15),\n",
    "            horizontalalignment=\"center\",\n",
    "            arrowprops=dict(facecolor ='red'),\n",
    "            annotation_clip=False\n",
    "           )\n",
    "plt.plot([bst_n_estimators, bst_n_estimators], [0, min_logloss_errors], \"k--\")\n",
    "plt.plot(bst_n_estimators, min_logloss_errors, \"ko\")\n",
    "plt.text(bst_n_estimators, min_logloss_errors*1.07, \"Minimum\", ha=\"center\", fontsize=14)\n",
    "plt.axis([0, explore_n_estimators, 0, 0.6])\n",
    "plt.legend()\n",
    "plt.ylabel('Log Loss')\n",
    "plt.title('XGBoost Log Loss')\n",
    "\n",
    "# plot classification error\n",
    "plt.subplot(122)\n",
    "plt.plot(x_axis, results['validation_0']['error'], label='Train')\n",
    "plt.plot(x_axis, results['validation_1']['error'], label='Val')\n",
    "plt.annotate(\"#estimators: \"+str(bst_n_estimators_acc), \n",
    "            xy =(bst_n_estimators_acc, -0.016),\n",
    "            xytext =(bst_n_estimators_acc, -0.05),\n",
    "            horizontalalignment=\"center\",\n",
    "            arrowprops=dict(facecolor ='red'),\n",
    "            annotation_clip=False\n",
    "           )\n",
    "plt.plot([bst_n_estimators_acc, bst_n_estimators_acc], [0, min_acc_error], \"k--\")\n",
    "plt.plot(bst_n_estimators_acc, min_acc_error, \"ko\")\n",
    "plt.text(bst_n_estimators_acc, min_acc_error*1.06, \"Minimum\", ha=\"center\", fontsize=14)\n",
    "plt.axis([0, explore_n_estimators, 0, 0.2])\n",
    "plt.legend()\n",
    "plt.ylabel('Classification Error')\n",
    "plt.title('XGBoost Classification Error')\n",
    "\n",
    "plt.show()"
   ]
  },
  {
   "cell_type": "markdown",
   "id": "16510609",
   "metadata": {},
   "source": [
    "### Train XGBoost classifier with optimal number of decision trees"
   ]
  },
  {
   "cell_type": "code",
   "execution_count": 50,
   "id": "300811f9",
   "metadata": {},
   "outputs": [
    {
     "data": {
      "text/plain": [
       "375"
      ]
     },
     "execution_count": 50,
     "metadata": {},
     "output_type": "execute_result"
    }
   ],
   "source": [
    "bst_n_estimators"
   ]
  },
  {
   "cell_type": "code",
   "execution_count": 51,
   "id": "8c540e82",
   "metadata": {},
   "outputs": [],
   "source": [
    "final_cl = XGBClassifier(\n",
    "    n_estimators=bst_n_estimators,\n",
    "    **best_params,\n",
    "    objective=\"binary:logistic\",\n",
    "    colsample_bytree=0.5,\n",
    "    subsample=0.8,\n",
    "    use_label_encoder=False,\n",
    "    verbosity = 0\n",
    ")"
   ]
  },
  {
   "cell_type": "code",
   "execution_count": 52,
   "id": "e4a73aa2",
   "metadata": {},
   "outputs": [
    {
     "name": "stdout",
     "output_type": "stream",
     "text": [
      "Time elapsed (hh:mm:ss.ms) 0:01:08.569381\n"
     ]
    }
   ],
   "source": [
    "start = default_timer()\n",
    "final_cl.fit(X_train, y_train, verbose=False)\n",
    "end = default_timer()\n",
    "print(f'Time elapsed (hh:mm:ss.ms) {timedelta(seconds=end-start)}')"
   ]
  },
  {
   "cell_type": "markdown",
   "id": "800ee4d7",
   "metadata": {},
   "source": [
    "### Performance of XGBoost classifier"
   ]
  },
  {
   "cell_type": "code",
   "execution_count": 53,
   "id": "f4e9b250",
   "metadata": {},
   "outputs": [
    {
     "data": {
      "text/plain": [
       "0.8522755396672624"
      ]
     },
     "execution_count": 53,
     "metadata": {},
     "output_type": "execute_result"
    }
   ],
   "source": [
    "final_cl.score(X_test,y_test)"
   ]
  },
  {
   "cell_type": "code",
   "execution_count": 54,
   "id": "3a9b63be",
   "metadata": {},
   "outputs": [
    {
     "data": {
      "text/plain": [
       "0.8832584354562573"
      ]
     },
     "execution_count": 54,
     "metadata": {},
     "output_type": "execute_result"
    }
   ],
   "source": [
    "roc_auc_score(y_test, final_cl.predict_proba(X_test)[:,1])"
   ]
  },
  {
   "cell_type": "code",
   "execution_count": 55,
   "id": "862fda32",
   "metadata": {},
   "outputs": [
    {
     "name": "stdout",
     "output_type": "stream",
     "text": [
      "              precision    recall  f1-score   support\n",
      "\n",
      "           0       0.88      0.94      0.91     28395\n",
      "           1       0.72      0.53      0.61      7970\n",
      "\n",
      "    accuracy                           0.85     36365\n",
      "   macro avg       0.80      0.74      0.76     36365\n",
      "weighted avg       0.84      0.85      0.84     36365\n",
      "\n"
     ]
    }
   ],
   "source": [
    "print(classification_report(y_test, final_cl.predict(X_test)))"
   ]
  },
  {
   "cell_type": "markdown",
   "id": "f1299b30",
   "metadata": {},
   "source": [
    "### Determine top-level features"
   ]
  },
  {
   "cell_type": "code",
   "execution_count": 56,
   "id": "2f6b6f2f",
   "metadata": {},
   "outputs": [
    {
     "data": {
      "text/plain": [
       "(60,)"
      ]
     },
     "execution_count": 56,
     "metadata": {},
     "output_type": "execute_result"
    }
   ],
   "source": [
    "final_cl.feature_importances_.shape"
   ]
  },
  {
   "cell_type": "code",
   "execution_count": 57,
   "id": "07ccaa5f",
   "metadata": {},
   "outputs": [],
   "source": [
    "list_of_tuples = list(zip(X_train.columns.to_numpy(), final_cl.feature_importances_))"
   ]
  },
  {
   "cell_type": "code",
   "execution_count": 58,
   "id": "57df8aa6",
   "metadata": {},
   "outputs": [],
   "source": [
    "df = pd.DataFrame(list_of_tuples, columns = ['score', 'feature_importances']).sort_values('feature_importances',ascending=False)"
   ]
  },
  {
   "cell_type": "code",
   "execution_count": 59,
   "id": "1b0579a9",
   "metadata": {},
   "outputs": [
    {
     "data": {
      "text/html": [
       "<div>\n",
       "<style scoped>\n",
       "    .dataframe tbody tr th:only-of-type {\n",
       "        vertical-align: middle;\n",
       "    }\n",
       "\n",
       "    .dataframe tbody tr th {\n",
       "        vertical-align: top;\n",
       "    }\n",
       "\n",
       "    .dataframe thead th {\n",
       "        text-align: right;\n",
       "    }\n",
       "</style>\n",
       "<table border=\"1\" class=\"dataframe\">\n",
       "  <thead>\n",
       "    <tr style=\"text-align: right;\">\n",
       "      <th></th>\n",
       "      <th>score</th>\n",
       "      <th>feature_importances</th>\n",
       "    </tr>\n",
       "  </thead>\n",
       "  <tbody>\n",
       "    <tr>\n",
       "      <th>5</th>\n",
       "      <td>Humidity9am</td>\n",
       "      <td>0.098667</td>\n",
       "    </tr>\n",
       "    <tr>\n",
       "      <th>0</th>\n",
       "      <td>MinTemp</td>\n",
       "      <td>0.036118</td>\n",
       "    </tr>\n",
       "    <tr>\n",
       "      <th>1</th>\n",
       "      <td>MaxTemp</td>\n",
       "      <td>0.034384</td>\n",
       "    </tr>\n",
       "    <tr>\n",
       "      <th>6</th>\n",
       "      <td>Humidity3pm</td>\n",
       "      <td>0.030147</td>\n",
       "    </tr>\n",
       "    <tr>\n",
       "      <th>7</th>\n",
       "      <td>Pressure9am</td>\n",
       "      <td>0.029480</td>\n",
       "    </tr>\n",
       "  </tbody>\n",
       "</table>\n",
       "</div>"
      ],
      "text/plain": [
       "         score  feature_importances\n",
       "5  Humidity9am             0.098667\n",
       "0      MinTemp             0.036118\n",
       "1      MaxTemp             0.034384\n",
       "6  Humidity3pm             0.030147\n",
       "7  Pressure9am             0.029480"
      ]
     },
     "execution_count": 59,
     "metadata": {},
     "output_type": "execute_result"
    }
   ],
   "source": [
    "df.head()"
   ]
  },
  {
   "cell_type": "code",
   "execution_count": 60,
   "id": "74f59b9b",
   "metadata": {},
   "outputs": [],
   "source": [
    "skew_ness = df['feature_importances'].skew()"
   ]
  },
  {
   "cell_type": "code",
   "execution_count": 61,
   "id": "9f16a85c",
   "metadata": {},
   "outputs": [
    {
     "data": {
      "image/png": "[encoded data removed]",
      "text/plain": [
       "<Figure size 576x360 with 1 Axes>"
      ]
     },
     "metadata": {
      "needs_background": "light"
     },
     "output_type": "display_data"
    }
   ],
   "source": [
    "plt.figure(figsize = (8, 5))\n",
    "ax = sns.histplot(df['feature_importances'], label = f'Skewness: {skew_ness:.2f}', bins=10, kde=True)\n",
    "ax.set(xlabel='feature importances')\n",
    "plt.legend(loc = 'best')\n",
    "plt.title('Distribution of feature importances')\n",
    "plt.show()"
   ]
  },
  {
   "cell_type": "code",
   "execution_count": 62,
   "id": "70649ee0",
   "metadata": {},
   "outputs": [],
   "source": [
    "cum_sum_features = pd.DataFrame(np.cumsum(df['feature_importances']))"
   ]
  },
  {
   "cell_type": "code",
   "execution_count": 63,
   "id": "15a21db3",
   "metadata": {},
   "outputs": [
    {
     "data": {
      "text/html": [
       "<div>\n",
       "<style scoped>\n",
       "    .dataframe tbody tr th:only-of-type {\n",
       "        vertical-align: middle;\n",
       "    }\n",
       "\n",
       "    .dataframe tbody tr th {\n",
       "        vertical-align: top;\n",
       "    }\n",
       "\n",
       "    .dataframe thead th {\n",
       "        text-align: right;\n",
       "    }\n",
       "</style>\n",
       "<table border=\"1\" class=\"dataframe\">\n",
       "  <thead>\n",
       "    <tr style=\"text-align: right;\">\n",
       "      <th></th>\n",
       "      <th>feature_importances</th>\n",
       "    </tr>\n",
       "  </thead>\n",
       "  <tbody>\n",
       "    <tr>\n",
       "      <th>5</th>\n",
       "      <td>0.098667</td>\n",
       "    </tr>\n",
       "    <tr>\n",
       "      <th>0</th>\n",
       "      <td>0.134785</td>\n",
       "    </tr>\n",
       "    <tr>\n",
       "      <th>1</th>\n",
       "      <td>0.169169</td>\n",
       "    </tr>\n",
       "    <tr>\n",
       "      <th>6</th>\n",
       "      <td>0.199316</td>\n",
       "    </tr>\n",
       "    <tr>\n",
       "      <th>7</th>\n",
       "      <td>0.228796</td>\n",
       "    </tr>\n",
       "  </tbody>\n",
       "</table>\n",
       "</div>"
      ],
      "text/plain": [
       "   feature_importances\n",
       "5             0.098667\n",
       "0             0.134785\n",
       "1             0.169169\n",
       "6             0.199316\n",
       "7             0.228796"
      ]
     },
     "execution_count": 63,
     "metadata": {},
     "output_type": "execute_result"
    }
   ],
   "source": [
    "cum_sum_features.head()"
   ]
  },
  {
   "cell_type": "code",
   "execution_count": 64,
   "id": "4448172f",
   "metadata": {},
   "outputs": [],
   "source": [
    "top_features_threshold = 0.8  #threshold for accumulative feature importance"
   ]
  },
  {
   "cell_type": "code",
   "execution_count": 65,
   "id": "1decf20f",
   "metadata": {},
   "outputs": [
    {
     "data": {
      "text/plain": [
       "39"
      ]
     },
     "execution_count": 65,
     "metadata": {},
     "output_type": "execute_result"
    }
   ],
   "source": [
    "#get features for cumulative feature importance of 80%\n",
    "num_best_features = cum_sum_features[cum_sum_features['feature_importances']<top_features_threshold].shape[0]\n",
    "num_best_features"
   ]
  },
  {
   "cell_type": "code",
   "execution_count": 66,
   "id": "ab782ad8",
   "metadata": {},
   "outputs": [
    {
     "data": {
      "text/plain": [
       "['WindGustDir', 'WindDir9am', 'WindDir3pm']"
      ]
     },
     "execution_count": 66,
     "metadata": {},
     "output_type": "execute_result"
    }
   ],
   "source": [
    "list(cat_cols)  #categorical features"
   ]
  },
  {
   "cell_type": "code",
   "execution_count": 67,
   "id": "9032c8c2",
   "metadata": {},
   "outputs": [
    {
     "data": {
      "text/plain": [
       "Index(['MinTemp', 'MaxTemp', 'WindGustSpeed', 'WindSpeed9am', 'WindSpeed3pm',\n",
       "       'Humidity9am', 'Humidity3pm', 'Pressure9am', 'Pressure3pm', 'Cloud9am',\n",
       "       'Temp9am', 'Temp3pm', 'x0_E', 'x0_ENE', 'x0_ESE', 'x0_N', 'x0_NE',\n",
       "       'x0_NNE', 'x0_NNW', 'x0_NW', 'x0_S', 'x0_SE', 'x0_SSE', 'x0_SSW',\n",
       "       'x0_SW', 'x0_W', 'x0_WNW', 'x0_WSW', 'x1_E', 'x1_ENE', 'x1_ESE', 'x1_N',\n",
       "       'x1_NE', 'x1_NNE', 'x1_NNW', 'x1_NW', 'x1_S', 'x1_SE', 'x1_SSE'],\n",
       "      dtype='object')"
      ]
     },
     "execution_count": 67,
     "metadata": {},
     "output_type": "execute_result"
    }
   ],
   "source": [
    "X_train.columns[:num_best_features]  #categorical features translate to x0_*, x1_*, x2_*"
   ]
  },
  {
   "cell_type": "code",
   "execution_count": null,
   "id": "2214785c",
   "metadata": {},
   "outputs": [],
   "source": []
  }
 ],
 "metadata": {
  "kernelspec": {
   "display_name": "parquet_env",
   "language": "python",
   "name": "parquet_env"
  },
  "language_info": {
   "codemirror_mode": {
    "name": "ipython",
    "version": 3
   },
   "file_extension": ".py",
   "mimetype": "text/x-python",
   "name": "python",
   "nbconvert_exporter": "python",
   "pygments_lexer": "ipython3",
   "version": "3.9.12"
  }
 },
 "nbformat": 4,
 "nbformat_minor": 5
}

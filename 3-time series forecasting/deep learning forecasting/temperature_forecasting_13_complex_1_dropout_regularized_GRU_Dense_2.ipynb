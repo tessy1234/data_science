{
 "cells": [
  {
   "cell_type": "code",
   "execution_count": 1,
   "metadata": {},
   "outputs": [
    {
     "data": {
      "text/plain": [
       "'2.3.0-tf'"
      ]
     },
     "execution_count": 1,
     "metadata": {},
     "output_type": "execute_result"
    }
   ],
   "source": [
    "import tensorflow.keras as keras\n",
    "keras.__version__"
   ]
  },
  {
   "cell_type": "markdown",
   "metadata": {},
   "source": [
    "## loading Jena weather dataset"
   ]
  },
  {
   "cell_type": "code",
   "execution_count": 2,
   "metadata": {},
   "outputs": [],
   "source": [
    "import os\n",
    "\n",
    "data_dir = 'C:/data/jena_climate/'\n",
    "fname = os.path.join(data_dir, 'jena_climate_2009_2016.csv')\n",
    "\n",
    "f = open(fname)\n",
    "data = f.read()\n",
    "f.close()\n",
    "\n",
    "lines = data.split('\\n')\n",
    "header = lines[0].split(',')\n",
    "lines = lines[1:]"
   ]
  },
  {
   "cell_type": "markdown",
   "metadata": {},
   "source": [
    "## parsing data"
   ]
  },
  {
   "cell_type": "code",
   "execution_count": 3,
   "metadata": {},
   "outputs": [],
   "source": [
    "import numpy as np\n",
    "\n",
    "float_data = np.zeros((len(lines), len(header) - 1))  #exclude date feature\n",
    "for i, line in enumerate(lines):\n",
    "    values = [float(x) for x in line.split(',')[1:]]  #exclude date feature\n",
    "    float_data[i, :] = values"
   ]
  },
  {
   "cell_type": "markdown",
   "metadata": {},
   "source": [
    "## normalizing data"
   ]
  },
  {
   "cell_type": "code",
   "execution_count": 4,
   "metadata": {},
   "outputs": [],
   "source": [
    "mean = float_data[:200000].mean(axis=0)\n",
    "float_data -= mean\n",
    "std = float_data[:200000].std(axis=0)\n",
    "float_data /= std"
   ]
  },
  {
   "cell_type": "markdown",
   "metadata": {},
   "source": [
    "## preparing training, validation, and test generators"
   ]
  },
  {
   "cell_type": "code",
   "execution_count": 5,
   "metadata": {},
   "outputs": [],
   "source": [
    "def generator(data, lookback, delay, min_index, max_index,\n",
    "              shuffle=False, batch_size=128, step=6):\n",
    "    if max_index is None:\n",
    "        max_index = len(data) - delay - 1  #for last segment of data: limit index.\n",
    "    i = min_index + lookback  #current time step from which to look back in the past and ahead in the future.\n",
    "    while 1:\n",
    "        if shuffle:\n",
    "            rows = np.random.randint(\n",
    "                min_index + lookback, max_index, size=batch_size)\n",
    "        else:\n",
    "            if i + batch_size >= max_index:\n",
    "                i = min_index + lookback\n",
    "            rows = np.arange(i, min(i + batch_size, max_index))  #[i, i + batch_size]\n",
    "            i += len(rows)  #i = i + batch_size\n",
    "\n",
    "        samples = np.zeros((len(rows),    #batch_size\n",
    "                           lookback // step,  #sample_per_past_period: 24hours x 10days = 240 samples in past 10 days\n",
    "                           data.shape[-1]))  #feature_size = 14\n",
    "        targets = np.zeros((len(rows),))\n",
    "        for j, row in enumerate(rows):  #number of elements = batch_size:\n",
    "            indices = range(rows[j] - lookback, rows[j], step)  #past: [i - lookback, i], for i in {i,...,i+batch_size}; caution: refer to i before being updated to i = i + batch_size\n",
    "            samples[j] = data[indices]  #sample_per_past_period data points, each 14 features\n",
    "            targets[j] = data[rows[j] + delay][1]  #future: target temperature in i + delay time steps.\n",
    "        yield samples, targets"
   ]
  },
  {
   "cell_type": "code",
   "execution_count": 6,
   "metadata": {},
   "outputs": [],
   "source": [
    "lookback = 1440\n",
    "step = 6\n",
    "delay = 144\n",
    "batch_size = 128\n",
    "\n",
    "train_gen = generator(float_data,\n",
    "                      lookback=lookback,\n",
    "                      delay=delay,\n",
    "                      min_index=0,\n",
    "                      max_index=200000,\n",
    "                      shuffle=True,\n",
    "                      step=step, \n",
    "                      batch_size=batch_size)\n",
    "val_gen = generator(float_data,\n",
    "                    lookback=lookback,\n",
    "                    delay=delay,\n",
    "                    min_index=200001,\n",
    "                    max_index=300000,\n",
    "                    step=step,\n",
    "                    batch_size=batch_size)\n",
    "test_gen = generator(float_data,\n",
    "                     lookback=lookback,\n",
    "                     delay=delay,\n",
    "                     min_index=300001,\n",
    "                     max_index=None,\n",
    "                     step=step,\n",
    "                     batch_size=batch_size)\n",
    "\n",
    "#number of steps to see the whole validation set:\n",
    "val_steps = (300000 - 200001 - lookback) // batch_size  #start from 200001 + lookback\n",
    "\n",
    "#number of steps to see the whole test set:\n",
    "test_steps = (len(float_data) - 300001 - lookback) // batch_size  #start from 300001 + lookback"
   ]
  },
  {
   "cell_type": "markdown",
   "metadata": {},
   "source": [
    "## training dropout-regularized GRU model"
   ]
  },
  {
   "cell_type": "code",
   "execution_count": null,
   "metadata": {},
   "outputs": [],
   "source": [
    "#use same dropout mask at each time step for both inputs, outputs, and recurrent layers."
   ]
  },
  {
   "cell_type": "code",
   "execution_count": 7,
   "metadata": {},
   "outputs": [
    {
     "name": "stdout",
     "output_type": "stream",
     "text": [
      "WARNING:tensorflow:From <ipython-input-7-b3ce1430aca1>:18: Model.fit_generator (from tensorflow.python.keras.engine.training) is deprecated and will be removed in a future version.\n",
      "Instructions for updating:\n",
      "Please use Model.fit, which supports generators.\n",
      "Epoch 1/40\n",
      "500/500 [==============================] - 609s 1s/step - loss: 0.3396 - val_loss: 0.2924\n",
      "Epoch 2/40\n",
      "500/500 [==============================] - 611s 1s/step - loss: 0.3179 - val_loss: 0.2798\n",
      "Epoch 3/40\n",
      "500/500 [==============================] - 618s 1s/step - loss: 0.3077 - val_loss: 0.2842\n",
      "Epoch 4/40\n",
      "500/500 [==============================] - 651s 1s/step - loss: 0.3015 - val_loss: 0.2827\n",
      "Epoch 5/40\n",
      "500/500 [==============================] - 630s 1s/step - loss: 0.2958 - val_loss: 0.2772\n",
      "Epoch 6/40\n",
      "500/500 [==============================] - 651s 1s/step - loss: 0.2895 - val_loss: 0.2793\n",
      "Epoch 7/40\n",
      "500/500 [==============================] - 659s 1s/step - loss: 0.2848 - val_loss: 0.2808\n",
      "Epoch 8/40\n",
      "500/500 [==============================] - 764s 2s/step - loss: 0.2821 - val_loss: 0.2806\n",
      "Epoch 9/40\n",
      "500/500 [==============================] - 729s 1s/step - loss: 0.2795 - val_loss: 0.2823\n",
      "Epoch 10/40\n",
      "500/500 [==============================] - 751s 2s/step - loss: 0.2762 - val_loss: 0.2807\n",
      "Epoch 11/40\n",
      "500/500 [==============================] - 797s 2s/step - loss: 0.2748 - val_loss: 0.2812\n",
      "Epoch 12/40\n",
      "500/500 [==============================] - 768s 2s/step - loss: 0.2723 - val_loss: 0.2809\n",
      "Epoch 13/40\n",
      "500/500 [==============================] - 728s 1s/step - loss: 0.2675 - val_loss: 0.2874\n",
      "Epoch 14/40\n",
      "500/500 [==============================] - 689s 1s/step - loss: 0.2658 - val_loss: 0.2903\n",
      "Epoch 15/40\n",
      "500/500 [==============================] - 676s 1s/step - loss: 0.2619 - val_loss: 0.2888\n",
      "Epoch 16/40\n",
      "500/500 [==============================] - 703s 1s/step - loss: 0.2583 - val_loss: 0.3066\n",
      "Epoch 17/40\n",
      "500/500 [==============================] - 683s 1s/step - loss: 0.2567 - val_loss: 0.2930\n",
      "Epoch 18/40\n",
      "500/500 [==============================] - 698s 1s/step - loss: 0.2535 - val_loss: 0.2945\n",
      "Epoch 19/40\n",
      "500/500 [==============================] - 696s 1s/step - loss: 0.2533 - val_loss: 0.2980\n",
      "Epoch 20/40\n",
      "500/500 [==============================] - 689s 1s/step - loss: 0.2474 - val_loss: 0.3109\n",
      "Epoch 21/40\n",
      "500/500 [==============================] - 697s 1s/step - loss: 0.2465 - val_loss: 0.3010\n",
      "Epoch 22/40\n",
      "500/500 [==============================] - 689s 1s/step - loss: 0.2425 - val_loss: 0.3093\n",
      "Epoch 23/40\n",
      "500/500 [==============================] - 695s 1s/step - loss: 0.2409 - val_loss: 0.3035\n",
      "Epoch 24/40\n",
      "500/500 [==============================] - 700s 1s/step - loss: 0.2401 - val_loss: 0.3329\n",
      "Epoch 25/40\n",
      "500/500 [==============================] - 695s 1s/step - loss: 0.2382 - val_loss: 0.3238\n",
      "Epoch 26/40\n",
      "500/500 [==============================] - 717s 1s/step - loss: 0.2350 - val_loss: 0.3113\n",
      "Epoch 27/40\n",
      "500/500 [==============================] - 696s 1s/step - loss: 0.2327 - val_loss: 0.3185\n",
      "Epoch 28/40\n",
      "500/500 [==============================] - 692s 1s/step - loss: 0.2316 - val_loss: 0.3266\n",
      "Epoch 29/40\n",
      "500/500 [==============================] - 706s 1s/step - loss: 0.2305 - val_loss: 0.3215\n",
      "Epoch 30/40\n",
      "500/500 [==============================] - 721s 1s/step - loss: 0.2287 - val_loss: 0.3270\n",
      "Epoch 31/40\n",
      "500/500 [==============================] - 707s 1s/step - loss: 0.2273 - val_loss: 0.3270\n",
      "Epoch 32/40\n",
      "500/500 [==============================] - 696s 1s/step - loss: 0.2257 - val_loss: 0.3324\n",
      "Epoch 33/40\n",
      "500/500 [==============================] - 718s 1s/step - loss: 0.2244 - val_loss: 0.3307\n",
      "Epoch 34/40\n",
      "500/500 [==============================] - 717s 1s/step - loss: 0.2223 - val_loss: 0.3322\n",
      "Epoch 35/40\n",
      "500/500 [==============================] - 819s 2s/step - loss: 0.2212 - val_loss: 0.3354\n",
      "Epoch 36/40\n",
      "500/500 [==============================] - 780s 2s/step - loss: 0.2212 - val_loss: 0.3323\n",
      "Epoch 37/40\n",
      "500/500 [==============================] - 743s 1s/step - loss: 0.2192 - val_loss: 0.3265\n",
      "Epoch 38/40\n",
      "500/500 [==============================] - 755s 2s/step - loss: 0.2172 - val_loss: 0.3321\n",
      "Epoch 39/40\n",
      "500/500 [==============================] - 749s 1s/step - loss: 0.2168 - val_loss: 0.3296\n",
      "Epoch 40/40\n",
      "500/500 [==============================] - 763s 2s/step - loss: 0.2157 - val_loss: 0.3439\n"
     ]
    }
   ],
   "source": [
    "from tensorflow.keras.models import Sequential\n",
    "from tensorflow.keras import layers\n",
    "from tensorflow.keras.optimizers import RMSprop\n",
    "\n",
    "model = Sequential()\n",
    "model.add(layers.GRU(64,\n",
    "                     dropout=0.5,\n",
    "                     recurrent_dropout=0.5,\n",
    "                     input_shape=(None, float_data.shape[-1])))\n",
    "model.add(layers.Dense(32, activation='relu'))\n",
    "model.add(layers.Dense(1))\n",
    "\n",
    "model.compile(optimizer=RMSprop(), loss='mae')\n",
    "history = model.fit_generator(train_gen,\n",
    "                              steps_per_epoch=500,\n",
    "                              epochs=40,\n",
    "                              validation_data=val_gen,\n",
    "                              validation_steps=val_steps)"
   ]
  },
  {
   "cell_type": "code",
   "execution_count": 8,
   "metadata": {},
   "outputs": [
    {
     "data": {
      "image/png": "[encoded data removed]",
      "text/plain": [
       "<Figure size 432x288 with 1 Axes>"
      ]
     },
     "metadata": {
      "needs_background": "light"
     },
     "output_type": "display_data"
    }
   ],
   "source": [
    "import matplotlib.pyplot as plt\n",
    "%matplotlib inline\n",
    "\n",
    "loss = history.history['loss']\n",
    "val_loss = history.history['val_loss']\n",
    "\n",
    "epochs = range(len(loss))\n",
    "\n",
    "plt.figure()\n",
    "\n",
    "plt.plot(epochs, loss, 'bo', label='Training loss')\n",
    "plt.plot(epochs, val_loss, 'b', label='Validation loss')\n",
    "plt.title('Training and validation loss')\n",
    "plt.legend()\n",
    "\n",
    "plt.show()"
   ]
  },
  {
   "cell_type": "code",
   "execution_count": 16,
   "metadata": {},
   "outputs": [
    {
     "data": {
      "text/plain": [
       "5"
      ]
     },
     "execution_count": 16,
     "metadata": {},
     "output_type": "execute_result"
    }
   ],
   "source": [
    "np.argmin(val_loss)+1"
   ]
  },
  {
   "cell_type": "code",
   "execution_count": 10,
   "metadata": {},
   "outputs": [
    {
     "data": {
      "text/plain": [
       "0.27719083428382874"
      ]
     },
     "execution_count": 10,
     "metadata": {},
     "output_type": "execute_result"
    }
   ],
   "source": [
    "val_loss[np.argmin(val_loss)]"
   ]
  },
  {
   "cell_type": "code",
   "execution_count": 11,
   "metadata": {},
   "outputs": [],
   "source": [
    "#baseline: denormalized average absolute error: 2.57°C"
   ]
  },
  {
   "cell_type": "code",
   "execution_count": 14,
   "metadata": {},
   "outputs": [],
   "source": [
    "celsius_mae = val_loss[np.argmin(val_loss)] * std[1]"
   ]
  },
  {
   "cell_type": "code",
   "execution_count": 15,
   "metadata": {},
   "outputs": [
    {
     "data": {
      "text/plain": [
       "2.45"
      ]
     },
     "execution_count": 15,
     "metadata": {},
     "output_type": "execute_result"
    }
   ],
   "source": [
    "round(celsius_mae,2)"
   ]
  },
  {
   "cell_type": "code",
   "execution_count": null,
   "metadata": {},
   "outputs": [],
   "source": []
  }
 ],
 "metadata": {
  "kernelspec": {
   "display_name": "tensorflow22_env",
   "language": "python",
   "name": "tensorflow22_env"
  },
  "language_info": {
   "codemirror_mode": {
    "name": "ipython",
    "version": 3
   },
   "file_extension": ".py",
   "mimetype": "text/x-python",
   "name": "python",
   "nbconvert_exporter": "python",
   "pygments_lexer": "ipython3",
   "version": "3.7.7"
  }
 },
 "nbformat": 4,
 "nbformat_minor": 4
}

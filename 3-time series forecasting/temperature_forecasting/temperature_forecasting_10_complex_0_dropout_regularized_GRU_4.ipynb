{
 "cells": [
  {
   "cell_type": "code",
   "execution_count": 1,
   "metadata": {},
   "outputs": [
    {
     "data": {
      "text/plain": [
       "'2.3.0-tf'"
      ]
     },
     "execution_count": 1,
     "metadata": {},
     "output_type": "execute_result"
    }
   ],
   "source": [
    "import tensorflow.keras as keras\n",
    "keras.__version__"
   ]
  },
  {
   "cell_type": "markdown",
   "metadata": {},
   "source": [
    "## loading Jena weather dataset"
   ]
  },
  {
   "cell_type": "code",
   "execution_count": 2,
   "metadata": {},
   "outputs": [],
   "source": [
    "import os\n",
    "\n",
    "data_dir = 'C:/data/jena_climate/'\n",
    "fname = os.path.join(data_dir, 'jena_climate_2009_2016.csv')\n",
    "\n",
    "f = open(fname)\n",
    "data = f.read()\n",
    "f.close()\n",
    "\n",
    "lines = data.split('\\n')\n",
    "header = lines[0].split(',')\n",
    "lines = lines[1:]"
   ]
  },
  {
   "cell_type": "markdown",
   "metadata": {},
   "source": [
    "## parsing data"
   ]
  },
  {
   "cell_type": "code",
   "execution_count": 3,
   "metadata": {},
   "outputs": [],
   "source": [
    "import numpy as np\n",
    "\n",
    "float_data = np.zeros((len(lines), len(header) - 1))  #exclude date feature\n",
    "for i, line in enumerate(lines):\n",
    "    values = [float(x) for x in line.split(',')[1:]]  #exclude date feature\n",
    "    float_data[i, :] = values"
   ]
  },
  {
   "cell_type": "markdown",
   "metadata": {},
   "source": [
    "## normalizing data"
   ]
  },
  {
   "cell_type": "code",
   "execution_count": 4,
   "metadata": {},
   "outputs": [],
   "source": [
    "mean = float_data[:200000].mean(axis=0)\n",
    "float_data -= mean\n",
    "std = float_data[:200000].std(axis=0)\n",
    "float_data /= std"
   ]
  },
  {
   "cell_type": "markdown",
   "metadata": {},
   "source": [
    "## preparing training, validation, and test generators"
   ]
  },
  {
   "cell_type": "code",
   "execution_count": 5,
   "metadata": {},
   "outputs": [],
   "source": [
    "def generator(data, lookback, delay, min_index, max_index,\n",
    "              shuffle=False, batch_size=128, step=6):\n",
    "    if max_index is None:\n",
    "        max_index = len(data) - delay - 1  #for last segment of data: limit index.\n",
    "    i = min_index + lookback  #current time step from which to look back in the past and ahead in the future.\n",
    "    while 1:\n",
    "        if shuffle:\n",
    "            rows = np.random.randint(\n",
    "                min_index + lookback, max_index, size=batch_size)\n",
    "        else:\n",
    "            if i + batch_size >= max_index:\n",
    "                i = min_index + lookback\n",
    "            rows = np.arange(i, min(i + batch_size, max_index))  #[i, i + batch_size]\n",
    "            i += len(rows)  #i = i + batch_size\n",
    "\n",
    "        samples = np.zeros((len(rows),    #batch_size\n",
    "                           lookback // step,  #sample_per_past_period: 24hours x 10days = 240 samples in past 10 days\n",
    "                           data.shape[-1]))  #feature_size = 14\n",
    "        targets = np.zeros((len(rows),))\n",
    "        for j, row in enumerate(rows):  #number of elements = batch_size:\n",
    "            indices = range(rows[j] - lookback, rows[j], step)  #past: [i - lookback, i], for i in {i,...,i+batch_size}; caution: refer to i before being updated to i = i + batch_size\n",
    "            samples[j] = data[indices]  #sample_per_past_period data points, each 14 features\n",
    "            targets[j] = data[rows[j] + delay][1]  #future: target temperature in i + delay time steps.\n",
    "        yield samples, targets"
   ]
  },
  {
   "cell_type": "code",
   "execution_count": 6,
   "metadata": {},
   "outputs": [],
   "source": [
    "lookback = 1440\n",
    "step = 6\n",
    "delay = 144\n",
    "batch_size = 128\n",
    "\n",
    "train_gen = generator(float_data,\n",
    "                      lookback=lookback,\n",
    "                      delay=delay,\n",
    "                      min_index=0,\n",
    "                      max_index=200000,\n",
    "                      shuffle=True,\n",
    "                      step=step, \n",
    "                      batch_size=batch_size)\n",
    "val_gen = generator(float_data,\n",
    "                    lookback=lookback,\n",
    "                    delay=delay,\n",
    "                    min_index=200001,\n",
    "                    max_index=300000,\n",
    "                    step=step,\n",
    "                    batch_size=batch_size)\n",
    "test_gen = generator(float_data,\n",
    "                     lookback=lookback,\n",
    "                     delay=delay,\n",
    "                     min_index=300001,\n",
    "                     max_index=None,\n",
    "                     step=step,\n",
    "                     batch_size=batch_size)\n",
    "\n",
    "#number of steps to see the whole validation set:\n",
    "val_steps = (300000 - 200001 - lookback) // batch_size  #start from 200001 + lookback\n",
    "\n",
    "#number of steps to see the whole test set:\n",
    "test_steps = (len(float_data) - 300001 - lookback) // batch_size  #start from 300001 + lookback"
   ]
  },
  {
   "cell_type": "markdown",
   "metadata": {},
   "source": [
    "## training dropout-regularized GRU model"
   ]
  },
  {
   "cell_type": "code",
   "execution_count": null,
   "metadata": {},
   "outputs": [],
   "source": [
    "#use same dropout mask at each time step for both inputs, outputs, and recurrent layers."
   ]
  },
  {
   "cell_type": "code",
   "execution_count": 7,
   "metadata": {},
   "outputs": [
    {
     "name": "stdout",
     "output_type": "stream",
     "text": [
      "WARNING:tensorflow:From <ipython-input-7-914a7b6ab6c0>:17: Model.fit_generator (from tensorflow.python.keras.engine.training) is deprecated and will be removed in a future version.\n",
      "Instructions for updating:\n",
      "Please use Model.fit, which supports generators.\n",
      "Epoch 1/20\n",
      "500/500 [==============================] - 319s 639ms/step - loss: 0.3556 - val_loss: 0.2856\n",
      "Epoch 2/20\n",
      "500/500 [==============================] - 325s 649ms/step - loss: 0.3232 - val_loss: 0.2801\n",
      "Epoch 3/20\n",
      "500/500 [==============================] - 354s 708ms/step - loss: 0.3124 - val_loss: 0.2781\n",
      "Epoch 4/20\n",
      "500/500 [==============================] - 389s 778ms/step - loss: 0.3068 - val_loss: 0.2764\n",
      "Epoch 5/20\n",
      "500/500 [==============================] - 382s 765ms/step - loss: 0.3021 - val_loss: 0.2791\n",
      "Epoch 6/20\n",
      "500/500 [==============================] - 380s 761ms/step - loss: 0.2984 - val_loss: 0.2804\n",
      "Epoch 7/20\n",
      "500/500 [==============================] - 369s 738ms/step - loss: 0.2954 - val_loss: 0.2767\n",
      "Epoch 8/20\n",
      "500/500 [==============================] - 647s 1s/step - loss: 0.2906 - val_loss: 0.2784\n",
      "Epoch 9/20\n",
      "500/500 [==============================] - 688s 1s/step - loss: 0.2882 - val_loss: 0.2745\n",
      "Epoch 10/20\n",
      "500/500 [==============================] - 401s 801ms/step - loss: 0.2862 - val_loss: 0.2787\n",
      "Epoch 11/20\n",
      "500/500 [==============================] - 639s 1s/step - loss: 0.2844 - val_loss: 0.2761\n",
      "Epoch 12/20\n",
      "500/500 [==============================] - 433s 867ms/step - loss: 0.2828 - val_loss: 0.2800\n",
      "Epoch 13/20\n",
      "500/500 [==============================] - 443s 886ms/step - loss: 0.2812 - val_loss: 0.2771\n",
      "Epoch 14/20\n",
      "500/500 [==============================] - 517s 1s/step - loss: 0.2812 - val_loss: 0.2821\n",
      "Epoch 15/20\n",
      "500/500 [==============================] - 480s 960ms/step - loss: 0.2800 - val_loss: 0.2768\n",
      "Epoch 16/20\n",
      "500/500 [==============================] - 539s 1s/step - loss: 0.2777 - val_loss: 0.2859\n",
      "Epoch 17/20\n",
      "500/500 [==============================] - 458s 916ms/step - loss: 0.2752 - val_loss: 0.2782\n",
      "Epoch 18/20\n",
      "500/500 [==============================] - 494s 988ms/step - loss: 0.2751 - val_loss: 0.2816\n",
      "Epoch 19/20\n",
      "500/500 [==============================] - 499s 997ms/step - loss: 0.2742 - val_loss: 0.2808\n",
      "Epoch 20/20\n",
      "500/500 [==============================] - 534s 1s/step - loss: 0.2720 - val_loss: 0.2868\n"
     ]
    }
   ],
   "source": [
    "from tensorflow.keras.models import Sequential\n",
    "from tensorflow.keras import layers\n",
    "from tensorflow.keras.optimizers import RMSprop\n",
    "\n",
    "model = Sequential()\n",
    "model.add(layers.GRU(32,\n",
    "                     dropout=0.4,\n",
    "                     recurrent_dropout=0.4,\n",
    "                     input_shape=(None, float_data.shape[-1])))\n",
    "model.add(layers.Dense(1))\n",
    "\n",
    "model.compile(optimizer=RMSprop(), loss='mae')\n",
    "history = model.fit_generator(train_gen,\n",
    "                              steps_per_epoch=500,\n",
    "                              epochs=20,\n",
    "                              validation_data=val_gen,\n",
    "                              validation_steps=val_steps)"
   ]
  },
  {
   "cell_type": "code",
   "execution_count": 8,
   "metadata": {},
   "outputs": [
    {
     "data": {
      "image/png": "[encoded data removed]",
      "text/plain": [
       "<Figure size 432x288 with 1 Axes>"
      ]
     },
     "metadata": {
      "needs_background": "light"
     },
     "output_type": "display_data"
    }
   ],
   "source": [
    "import matplotlib.pyplot as plt\n",
    "%matplotlib inline\n",
    "\n",
    "loss = history.history['loss']\n",
    "val_loss = history.history['val_loss']\n",
    "\n",
    "epochs = range(len(loss))\n",
    "\n",
    "plt.figure()\n",
    "\n",
    "plt.plot(epochs, loss, 'bo', label='Training loss')\n",
    "plt.plot(epochs, val_loss, 'b', label='Validation loss')\n",
    "plt.title('Training and validation loss')\n",
    "plt.legend()\n",
    "\n",
    "plt.show()"
   ]
  },
  {
   "cell_type": "code",
   "execution_count": 9,
   "metadata": {},
   "outputs": [
    {
     "data": {
      "text/plain": [
       "9"
      ]
     },
     "execution_count": 9,
     "metadata": {},
     "output_type": "execute_result"
    }
   ],
   "source": [
    "np.argmin(val_loss)+1"
   ]
  },
  {
   "cell_type": "code",
   "execution_count": 10,
   "metadata": {},
   "outputs": [
    {
     "data": {
      "text/plain": [
       "0.27452290058135986"
      ]
     },
     "execution_count": 10,
     "metadata": {},
     "output_type": "execute_result"
    }
   ],
   "source": [
    "val_loss[np.argmin(val_loss)]"
   ]
  },
  {
   "cell_type": "code",
   "execution_count": 11,
   "metadata": {},
   "outputs": [],
   "source": [
    "#baseline: denormalized average absolute error: 2.57°C"
   ]
  },
  {
   "cell_type": "code",
   "execution_count": 12,
   "metadata": {},
   "outputs": [],
   "source": [
    "celsius_mae = val_loss[np.argmin(val_loss)] * std[1]"
   ]
  },
  {
   "cell_type": "code",
   "execution_count": 13,
   "metadata": {},
   "outputs": [
    {
     "data": {
      "text/plain": [
       "2.43"
      ]
     },
     "execution_count": 13,
     "metadata": {},
     "output_type": "execute_result"
    }
   ],
   "source": [
    "round(celsius_mae,2)"
   ]
  },
  {
   "cell_type": "code",
   "execution_count": null,
   "metadata": {},
   "outputs": [],
   "source": []
  }
 ],
 "metadata": {
  "kernelspec": {
   "display_name": "tensorflow22_env",
   "language": "python",
   "name": "tensorflow22_env"
  },
  "language_info": {
   "codemirror_mode": {
    "name": "ipython",
    "version": 3
   },
   "file_extension": ".py",
   "mimetype": "text/x-python",
   "name": "python",
   "nbconvert_exporter": "python",
   "pygments_lexer": "ipython3",
   "version": "3.7.7"
  }
 },
 "nbformat": 4,
 "nbformat_minor": 4
}

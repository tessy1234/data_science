{
 "cells": [
  {
   "cell_type": "code",
   "execution_count": 49,
   "id": "f90b1bac",
   "metadata": {},
   "outputs": [],
   "source": [
    "import numpy as np\n",
    "import matplotlib.pyplot as plt\n",
    "from scipy.stats import norm\n",
    "from scipy import signal\n",
    "import seaborn as sb"
   ]
  },
  {
   "cell_type": "markdown",
   "id": "766063ae",
   "metadata": {},
   "source": [
    "## Sum of Gaussian random variables - confined grid size"
   ]
  },
  {
   "cell_type": "code",
   "execution_count": 50,
   "id": "5d545199",
   "metadata": {},
   "outputs": [],
   "source": [
    "#given two independent gaussian variables X,Y; calculate Z = X + Y ~ PDF(Z) "
   ]
  },
  {
   "cell_type": "code",
   "execution_count": 51,
   "id": "1455aa42",
   "metadata": {},
   "outputs": [],
   "source": [
    "delta = 1e-4\n",
    "big_grid = np.arange(-10,10,delta)  #confined grid size"
   ]
  },
  {
   "cell_type": "code",
   "execution_count": 52,
   "id": "16eab5fc",
   "metadata": {},
   "outputs": [],
   "source": [
    "mean = 2  #E(X)=E(Y)=2\n",
    "var  = 8  #Var(X)=Var(Y)=8\n",
    "std = np.sqrt(var)  "
   ]
  },
  {
   "cell_type": "code",
   "execution_count": 53,
   "id": "c7c0d393",
   "metadata": {},
   "outputs": [],
   "source": [
    "X = norm(loc=mean, scale=std)\n",
    "Y = norm(loc=mean, scale=std)"
   ]
  },
  {
   "cell_type": "code",
   "execution_count": 54,
   "id": "fd1cdba7",
   "metadata": {},
   "outputs": [
    {
     "name": "stdout",
     "output_type": "stream",
     "text": [
      "Sum of gaussian pmf1: 0.9976499589626819\n"
     ]
    }
   ],
   "source": [
    "pmf1 = X.pdf(big_grid)*delta\n",
    "print(\"Sum of gaussian pmf1: \"+str(sum(pmf1)))  #confined grid size causes out-of-range error"
   ]
  },
  {
   "cell_type": "code",
   "execution_count": 55,
   "id": "6e8f2007",
   "metadata": {},
   "outputs": [
    {
     "name": "stdout",
     "output_type": "stream",
     "text": [
      "Sum of gaussian pmf2: 0.9976499589626819\n"
     ]
    }
   ],
   "source": [
    "pmf2 = Y.pdf(big_grid)*delta\n",
    "print(\"Sum of gaussian pmf2: \"+str(sum(pmf1)))  #confined grid size causes out-of-range error"
   ]
  },
  {
   "cell_type": "code",
   "execution_count": 56,
   "id": "41d09aa6",
   "metadata": {},
   "outputs": [
    {
     "name": "stdout",
     "output_type": "stream",
     "text": [
      "Sum of convoluted pmf: 0.9321607580277965\n"
     ]
    }
   ],
   "source": [
    "conv_pmf = signal.fftconvolve(pmf1,pmf2,'same')  #convolution of pmf1 and pmf2\n",
    "print(\"Sum of convoluted pmf: \"+str(sum(conv_pmf)))  #confined grid size causes out-of-range error"
   ]
  },
  {
   "cell_type": "code",
   "execution_count": 57,
   "id": "44e6a2b7",
   "metadata": {},
   "outputs": [],
   "source": [
    "def realcdf(x):\n",
    "    return norm(loc = 2*mean, scale = np.sqrt(2*var)).cdf(x)"
   ]
  },
  {
   "cell_type": "code",
   "execution_count": 58,
   "id": "94d70b05",
   "metadata": {},
   "outputs": [],
   "source": [
    "#significant proportion of the convoluted PDF lies outside of the range given by the grid size."
   ]
  },
  {
   "cell_type": "code",
   "execution_count": 59,
   "id": "e40dbb0c",
   "metadata": {},
   "outputs": [
    {
     "name": "stdout",
     "output_type": "stream",
     "text": [
      "Supposed to be: 0.9329569316499936\n"
     ]
    }
   ],
   "source": [
    "print(\"Supposed to be: \" + str(realcdf(max(big_grid)) - realcdf(min(big_grid))))  #confined grid size causes out-of-range error"
   ]
  },
  {
   "cell_type": "code",
   "execution_count": 60,
   "id": "bf11795a",
   "metadata": {},
   "outputs": [
    {
     "name": "stdout",
     "output_type": "stream",
     "text": [
      "Integration of convoluted pdf: 0.9321591482687606\n"
     ]
    }
   ],
   "source": [
    "pdf1 = pmf1/delta\n",
    "pdf2 = pmf2/delta\n",
    "conv_pdf = conv_pmf/delta\n",
    "print(\"Integration of convoluted pdf: \" + str(np.trapz(conv_pdf, big_grid)))"
   ]
  },
  {
   "cell_type": "code",
   "execution_count": 61,
   "id": "8376e6d4",
   "metadata": {},
   "outputs": [
    {
     "data": {
      "image/png": "[encoded data removed]",
      "text/plain": [
       "<Figure size 432x288 with 1 Axes>"
      ]
     },
     "metadata": {
      "needs_background": "light"
     },
     "output_type": "display_data"
    }
   ],
   "source": [
    "plt.plot(big_grid, pdf1, label='Gaussian PDF1')\n",
    "plt.plot(big_grid, pdf2, label='Gaussian PDF2')\n",
    "plt.plot(big_grid, conv_pdf, label='Sum')\n",
    "plt.legend(loc='best'), plt.suptitle('PDFs')\n",
    "plt.show() "
   ]
  },
  {
   "cell_type": "markdown",
   "id": "7166964c",
   "metadata": {},
   "source": [
    "## Mean and variance of convoluted PDF"
   ]
  },
  {
   "cell_type": "code",
   "execution_count": 62,
   "id": "05a2ec71",
   "metadata": {},
   "outputs": [],
   "source": [
    "#E(Z)=E(X)+E(Y); Var(Z)=Var(X)+Var(Y); if E(X)=E(Y)=2 and Var(X)=Var(Y)=8 it follows E(Z)=4 and Var(Z)=16"
   ]
  },
  {
   "cell_type": "code",
   "execution_count": 63,
   "id": "9df0ef7e",
   "metadata": {},
   "outputs": [
    {
     "data": {
      "text/plain": [
       "3.210819533318452"
      ]
     },
     "execution_count": 63,
     "metadata": {},
     "output_type": "execute_result"
    }
   ],
   "source": [
    "#mean\n",
    "E_Z = (big_grid * conv_pmf).sum(); E_Z  #E(Z) = Σ z . P(z): sum(z[j] * p(z[j]))  expected: E(Z)=4"
   ]
  },
  {
   "cell_type": "code",
   "execution_count": 64,
   "id": "9d9148a4",
   "metadata": {},
   "outputs": [
    {
     "data": {
      "text/plain": [
       "22.52303025237063"
      ]
     },
     "execution_count": 64,
     "metadata": {},
     "output_type": "execute_result"
    }
   ],
   "source": [
    "E_Z_squared = (big_grid**2 * conv_pmf).sum(); E_Z_squared  #E(Z²) = Σ z² . P(z): sum(z[j]² * p(z[j]))"
   ]
  },
  {
   "cell_type": "code",
   "execution_count": 65,
   "id": "ad3b0289",
   "metadata": {},
   "outputs": [
    {
     "data": {
      "text/plain": [
       "12.21366817683131"
      ]
     },
     "execution_count": 65,
     "metadata": {},
     "output_type": "execute_result"
    }
   ],
   "source": [
    "#variance\n",
    "Var_Z =  E_Z_squared - (E_Z)**2; Var_Z  #Var(Z) = E(Z²) - E(Z)²; expected: Var(Z)=16"
   ]
  },
  {
   "cell_type": "markdown",
   "id": "8b670ec7",
   "metadata": {},
   "source": [
    "## Reference implementation"
   ]
  },
  {
   "cell_type": "code",
   "execution_count": 66,
   "id": "622e3541",
   "metadata": {},
   "outputs": [],
   "source": [
    "import openturns as ot"
   ]
  },
  {
   "cell_type": "code",
   "execution_count": 67,
   "id": "d92cac0c",
   "metadata": {},
   "outputs": [],
   "source": [
    "mean = 2  #E(X)=E(Y)=2\n",
    "std = np.sqrt(8)  #Var(X)=Var(Y)=8"
   ]
  },
  {
   "cell_type": "code",
   "execution_count": 68,
   "id": "3f61ccee",
   "metadata": {},
   "outputs": [],
   "source": [
    "X = ot.Normal(mean, std)  # Normal distribution mean = 2, std = √8\n",
    "Y = ot.Normal(mean, std)  # Normal distribution mean = 2, std = √8"
   ]
  },
  {
   "cell_type": "code",
   "execution_count": 69,
   "id": "d783de30",
   "metadata": {},
   "outputs": [],
   "source": [
    "Z = X + Y  #sum of two gaussian random variables"
   ]
  },
  {
   "cell_type": "code",
   "execution_count": 70,
   "id": "0b64cd7d",
   "metadata": {},
   "outputs": [
    {
     "data": {
      "image/png": "[encoded data removed]",
      "text/plain": [
       "class=Graph name=pdf as a function of X0 implementation=class=GraphImplementation name=pdf as a function of X0 title= xTitle=X0 yTitle=PDF axes=ON grid=ON legendposition=topright legendFontSize=1 drawables=[class=Drawable name=Unnamed implementation=class=Curve name=Unnamed derived from class=DrawableImplementation name=Unnamed legend=X0 PDF data=class=Sample name=Unnamed implementation=class=SampleImplementation name=Unnamed size=129 dimension=2 data=[[-10.9246,9.45851e-05],[-10.6914,0.000117369],[-10.4582,0.000145147],[-10.225,0.000178891],[-9.99185,0.000219731],[-9.75865,0.00026898],[-9.52546,0.000328149],[-9.29226,0.000398975],[-9.05906,0.000483442],[-8.82586,0.000583805],[-8.59267,0.00070261],[-8.35947,0.000842723],[-8.12627,0.00100735],[-7.89307,0.00120005],[-7.65988,0.00142476],[-7.42668,0.0016858],[-7.19348,0.00198791],[-6.96028,0.00233621],[-6.72709,0.00273621],[-6.49389,0.00319383],[-6.26069,0.00371533],[-6.02749,0.00430732],[-5.7943,0.00497669],[-5.5611,0.00573058],[-5.3279,0.00657627],[-5.0947,0.00752117],[-4.86151,0.00857264],[-4.62831,0.00973796],[-4.39511,0.0110242],[-4.16191,0.0124379],[-3.92872,0.0139853],[-3.69552,0.0156719],[-3.46232,0.0175022],[-3.22912,0.01948],[-2.99593,0.0216078],[-2.76273,0.0238866],[-2.52953,0.0263162],[-2.29633,0.0288946],[-2.06314,0.0316179],[-1.82994,0.0344804],[-1.59674,0.0374746],[-1.36354,0.0405905],[-1.13035,0.0438164],[-0.897148,0.0471382],[-0.66395,0.0505397],[-0.430753,0.0540028],[-0.197555,0.0575074],[0.0356423,0.0610317],[0.26884,0.0645522],[0.502037,0.0680441],[0.735235,0.0714815],[0.968432,0.0748377],[1.20163,0.0780857],[1.43483,0.0811983],[1.66802,0.0841484],[1.90122,0.0869098],[2.13442,0.0894572],[2.36762,0.0917669],[2.60081,0.0938168],[2.83401,0.095587],[3.06721,0.0970602],[3.30041,0.0982218],[3.5336,0.0990599],[3.7668,0.0995662],[4,0.0997356],[4.2332,0.0995662],[4.4664,0.0990599],[4.69959,0.0982218],[4.93279,0.0970602],[5.16599,0.095587],[5.39919,0.0938168],[5.63238,0.0917669],[5.86558,0.0894572],[6.09878,0.0869098],[6.33198,0.0841484],[6.56517,0.0811983],[6.79837,0.0780857],[7.03157,0.0748377],[7.26477,0.0714815],[7.49796,0.0680441],[7.73116,0.0645522],[7.96436,0.0610317],[8.19756,0.0575074],[8.43075,0.0540028],[8.66395,0.0505397],[8.89715,0.0471382],[9.13035,0.0438164],[9.36354,0.0405905],[9.59674,0.0374746],[9.82994,0.0344804],[10.0631,0.0316179],[10.2963,0.0288946],[10.5295,0.0263162],[10.7627,0.0238866],[10.9959,0.0216078],[11.2291,0.01948],[11.4623,0.0175022],[11.6955,0.0156719],[11.9287,0.0139853],[12.1619,0.0124379],[12.3951,0.0110242],[12.6283,0.00973796],[12.8615,0.00857264],[13.0947,0.00752117],[13.3279,0.00657627],[13.5611,0.00573058],[13.7943,0.00497669],[14.0275,0.00430732],[14.2607,0.00371533],[14.4939,0.00319383],[14.7271,0.00273621],[14.9603,0.00233621],[15.1935,0.00198791],[15.4267,0.0016858],[15.6599,0.00142476],[15.8931,0.00120005],[16.1263,0.00100735],[16.3595,0.000842723],[16.5927,0.00070261],[16.8259,0.000583805],[17.0591,0.000483442],[17.2923,0.000398975],[17.5255,0.000328149],[17.7587,0.00026898],[17.9919,0.000219731],[18.225,0.000178891],[18.4582,0.000145147],[18.6914,0.000117369],[18.9246,9.45851e-05]] color=red fillStyle=solid lineStyle=solid pointStyle=none lineWidth=2]"
      ]
     },
     "execution_count": 70,
     "metadata": {},
     "output_type": "execute_result"
    }
   ],
   "source": [
    "Z.drawPDF()"
   ]
  },
  {
   "cell_type": "code",
   "execution_count": 71,
   "id": "afbb2e27",
   "metadata": {},
   "outputs": [
    {
     "data": {
      "text/html": [
       "<p>[4]</p>"
      ],
      "text/plain": [
       "class=Point name=Unnamed dimension=1 values=[4]"
      ]
     },
     "execution_count": 71,
     "metadata": {},
     "output_type": "execute_result"
    }
   ],
   "source": [
    "Z.getMean()  #E(Z)=E(X)+E(Y)=4"
   ]
  },
  {
   "cell_type": "code",
   "execution_count": 72,
   "id": "08ce96d4",
   "metadata": {},
   "outputs": [
    {
     "data": {
      "text/html": [
       "<p>[[ 16 ]]</p>"
      ],
      "text/plain": [
       "class=CovarianceMatrix dimension=1 implementation=class=MatrixImplementation name=Unnamed rows=1 columns=1 values=[16]"
      ]
     },
     "execution_count": 72,
     "metadata": {},
     "output_type": "execute_result"
    }
   ],
   "source": [
    "Z.getCovariance()  #Var(Z)=Var(X)+Var(Y)=16"
   ]
  },
  {
   "cell_type": "code",
   "execution_count": null,
   "id": "b6d24eb8",
   "metadata": {},
   "outputs": [],
   "source": []
  }
 ],
 "metadata": {
  "kernelspec": {
   "display_name": "parquet_env",
   "language": "python",
   "name": "parquet_env"
  },
  "language_info": {
   "codemirror_mode": {
    "name": "ipython",
    "version": 3
   },
   "file_extension": ".py",
   "mimetype": "text/x-python",
   "name": "python",
   "nbconvert_exporter": "python",
   "pygments_lexer": "ipython3",
   "version": "3.9.12"
  }
 },
 "nbformat": 4,
 "nbformat_minor": 5
}

{
 "cells": [
  {
   "cell_type": "markdown",
   "id": "08e8fcb0",
   "metadata": {},
   "source": [
    "## Test for the mean. Population variance known"
   ]
  },
  {
   "cell_type": "markdown",
   "id": "7316b794",
   "metadata": {},
   "source": [
    "### H0: µ0 = 113,000;  H1: µ0 ≠ 113,000; given: Population σ = 15,000"
   ]
  },
  {
   "cell_type": "markdown",
   "id": "cf7c2fdd",
   "metadata": {},
   "source": [
    "### Test null hypothesis at 10% significance"
   ]
  },
  {
   "cell_type": "markdown",
   "id": "bc360b07",
   "metadata": {},
   "source": [
    "### Solution: Null hypothesis (H0) is rejected"
   ]
  },
  {
   "cell_type": "code",
   "execution_count": 12,
   "id": "d519698b",
   "metadata": {},
   "outputs": [],
   "source": [
    "import numpy as np\n",
    "import pandas as pd\n",
    "from scipy.stats import norm"
   ]
  },
  {
   "cell_type": "code",
   "execution_count": 13,
   "id": "e4ee579e",
   "metadata": {},
   "outputs": [],
   "source": [
    "#pop_mu = μ0 = hypothesized mean; pop_std = σ = population standard deviation; significance = α = significance level"
   ]
  },
  {
   "cell_type": "code",
   "execution_count": 14,
   "id": "c7af2f6e",
   "metadata": {},
   "outputs": [],
   "source": [
    "pop_mu = 113000; pop_std = 15000; significance = 0.1"
   ]
  },
  {
   "cell_type": "markdown",
   "id": "986e5998",
   "metadata": {},
   "source": [
    "### read data"
   ]
  },
  {
   "cell_type": "code",
   "execution_count": 15,
   "id": "dcc7804a",
   "metadata": {},
   "outputs": [],
   "source": [
    "df = pd.read_excel('data/data_scientist_salary.xlsx')"
   ]
  },
  {
   "cell_type": "code",
   "execution_count": 16,
   "id": "e24c6129",
   "metadata": {},
   "outputs": [
    {
     "data": {
      "text/html": [
       "<div>\n",
       "<style scoped>\n",
       "    .dataframe tbody tr th:only-of-type {\n",
       "        vertical-align: middle;\n",
       "    }\n",
       "\n",
       "    .dataframe tbody tr th {\n",
       "        vertical-align: top;\n",
       "    }\n",
       "\n",
       "    .dataframe thead th {\n",
       "        text-align: right;\n",
       "    }\n",
       "</style>\n",
       "<table border=\"1\" class=\"dataframe\">\n",
       "  <thead>\n",
       "    <tr style=\"text-align: right;\">\n",
       "      <th></th>\n",
       "      <th>Unnamed: 0</th>\n",
       "      <th>Dataset</th>\n",
       "      <th>Unnamed: 2</th>\n",
       "      <th>Population std</th>\n",
       "      <th>15000</th>\n",
       "      <th>Unnamed: 5</th>\n",
       "      <th>Unnamed: 6</th>\n",
       "      <th>Unnamed: 7</th>\n",
       "      <th>H0 (Glassdoor data)</th>\n",
       "      <th>113000</th>\n",
       "    </tr>\n",
       "  </thead>\n",
       "  <tbody>\n",
       "    <tr>\n",
       "      <th>0</th>\n",
       "      <td>NaN</td>\n",
       "      <td>117313</td>\n",
       "      <td>NaN</td>\n",
       "      <td>NaN</td>\n",
       "      <td>NaN</td>\n",
       "      <td>NaN</td>\n",
       "      <td>NaN</td>\n",
       "      <td>NaN</td>\n",
       "      <td>Two-sided test</td>\n",
       "      <td>NaN</td>\n",
       "    </tr>\n",
       "    <tr>\n",
       "      <th>1</th>\n",
       "      <td>NaN</td>\n",
       "      <td>104002</td>\n",
       "      <td>NaN</td>\n",
       "      <td>NaN</td>\n",
       "      <td>NaN</td>\n",
       "      <td>NaN</td>\n",
       "      <td>NaN</td>\n",
       "      <td>NaN</td>\n",
       "      <td>NaN</td>\n",
       "      <td>NaN</td>\n",
       "    </tr>\n",
       "    <tr>\n",
       "      <th>2</th>\n",
       "      <td>NaN</td>\n",
       "      <td>113038</td>\n",
       "      <td>NaN</td>\n",
       "      <td>NaN</td>\n",
       "      <td>NaN</td>\n",
       "      <td>NaN</td>\n",
       "      <td>NaN</td>\n",
       "      <td>NaN</td>\n",
       "      <td>NaN</td>\n",
       "      <td>NaN</td>\n",
       "    </tr>\n",
       "    <tr>\n",
       "      <th>3</th>\n",
       "      <td>NaN</td>\n",
       "      <td>101936</td>\n",
       "      <td>NaN</td>\n",
       "      <td>NaN</td>\n",
       "      <td>NaN</td>\n",
       "      <td>NaN</td>\n",
       "      <td>NaN</td>\n",
       "      <td>NaN</td>\n",
       "      <td>NaN</td>\n",
       "      <td>NaN</td>\n",
       "    </tr>\n",
       "    <tr>\n",
       "      <th>4</th>\n",
       "      <td>NaN</td>\n",
       "      <td>84560</td>\n",
       "      <td>NaN</td>\n",
       "      <td>NaN</td>\n",
       "      <td>NaN</td>\n",
       "      <td>NaN</td>\n",
       "      <td>NaN</td>\n",
       "      <td>NaN</td>\n",
       "      <td>NaN</td>\n",
       "      <td>NaN</td>\n",
       "    </tr>\n",
       "    <tr>\n",
       "      <th>5</th>\n",
       "      <td>NaN</td>\n",
       "      <td>113136</td>\n",
       "      <td>NaN</td>\n",
       "      <td>NaN</td>\n",
       "      <td>NaN</td>\n",
       "      <td>NaN</td>\n",
       "      <td>NaN</td>\n",
       "      <td>NaN</td>\n",
       "      <td>NaN</td>\n",
       "      <td>NaN</td>\n",
       "    </tr>\n",
       "    <tr>\n",
       "      <th>6</th>\n",
       "      <td>NaN</td>\n",
       "      <td>80740</td>\n",
       "      <td>NaN</td>\n",
       "      <td>NaN</td>\n",
       "      <td>NaN</td>\n",
       "      <td>NaN</td>\n",
       "      <td>NaN</td>\n",
       "      <td>NaN</td>\n",
       "      <td>NaN</td>\n",
       "      <td>NaN</td>\n",
       "    </tr>\n",
       "    <tr>\n",
       "      <th>7</th>\n",
       "      <td>NaN</td>\n",
       "      <td>100536</td>\n",
       "      <td>NaN</td>\n",
       "      <td>NaN</td>\n",
       "      <td>NaN</td>\n",
       "      <td>NaN</td>\n",
       "      <td>NaN</td>\n",
       "      <td>NaN</td>\n",
       "      <td>NaN</td>\n",
       "      <td>NaN</td>\n",
       "    </tr>\n",
       "  </tbody>\n",
       "</table>\n",
       "</div>"
      ],
      "text/plain": [
       "   Unnamed: 0  Dataset  Unnamed: 2  Population std  15000  Unnamed: 5  \\\n",
       "0         NaN   117313         NaN             NaN    NaN         NaN   \n",
       "1         NaN   104002         NaN             NaN    NaN         NaN   \n",
       "2         NaN   113038         NaN             NaN    NaN         NaN   \n",
       "3         NaN   101936         NaN             NaN    NaN         NaN   \n",
       "4         NaN    84560         NaN             NaN    NaN         NaN   \n",
       "5         NaN   113136         NaN             NaN    NaN         NaN   \n",
       "6         NaN    80740         NaN             NaN    NaN         NaN   \n",
       "7         NaN   100536         NaN             NaN    NaN         NaN   \n",
       "\n",
       "   Unnamed: 6  Unnamed: 7 H0 (Glassdoor data)  113000  \n",
       "0         NaN         NaN      Two-sided test     NaN  \n",
       "1         NaN         NaN                 NaN     NaN  \n",
       "2         NaN         NaN                 NaN     NaN  \n",
       "3         NaN         NaN                 NaN     NaN  \n",
       "4         NaN         NaN                 NaN     NaN  \n",
       "5         NaN         NaN                 NaN     NaN  \n",
       "6         NaN         NaN                 NaN     NaN  \n",
       "7         NaN         NaN                 NaN     NaN  "
      ]
     },
     "execution_count": 16,
     "metadata": {},
     "output_type": "execute_result"
    }
   ],
   "source": [
    "df.head(8)"
   ]
  },
  {
   "cell_type": "code",
   "execution_count": 17,
   "id": "de882ca8",
   "metadata": {},
   "outputs": [
    {
     "name": "stdout",
     "output_type": "stream",
     "text": [
      "<class 'pandas.core.frame.DataFrame'>\n",
      "RangeIndex: 30 entries, 0 to 29\n",
      "Data columns (total 10 columns):\n",
      " #   Column               Non-Null Count  Dtype  \n",
      "---  ------               --------------  -----  \n",
      " 0   Unnamed: 0           0 non-null      float64\n",
      " 1   Dataset              30 non-null     int64  \n",
      " 2   Unnamed: 2           0 non-null      float64\n",
      " 3   Population std       0 non-null      float64\n",
      " 4   15000                0 non-null      float64\n",
      " 5   Unnamed: 5           0 non-null      float64\n",
      " 6   Unnamed: 6           0 non-null      float64\n",
      " 7   Unnamed: 7           0 non-null      float64\n",
      " 8   H0 (Glassdoor data)  1 non-null      object \n",
      " 9   113000               0 non-null      float64\n",
      "dtypes: float64(8), int64(1), object(1)\n",
      "memory usage: 2.5+ KB\n"
     ]
    }
   ],
   "source": [
    "df.info()"
   ]
  },
  {
   "cell_type": "code",
   "execution_count": 18,
   "id": "dc691f3a",
   "metadata": {},
   "outputs": [],
   "source": [
    "data = df['Dataset']"
   ]
  },
  {
   "cell_type": "code",
   "execution_count": 19,
   "id": "1343cea5",
   "metadata": {},
   "outputs": [
    {
     "data": {
      "text/plain": [
       "0    117313\n",
       "1    104002\n",
       "2    113038\n",
       "3    101936\n",
       "4     84560\n",
       "Name: Dataset, dtype: int64"
      ]
     },
     "execution_count": 19,
     "metadata": {},
     "output_type": "execute_result"
    }
   ],
   "source": [
    "data.head()  #sample data"
   ]
  },
  {
   "cell_type": "markdown",
   "id": "00a2be81",
   "metadata": {},
   "source": [
    "### calculate observational test statistic"
   ]
  },
  {
   "cell_type": "code",
   "execution_count": 20,
   "id": "c4c509ff",
   "metadata": {},
   "outputs": [
    {
     "data": {
      "text/plain": [
       "30"
      ]
     },
     "execution_count": 20,
     "metadata": {},
     "output_type": "execute_result"
    }
   ],
   "source": [
    "size = data.shape[0]; size  #sample size = N"
   ]
  },
  {
   "cell_type": "code",
   "execution_count": 21,
   "id": "ebc22cc4",
   "metadata": {},
   "outputs": [
    {
     "data": {
      "text/plain": [
       "100200.36666666667"
      ]
     },
     "execution_count": 21,
     "metadata": {},
     "output_type": "execute_result"
    }
   ],
   "source": [
    "mean = data.mean(); mean  #sample mean = x̄"
   ]
  },
  {
   "cell_type": "code",
   "execution_count": 22,
   "id": "d811eca8",
   "metadata": {},
   "outputs": [
    {
     "data": {
      "text/plain": [
       "11478.40612653809"
      ]
     },
     "execution_count": 22,
     "metadata": {},
     "output_type": "execute_result"
    }
   ],
   "source": [
    "std = data.std(); std   #sample standard deviation; compare with σ = population standard deviation = 15000"
   ]
  },
  {
   "cell_type": "code",
   "execution_count": 23,
   "id": "402f00fd",
   "metadata": {},
   "outputs": [
    {
     "data": {
      "text/plain": [
       "2739"
      ]
     },
     "execution_count": 23,
     "metadata": {},
     "output_type": "execute_result"
    }
   ],
   "source": [
    "std_error = round(pop_std/np.sqrt(size)); std_error  #standard error: σ/√N; σ = population standard deviation"
   ]
  },
  {
   "cell_type": "code",
   "execution_count": 24,
   "id": "ad8ebc32",
   "metadata": {},
   "outputs": [],
   "source": [
    "#Z-score: Z=(x̄-μ0)/σ/√N ~ N(0,1); z-score=critical value; x̄=sample mean; μ0=hypothesized mean (H0);"
   ]
  },
  {
   "cell_type": "code",
   "execution_count": 25,
   "id": "89caa712",
   "metadata": {},
   "outputs": [
    {
     "data": {
      "text/plain": [
       "-4.673104539369599"
      ]
     },
     "execution_count": 25,
     "metadata": {},
     "output_type": "execute_result"
    }
   ],
   "source": [
    "z_score = (mean-pop_mu)/std_error; z_score"
   ]
  },
  {
   "cell_type": "markdown",
   "id": "fab35036",
   "metadata": {},
   "source": [
    "### hypothesis test"
   ]
  },
  {
   "cell_type": "code",
   "execution_count": 26,
   "id": "26f361c4",
   "metadata": {},
   "outputs": [],
   "source": [
    "#find c with P(x≤c)=1-α/2; α/2 for two-sided test; ppf=percent point function; "
   ]
  },
  {
   "cell_type": "code",
   "execution_count": 27,
   "id": "e7ad59f1",
   "metadata": {},
   "outputs": [
    {
     "data": {
      "text/plain": [
       "1.6448536269514722"
      ]
     },
     "execution_count": 27,
     "metadata": {},
     "output_type": "execute_result"
    }
   ],
   "source": [
    "c = norm.ppf(1-significance/2, loc=0, scale=1); c"
   ]
  },
  {
   "cell_type": "code",
   "execution_count": 28,
   "id": "327054d3",
   "metadata": {},
   "outputs": [],
   "source": [
    "#if z-score is in the critical region of the right tail then H0 is false otherwise true"
   ]
  },
  {
   "cell_type": "code",
   "execution_count": 29,
   "id": "7f031827",
   "metadata": {},
   "outputs": [
    {
     "data": {
      "text/plain": [
       "True"
      ]
     },
     "execution_count": 29,
     "metadata": {},
     "output_type": "execute_result"
    }
   ],
   "source": [
    "np.absolute(z_score) > c  #null hypothesis (H0) rejected"
   ]
  },
  {
   "cell_type": "markdown",
   "id": "03430b57",
   "metadata": {},
   "source": [
    "### cross-check hypothesis test with p-value"
   ]
  },
  {
   "cell_type": "code",
   "execution_count": 30,
   "id": "ec3df85e",
   "metadata": {},
   "outputs": [],
   "source": [
    "cdf_z = norm.cdf(np.absolute(z_score), loc=0, scale=1) #cdf_z = P(x ≤ z)"
   ]
  },
  {
   "cell_type": "code",
   "execution_count": 31,
   "id": "782234d1",
   "metadata": {},
   "outputs": [
    {
     "data": {
      "text/plain": [
       "2.9668065963939227e-06"
      ]
     },
     "execution_count": 31,
     "metadata": {},
     "output_type": "execute_result"
    }
   ],
   "source": [
    "p_value = 2*(1-cdf_z); p_value  #p-value=2*(1-P(x≤z)); two-sided p-value requires factor 2"
   ]
  },
  {
   "cell_type": "code",
   "execution_count": 32,
   "id": "95b8cbad",
   "metadata": {},
   "outputs": [
    {
     "data": {
      "text/plain": [
       "True"
      ]
     },
     "execution_count": 32,
     "metadata": {},
     "output_type": "execute_result"
    }
   ],
   "source": [
    "p_value < significance  #null hypothesis (H0) rejected"
   ]
  },
  {
   "cell_type": "code",
   "execution_count": null,
   "id": "99803b56",
   "metadata": {},
   "outputs": [],
   "source": []
  }
 ],
 "metadata": {
  "kernelspec": {
   "display_name": "parquet_env",
   "language": "python",
   "name": "parquet_env"
  },
  "language_info": {
   "codemirror_mode": {
    "name": "ipython",
    "version": 3
   },
   "file_extension": ".py",
   "mimetype": "text/x-python",
   "name": "python",
   "nbconvert_exporter": "python",
   "pygments_lexer": "ipython3",
   "version": "3.8.13"
  }
 },
 "nbformat": 4,
 "nbformat_minor": 5
}

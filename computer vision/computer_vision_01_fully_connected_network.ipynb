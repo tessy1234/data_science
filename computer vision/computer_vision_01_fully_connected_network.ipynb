{
 "cells": [
  {
   "cell_type": "markdown",
   "metadata": {},
   "source": [
    "# image classification of fashion MNIST using fully connected network"
   ]
  },
  {
   "cell_type": "code",
   "execution_count": 1,
   "metadata": {},
   "outputs": [],
   "source": [
    "import tensorflow as tf\n",
    "from tensorflow import keras"
   ]
  },
  {
   "cell_type": "code",
   "execution_count": 2,
   "metadata": {},
   "outputs": [],
   "source": [
    "import numpy as np\n",
    "import sklearn\n",
    "import pandas as pd"
   ]
  },
  {
   "cell_type": "code",
   "execution_count": 3,
   "metadata": {},
   "outputs": [],
   "source": [
    "import matplotlib as mpl\n",
    "import matplotlib.pyplot as plt\n",
    "\n",
    "mpl.rc('axes', labelsize=14)\n",
    "mpl.rc('xtick', labelsize=12)\n",
    "mpl.rc('ytick', labelsize=12)"
   ]
  },
  {
   "cell_type": "markdown",
   "metadata": {},
   "source": [
    "## load fashion MNIST dataset"
   ]
  },
  {
   "cell_type": "code",
   "execution_count": 4,
   "metadata": {},
   "outputs": [],
   "source": [
    "fashion_mnist = keras.datasets.fashion_mnist\n",
    "(X_train_full, y_train_full), (X_test, y_test) = fashion_mnist.load_data()"
   ]
  },
  {
   "cell_type": "code",
   "execution_count": 5,
   "metadata": {},
   "outputs": [],
   "source": [
    "X_valid, X_train = X_train_full[:5000] / 255., X_train_full[5000:] / 255.  #min-max scaling\n",
    "y_valid, y_train = y_train_full[:5000], y_train_full[5000:]\n",
    "X_test = X_test / 255."
   ]
  },
  {
   "cell_type": "code",
   "execution_count": 6,
   "metadata": {},
   "outputs": [],
   "source": [
    "class_names = [\"T-shirt/top\", \"Trouser\", \"Pullover\", \"Dress\", \"Coat\",\n",
    "               \"Sandal\", \"Shirt\", \"Sneaker\", \"Bag\", \"Ankle boot\"]"
   ]
  },
  {
   "cell_type": "markdown",
   "metadata": {},
   "source": [
    "## build model"
   ]
  },
  {
   "cell_type": "code",
   "execution_count": 7,
   "metadata": {},
   "outputs": [],
   "source": [
    "#fully connected network (FCN) also known as multilayer perceptron (MLP)."
   ]
  },
  {
   "cell_type": "code",
   "execution_count": 8,
   "metadata": {},
   "outputs": [],
   "source": [
    "model = keras.models.Sequential()\n",
    "model.add(keras.layers.Flatten(input_shape=[28, 28]))\n",
    "model.add(keras.layers.Dense(300, activation=\"relu\"))\n",
    "model.add(keras.layers.Dense(100, activation=\"relu\"))\n",
    "model.add(keras.layers.Dense(10, activation=\"softmax\"))"
   ]
  },
  {
   "cell_type": "markdown",
   "metadata": {},
   "source": [
    "## compile model"
   ]
  },
  {
   "cell_type": "code",
   "execution_count": 9,
   "metadata": {},
   "outputs": [],
   "source": [
    "model.compile(loss=\"sparse_categorical_crossentropy\",\n",
    "              optimizer=\"sgd\",\n",
    "              metrics=[\"accuracy\"])"
   ]
  },
  {
   "cell_type": "markdown",
   "metadata": {},
   "source": [
    "## train model"
   ]
  },
  {
   "cell_type": "code",
   "execution_count": 10,
   "metadata": {},
   "outputs": [
    {
     "name": "stdout",
     "output_type": "stream",
     "text": [
      "Epoch 1/30\n",
      "1719/1719 [==============================] - 16s 9ms/step - loss: 0.7196 - accuracy: 0.7609 - val_loss: 0.5235 - val_accuracy: 0.8192\n",
      "Epoch 2/30\n",
      "1719/1719 [==============================] - 15s 9ms/step - loss: 0.4943 - accuracy: 0.8285 - val_loss: 0.4681 - val_accuracy: 0.8400\n",
      "Epoch 3/30\n",
      "1719/1719 [==============================] - 15s 9ms/step - loss: 0.4482 - accuracy: 0.8445 - val_loss: 0.4092 - val_accuracy: 0.8610\n",
      "Epoch 4/30\n",
      "1719/1719 [==============================] - 15s 9ms/step - loss: 0.4178 - accuracy: 0.8535 - val_loss: 0.4062 - val_accuracy: 0.8610\n",
      "Epoch 5/30\n",
      "1719/1719 [==============================] - 15s 8ms/step - loss: 0.3982 - accuracy: 0.8610 - val_loss: 0.3777 - val_accuracy: 0.8710\n",
      "Epoch 6/30\n",
      "1719/1719 [==============================] - 16s 9ms/step - loss: 0.3811 - accuracy: 0.8659 - val_loss: 0.3892 - val_accuracy: 0.8632\n",
      "Epoch 7/30\n",
      "1719/1719 [==============================] - 15s 9ms/step - loss: 0.3676 - accuracy: 0.8701 - val_loss: 0.3637 - val_accuracy: 0.8710\n",
      "Epoch 8/30\n",
      "1719/1719 [==============================] - 15s 9ms/step - loss: 0.3549 - accuracy: 0.8734 - val_loss: 0.3632 - val_accuracy: 0.8724\n",
      "Epoch 9/30\n",
      "1719/1719 [==============================] - 29s 17ms/step - loss: 0.3450 - accuracy: 0.8771 - val_loss: 0.3448 - val_accuracy: 0.8790\n",
      "Epoch 10/30\n",
      "1719/1719 [==============================] - 16s 9ms/step - loss: 0.3348 - accuracy: 0.8797 - val_loss: 0.3509 - val_accuracy: 0.8742\n",
      "Epoch 11/30\n",
      "1719/1719 [==============================] - 78s 45ms/step - loss: 0.3255 - accuracy: 0.8838 - val_loss: 0.3344 - val_accuracy: 0.8788: 32s - loss: 0.3281 - accuracy: 0 - ETA: 3 - ETA: 31s - loss: 0. - ETA: 30s - loss: 0.3268  - ETA: 30s - loss - ETA: 30s - loss: 0.3268 - accuracy: - ETA: 24s - loss: 0\n",
      "Epoch 12/30\n",
      "1719/1719 [==============================] - 15s 9ms/step - loss: 0.3178 - accuracy: 0.8861 - val_loss: 0.3304 - val_accuracy: 0.8834\n",
      "Epoch 13/30\n",
      "1719/1719 [==============================] - 14s 8ms/step - loss: 0.3107 - accuracy: 0.8894 - val_loss: 0.3381 - val_accuracy: 0.8808\n",
      "Epoch 14/30\n",
      "1719/1719 [==============================] - 14s 8ms/step - loss: 0.3027 - accuracy: 0.8915 - val_loss: 0.3313 - val_accuracy: 0.8808\n",
      "Epoch 15/30\n",
      "1719/1719 [==============================] - 15s 9ms/step - loss: 0.2974 - accuracy: 0.8937 - val_loss: 0.3347 - val_accuracy: 0.8846\n",
      "Epoch 16/30\n",
      "1719/1719 [==============================] - 39s 23ms/step - loss: 0.2907 - accuracy: 0.8947 - val_loss: 0.3167 - val_accuracy: 0.8886-  - ETA: 0s - loss: 0.2906  - ETA: 0s - loss: 0.2905 -  - ETA: 0s - loss: 0.2906 - accuracy: 0.89 - ETA: 0s\n",
      "Epoch 17/30\n",
      "1719/1719 [==============================] - 147s 86ms/step - loss: 0.2850 - accuracy: 0.8980 - val_loss: 0.3212 - val_accuracy: 0.88467s -  - ETA: 38s - loss: 0.2823 - accuracy: 0.89 - ETA: 38s - loss: 0.282 - ETA: 38s - - ETA: 38s - loss: 0.2835 - accuracy:  - ETA - ETA: 28s - loss: 0.2839 - accuracy: 0 - ETA: 27s - loss: 0.2838 - accuracy: 0. - ETA: 27s - loss: 0.2838 - accuracy: 0.89 - ETA: 27s - loss: 0.2839 - accuracy:  - ETA: 27s - loss: 0.2838 - accuracy: 0.898 - ETA: 27s - loss: 0.2 - ETA: 26s - loss: 0.2833 - accuracy: 0.89 - ETA: 26s - los - ETA: 25s - loss: 0 - ETA: 23s - loss: 0.2834 - accuracy:  - ETA: 23s - loss: 0.2831 - accuracy: 0.89 - ETA: 23s - loss: 0.2831 - accuracy: 0.8 - ETA: 22s - loss: 0.2830 - accuracy:  - ETA: 22s - loss: 0.2828 - accuracy: 0. - ETA: 22s - loss: 0.2827 - accuracy: 0 - ETA: 22s - loss: 0.2830 - accur - ETA: 21s - loss:  - ETA: 19s - loss: 0.2824 \n",
      "Epoch 18/30\n",
      "1719/1719 [==============================] - 19s 11ms/step - loss: 0.2801 - accuracy: 0.8991 - val_loss: 0.3308 - val_accuracy: 0.8830\n",
      "Epoch 19/30\n",
      "1719/1719 [==============================] - 47s 27ms/step - loss: 0.2749 - accuracy: 0.9008 - val_loss: 0.3116 - val_accuracy: 0.8860\n",
      "Epoch 20/30\n",
      "1719/1719 [==============================] - 40s 23ms/step - loss: 0.2693 - accuracy: 0.9027 - val_loss: 0.3338 - val_accuracy: 0.8828\n",
      "Epoch 21/30\n",
      "1719/1719 [==============================] - 105s 61ms/step - loss: 0.2639 - accuracy: 0.9042 - val_loss: 0.3118 - val_accuracy: 0.8890- ETA: 3:21 - loss: 0.2781 - ac - ETA: 3: - ETA: 4:05 - loss: 0.2755 - ac - ETA:  - ETA: 2:29 - loss: 0.2630 - accuracy:  - ETA: 2:30 - loss: 0.2644 - accuracy - ETA: 2:30 - loss: 0.2636 -\n",
      "Epoch 22/30\n",
      "1719/1719 [==============================] - 17s 10ms/step - loss: 0.2590 - accuracy: 0.9061 - val_loss: 0.3076 - val_accuracy: 0.8892\n",
      "Epoch 23/30\n",
      "1719/1719 [==============================] - 30s 17ms/step - loss: 0.2539 - accuracy: 0.9085 - val_loss: 0.3123 - val_accuracy: 0.8894\n",
      "Epoch 24/30\n",
      "1719/1719 [==============================] - 140s 82ms/step - loss: 0.2501 - accuracy: 0.9093 - val_loss: 0.3103 - val_accuracy: 0.8870\n",
      "Epoch 25/30\n",
      "1719/1719 [==============================] - 15s 9ms/step - loss: 0.2458 - accuracy: 0.9106 - val_loss: 0.3039 - val_accuracy: 0.8896\n",
      "Epoch 26/30\n",
      "1719/1719 [==============================] - 16s 9ms/step - loss: 0.2410 - accuracy: 0.9129 - val_loss: 0.3088 - val_accuracy: 0.8914\n",
      "Epoch 27/30\n",
      "1719/1719 [==============================] - 17s 10ms/step - loss: 0.2376 - accuracy: 0.9141 - val_loss: 0.3070 - val_accuracy: 0.8902\n",
      "Epoch 28/30\n",
      "1719/1719 [==============================] - 141s 82ms/step - loss: 0.2340 - accuracy: 0.9150 - val_loss: 0.2998 - val_accuracy: 0.8948ss: 0.2 - ETA: - ETA: 19s - lo - ETA: 28s - loss: 0.2348 - accuracy: 0.91 - ETA: 2 - ETA: 31s - loss: 0.23 - ETA: 32s - lo - ETA: 33s - loss: 0.2347 - ac  - ETA: 33s - loss: 0.2344 - accu - ETA: 33s - loss: 0.2348 - accuracy: 0.915 - ETA: 33s - loss: 0.2348 - accur - ETA: 33s - loss: 0.2345 - accuracy: 0 - ETA: 33s - loss: 0.2347 - accuracy: 0.915 - ETA: 33s - loss: 0. - ETA: 32s - loss: 0.2355 - accuracy - ETA: 32s - loss: 0 - ETA: 32s - los - ETA: 31s - loss: 0.2352 - ac - ETA: 30s - loss: 0.2348 - accuracy - ETA: 30s - loss: 0.2348 - accuracy: 0.915 - ETA: 30s - loss: 0.2347 - accuracy: 0.915 - ETA: 30s - loss: 0.2348 - accuracy: 0. - ETA: 30s - loss: 0.2346 - accuracy: 0. - ETA: 29s -  - ETA: 16s - los - ETA: 7s - l - E - ETA: 2s - loss: 0.2344 -  - ETA: 2s - loss: 0 - ETA: 0s - loss: 0.2340 - accuracy: 0.91 - ETA: 0s - loss: 0.2340 - accuracy: 0.91\n",
      "Epoch 29/30\n",
      "1719/1719 [==============================] - 29s 17ms/step - loss: 0.2294 - accuracy: 0.9167 - val_loss: 0.3098 - val_accuracy: 0.8920\n",
      "Epoch 30/30\n",
      "1719/1719 [==============================] - 16s 9ms/step - loss: 0.2266 - accuracy: 0.9184 - val_loss: 0.2983 - val_accuracy: 0.8936\n"
     ]
    }
   ],
   "source": [
    "history = model.fit(X_train, y_train, epochs=30, validation_data=(X_valid, y_valid))"
   ]
  },
  {
   "cell_type": "markdown",
   "metadata": {},
   "source": [
    "## learning curves"
   ]
  },
  {
   "cell_type": "code",
   "execution_count": 11,
   "metadata": {},
   "outputs": [
    {
     "data": {
      "image/png": "[encoded data removed]",
      "text/plain": [
       "<Figure size 576x360 with 1 Axes>"
      ]
     },
     "metadata": {
      "needs_background": "light"
     },
     "output_type": "display_data"
    }
   ],
   "source": [
    "pd.DataFrame(history.history).plot(figsize=(8, 5))\n",
    "plt.grid(True)\n",
    "plt.gca().set_ylim(0, 1)\n",
    "plt.show()"
   ]
  },
  {
   "cell_type": "code",
   "execution_count": 12,
   "metadata": {},
   "outputs": [
    {
     "data": {
      "text/plain": [
       "dict_keys(['loss', 'accuracy', 'val_loss', 'val_accuracy'])"
      ]
     },
     "execution_count": 12,
     "metadata": {},
     "output_type": "execute_result"
    }
   ],
   "source": [
    "history.history.keys()"
   ]
  },
  {
   "cell_type": "code",
   "execution_count": 13,
   "metadata": {},
   "outputs": [],
   "source": [
    "val_acc = history.history['val_accuracy']"
   ]
  },
  {
   "cell_type": "code",
   "execution_count": 14,
   "metadata": {},
   "outputs": [
    {
     "data": {
      "text/plain": [
       "27"
      ]
     },
     "execution_count": 14,
     "metadata": {},
     "output_type": "execute_result"
    }
   ],
   "source": [
    "np.argmax(val_acc) #epoch position of maximum; attention: position counted from zero; training output counted from one."
   ]
  },
  {
   "cell_type": "code",
   "execution_count": 15,
   "metadata": {},
   "outputs": [
    {
     "data": {
      "text/plain": [
       "0.8948"
      ]
     },
     "execution_count": 15,
     "metadata": {},
     "output_type": "execute_result"
    }
   ],
   "source": [
    "round(np.max(val_acc),4)"
   ]
  },
  {
   "cell_type": "markdown",
   "metadata": {},
   "source": [
    "## evaluate model"
   ]
  },
  {
   "cell_type": "code",
   "execution_count": 16,
   "metadata": {},
   "outputs": [],
   "source": [
    "#check generalization accuracy on the test set"
   ]
  },
  {
   "cell_type": "code",
   "execution_count": 17,
   "metadata": {},
   "outputs": [
    {
     "name": "stdout",
     "output_type": "stream",
     "text": [
      "313/313 [==============================] - ETA: 0s - loss: 0.3232 - accuracy: 0.88 - 2s 5ms/step - loss: 0.3226 - accuracy: 0.8846\n"
     ]
    }
   ],
   "source": [
    "score = model.evaluate(X_test, y_test)"
   ]
  },
  {
   "cell_type": "code",
   "execution_count": 18,
   "metadata": {},
   "outputs": [
    {
     "data": {
      "text/plain": [
       "0.8846"
      ]
     },
     "execution_count": 18,
     "metadata": {},
     "output_type": "execute_result"
    }
   ],
   "source": [
    "round(score[1],4)"
   ]
  },
  {
   "cell_type": "markdown",
   "metadata": {},
   "source": [
    "## prediction"
   ]
  },
  {
   "cell_type": "code",
   "execution_count": 24,
   "metadata": {},
   "outputs": [],
   "source": [
    "X_new = X_test[:10]  #new instances taken from test set"
   ]
  },
  {
   "cell_type": "code",
   "execution_count": 25,
   "metadata": {},
   "outputs": [
    {
     "data": {
      "text/plain": [
       "array([9, 2, 1, 1, 6, 1, 4, 6, 5, 7], dtype=int64)"
      ]
     },
     "execution_count": 25,
     "metadata": {},
     "output_type": "execute_result"
    }
   ],
   "source": [
    "y_pred = np.argmax(model.predict(X_new), axis=-1)\n",
    "y_pred"
   ]
  },
  {
   "cell_type": "code",
   "execution_count": 26,
   "metadata": {},
   "outputs": [
    {
     "data": {
      "text/plain": [
       "array([9, 2, 1, 1, 6, 1, 4, 6, 5, 7], dtype=uint8)"
      ]
     },
     "execution_count": 26,
     "metadata": {},
     "output_type": "execute_result"
    }
   ],
   "source": [
    "y_test[:10]  #check prediction"
   ]
  },
  {
   "cell_type": "code",
   "execution_count": 27,
   "metadata": {},
   "outputs": [
    {
     "data": {
      "text/plain": [
       "array(['Ankle boot', 'Pullover', 'Trouser', 'Trouser', 'Shirt', 'Trouser',\n",
       "       'Coat', 'Shirt', 'Sandal', 'Sneaker'], dtype='<U11')"
      ]
     },
     "execution_count": 27,
     "metadata": {},
     "output_type": "execute_result"
    }
   ],
   "source": [
    "np.array(class_names)[y_pred]  #convert class index to class name"
   ]
  },
  {
   "cell_type": "code",
   "execution_count": 28,
   "metadata": {},
   "outputs": [
    {
     "data": {
      "image/png": "[encoded data removed]",
      "text/plain": [
       "<Figure size 432x288 with 1 Axes>"
      ]
     },
     "metadata": {
      "needs_background": "light"
     },
     "output_type": "display_data"
    }
   ],
   "source": [
    "plt.imshow(X_new[0], cmap=\"binary\", interpolation=\"nearest\")\n",
    "plt.title(class_names[y_test[0]], fontsize=12)\n",
    "plt.show()"
   ]
  },
  {
   "cell_type": "code",
   "execution_count": null,
   "metadata": {},
   "outputs": [],
   "source": []
  }
 ],
 "metadata": {
  "kernelspec": {
   "display_name": "tensorflow22_env",
   "language": "python",
   "name": "tensorflow22_env"
  },
  "language_info": {
   "codemirror_mode": {
    "name": "ipython",
    "version": 3
   },
   "file_extension": ".py",
   "mimetype": "text/x-python",
   "name": "python",
   "nbconvert_exporter": "python",
   "pygments_lexer": "ipython3",
   "version": "3.7.7"
  }
 },
 "nbformat": 4,
 "nbformat_minor": 4
}

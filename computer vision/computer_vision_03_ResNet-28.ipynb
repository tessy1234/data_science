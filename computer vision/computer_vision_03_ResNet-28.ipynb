{
 "cells": [
  {
   "cell_type": "markdown",
   "metadata": {
    "id": "pGWvtGqvd_s9"
   },
   "source": [
    "# image classification of fashion MNIST using residual network "
   ]
  },
  {
   "cell_type": "code",
   "execution_count": 40,
   "metadata": {
    "executionInfo": {
     "elapsed": 954,
     "status": "ok",
     "timestamp": 1618250479048,
     "user": {
      "displayName": "josef",
      "photoUrl": "",
      "userId": "01549770466407113647"
     },
     "user_tz": -120
    },
    "id": "t4NLBpIpd_tM"
   },
   "outputs": [],
   "source": [
    "import tensorflow as tf\n",
    "from tensorflow import keras"
   ]
  },
  {
   "cell_type": "code",
   "execution_count": 41,
   "metadata": {
    "executionInfo": {
     "elapsed": 1407,
     "status": "ok",
     "timestamp": 1618250479510,
     "user": {
      "displayName": "josef",
      "photoUrl": "",
      "userId": "01549770466407113647"
     },
     "user_tz": -120
    },
    "id": "mjpxxbTWd_tO"
   },
   "outputs": [],
   "source": [
    "import numpy as np\n",
    "import sklearn\n",
    "import pandas as pd"
   ]
  },
  {
   "cell_type": "code",
   "execution_count": 42,
   "metadata": {
    "executionInfo": {
     "elapsed": 1402,
     "status": "ok",
     "timestamp": 1618250479512,
     "user": {
      "displayName": "josef",
      "photoUrl": "",
      "userId": "01549770466407113647"
     },
     "user_tz": -120
    },
    "id": "tKo0A6swd_tQ"
   },
   "outputs": [],
   "source": [
    "import matplotlib as mpl\n",
    "import matplotlib.pyplot as plt\n",
    "\n",
    "mpl.rc('axes', labelsize=14)\n",
    "mpl.rc('xtick', labelsize=12)\n",
    "mpl.rc('ytick', labelsize=12)"
   ]
  },
  {
   "cell_type": "markdown",
   "metadata": {
    "id": "1XBMPDyrd_tR"
   },
   "source": [
    "## load fashion MNIST dataset"
   ]
  },
  {
   "cell_type": "code",
   "execution_count": 43,
   "metadata": {
    "executionInfo": {
     "elapsed": 1918,
     "status": "ok",
     "timestamp": 1618250480033,
     "user": {
      "displayName": "josef",
      "photoUrl": "",
      "userId": "01549770466407113647"
     },
     "user_tz": -120
    },
    "id": "U1mGxP5od_tT"
   },
   "outputs": [],
   "source": [
    "fashion_mnist = keras.datasets.fashion_mnist\n",
    "(X_train_full, y_train_full), (X_test, y_test) = fashion_mnist.load_data()"
   ]
  },
  {
   "cell_type": "code",
   "execution_count": 44,
   "metadata": {
    "executionInfo": {
     "elapsed": 1915,
     "status": "ok",
     "timestamp": 1618250480035,
     "user": {
      "displayName": "josef",
      "photoUrl": "",
      "userId": "01549770466407113647"
     },
     "user_tz": -120
    },
    "id": "7bu-AT45d_tU"
   },
   "outputs": [],
   "source": [
    "X_train, X_valid = X_train_full[:-5000], X_train_full[-5000:]\n",
    "y_train, y_valid = y_train_full[:-5000], y_train_full[-5000:]"
   ]
  },
  {
   "cell_type": "markdown",
   "metadata": {
    "id": "HbGTERgLd_tU"
   },
   "source": [
    "## scale dataset"
   ]
  },
  {
   "cell_type": "code",
   "execution_count": 45,
   "metadata": {
    "executionInfo": {
     "elapsed": 2398,
     "status": "ok",
     "timestamp": 1618250480524,
     "user": {
      "displayName": "josef",
      "photoUrl": "",
      "userId": "01549770466407113647"
     },
     "user_tz": -120
    },
    "id": "RE5MbPEld_tV"
   },
   "outputs": [],
   "source": [
    "X_mean = X_train.mean(axis=0, keepdims=True)\n",
    "X_std = X_train.std(axis=0, keepdims=True) + 1e-7\n",
    "X_train = (X_train - X_mean) / X_std\n",
    "X_valid = (X_valid - X_mean) / X_std\n",
    "X_test = (X_test - X_mean) / X_std\n",
    "\n",
    "X_train = X_train[..., np.newaxis]\n",
    "X_valid = X_valid[..., np.newaxis]\n",
    "X_test = X_test[..., np.newaxis]"
   ]
  },
  {
   "cell_type": "code",
   "execution_count": 46,
   "metadata": {
    "executionInfo": {
     "elapsed": 2396,
     "status": "ok",
     "timestamp": 1618250480527,
     "user": {
      "displayName": "josef",
      "photoUrl": "",
      "userId": "01549770466407113647"
     },
     "user_tz": -120
    },
    "id": "A6onY-07d_tX"
   },
   "outputs": [],
   "source": [
    "class_names = [\"T-shirt/top\", \"Trouser\", \"Pullover\", \"Dress\", \"Coat\",\n",
    "               \"Sandal\", \"Shirt\", \"Sneaker\", \"Bag\", \"Ankle boot\"]"
   ]
  },
  {
   "cell_type": "markdown",
   "metadata": {
    "id": "0ICtDLsZd_tY"
   },
   "source": [
    "## build model"
   ]
  },
  {
   "cell_type": "code",
   "execution_count": 47,
   "metadata": {
    "executionInfo": {
     "elapsed": 2393,
     "status": "ok",
     "timestamp": 1618250480528,
     "user": {
      "displayName": "josef",
      "photoUrl": "",
      "userId": "01549770466407113647"
     },
     "user_tz": -120
    },
    "id": "E9X8WR0kd_tc"
   },
   "outputs": [],
   "source": [
    "#residual network (ResNet)"
   ]
  },
  {
   "cell_type": "code",
   "execution_count": 48,
   "metadata": {
    "executionInfo": {
     "elapsed": 2391,
     "status": "ok",
     "timestamp": 1618250480530,
     "user": {
      "displayName": "josef",
      "photoUrl": "",
      "userId": "01549770466407113647"
     },
     "user_tz": -120
    },
    "id": "BuCkzZWKd_tc"
   },
   "outputs": [],
   "source": [
    "from functools import partial\n",
    "\n",
    "DefaultConv2D = partial(keras.layers.Conv2D, kernel_size=3, strides=1,\n",
    "                        padding=\"SAME\", use_bias=False)\n",
    "\n",
    "class ResidualUnit(keras.layers.Layer):\n",
    "    def __init__(self, filters, strides=1, activation=\"relu\", **kwargs):\n",
    "        super().__init__(**kwargs)\n",
    "        self.activation = keras.activations.get(activation)\n",
    "        self.main_layers = [\n",
    "            DefaultConv2D(filters, strides=strides),\n",
    "            keras.layers.BatchNormalization(),\n",
    "            self.activation,\n",
    "            DefaultConv2D(filters),\n",
    "            keras.layers.BatchNormalization()]\n",
    "        self.skip_layers = []\n",
    "        if strides > 1:\n",
    "            self.skip_layers = [\n",
    "                DefaultConv2D(filters, kernel_size=1, strides=strides),\n",
    "                keras.layers.BatchNormalization()]\n",
    "\n",
    "    def call(self, inputs):\n",
    "        Z = inputs\n",
    "        for layer in self.main_layers:\n",
    "            Z = layer(Z)\n",
    "        skip_Z = inputs\n",
    "        for layer in self.skip_layers:\n",
    "            skip_Z = layer(skip_Z)\n",
    "        return self.activation(Z + skip_Z)"
   ]
  },
  {
   "cell_type": "code",
   "execution_count": 49,
   "metadata": {
    "executionInfo": {
     "elapsed": 3063,
     "status": "ok",
     "timestamp": 1618250481208,
     "user": {
      "displayName": "josef",
      "photoUrl": "",
      "userId": "01549770466407113647"
     },
     "user_tz": -120
    },
    "id": "l-xDsCJF337-"
   },
   "outputs": [],
   "source": [
    "model = keras.models.Sequential()\n",
    "model.add(DefaultConv2D(64, kernel_size=3, strides=1,  #default: kernel_size=7, strides=2\n",
    "                        input_shape=[28, 28, 1]))\n",
    "model.add(keras.layers.BatchNormalization())\n",
    "model.add(keras.layers.Activation(\"relu\"))\n",
    "model.add(keras.layers.MaxPool2D(pool_size=2, strides=2, padding=\"SAME\"))  #default: pool_size=3, strides=2\n",
    "prev_filters = 64\n",
    "for filters in [64] * 3 + [128] * 4 + [256] * 6:   #default:  + [512] * 3\n",
    "    strides = 1 if filters == prev_filters else 2\n",
    "    model.add(ResidualUnit(filters, strides=strides))\n",
    "    prev_filters = filters\n",
    "model.add(keras.layers.GlobalAvgPool2D())\n",
    "model.add(keras.layers.Flatten())\n",
    "model.add(keras.layers.Dense(10, activation=\"softmax\"))"
   ]
  },
  {
   "cell_type": "code",
   "execution_count": 50,
   "metadata": {
    "colab": {
     "base_uri": "https://localhost:8080/"
    },
    "executionInfo": {
     "elapsed": 3063,
     "status": "ok",
     "timestamp": 1618250481211,
     "user": {
      "displayName": "josef",
      "photoUrl": "",
      "userId": "01549770466407113647"
     },
     "user_tz": -120
    },
    "id": "YLGOnN01L-ki",
    "outputId": "dcc8adda-1929-418a-fc2c-3edbe3afe2e9"
   },
   "outputs": [
    {
     "name": "stdout",
     "output_type": "stream",
     "text": [
      "Model: \"sequential_2\"\n",
      "_________________________________________________________________\n",
      "Layer (type)                 Output Shape              Param #   \n",
      "=================================================================\n",
      "conv2d_65 (Conv2D)           (None, 28, 28, 64)        576       \n",
      "_________________________________________________________________\n",
      "batch_normalization_65 (Batc (None, 28, 28, 64)        256       \n",
      "_________________________________________________________________\n",
      "activation_2 (Activation)    (None, 28, 28, 64)        0         \n",
      "_________________________________________________________________\n",
      "max_pooling2d_2 (MaxPooling2 (None, 14, 14, 64)        0         \n",
      "_________________________________________________________________\n",
      "residual_unit_29 (ResidualUn (None, 14, 14, 64)        74240     \n",
      "_________________________________________________________________\n",
      "residual_unit_30 (ResidualUn (None, 14, 14, 64)        74240     \n",
      "_________________________________________________________________\n",
      "residual_unit_31 (ResidualUn (None, 14, 14, 64)        74240     \n",
      "_________________________________________________________________\n",
      "residual_unit_32 (ResidualUn (None, 7, 7, 128)         230912    \n",
      "_________________________________________________________________\n",
      "residual_unit_33 (ResidualUn (None, 7, 7, 128)         295936    \n",
      "_________________________________________________________________\n",
      "residual_unit_34 (ResidualUn (None, 7, 7, 128)         295936    \n",
      "_________________________________________________________________\n",
      "residual_unit_35 (ResidualUn (None, 7, 7, 128)         295936    \n",
      "_________________________________________________________________\n",
      "residual_unit_36 (ResidualUn (None, 4, 4, 256)         920576    \n",
      "_________________________________________________________________\n",
      "residual_unit_37 (ResidualUn (None, 4, 4, 256)         1181696   \n",
      "_________________________________________________________________\n",
      "residual_unit_38 (ResidualUn (None, 4, 4, 256)         1181696   \n",
      "_________________________________________________________________\n",
      "residual_unit_39 (ResidualUn (None, 4, 4, 256)         1181696   \n",
      "_________________________________________________________________\n",
      "residual_unit_40 (ResidualUn (None, 4, 4, 256)         1181696   \n",
      "_________________________________________________________________\n",
      "residual_unit_41 (ResidualUn (None, 4, 4, 256)         1181696   \n",
      "_________________________________________________________________\n",
      "global_average_pooling2d_2 ( (None, 256)               0         \n",
      "_________________________________________________________________\n",
      "flatten_2 (Flatten)          (None, 256)               0         \n",
      "_________________________________________________________________\n",
      "dense_2 (Dense)              (None, 10)                2570      \n",
      "=================================================================\n",
      "Total params: 8,173,898\n",
      "Trainable params: 8,164,042\n",
      "Non-trainable params: 9,856\n",
      "_________________________________________________________________\n"
     ]
    }
   ],
   "source": [
    "model.summary()"
   ]
  },
  {
   "cell_type": "markdown",
   "metadata": {
    "id": "7TUSSvJvd_td"
   },
   "source": [
    "## compile model"
   ]
  },
  {
   "cell_type": "code",
   "execution_count": 51,
   "metadata": {
    "executionInfo": {
     "elapsed": 3057,
     "status": "ok",
     "timestamp": 1618250481213,
     "user": {
      "displayName": "josef",
      "photoUrl": "",
      "userId": "01549770466407113647"
     },
     "user_tz": -120
    },
    "id": "2hOHlcb2d_te"
   },
   "outputs": [],
   "source": [
    "model.compile(loss=\"sparse_categorical_crossentropy\", optimizer=\"nadam\", metrics=[\"accuracy\"])"
   ]
  },
  {
   "cell_type": "markdown",
   "metadata": {
    "id": "RTO8ouiyd_tf"
   },
   "source": [
    "## train model"
   ]
  },
  {
   "cell_type": "code",
   "execution_count": 52,
   "metadata": {
    "colab": {
     "base_uri": "https://localhost:8080/"
    },
    "executionInfo": {
     "elapsed": 1908896,
     "status": "ok",
     "timestamp": 1618252387057,
     "user": {
      "displayName": "josef",
      "photoUrl": "",
      "userId": "01549770466407113647"
     },
     "user_tz": -120
    },
    "id": "ZLBojEmXd_tf",
    "outputId": "00dafe11-289e-414d-ea69-8294b2d26428"
   },
   "outputs": [
    {
     "name": "stdout",
     "output_type": "stream",
     "text": [
      "Epoch 1/10\n",
      "1719/1719 [==============================] - 217s 121ms/step - loss: 0.5898 - accuracy: 0.8084 - val_loss: 0.3427 - val_accuracy: 0.8768\n",
      "Epoch 2/10\n",
      "1719/1719 [==============================] - 189s 110ms/step - loss: 0.2673 - accuracy: 0.9032 - val_loss: 0.2615 - val_accuracy: 0.9002\n",
      "Epoch 3/10\n",
      "1719/1719 [==============================] - 188s 110ms/step - loss: 0.2275 - accuracy: 0.9188 - val_loss: 0.2316 - val_accuracy: 0.9140\n",
      "Epoch 4/10\n",
      "1719/1719 [==============================] - 188s 109ms/step - loss: 0.1921 - accuracy: 0.9296 - val_loss: 0.2132 - val_accuracy: 0.9196\n",
      "Epoch 5/10\n",
      "1719/1719 [==============================] - 187s 109ms/step - loss: 0.1690 - accuracy: 0.9392 - val_loss: 0.2205 - val_accuracy: 0.9188\n",
      "Epoch 6/10\n",
      "1719/1719 [==============================] - 188s 109ms/step - loss: 0.1368 - accuracy: 0.9487 - val_loss: 0.2481 - val_accuracy: 0.9168\n",
      "Epoch 7/10\n",
      "1719/1719 [==============================] - 186s 108ms/step - loss: 0.1165 - accuracy: 0.9572 - val_loss: 0.2274 - val_accuracy: 0.9266\n",
      "Epoch 8/10\n",
      "1719/1719 [==============================] - 187s 109ms/step - loss: 0.0908 - accuracy: 0.9664 - val_loss: 0.2474 - val_accuracy: 0.9192\n",
      "Epoch 9/10\n",
      "1719/1719 [==============================] - 188s 109ms/step - loss: 0.0714 - accuracy: 0.9735 - val_loss: 0.2414 - val_accuracy: 0.9240\n",
      "Epoch 10/10\n",
      "1719/1719 [==============================] - 187s 109ms/step - loss: 0.0543 - accuracy: 0.9810 - val_loss: 0.2661 - val_accuracy: 0.9272\n"
     ]
    }
   ],
   "source": [
    "history = model.fit(X_train, y_train, epochs=10, validation_data=(X_valid, y_valid))"
   ]
  },
  {
   "cell_type": "markdown",
   "metadata": {
    "id": "E38DB9Y7d_ti"
   },
   "source": [
    "## learning curves"
   ]
  },
  {
   "cell_type": "code",
   "execution_count": 53,
   "metadata": {
    "colab": {
     "base_uri": "https://localhost:8080/",
     "height": 328
    },
    "executionInfo": {
     "elapsed": 1908894,
     "status": "ok",
     "timestamp": 1618252387060,
     "user": {
      "displayName": "josef",
      "photoUrl": "",
      "userId": "01549770466407113647"
     },
     "user_tz": -120
    },
    "id": "e19A_mnVd_tj",
    "outputId": "c2a07945-20df-43a6-95da-b61eafa83499"
   },
   "outputs": [
    {
     "data": {
      "image/png": "[encoded data removed]",
      "text/plain": [
       "<Figure size 576x360 with 1 Axes>"
      ]
     },
     "metadata": {
      "needs_background": "light",
      "tags": []
     },
     "output_type": "display_data"
    }
   ],
   "source": [
    "pd.DataFrame(history.history).plot(figsize=(8, 5))\n",
    "plt.grid(True)\n",
    "plt.gca().set_ylim(0, 1)\n",
    "plt.show()"
   ]
  },
  {
   "cell_type": "code",
   "execution_count": 54,
   "metadata": {
    "colab": {
     "base_uri": "https://localhost:8080/"
    },
    "executionInfo": {
     "elapsed": 1908893,
     "status": "ok",
     "timestamp": 1618252387062,
     "user": {
      "displayName": "josef",
      "photoUrl": "",
      "userId": "01549770466407113647"
     },
     "user_tz": -120
    },
    "id": "GwRHK4gAd_tk",
    "outputId": "f9ecc980-67f8-472d-9233-29cdc78ff28f"
   },
   "outputs": [
    {
     "data": {
      "text/plain": [
       "dict_keys(['loss', 'accuracy', 'val_loss', 'val_accuracy'])"
      ]
     },
     "execution_count": 54,
     "metadata": {
      "tags": []
     },
     "output_type": "execute_result"
    }
   ],
   "source": [
    "history.history.keys()"
   ]
  },
  {
   "cell_type": "code",
   "execution_count": 55,
   "metadata": {
    "executionInfo": {
     "elapsed": 1908892,
     "status": "ok",
     "timestamp": 1618252387064,
     "user": {
      "displayName": "josef",
      "photoUrl": "",
      "userId": "01549770466407113647"
     },
     "user_tz": -120
    },
    "id": "qWuqVL92d_tl"
   },
   "outputs": [],
   "source": [
    "val_acc = history.history['val_accuracy']"
   ]
  },
  {
   "cell_type": "code",
   "execution_count": 56,
   "metadata": {
    "colab": {
     "base_uri": "https://localhost:8080/"
    },
    "executionInfo": {
     "elapsed": 1908890,
     "status": "ok",
     "timestamp": 1618252387067,
     "user": {
      "displayName": "josef",
      "photoUrl": "",
      "userId": "01549770466407113647"
     },
     "user_tz": -120
    },
    "id": "E0fx-wIdd_tm",
    "outputId": "adbe68af-4c71-411d-fe34-aa4aa40cd447"
   },
   "outputs": [
    {
     "data": {
      "text/plain": [
       "9"
      ]
     },
     "execution_count": 56,
     "metadata": {
      "tags": []
     },
     "output_type": "execute_result"
    }
   ],
   "source": [
    "np.argmax(val_acc) #epoch position of maximum; attention: position counted from zero; training output counted from one."
   ]
  },
  {
   "cell_type": "code",
   "execution_count": 57,
   "metadata": {
    "colab": {
     "base_uri": "https://localhost:8080/"
    },
    "executionInfo": {
     "elapsed": 1908888,
     "status": "ok",
     "timestamp": 1618252387068,
     "user": {
      "displayName": "josef",
      "photoUrl": "",
      "userId": "01549770466407113647"
     },
     "user_tz": -120
    },
    "id": "9uzAGjfkd_tn",
    "outputId": "9450160d-555d-4f96-c5a6-27e1c67433e1"
   },
   "outputs": [
    {
     "data": {
      "text/plain": [
       "0.9272"
      ]
     },
     "execution_count": 57,
     "metadata": {
      "tags": []
     },
     "output_type": "execute_result"
    }
   ],
   "source": [
    "round(np.max(val_acc),4)"
   ]
  },
  {
   "cell_type": "markdown",
   "metadata": {
    "id": "cqN6Gb2-d_tn"
   },
   "source": [
    "## evaluate model"
   ]
  },
  {
   "cell_type": "code",
   "execution_count": 58,
   "metadata": {
    "executionInfo": {
     "elapsed": 1908886,
     "status": "ok",
     "timestamp": 1618252387070,
     "user": {
      "displayName": "josef",
      "photoUrl": "",
      "userId": "01549770466407113647"
     },
     "user_tz": -120
    },
    "id": "jhpTVtI1d_to"
   },
   "outputs": [],
   "source": [
    "#check generalization accuracy on the test set"
   ]
  },
  {
   "cell_type": "code",
   "execution_count": 59,
   "metadata": {
    "colab": {
     "base_uri": "https://localhost:8080/"
    },
    "executionInfo": {
     "elapsed": 1915307,
     "status": "ok",
     "timestamp": 1618252393501,
     "user": {
      "displayName": "josef",
      "photoUrl": "",
      "userId": "01549770466407113647"
     },
     "user_tz": -120
    },
    "id": "6eijC5Rwd_tp",
    "outputId": "18c5f895-24f9-4257-9708-eace6652a35a"
   },
   "outputs": [
    {
     "name": "stdout",
     "output_type": "stream",
     "text": [
      "313/313 [==============================] - 7s 21ms/step - loss: 0.2839 - accuracy: 0.9214\n"
     ]
    }
   ],
   "source": [
    "score = model.evaluate(X_test, y_test)"
   ]
  },
  {
   "cell_type": "code",
   "execution_count": 60,
   "metadata": {
    "colab": {
     "base_uri": "https://localhost:8080/"
    },
    "executionInfo": {
     "elapsed": 1915301,
     "status": "ok",
     "timestamp": 1618252393503,
     "user": {
      "displayName": "josef",
      "photoUrl": "",
      "userId": "01549770466407113647"
     },
     "user_tz": -120
    },
    "id": "ro9VFjETqLK8",
    "outputId": "209d94aa-244d-49c8-fbf4-32e0fe53ee33"
   },
   "outputs": [
    {
     "data": {
      "text/plain": [
       "0.9214"
      ]
     },
     "execution_count": 60,
     "metadata": {
      "tags": []
     },
     "output_type": "execute_result"
    }
   ],
   "source": [
    "round(score[1],4)"
   ]
  },
  {
   "cell_type": "markdown",
   "metadata": {
    "id": "K-24mY0md_tp"
   },
   "source": [
    "## prediction"
   ]
  },
  {
   "cell_type": "code",
   "execution_count": 61,
   "metadata": {
    "executionInfo": {
     "elapsed": 1915296,
     "status": "ok",
     "timestamp": 1618252393505,
     "user": {
      "displayName": "josef",
      "photoUrl": "",
      "userId": "01549770466407113647"
     },
     "user_tz": -120
    },
    "id": "kP23g2D9d_tp"
   },
   "outputs": [],
   "source": [
    "X_new = X_test[:10]  #new instances taken from test set"
   ]
  },
  {
   "cell_type": "code",
   "execution_count": 62,
   "metadata": {
    "colab": {
     "base_uri": "https://localhost:8080/"
    },
    "executionInfo": {
     "elapsed": 1916767,
     "status": "ok",
     "timestamp": 1618252394983,
     "user": {
      "displayName": "josef",
      "photoUrl": "",
      "userId": "01549770466407113647"
     },
     "user_tz": -120
    },
    "id": "xNrdE_nPd_tq",
    "outputId": "0f1e069e-5492-46fb-a2af-1b130eed7569"
   },
   "outputs": [
    {
     "data": {
      "text/plain": [
       "array([9, 2, 1, 1, 6, 1, 4, 6, 5, 7])"
      ]
     },
     "execution_count": 62,
     "metadata": {
      "tags": []
     },
     "output_type": "execute_result"
    }
   ],
   "source": [
    "y_pred = np.argmax(model.predict(X_new), axis=-1)\n",
    "y_pred"
   ]
  },
  {
   "cell_type": "code",
   "execution_count": 63,
   "metadata": {
    "colab": {
     "base_uri": "https://localhost:8080/"
    },
    "executionInfo": {
     "elapsed": 1916761,
     "status": "ok",
     "timestamp": 1618252394986,
     "user": {
      "displayName": "josef",
      "photoUrl": "",
      "userId": "01549770466407113647"
     },
     "user_tz": -120
    },
    "id": "t0xCDcQDd_tq",
    "outputId": "94ca7705-71d2-4fbd-a605-2fd46fe41e6a"
   },
   "outputs": [
    {
     "data": {
      "text/plain": [
       "array([9, 2, 1, 1, 6, 1, 4, 6, 5, 7], dtype=uint8)"
      ]
     },
     "execution_count": 63,
     "metadata": {
      "tags": []
     },
     "output_type": "execute_result"
    }
   ],
   "source": [
    "y_test[:10]  #check prediction"
   ]
  },
  {
   "cell_type": "code",
   "execution_count": 64,
   "metadata": {
    "colab": {
     "base_uri": "https://localhost:8080/"
    },
    "executionInfo": {
     "elapsed": 1916756,
     "status": "ok",
     "timestamp": 1618252394987,
     "user": {
      "displayName": "josef",
      "photoUrl": "",
      "userId": "01549770466407113647"
     },
     "user_tz": -120
    },
    "id": "t78_iZrod_tr",
    "outputId": "315075c8-e231-46f3-b70f-c68131e26350"
   },
   "outputs": [
    {
     "data": {
      "text/plain": [
       "array(['Ankle boot', 'Pullover', 'Trouser', 'Trouser', 'Shirt', 'Trouser',\n",
       "       'Coat', 'Shirt', 'Sandal', 'Sneaker'], dtype='<U11')"
      ]
     },
     "execution_count": 64,
     "metadata": {
      "tags": []
     },
     "output_type": "execute_result"
    }
   ],
   "source": [
    "np.array(class_names)[y_pred]  #convert class index to class name"
   ]
  },
  {
   "cell_type": "code",
   "execution_count": 65,
   "metadata": {
    "colab": {
     "base_uri": "https://localhost:8080/",
     "height": 284
    },
    "executionInfo": {
     "elapsed": 1916749,
     "status": "ok",
     "timestamp": 1618252394989,
     "user": {
      "displayName": "josef",
      "photoUrl": "",
      "userId": "01549770466407113647"
     },
     "user_tz": -120
    },
    "id": "eB49QVoLd_tr",
    "outputId": "f9ad0c08-858a-4914-ed1f-d0dbc10d251f"
   },
   "outputs": [
    {
     "data": {
      "image/png": "[encoded data removed]",
      "text/plain": [
       "<Figure size 432x288 with 1 Axes>"
      ]
     },
     "metadata": {
      "needs_background": "light",
      "tags": []
     },
     "output_type": "display_data"
    }
   ],
   "source": [
    "plt.imshow(X_new[0,...,0], cmap=\"binary\", interpolation=\"nearest\")\n",
    "plt.title(class_names[y_test[0]], fontsize=12)\n",
    "plt.show()"
   ]
  },
  {
   "cell_type": "code",
   "execution_count": 65,
   "metadata": {
    "executionInfo": {
     "elapsed": 1916746,
     "status": "ok",
     "timestamp": 1618252394991,
     "user": {
      "displayName": "josef",
      "photoUrl": "",
      "userId": "01549770466407113647"
     },
     "user_tz": -120
    },
    "id": "HpiV7Ol0d_ts"
   },
   "outputs": [],
   "source": []
  }
 ],
 "metadata": {
  "accelerator": "GPU",
  "colab": {
   "collapsed_sections": [],
   "name": "my_14_deep_computer_vision_03_ResNet_reduced_depth_1.ipynb",
   "provenance": []
  },
  "kernelspec": {
   "display_name": "Python 3",
   "language": "python",
   "name": "python3"
  },
  "language_info": {
   "codemirror_mode": {
    "name": "ipython",
    "version": 3
   },
   "file_extension": ".py",
   "mimetype": "text/x-python",
   "name": "python",
   "nbconvert_exporter": "python",
   "pygments_lexer": "ipython3",
   "version": "3.7.7"
  }
 },
 "nbformat": 4,
 "nbformat_minor": 1
}

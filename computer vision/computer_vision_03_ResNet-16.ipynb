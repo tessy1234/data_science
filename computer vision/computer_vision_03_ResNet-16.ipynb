{
 "cells": [
  {
   "cell_type": "markdown",
   "metadata": {
    "id": "pGWvtGqvd_s9"
   },
   "source": [
    "# image classification of fashion MNIST using residual network "
   ]
  },
  {
   "cell_type": "code",
   "execution_count": 1,
   "metadata": {
    "executionInfo": {
     "elapsed": 2089,
     "status": "ok",
     "timestamp": 1618333003975,
     "user": {
      "displayName": "josef",
      "photoUrl": "",
      "userId": "01549770466407113647"
     },
     "user_tz": -120
    },
    "id": "t4NLBpIpd_tM"
   },
   "outputs": [],
   "source": [
    "import tensorflow as tf\n",
    "from tensorflow import keras"
   ]
  },
  {
   "cell_type": "code",
   "execution_count": 2,
   "metadata": {
    "executionInfo": {
     "elapsed": 2764,
     "status": "ok",
     "timestamp": 1618333004658,
     "user": {
      "displayName": "josef",
      "photoUrl": "",
      "userId": "01549770466407113647"
     },
     "user_tz": -120
    },
    "id": "mjpxxbTWd_tO"
   },
   "outputs": [],
   "source": [
    "import numpy as np\n",
    "import sklearn\n",
    "import pandas as pd"
   ]
  },
  {
   "cell_type": "code",
   "execution_count": 3,
   "metadata": {
    "executionInfo": {
     "elapsed": 2779,
     "status": "ok",
     "timestamp": 1618333004678,
     "user": {
      "displayName": "josef",
      "photoUrl": "",
      "userId": "01549770466407113647"
     },
     "user_tz": -120
    },
    "id": "tKo0A6swd_tQ"
   },
   "outputs": [],
   "source": [
    "import matplotlib as mpl\n",
    "import matplotlib.pyplot as plt\n",
    "\n",
    "mpl.rc('axes', labelsize=14)\n",
    "mpl.rc('xtick', labelsize=12)\n",
    "mpl.rc('ytick', labelsize=12)"
   ]
  },
  {
   "cell_type": "markdown",
   "metadata": {
    "id": "1XBMPDyrd_tR"
   },
   "source": [
    "## load fashion MNIST dataset"
   ]
  },
  {
   "cell_type": "code",
   "execution_count": 4,
   "metadata": {
    "colab": {
     "base_uri": "https://localhost:8080/"
    },
    "executionInfo": {
     "elapsed": 3922,
     "status": "ok",
     "timestamp": 1618333005824,
     "user": {
      "displayName": "josef",
      "photoUrl": "",
      "userId": "01549770466407113647"
     },
     "user_tz": -120
    },
    "id": "U1mGxP5od_tT",
    "outputId": "33aa46a0-437f-499b-e98e-b95ab2a940a0"
   },
   "outputs": [
    {
     "name": "stdout",
     "output_type": "stream",
     "text": [
      "Downloading data from https://storage.googleapis.com/tensorflow/tf-keras-datasets/train-labels-idx1-ubyte.gz\n",
      "32768/29515 [=================================] - 0s 0us/step\n",
      "Downloading data from https://storage.googleapis.com/tensorflow/tf-keras-datasets/train-images-idx3-ubyte.gz\n",
      "26427392/26421880 [==============================] - 0s 0us/step\n",
      "Downloading data from https://storage.googleapis.com/tensorflow/tf-keras-datasets/t10k-labels-idx1-ubyte.gz\n",
      "8192/5148 [===============================================] - 0s 0us/step\n",
      "Downloading data from https://storage.googleapis.com/tensorflow/tf-keras-datasets/t10k-images-idx3-ubyte.gz\n",
      "4423680/4422102 [==============================] - 0s 0us/step\n"
     ]
    }
   ],
   "source": [
    "fashion_mnist = keras.datasets.fashion_mnist\n",
    "(X_train_full, y_train_full), (X_test, y_test) = fashion_mnist.load_data()"
   ]
  },
  {
   "cell_type": "code",
   "execution_count": 5,
   "metadata": {
    "executionInfo": {
     "elapsed": 3922,
     "status": "ok",
     "timestamp": 1618333005827,
     "user": {
      "displayName": "josef",
      "photoUrl": "",
      "userId": "01549770466407113647"
     },
     "user_tz": -120
    },
    "id": "7bu-AT45d_tU"
   },
   "outputs": [],
   "source": [
    "X_train, X_valid = X_train_full[:-5000], X_train_full[-5000:]\n",
    "y_train, y_valid = y_train_full[:-5000], y_train_full[-5000:]"
   ]
  },
  {
   "cell_type": "markdown",
   "metadata": {
    "id": "HbGTERgLd_tU"
   },
   "source": [
    "## scale dataset"
   ]
  },
  {
   "cell_type": "code",
   "execution_count": 6,
   "metadata": {
    "executionInfo": {
     "elapsed": 4590,
     "status": "ok",
     "timestamp": 1618333006499,
     "user": {
      "displayName": "josef",
      "photoUrl": "",
      "userId": "01549770466407113647"
     },
     "user_tz": -120
    },
    "id": "RE5MbPEld_tV"
   },
   "outputs": [],
   "source": [
    "X_mean = X_train.mean(axis=0, keepdims=True)\n",
    "X_std = X_train.std(axis=0, keepdims=True) + 1e-7\n",
    "X_train = (X_train - X_mean) / X_std\n",
    "X_valid = (X_valid - X_mean) / X_std\n",
    "X_test = (X_test - X_mean) / X_std\n",
    "\n",
    "X_train = X_train[..., np.newaxis]\n",
    "X_valid = X_valid[..., np.newaxis]\n",
    "X_test = X_test[..., np.newaxis]"
   ]
  },
  {
   "cell_type": "code",
   "execution_count": 7,
   "metadata": {
    "executionInfo": {
     "elapsed": 4600,
     "status": "ok",
     "timestamp": 1618333006511,
     "user": {
      "displayName": "josef",
      "photoUrl": "",
      "userId": "01549770466407113647"
     },
     "user_tz": -120
    },
    "id": "A6onY-07d_tX"
   },
   "outputs": [],
   "source": [
    "class_names = [\"T-shirt/top\", \"Trouser\", \"Pullover\", \"Dress\", \"Coat\",\n",
    "               \"Sandal\", \"Shirt\", \"Sneaker\", \"Bag\", \"Ankle boot\"]"
   ]
  },
  {
   "cell_type": "markdown",
   "metadata": {
    "id": "0ICtDLsZd_tY"
   },
   "source": [
    "## build model"
   ]
  },
  {
   "cell_type": "code",
   "execution_count": 8,
   "metadata": {
    "executionInfo": {
     "elapsed": 4599,
     "status": "ok",
     "timestamp": 1618333006513,
     "user": {
      "displayName": "josef",
      "photoUrl": "",
      "userId": "01549770466407113647"
     },
     "user_tz": -120
    },
    "id": "E9X8WR0kd_tc"
   },
   "outputs": [],
   "source": [
    "#residual network (ResNet)"
   ]
  },
  {
   "cell_type": "code",
   "execution_count": 9,
   "metadata": {
    "executionInfo": {
     "elapsed": 4598,
     "status": "ok",
     "timestamp": 1618333006514,
     "user": {
      "displayName": "josef",
      "photoUrl": "",
      "userId": "01549770466407113647"
     },
     "user_tz": -120
    },
    "id": "BuCkzZWKd_tc"
   },
   "outputs": [],
   "source": [
    "from functools import partial\n",
    "\n",
    "DefaultConv2D = partial(keras.layers.Conv2D, kernel_size=3, strides=1,\n",
    "                        padding=\"SAME\", use_bias=False)\n",
    "\n",
    "class ResidualUnit(keras.layers.Layer):\n",
    "    def __init__(self, filters, strides=1, activation=\"relu\", **kwargs):\n",
    "        super().__init__(**kwargs)\n",
    "        self.activation = keras.activations.get(activation)\n",
    "        self.main_layers = [\n",
    "            DefaultConv2D(filters, strides=strides),\n",
    "            keras.layers.BatchNormalization(),\n",
    "            self.activation,\n",
    "            DefaultConv2D(filters),\n",
    "            keras.layers.BatchNormalization()]\n",
    "        self.skip_layers = []\n",
    "        if strides > 1:\n",
    "            self.skip_layers = [\n",
    "                DefaultConv2D(filters, kernel_size=1, strides=strides),\n",
    "                keras.layers.BatchNormalization()]\n",
    "\n",
    "    def call(self, inputs):\n",
    "        Z = inputs\n",
    "        for layer in self.main_layers:\n",
    "            Z = layer(Z)\n",
    "        skip_Z = inputs\n",
    "        for layer in self.skip_layers:\n",
    "            skip_Z = layer(skip_Z)\n",
    "        return self.activation(Z + skip_Z)"
   ]
  },
  {
   "cell_type": "code",
   "execution_count": 10,
   "metadata": {
    "executionInfo": {
     "elapsed": 11193,
     "status": "ok",
     "timestamp": 1618333013114,
     "user": {
      "displayName": "josef",
      "photoUrl": "",
      "userId": "01549770466407113647"
     },
     "user_tz": -120
    },
    "id": "l-xDsCJF337-"
   },
   "outputs": [],
   "source": [
    "model = keras.models.Sequential()\n",
    "model.add(DefaultConv2D(64, kernel_size=3, strides=1,  #default: kernel_size=7, strides=2\n",
    "                        input_shape=[28, 28, 1]))\n",
    "model.add(keras.layers.BatchNormalization())\n",
    "model.add(keras.layers.Activation(\"relu\"))\n",
    "model.add(keras.layers.MaxPool2D(pool_size=2, strides=2, padding=\"SAME\"))  #default: pool_size=3, strides=2\n",
    "prev_filters = 64\n",
    "for filters in [64] * 3 + [128] * 4:   #default:   + [256] * 6 + [512] * 3\n",
    "    strides = 1 if filters == prev_filters else 2\n",
    "    model.add(ResidualUnit(filters, strides=strides))\n",
    "    prev_filters = filters\n",
    "model.add(keras.layers.GlobalAvgPool2D())\n",
    "model.add(keras.layers.Flatten())\n",
    "model.add(keras.layers.Dense(10, activation=\"softmax\"))"
   ]
  },
  {
   "cell_type": "code",
   "execution_count": 11,
   "metadata": {
    "colab": {
     "base_uri": "https://localhost:8080/"
    },
    "executionInfo": {
     "elapsed": 11183,
     "status": "ok",
     "timestamp": 1618333013118,
     "user": {
      "displayName": "josef",
      "photoUrl": "",
      "userId": "01549770466407113647"
     },
     "user_tz": -120
    },
    "id": "YLGOnN01L-ki",
    "outputId": "4d53c265-01c0-4fef-b73b-81fb15e9f207"
   },
   "outputs": [
    {
     "name": "stdout",
     "output_type": "stream",
     "text": [
      "Model: \"sequential\"\n",
      "_________________________________________________________________\n",
      "Layer (type)                 Output Shape              Param #   \n",
      "=================================================================\n",
      "conv2d (Conv2D)              (None, 28, 28, 64)        576       \n",
      "_________________________________________________________________\n",
      "batch_normalization (BatchNo (None, 28, 28, 64)        256       \n",
      "_________________________________________________________________\n",
      "activation (Activation)      (None, 28, 28, 64)        0         \n",
      "_________________________________________________________________\n",
      "max_pooling2d (MaxPooling2D) (None, 14, 14, 64)        0         \n",
      "_________________________________________________________________\n",
      "residual_unit (ResidualUnit) (None, 14, 14, 64)        74240     \n",
      "_________________________________________________________________\n",
      "residual_unit_1 (ResidualUni (None, 14, 14, 64)        74240     \n",
      "_________________________________________________________________\n",
      "residual_unit_2 (ResidualUni (None, 14, 14, 64)        74240     \n",
      "_________________________________________________________________\n",
      "residual_unit_3 (ResidualUni (None, 7, 7, 128)         230912    \n",
      "_________________________________________________________________\n",
      "residual_unit_4 (ResidualUni (None, 7, 7, 128)         295936    \n",
      "_________________________________________________________________\n",
      "residual_unit_5 (ResidualUni (None, 7, 7, 128)         295936    \n",
      "_________________________________________________________________\n",
      "residual_unit_6 (ResidualUni (None, 7, 7, 128)         295936    \n",
      "_________________________________________________________________\n",
      "global_average_pooling2d (Gl (None, 128)               0         \n",
      "_________________________________________________________________\n",
      "flatten (Flatten)            (None, 128)               0         \n",
      "_________________________________________________________________\n",
      "dense (Dense)                (None, 10)                1290      \n",
      "=================================================================\n",
      "Total params: 1,343,562\n",
      "Trainable params: 1,340,362\n",
      "Non-trainable params: 3,200\n",
      "_________________________________________________________________\n"
     ]
    }
   ],
   "source": [
    "model.summary()"
   ]
  },
  {
   "cell_type": "markdown",
   "metadata": {
    "id": "7TUSSvJvd_td"
   },
   "source": [
    "## compile model"
   ]
  },
  {
   "cell_type": "code",
   "execution_count": 12,
   "metadata": {
    "executionInfo": {
     "elapsed": 11181,
     "status": "ok",
     "timestamp": 1618333013121,
     "user": {
      "displayName": "josef",
      "photoUrl": "",
      "userId": "01549770466407113647"
     },
     "user_tz": -120
    },
    "id": "2hOHlcb2d_te"
   },
   "outputs": [],
   "source": [
    "model.compile(loss=\"sparse_categorical_crossentropy\", optimizer=\"nadam\", metrics=[\"accuracy\"])"
   ]
  },
  {
   "cell_type": "markdown",
   "metadata": {
    "id": "RTO8ouiyd_tf"
   },
   "source": [
    "## train model"
   ]
  },
  {
   "cell_type": "code",
   "execution_count": 13,
   "metadata": {
    "colab": {
     "base_uri": "https://localhost:8080/"
    },
    "executionInfo": {
     "elapsed": 269424,
     "status": "ok",
     "timestamp": 1618333271375,
     "user": {
      "displayName": "josef",
      "photoUrl": "",
      "userId": "01549770466407113647"
     },
     "user_tz": -120
    },
    "id": "ZLBojEmXd_tf",
    "outputId": "af9e0cc2-54e4-4e7b-944b-22b9d0efc7d2"
   },
   "outputs": [
    {
     "name": "stdout",
     "output_type": "stream",
     "text": [
      "Epoch 1/10\n",
      "1719/1719 [==============================] - 59s 13ms/step - loss: 0.5385 - accuracy: 0.8069 - val_loss: 0.4483 - val_accuracy: 0.8366\n",
      "Epoch 2/10\n",
      "1719/1719 [==============================] - 22s 13ms/step - loss: 0.2685 - accuracy: 0.9024 - val_loss: 0.2750 - val_accuracy: 0.8994\n",
      "Epoch 3/10\n",
      "1719/1719 [==============================] - 22s 13ms/step - loss: 0.2203 - accuracy: 0.9201 - val_loss: 0.2609 - val_accuracy: 0.9022\n",
      "Epoch 4/10\n",
      "1719/1719 [==============================] - 22s 13ms/step - loss: 0.1919 - accuracy: 0.9295 - val_loss: 0.2096 - val_accuracy: 0.9230\n",
      "Epoch 5/10\n",
      "1719/1719 [==============================] - 22s 13ms/step - loss: 0.1669 - accuracy: 0.9390 - val_loss: 0.2411 - val_accuracy: 0.9166\n",
      "Epoch 6/10\n",
      "1719/1719 [==============================] - 22s 13ms/step - loss: 0.1407 - accuracy: 0.9478 - val_loss: 0.2345 - val_accuracy: 0.9204\n",
      "Epoch 7/10\n",
      "1719/1719 [==============================] - 22s 13ms/step - loss: 0.1170 - accuracy: 0.9566 - val_loss: 0.2605 - val_accuracy: 0.9164\n",
      "Epoch 8/10\n",
      "1719/1719 [==============================] - 22s 13ms/step - loss: 0.0966 - accuracy: 0.9644 - val_loss: 0.2227 - val_accuracy: 0.9258\n",
      "Epoch 9/10\n",
      "1719/1719 [==============================] - 22s 13ms/step - loss: 0.0766 - accuracy: 0.9720 - val_loss: 0.2860 - val_accuracy: 0.9146\n",
      "Epoch 10/10\n",
      "1719/1719 [==============================] - 22s 13ms/step - loss: 0.0653 - accuracy: 0.9756 - val_loss: 0.2998 - val_accuracy: 0.9170\n"
     ]
    }
   ],
   "source": [
    "history = model.fit(X_train, y_train, epochs=10, validation_data=(X_valid, y_valid))"
   ]
  },
  {
   "cell_type": "markdown",
   "metadata": {
    "id": "E38DB9Y7d_ti"
   },
   "source": [
    "## learning curves"
   ]
  },
  {
   "cell_type": "code",
   "execution_count": 14,
   "metadata": {
    "colab": {
     "base_uri": "https://localhost:8080/",
     "height": 328
    },
    "executionInfo": {
     "elapsed": 269423,
     "status": "ok",
     "timestamp": 1618333271377,
     "user": {
      "displayName": "josef",
      "photoUrl": "",
      "userId": "01549770466407113647"
     },
     "user_tz": -120
    },
    "id": "e19A_mnVd_tj",
    "outputId": "f1815e30-b206-4565-f3e8-4087e67ec3de"
   },
   "outputs": [
    {
     "data": {
      "image/png": "[encoded data removed]",
      "text/plain": [
       "<Figure size 576x360 with 1 Axes>"
      ]
     },
     "metadata": {
      "needs_background": "light",
      "tags": []
     },
     "output_type": "display_data"
    }
   ],
   "source": [
    "pd.DataFrame(history.history).plot(figsize=(8, 5))\n",
    "plt.grid(True)\n",
    "plt.gca().set_ylim(0, 1)\n",
    "plt.show()"
   ]
  },
  {
   "cell_type": "code",
   "execution_count": 15,
   "metadata": {
    "colab": {
     "base_uri": "https://localhost:8080/"
    },
    "executionInfo": {
     "elapsed": 269424,
     "status": "ok",
     "timestamp": 1618333271380,
     "user": {
      "displayName": "josef",
      "photoUrl": "",
      "userId": "01549770466407113647"
     },
     "user_tz": -120
    },
    "id": "GwRHK4gAd_tk",
    "outputId": "eab11097-ab06-47c0-9741-6ed775986848"
   },
   "outputs": [
    {
     "data": {
      "text/plain": [
       "dict_keys(['loss', 'accuracy', 'val_loss', 'val_accuracy'])"
      ]
     },
     "execution_count": 15,
     "metadata": {
      "tags": []
     },
     "output_type": "execute_result"
    }
   ],
   "source": [
    "history.history.keys()"
   ]
  },
  {
   "cell_type": "code",
   "execution_count": 16,
   "metadata": {
    "executionInfo": {
     "elapsed": 269423,
     "status": "ok",
     "timestamp": 1618333271381,
     "user": {
      "displayName": "josef",
      "photoUrl": "",
      "userId": "01549770466407113647"
     },
     "user_tz": -120
    },
    "id": "qWuqVL92d_tl"
   },
   "outputs": [],
   "source": [
    "val_acc = history.history['val_accuracy']"
   ]
  },
  {
   "cell_type": "code",
   "execution_count": 17,
   "metadata": {
    "colab": {
     "base_uri": "https://localhost:8080/"
    },
    "executionInfo": {
     "elapsed": 269421,
     "status": "ok",
     "timestamp": 1618333271382,
     "user": {
      "displayName": "josef",
      "photoUrl": "",
      "userId": "01549770466407113647"
     },
     "user_tz": -120
    },
    "id": "E0fx-wIdd_tm",
    "outputId": "0c44f7ae-bb66-4fbc-9ec2-8b89f6b77296"
   },
   "outputs": [
    {
     "data": {
      "text/plain": [
       "7"
      ]
     },
     "execution_count": 17,
     "metadata": {
      "tags": []
     },
     "output_type": "execute_result"
    }
   ],
   "source": [
    "np.argmax(val_acc) #epoch position of maximum; attention: position counted from zero; training output counted from one."
   ]
  },
  {
   "cell_type": "code",
   "execution_count": 18,
   "metadata": {
    "colab": {
     "base_uri": "https://localhost:8080/"
    },
    "executionInfo": {
     "elapsed": 269420,
     "status": "ok",
     "timestamp": 1618333271383,
     "user": {
      "displayName": "josef",
      "photoUrl": "",
      "userId": "01549770466407113647"
     },
     "user_tz": -120
    },
    "id": "9uzAGjfkd_tn",
    "outputId": "4b860f11-de74-4498-d741-1e24d50429d9"
   },
   "outputs": [
    {
     "data": {
      "text/plain": [
       "0.9258"
      ]
     },
     "execution_count": 18,
     "metadata": {
      "tags": []
     },
     "output_type": "execute_result"
    }
   ],
   "source": [
    "round(np.max(val_acc),4)"
   ]
  },
  {
   "cell_type": "markdown",
   "metadata": {
    "id": "cqN6Gb2-d_tn"
   },
   "source": [
    "## evaluate model"
   ]
  },
  {
   "cell_type": "code",
   "execution_count": 19,
   "metadata": {
    "executionInfo": {
     "elapsed": 269419,
     "status": "ok",
     "timestamp": 1618333271384,
     "user": {
      "displayName": "josef",
      "photoUrl": "",
      "userId": "01549770466407113647"
     },
     "user_tz": -120
    },
    "id": "jhpTVtI1d_to"
   },
   "outputs": [],
   "source": [
    "#check generalization accuracy on the test set"
   ]
  },
  {
   "cell_type": "code",
   "execution_count": 20,
   "metadata": {
    "colab": {
     "base_uri": "https://localhost:8080/"
    },
    "executionInfo": {
     "elapsed": 270362,
     "status": "ok",
     "timestamp": 1618333272330,
     "user": {
      "displayName": "josef",
      "photoUrl": "",
      "userId": "01549770466407113647"
     },
     "user_tz": -120
    },
    "id": "6eijC5Rwd_tp",
    "outputId": "b4dbafb6-67f6-4bf5-dfd8-8c562bba93df"
   },
   "outputs": [
    {
     "name": "stdout",
     "output_type": "stream",
     "text": [
      "313/313 [==============================] - 1s 4ms/step - loss: 0.3387 - accuracy: 0.9059\n"
     ]
    }
   ],
   "source": [
    "score = model.evaluate(X_test, y_test)"
   ]
  },
  {
   "cell_type": "code",
   "execution_count": 21,
   "metadata": {
    "colab": {
     "base_uri": "https://localhost:8080/"
    },
    "executionInfo": {
     "elapsed": 270719,
     "status": "ok",
     "timestamp": 1618333272690,
     "user": {
      "displayName": "josef",
      "photoUrl": "",
      "userId": "01549770466407113647"
     },
     "user_tz": -120
    },
    "id": "ro9VFjETqLK8",
    "outputId": "8eced066-dfb6-4f60-b99c-3771be279959"
   },
   "outputs": [
    {
     "data": {
      "text/plain": [
       "0.9059"
      ]
     },
     "execution_count": 21,
     "metadata": {
      "tags": []
     },
     "output_type": "execute_result"
    }
   ],
   "source": [
    "round(score[1],4)"
   ]
  },
  {
   "cell_type": "markdown",
   "metadata": {
    "id": "K-24mY0md_tp"
   },
   "source": [
    "## prediction"
   ]
  },
  {
   "cell_type": "code",
   "execution_count": 22,
   "metadata": {
    "executionInfo": {
     "elapsed": 270719,
     "status": "ok",
     "timestamp": 1618333272692,
     "user": {
      "displayName": "josef",
      "photoUrl": "",
      "userId": "01549770466407113647"
     },
     "user_tz": -120
    },
    "id": "kP23g2D9d_tp"
   },
   "outputs": [],
   "source": [
    "X_new = X_test[:10]  #new instances taken from test set"
   ]
  },
  {
   "cell_type": "code",
   "execution_count": 23,
   "metadata": {
    "colab": {
     "base_uri": "https://localhost:8080/"
    },
    "executionInfo": {
     "elapsed": 270719,
     "status": "ok",
     "timestamp": 1618333272695,
     "user": {
      "displayName": "josef",
      "photoUrl": "",
      "userId": "01549770466407113647"
     },
     "user_tz": -120
    },
    "id": "xNrdE_nPd_tq",
    "outputId": "77b2b77c-74ec-4ffa-87f3-2dd72aa062cf"
   },
   "outputs": [
    {
     "data": {
      "text/plain": [
       "array([9, 2, 1, 1, 6, 1, 4, 6, 5, 7])"
      ]
     },
     "execution_count": 23,
     "metadata": {
      "tags": []
     },
     "output_type": "execute_result"
    }
   ],
   "source": [
    "y_pred = np.argmax(model.predict(X_new), axis=-1)\n",
    "y_pred"
   ]
  },
  {
   "cell_type": "code",
   "execution_count": 24,
   "metadata": {
    "colab": {
     "base_uri": "https://localhost:8080/"
    },
    "executionInfo": {
     "elapsed": 271280,
     "status": "ok",
     "timestamp": 1618333273258,
     "user": {
      "displayName": "josef",
      "photoUrl": "",
      "userId": "01549770466407113647"
     },
     "user_tz": -120
    },
    "id": "t0xCDcQDd_tq",
    "outputId": "b9f80e37-998f-499c-9297-34a8ec6ac362"
   },
   "outputs": [
    {
     "data": {
      "text/plain": [
       "array([9, 2, 1, 1, 6, 1, 4, 6, 5, 7], dtype=uint8)"
      ]
     },
     "execution_count": 24,
     "metadata": {
      "tags": []
     },
     "output_type": "execute_result"
    }
   ],
   "source": [
    "y_test[:10]  #check prediction"
   ]
  },
  {
   "cell_type": "code",
   "execution_count": 25,
   "metadata": {
    "colab": {
     "base_uri": "https://localhost:8080/"
    },
    "executionInfo": {
     "elapsed": 271278,
     "status": "ok",
     "timestamp": 1618333273259,
     "user": {
      "displayName": "josef",
      "photoUrl": "",
      "userId": "01549770466407113647"
     },
     "user_tz": -120
    },
    "id": "t78_iZrod_tr",
    "outputId": "badb892c-349c-44b6-c414-6a85fcfd3feb"
   },
   "outputs": [
    {
     "data": {
      "text/plain": [
       "array(['Ankle boot', 'Pullover', 'Trouser', 'Trouser', 'Shirt', 'Trouser',\n",
       "       'Coat', 'Shirt', 'Sandal', 'Sneaker'], dtype='<U11')"
      ]
     },
     "execution_count": 25,
     "metadata": {
      "tags": []
     },
     "output_type": "execute_result"
    }
   ],
   "source": [
    "np.array(class_names)[y_pred]  #convert class index to class name"
   ]
  },
  {
   "cell_type": "code",
   "execution_count": 26,
   "metadata": {
    "colab": {
     "base_uri": "https://localhost:8080/",
     "height": 284
    },
    "executionInfo": {
     "elapsed": 271277,
     "status": "ok",
     "timestamp": 1618333273260,
     "user": {
      "displayName": "josef",
      "photoUrl": "",
      "userId": "01549770466407113647"
     },
     "user_tz": -120
    },
    "id": "eB49QVoLd_tr",
    "outputId": "37602bba-443a-4b91-b50f-101e27a658e4"
   },
   "outputs": [
    {
     "data": {
      "image/png": "[encoded data removed]",
      "text/plain": [
       "<Figure size 432x288 with 1 Axes>"
      ]
     },
     "metadata": {
      "needs_background": "light",
      "tags": []
     },
     "output_type": "display_data"
    }
   ],
   "source": [
    "plt.imshow(X_new[0,...,0], cmap=\"binary\", interpolation=\"nearest\")\n",
    "plt.title(class_names[y_test[0]], fontsize=12)\n",
    "plt.show()"
   ]
  },
  {
   "cell_type": "code",
   "execution_count": 26,
   "metadata": {
    "executionInfo": {
     "elapsed": 271275,
     "status": "ok",
     "timestamp": 1618333273261,
     "user": {
      "displayName": "josef",
      "photoUrl": "",
      "userId": "01549770466407113647"
     },
     "user_tz": -120
    },
    "id": "HpiV7Ol0d_ts"
   },
   "outputs": [],
   "source": []
  }
 ],
 "metadata": {
  "accelerator": "GPU",
  "colab": {
   "collapsed_sections": [],
   "name": "my_14_deep_computer_vision_03_ResNet_reduced_depth_2.ipynb",
   "provenance": []
  },
  "kernelspec": {
   "display_name": "Python 3",
   "language": "python",
   "name": "python3"
  },
  "language_info": {
   "codemirror_mode": {
    "name": "ipython",
    "version": 3
   },
   "file_extension": ".py",
   "mimetype": "text/x-python",
   "name": "python",
   "nbconvert_exporter": "python",
   "pygments_lexer": "ipython3",
   "version": "3.7.7"
  }
 },
 "nbformat": 4,
 "nbformat_minor": 1
}

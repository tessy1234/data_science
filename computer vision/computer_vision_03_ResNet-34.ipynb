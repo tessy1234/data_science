{
 "cells": [
  {
   "cell_type": "markdown",
   "metadata": {
    "id": "pGWvtGqvd_s9"
   },
   "source": [
    "# image classification of fashion MNIST using residual network "
   ]
  },
  {
   "cell_type": "code",
   "execution_count": 1,
   "metadata": {
    "executionInfo": {
     "elapsed": 3252,
     "status": "ok",
     "timestamp": 1618330338283,
     "user": {
      "displayName": "josef",
      "photoUrl": "",
      "userId": "01549770466407113647"
     },
     "user_tz": -120
    },
    "id": "t4NLBpIpd_tM"
   },
   "outputs": [],
   "source": [
    "import tensorflow as tf\n",
    "from tensorflow import keras"
   ]
  },
  {
   "cell_type": "code",
   "execution_count": 2,
   "metadata": {
    "executionInfo": {
     "elapsed": 3246,
     "status": "ok",
     "timestamp": 1618330338285,
     "user": {
      "displayName": "josef",
      "photoUrl": "",
      "userId": "01549770466407113647"
     },
     "user_tz": -120
    },
    "id": "mjpxxbTWd_tO"
   },
   "outputs": [],
   "source": [
    "import numpy as np\n",
    "import sklearn\n",
    "import pandas as pd"
   ]
  },
  {
   "cell_type": "code",
   "execution_count": 3,
   "metadata": {
    "executionInfo": {
     "elapsed": 3244,
     "status": "ok",
     "timestamp": 1618330338287,
     "user": {
      "displayName": "josef",
      "photoUrl": "",
      "userId": "01549770466407113647"
     },
     "user_tz": -120
    },
    "id": "tKo0A6swd_tQ"
   },
   "outputs": [],
   "source": [
    "import matplotlib as mpl\n",
    "import matplotlib.pyplot as plt\n",
    "\n",
    "mpl.rc('axes', labelsize=14)\n",
    "mpl.rc('xtick', labelsize=12)\n",
    "mpl.rc('ytick', labelsize=12)"
   ]
  },
  {
   "cell_type": "markdown",
   "metadata": {
    "id": "1XBMPDyrd_tR"
   },
   "source": [
    "## load fashion MNIST dataset"
   ]
  },
  {
   "cell_type": "code",
   "execution_count": 4,
   "metadata": {
    "colab": {
     "base_uri": "https://localhost:8080/"
    },
    "executionInfo": {
     "elapsed": 4817,
     "status": "ok",
     "timestamp": 1618330339865,
     "user": {
      "displayName": "josef",
      "photoUrl": "",
      "userId": "01549770466407113647"
     },
     "user_tz": -120
    },
    "id": "U1mGxP5od_tT",
    "outputId": "dd47b22f-5c4b-41dd-dc4a-9e04a5a33c86"
   },
   "outputs": [
    {
     "name": "stdout",
     "output_type": "stream",
     "text": [
      "Downloading data from https://storage.googleapis.com/tensorflow/tf-keras-datasets/train-labels-idx1-ubyte.gz\n",
      "32768/29515 [=================================] - 0s 0us/step\n",
      "Downloading data from https://storage.googleapis.com/tensorflow/tf-keras-datasets/train-images-idx3-ubyte.gz\n",
      "26427392/26421880 [==============================] - 1s 0us/step\n",
      "Downloading data from https://storage.googleapis.com/tensorflow/tf-keras-datasets/t10k-labels-idx1-ubyte.gz\n",
      "8192/5148 [===============================================] - 0s 0us/step\n",
      "Downloading data from https://storage.googleapis.com/tensorflow/tf-keras-datasets/t10k-images-idx3-ubyte.gz\n",
      "4423680/4422102 [==============================] - 0s 0us/step\n"
     ]
    }
   ],
   "source": [
    "fashion_mnist = keras.datasets.fashion_mnist\n",
    "(X_train_full, y_train_full), (X_test, y_test) = fashion_mnist.load_data()"
   ]
  },
  {
   "cell_type": "code",
   "execution_count": 5,
   "metadata": {
    "executionInfo": {
     "elapsed": 4815,
     "status": "ok",
     "timestamp": 1618330339867,
     "user": {
      "displayName": "josef",
      "photoUrl": "",
      "userId": "01549770466407113647"
     },
     "user_tz": -120
    },
    "id": "7bu-AT45d_tU"
   },
   "outputs": [],
   "source": [
    "X_train, X_valid = X_train_full[:-5000], X_train_full[-5000:]\n",
    "y_train, y_valid = y_train_full[:-5000], y_train_full[-5000:]"
   ]
  },
  {
   "cell_type": "markdown",
   "metadata": {
    "id": "HbGTERgLd_tU"
   },
   "source": [
    "## scale dataset"
   ]
  },
  {
   "cell_type": "code",
   "execution_count": 6,
   "metadata": {
    "executionInfo": {
     "elapsed": 5558,
     "status": "ok",
     "timestamp": 1618330340614,
     "user": {
      "displayName": "josef",
      "photoUrl": "",
      "userId": "01549770466407113647"
     },
     "user_tz": -120
    },
    "id": "RE5MbPEld_tV"
   },
   "outputs": [],
   "source": [
    "X_mean = X_train.mean(axis=0, keepdims=True)\n",
    "X_std = X_train.std(axis=0, keepdims=True) + 1e-7\n",
    "X_train = (X_train - X_mean) / X_std\n",
    "X_valid = (X_valid - X_mean) / X_std\n",
    "X_test = (X_test - X_mean) / X_std\n",
    "\n",
    "X_train = X_train[..., np.newaxis]\n",
    "X_valid = X_valid[..., np.newaxis]\n",
    "X_test = X_test[..., np.newaxis]"
   ]
  },
  {
   "cell_type": "code",
   "execution_count": 7,
   "metadata": {
    "executionInfo": {
     "elapsed": 5557,
     "status": "ok",
     "timestamp": 1618330340615,
     "user": {
      "displayName": "josef",
      "photoUrl": "",
      "userId": "01549770466407113647"
     },
     "user_tz": -120
    },
    "id": "A6onY-07d_tX"
   },
   "outputs": [],
   "source": [
    "class_names = [\"T-shirt/top\", \"Trouser\", \"Pullover\", \"Dress\", \"Coat\",\n",
    "               \"Sandal\", \"Shirt\", \"Sneaker\", \"Bag\", \"Ankle boot\"]"
   ]
  },
  {
   "cell_type": "markdown",
   "metadata": {
    "id": "0ICtDLsZd_tY"
   },
   "source": [
    "## build model"
   ]
  },
  {
   "cell_type": "code",
   "execution_count": 8,
   "metadata": {
    "executionInfo": {
     "elapsed": 5557,
     "status": "ok",
     "timestamp": 1618330340618,
     "user": {
      "displayName": "josef",
      "photoUrl": "",
      "userId": "01549770466407113647"
     },
     "user_tz": -120
    },
    "id": "E9X8WR0kd_tc"
   },
   "outputs": [],
   "source": [
    "#residual network (ResNet)"
   ]
  },
  {
   "cell_type": "code",
   "execution_count": 9,
   "metadata": {
    "executionInfo": {
     "elapsed": 5557,
     "status": "ok",
     "timestamp": 1618330340621,
     "user": {
      "displayName": "josef",
      "photoUrl": "",
      "userId": "01549770466407113647"
     },
     "user_tz": -120
    },
    "id": "BuCkzZWKd_tc"
   },
   "outputs": [],
   "source": [
    "from functools import partial\n",
    "\n",
    "DefaultConv2D = partial(keras.layers.Conv2D, kernel_size=3, strides=1,\n",
    "                        padding=\"SAME\", use_bias=False)\n",
    "\n",
    "class ResidualUnit(keras.layers.Layer):\n",
    "    def __init__(self, filters, strides=1, activation=\"relu\", **kwargs):\n",
    "        super().__init__(**kwargs)\n",
    "        self.activation = keras.activations.get(activation)\n",
    "        self.main_layers = [\n",
    "            DefaultConv2D(filters, strides=strides),\n",
    "            keras.layers.BatchNormalization(),\n",
    "            self.activation,\n",
    "            DefaultConv2D(filters),\n",
    "            keras.layers.BatchNormalization()]\n",
    "        self.skip_layers = []\n",
    "        if strides > 1:\n",
    "            self.skip_layers = [\n",
    "                DefaultConv2D(filters, kernel_size=1, strides=strides),\n",
    "                keras.layers.BatchNormalization()]\n",
    "\n",
    "    def call(self, inputs):\n",
    "        Z = inputs\n",
    "        for layer in self.main_layers:\n",
    "            Z = layer(Z)\n",
    "        skip_Z = inputs\n",
    "        for layer in self.skip_layers:\n",
    "            skip_Z = layer(skip_Z)\n",
    "        return self.activation(Z + skip_Z)"
   ]
  },
  {
   "cell_type": "code",
   "execution_count": 10,
   "metadata": {
    "executionInfo": {
     "elapsed": 11142,
     "status": "ok",
     "timestamp": 1618330346209,
     "user": {
      "displayName": "josef",
      "photoUrl": "",
      "userId": "01549770466407113647"
     },
     "user_tz": -120
    },
    "id": "MnAR1l0b_8Xs"
   },
   "outputs": [],
   "source": [
    "model = keras.models.Sequential()\n",
    "model.add(DefaultConv2D(64, kernel_size=7, strides=2,\n",
    "                        input_shape=[28, 28, 1]))\n",
    "model.add(keras.layers.BatchNormalization())\n",
    "model.add(keras.layers.Activation(\"relu\"))\n",
    "model.add(keras.layers.MaxPool2D(pool_size=3, strides=2, padding=\"SAME\"))\n",
    "prev_filters = 64\n",
    "for filters in [64] * 3 + [128] * 4 + [256] * 6 + [512] * 3:\n",
    "    strides = 1 if filters == prev_filters else 2\n",
    "    model.add(ResidualUnit(filters, strides=strides))\n",
    "    prev_filters = filters\n",
    "model.add(keras.layers.GlobalAvgPool2D())\n",
    "model.add(keras.layers.Flatten())\n",
    "model.add(keras.layers.Dense(10, activation=\"softmax\"))"
   ]
  },
  {
   "cell_type": "code",
   "execution_count": 11,
   "metadata": {
    "colab": {
     "base_uri": "https://localhost:8080/"
    },
    "executionInfo": {
     "elapsed": 11135,
     "status": "ok",
     "timestamp": 1618330346211,
     "user": {
      "displayName": "josef",
      "photoUrl": "",
      "userId": "01549770466407113647"
     },
     "user_tz": -120
    },
    "id": "ak5SJ43u_8Xu",
    "outputId": "c0cdeaf2-fa27-434f-9765-f24224c5097c"
   },
   "outputs": [
    {
     "name": "stdout",
     "output_type": "stream",
     "text": [
      "Model: \"sequential\"\n",
      "_________________________________________________________________\n",
      "Layer (type)                 Output Shape              Param #   \n",
      "=================================================================\n",
      "conv2d (Conv2D)              (None, 14, 14, 64)        3136      \n",
      "_________________________________________________________________\n",
      "batch_normalization (BatchNo (None, 14, 14, 64)        256       \n",
      "_________________________________________________________________\n",
      "activation (Activation)      (None, 14, 14, 64)        0         \n",
      "_________________________________________________________________\n",
      "max_pooling2d (MaxPooling2D) (None, 7, 7, 64)          0         \n",
      "_________________________________________________________________\n",
      "residual_unit (ResidualUnit) (None, 7, 7, 64)          74240     \n",
      "_________________________________________________________________\n",
      "residual_unit_1 (ResidualUni (None, 7, 7, 64)          74240     \n",
      "_________________________________________________________________\n",
      "residual_unit_2 (ResidualUni (None, 7, 7, 64)          74240     \n",
      "_________________________________________________________________\n",
      "residual_unit_3 (ResidualUni (None, 4, 4, 128)         230912    \n",
      "_________________________________________________________________\n",
      "residual_unit_4 (ResidualUni (None, 4, 4, 128)         295936    \n",
      "_________________________________________________________________\n",
      "residual_unit_5 (ResidualUni (None, 4, 4, 128)         295936    \n",
      "_________________________________________________________________\n",
      "residual_unit_6 (ResidualUni (None, 4, 4, 128)         295936    \n",
      "_________________________________________________________________\n",
      "residual_unit_7 (ResidualUni (None, 2, 2, 256)         920576    \n",
      "_________________________________________________________________\n",
      "residual_unit_8 (ResidualUni (None, 2, 2, 256)         1181696   \n",
      "_________________________________________________________________\n",
      "residual_unit_9 (ResidualUni (None, 2, 2, 256)         1181696   \n",
      "_________________________________________________________________\n",
      "residual_unit_10 (ResidualUn (None, 2, 2, 256)         1181696   \n",
      "_________________________________________________________________\n",
      "residual_unit_11 (ResidualUn (None, 2, 2, 256)         1181696   \n",
      "_________________________________________________________________\n",
      "residual_unit_12 (ResidualUn (None, 2, 2, 256)         1181696   \n",
      "_________________________________________________________________\n",
      "residual_unit_13 (ResidualUn (None, 1, 1, 512)         3676160   \n",
      "_________________________________________________________________\n",
      "residual_unit_14 (ResidualUn (None, 1, 1, 512)         4722688   \n",
      "_________________________________________________________________\n",
      "residual_unit_15 (ResidualUn (None, 1, 1, 512)         4722688   \n",
      "_________________________________________________________________\n",
      "global_average_pooling2d (Gl (None, 512)               0         \n",
      "_________________________________________________________________\n",
      "flatten (Flatten)            (None, 512)               0         \n",
      "_________________________________________________________________\n",
      "dense (Dense)                (None, 10)                5130      \n",
      "=================================================================\n",
      "Total params: 21,300,554\n",
      "Trainable params: 21,283,530\n",
      "Non-trainable params: 17,024\n",
      "_________________________________________________________________\n"
     ]
    }
   ],
   "source": [
    "model.summary()"
   ]
  },
  {
   "cell_type": "markdown",
   "metadata": {
    "id": "7TUSSvJvd_td"
   },
   "source": [
    "## compile model"
   ]
  },
  {
   "cell_type": "code",
   "execution_count": 12,
   "metadata": {
    "executionInfo": {
     "elapsed": 11463,
     "status": "ok",
     "timestamp": 1618330346543,
     "user": {
      "displayName": "josef",
      "photoUrl": "",
      "userId": "01549770466407113647"
     },
     "user_tz": -120
    },
    "id": "2hOHlcb2d_te"
   },
   "outputs": [],
   "source": [
    "model.compile(loss=\"sparse_categorical_crossentropy\", optimizer=\"nadam\", metrics=[\"accuracy\"])"
   ]
  },
  {
   "cell_type": "markdown",
   "metadata": {
    "id": "RTO8ouiyd_tf"
   },
   "source": [
    "## train model"
   ]
  },
  {
   "cell_type": "code",
   "execution_count": 13,
   "metadata": {
    "colab": {
     "base_uri": "https://localhost:8080/"
    },
    "executionInfo": {
     "elapsed": 896834,
     "status": "ok",
     "timestamp": 1618331231923,
     "user": {
      "displayName": "josef",
      "photoUrl": "",
      "userId": "01549770466407113647"
     },
     "user_tz": -120
    },
    "id": "ZLBojEmXd_tf",
    "outputId": "348d0a24-c799-466f-c5b3-33178de6c12e"
   },
   "outputs": [
    {
     "name": "stdout",
     "output_type": "stream",
     "text": [
      "Epoch 1/10\n",
      "1719/1719 [==============================] - 126s 50ms/step - loss: 0.7328 - accuracy: 0.7673 - val_loss: 0.3806 - val_accuracy: 0.8600\n",
      "Epoch 2/10\n",
      "1719/1719 [==============================] - 84s 49ms/step - loss: 0.3532 - accuracy: 0.8717 - val_loss: 0.5902 - val_accuracy: 0.7806\n",
      "Epoch 3/10\n",
      "1719/1719 [==============================] - 84s 49ms/step - loss: 0.3222 - accuracy: 0.8852 - val_loss: 0.2892 - val_accuracy: 0.8880\n",
      "Epoch 4/10\n",
      "1719/1719 [==============================] - 84s 49ms/step - loss: 0.2698 - accuracy: 0.9016 - val_loss: 0.2651 - val_accuracy: 0.9054\n",
      "Epoch 5/10\n",
      "1719/1719 [==============================] - 84s 49ms/step - loss: 0.2500 - accuracy: 0.9102 - val_loss: 0.3255 - val_accuracy: 0.8882\n",
      "Epoch 6/10\n",
      "1719/1719 [==============================] - 84s 49ms/step - loss: 0.2214 - accuracy: 0.9182 - val_loss: 0.2612 - val_accuracy: 0.9074\n",
      "Epoch 7/10\n",
      "1719/1719 [==============================] - 85s 49ms/step - loss: 0.2168 - accuracy: 0.9236 - val_loss: 0.2746 - val_accuracy: 0.8968\n",
      "Epoch 8/10\n",
      "1719/1719 [==============================] - 85s 49ms/step - loss: 0.1884 - accuracy: 0.9304 - val_loss: 0.2769 - val_accuracy: 0.8992\n",
      "Epoch 9/10\n",
      "1719/1719 [==============================] - 85s 50ms/step - loss: 0.1630 - accuracy: 0.9399 - val_loss: 0.2524 - val_accuracy: 0.9116\n",
      "Epoch 10/10\n",
      "1719/1719 [==============================] - 85s 49ms/step - loss: 0.1604 - accuracy: 0.9416 - val_loss: 0.2616 - val_accuracy: 0.9092\n"
     ]
    }
   ],
   "source": [
    "history = model.fit(X_train, y_train, epochs=10, validation_data=(X_valid, y_valid))"
   ]
  },
  {
   "cell_type": "markdown",
   "metadata": {
    "id": "E38DB9Y7d_ti"
   },
   "source": [
    "## learning curves"
   ]
  },
  {
   "cell_type": "code",
   "execution_count": 14,
   "metadata": {
    "colab": {
     "base_uri": "https://localhost:8080/",
     "height": 328
    },
    "executionInfo": {
     "elapsed": 897726,
     "status": "ok",
     "timestamp": 1618331232817,
     "user": {
      "displayName": "josef",
      "photoUrl": "",
      "userId": "01549770466407113647"
     },
     "user_tz": -120
    },
    "id": "e19A_mnVd_tj",
    "outputId": "ce36a637-6ceb-43fe-aac6-ac7955b3c2ec"
   },
   "outputs": [
    {
     "data": {
      "image/png": "[encoded data removed]",
      "text/plain": [
       "<Figure size 576x360 with 1 Axes>"
      ]
     },
     "metadata": {
      "needs_background": "light",
      "tags": []
     },
     "output_type": "display_data"
    }
   ],
   "source": [
    "pd.DataFrame(history.history).plot(figsize=(8, 5))\n",
    "plt.grid(True)\n",
    "plt.gca().set_ylim(0, 1)\n",
    "plt.show()"
   ]
  },
  {
   "cell_type": "code",
   "execution_count": 15,
   "metadata": {
    "colab": {
     "base_uri": "https://localhost:8080/"
    },
    "executionInfo": {
     "elapsed": 897726,
     "status": "ok",
     "timestamp": 1618331232820,
     "user": {
      "displayName": "josef",
      "photoUrl": "",
      "userId": "01549770466407113647"
     },
     "user_tz": -120
    },
    "id": "GwRHK4gAd_tk",
    "outputId": "e81168bc-2f86-4fea-dadd-76055612ec3d"
   },
   "outputs": [
    {
     "data": {
      "text/plain": [
       "dict_keys(['loss', 'accuracy', 'val_loss', 'val_accuracy'])"
      ]
     },
     "execution_count": 15,
     "metadata": {
      "tags": []
     },
     "output_type": "execute_result"
    }
   ],
   "source": [
    "history.history.keys()"
   ]
  },
  {
   "cell_type": "code",
   "execution_count": 16,
   "metadata": {
    "executionInfo": {
     "elapsed": 897725,
     "status": "ok",
     "timestamp": 1618331232822,
     "user": {
      "displayName": "josef",
      "photoUrl": "",
      "userId": "01549770466407113647"
     },
     "user_tz": -120
    },
    "id": "qWuqVL92d_tl"
   },
   "outputs": [],
   "source": [
    "val_acc = history.history['val_accuracy']"
   ]
  },
  {
   "cell_type": "code",
   "execution_count": 17,
   "metadata": {
    "colab": {
     "base_uri": "https://localhost:8080/"
    },
    "executionInfo": {
     "elapsed": 897724,
     "status": "ok",
     "timestamp": 1618331232824,
     "user": {
      "displayName": "josef",
      "photoUrl": "",
      "userId": "01549770466407113647"
     },
     "user_tz": -120
    },
    "id": "E0fx-wIdd_tm",
    "outputId": "c614dee6-4f9a-4902-cc61-98dbab0ef97c"
   },
   "outputs": [
    {
     "data": {
      "text/plain": [
       "8"
      ]
     },
     "execution_count": 17,
     "metadata": {
      "tags": []
     },
     "output_type": "execute_result"
    }
   ],
   "source": [
    "np.argmax(val_acc) #epoch position of maximum; attention: position counted from zero; training output counted from one."
   ]
  },
  {
   "cell_type": "code",
   "execution_count": 18,
   "metadata": {
    "colab": {
     "base_uri": "https://localhost:8080/"
    },
    "executionInfo": {
     "elapsed": 897722,
     "status": "ok",
     "timestamp": 1618331232825,
     "user": {
      "displayName": "josef",
      "photoUrl": "",
      "userId": "01549770466407113647"
     },
     "user_tz": -120
    },
    "id": "9uzAGjfkd_tn",
    "outputId": "c16934d4-4aba-4a2d-8ab4-6e53ad8909c9"
   },
   "outputs": [
    {
     "data": {
      "text/plain": [
       "0.9116"
      ]
     },
     "execution_count": 18,
     "metadata": {
      "tags": []
     },
     "output_type": "execute_result"
    }
   ],
   "source": [
    "round(np.max(val_acc),4)"
   ]
  },
  {
   "cell_type": "markdown",
   "metadata": {
    "id": "cqN6Gb2-d_tn"
   },
   "source": [
    "## evaluate model"
   ]
  },
  {
   "cell_type": "code",
   "execution_count": 19,
   "metadata": {
    "executionInfo": {
     "elapsed": 897721,
     "status": "ok",
     "timestamp": 1618331232826,
     "user": {
      "displayName": "josef",
      "photoUrl": "",
      "userId": "01549770466407113647"
     },
     "user_tz": -120
    },
    "id": "jhpTVtI1d_to"
   },
   "outputs": [],
   "source": [
    "#check generalization accuracy on the test set"
   ]
  },
  {
   "cell_type": "code",
   "execution_count": 20,
   "metadata": {
    "colab": {
     "base_uri": "https://localhost:8080/"
    },
    "executionInfo": {
     "elapsed": 900774,
     "status": "ok",
     "timestamp": 1618331235881,
     "user": {
      "displayName": "josef",
      "photoUrl": "",
      "userId": "01549770466407113647"
     },
     "user_tz": -120
    },
    "id": "6eijC5Rwd_tp",
    "outputId": "9be57343-ffde-4dc4-b502-b2d120c6b5aa"
   },
   "outputs": [
    {
     "name": "stdout",
     "output_type": "stream",
     "text": [
      "313/313 [==============================] - 4s 11ms/step - loss: 0.2624 - accuracy: 0.9059\n"
     ]
    }
   ],
   "source": [
    "score = model.evaluate(X_test, y_test)"
   ]
  },
  {
   "cell_type": "code",
   "execution_count": 21,
   "metadata": {
    "colab": {
     "base_uri": "https://localhost:8080/"
    },
    "executionInfo": {
     "elapsed": 900774,
     "status": "ok",
     "timestamp": 1618331235885,
     "user": {
      "displayName": "josef",
      "photoUrl": "",
      "userId": "01549770466407113647"
     },
     "user_tz": -120
    },
    "id": "ro9VFjETqLK8",
    "outputId": "01a68ff2-6842-4c10-fd55-c7eeee620ada"
   },
   "outputs": [
    {
     "data": {
      "text/plain": [
       "0.9059"
      ]
     },
     "execution_count": 21,
     "metadata": {
      "tags": []
     },
     "output_type": "execute_result"
    }
   ],
   "source": [
    "round(score[1],4)"
   ]
  },
  {
   "cell_type": "markdown",
   "metadata": {
    "id": "K-24mY0md_tp"
   },
   "source": [
    "## prediction"
   ]
  },
  {
   "cell_type": "code",
   "execution_count": 22,
   "metadata": {
    "executionInfo": {
     "elapsed": 900781,
     "status": "ok",
     "timestamp": 1618331235895,
     "user": {
      "displayName": "josef",
      "photoUrl": "",
      "userId": "01549770466407113647"
     },
     "user_tz": -120
    },
    "id": "kP23g2D9d_tp"
   },
   "outputs": [],
   "source": [
    "X_new = X_test[:10]  #new instances taken from test set"
   ]
  },
  {
   "cell_type": "code",
   "execution_count": 23,
   "metadata": {
    "colab": {
     "base_uri": "https://localhost:8080/"
    },
    "executionInfo": {
     "elapsed": 901718,
     "status": "ok",
     "timestamp": 1618331236834,
     "user": {
      "displayName": "josef",
      "photoUrl": "",
      "userId": "01549770466407113647"
     },
     "user_tz": -120
    },
    "id": "xNrdE_nPd_tq",
    "outputId": "171dfa4e-c165-4d40-8ff3-1b6625fe4b32"
   },
   "outputs": [
    {
     "data": {
      "text/plain": [
       "array([9, 2, 1, 1, 0, 1, 4, 6, 5, 7])"
      ]
     },
     "execution_count": 23,
     "metadata": {
      "tags": []
     },
     "output_type": "execute_result"
    }
   ],
   "source": [
    "y_pred = np.argmax(model.predict(X_new), axis=-1)\n",
    "y_pred"
   ]
  },
  {
   "cell_type": "code",
   "execution_count": 24,
   "metadata": {
    "colab": {
     "base_uri": "https://localhost:8080/"
    },
    "executionInfo": {
     "elapsed": 901716,
     "status": "ok",
     "timestamp": 1618331236836,
     "user": {
      "displayName": "josef",
      "photoUrl": "",
      "userId": "01549770466407113647"
     },
     "user_tz": -120
    },
    "id": "t0xCDcQDd_tq",
    "outputId": "36d91ca9-4f6c-4c6e-acf9-a91eb4e4d92e"
   },
   "outputs": [
    {
     "data": {
      "text/plain": [
       "array([9, 2, 1, 1, 6, 1, 4, 6, 5, 7], dtype=uint8)"
      ]
     },
     "execution_count": 24,
     "metadata": {
      "tags": []
     },
     "output_type": "execute_result"
    }
   ],
   "source": [
    "y_test[:10]  #check prediction"
   ]
  },
  {
   "cell_type": "code",
   "execution_count": 25,
   "metadata": {
    "colab": {
     "base_uri": "https://localhost:8080/"
    },
    "executionInfo": {
     "elapsed": 901715,
     "status": "ok",
     "timestamp": 1618331236837,
     "user": {
      "displayName": "josef",
      "photoUrl": "",
      "userId": "01549770466407113647"
     },
     "user_tz": -120
    },
    "id": "t78_iZrod_tr",
    "outputId": "febbaa71-4878-4cf2-fd71-dec44d5636c0"
   },
   "outputs": [
    {
     "data": {
      "text/plain": [
       "array(['Ankle boot', 'Pullover', 'Trouser', 'Trouser', 'T-shirt/top',\n",
       "       'Trouser', 'Coat', 'Shirt', 'Sandal', 'Sneaker'], dtype='<U11')"
      ]
     },
     "execution_count": 25,
     "metadata": {
      "tags": []
     },
     "output_type": "execute_result"
    }
   ],
   "source": [
    "np.array(class_names)[y_pred]  #convert class index to class name"
   ]
  },
  {
   "cell_type": "code",
   "execution_count": 26,
   "metadata": {
    "colab": {
     "base_uri": "https://localhost:8080/",
     "height": 284
    },
    "executionInfo": {
     "elapsed": 902270,
     "status": "ok",
     "timestamp": 1618331237394,
     "user": {
      "displayName": "josef",
      "photoUrl": "",
      "userId": "01549770466407113647"
     },
     "user_tz": -120
    },
    "id": "eB49QVoLd_tr",
    "outputId": "bc5b493a-5ed9-4253-88a8-b92fa7cd3f8e"
   },
   "outputs": [
    {
     "data": {
      "image/png": "[encoded data removed]",
      "text/plain": [
       "<Figure size 432x288 with 1 Axes>"
      ]
     },
     "metadata": {
      "needs_background": "light",
      "tags": []
     },
     "output_type": "display_data"
    }
   ],
   "source": [
    "plt.imshow(X_new[0,...,0], cmap=\"binary\", interpolation=\"nearest\")\n",
    "plt.title(class_names[y_test[0]], fontsize=12)\n",
    "plt.show()"
   ]
  },
  {
   "cell_type": "code",
   "execution_count": 26,
   "metadata": {
    "executionInfo": {
     "elapsed": 902270,
     "status": "ok",
     "timestamp": 1618331237397,
     "user": {
      "displayName": "josef",
      "photoUrl": "",
      "userId": "01549770466407113647"
     },
     "user_tz": -120
    },
    "id": "HpiV7Ol0d_ts"
   },
   "outputs": [],
   "source": []
  }
 ],
 "metadata": {
  "accelerator": "GPU",
  "colab": {
   "collapsed_sections": [],
   "name": "my_14_deep_computer_vision_03_ResNet.ipynb",
   "provenance": []
  },
  "kernelspec": {
   "display_name": "tensorflow22_env",
   "language": "python",
   "name": "tensorflow22_env"
  },
  "language_info": {
   "codemirror_mode": {
    "name": "ipython",
    "version": 3
   },
   "file_extension": ".py",
   "mimetype": "text/x-python",
   "name": "python",
   "nbconvert_exporter": "python",
   "pygments_lexer": "ipython3",
   "version": "3.7.7"
  }
 },
 "nbformat": 4,
 "nbformat_minor": 1
}

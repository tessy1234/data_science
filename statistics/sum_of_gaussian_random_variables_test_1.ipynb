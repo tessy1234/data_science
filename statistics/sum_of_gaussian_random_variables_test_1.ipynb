{
 "cells": [
  {
   "cell_type": "code",
   "execution_count": 24,
   "id": "f9bbe27a",
   "metadata": {},
   "outputs": [],
   "source": [
    "import numpy as np\n",
    "import matplotlib.pyplot as plt\n",
    "from scipy.stats import norm\n",
    "from scipy import signal\n",
    "import seaborn as sb"
   ]
  },
  {
   "cell_type": "markdown",
   "id": "ad98934d",
   "metadata": {},
   "source": [
    "## Sum of standard Gaussian random variables"
   ]
  },
  {
   "cell_type": "code",
   "execution_count": 25,
   "id": "db763ce7",
   "metadata": {},
   "outputs": [],
   "source": [
    "#given two independent gaussian variables X,Y; calculate Z = X + Y ~ PDF(Z) "
   ]
  },
  {
   "cell_type": "code",
   "execution_count": 26,
   "id": "05f33a74",
   "metadata": {},
   "outputs": [],
   "source": [
    "delta = 1e-4\n",
    "big_grid = np.arange(-10,10,delta)"
   ]
  },
  {
   "cell_type": "code",
   "execution_count": 27,
   "id": "22dbb79f",
   "metadata": {},
   "outputs": [],
   "source": [
    "mean = 0  #E(X)=E(Y)=0\n",
    "var = 1   #Var(X)=Var(Y)=1\n",
    "std = 1   "
   ]
  },
  {
   "cell_type": "code",
   "execution_count": 28,
   "id": "37dc3f5a",
   "metadata": {},
   "outputs": [],
   "source": [
    "X = norm(loc=mean, scale=std)  # Normal distribution mean = 0, std = 1\n",
    "Y = norm(loc=mean, scale=std)  # Normal distribution mean = 0, std = 1"
   ]
  },
  {
   "cell_type": "code",
   "execution_count": 29,
   "id": "738ceb21",
   "metadata": {},
   "outputs": [
    {
     "name": "stdout",
     "output_type": "stream",
     "text": [
      "Sum of gaussian pmf1: 1.000000000002199\n"
     ]
    }
   ],
   "source": [
    "pmf1 = X.pdf(big_grid)*delta\n",
    "print(\"Sum of gaussian pmf1: \"+str(sum(pmf1)))"
   ]
  },
  {
   "cell_type": "code",
   "execution_count": 30,
   "id": "4b52da63",
   "metadata": {},
   "outputs": [
    {
     "name": "stdout",
     "output_type": "stream",
     "text": [
      "Sum of gaussian pmf2: 1.000000000002199\n"
     ]
    }
   ],
   "source": [
    "pmf2 = Y.pdf(big_grid)*delta\n",
    "print(\"Sum of gaussian pmf2: \"+str(sum(pmf1)))"
   ]
  },
  {
   "cell_type": "code",
   "execution_count": 31,
   "id": "9dfc15c3",
   "metadata": {},
   "outputs": [
    {
     "name": "stdout",
     "output_type": "stream",
     "text": [
      "Sum of convoluted pmf: 1.0000000000031315\n"
     ]
    }
   ],
   "source": [
    "conv_pmf = signal.fftconvolve(pmf1,pmf2,'same')  #convolution of pmf1 and pmf2\n",
    "print(\"Sum of convoluted pmf: \"+str(sum(conv_pmf)))"
   ]
  },
  {
   "cell_type": "code",
   "execution_count": 32,
   "id": "6b2dae89",
   "metadata": {},
   "outputs": [],
   "source": [
    "def realcdf(x):\n",
    "    return norm(loc = 2*mean, scale = np.sqrt(2*var)).cdf(x)"
   ]
  },
  {
   "cell_type": "code",
   "execution_count": 33,
   "id": "c52fc8da",
   "metadata": {},
   "outputs": [
    {
     "name": "stdout",
     "output_type": "stream",
     "text": [
      "Supposed to be: 0.9999999999984621\n"
     ]
    }
   ],
   "source": [
    "print(\"Supposed to be: \" + str(realcdf(max(big_grid)) - realcdf(min(big_grid))))"
   ]
  },
  {
   "cell_type": "code",
   "execution_count": 34,
   "id": "3ebc4f44",
   "metadata": {},
   "outputs": [
    {
     "name": "stdout",
     "output_type": "stream",
     "text": [
      "Integration of convoluted pdf: 1.0000000000007927\n"
     ]
    }
   ],
   "source": [
    "pdf1 = pmf1/delta\n",
    "pdf2 = pmf2/delta\n",
    "conv_pdf = conv_pmf/delta\n",
    "print(\"Integration of convoluted pdf: \" + str(np.trapz(conv_pdf, big_grid)))"
   ]
  },
  {
   "cell_type": "code",
   "execution_count": 35,
   "id": "a676b266",
   "metadata": {},
   "outputs": [
    {
     "data": {
      "image/png": "[encoded data removed]",
      "text/plain": [
       "<Figure size 432x288 with 1 Axes>"
      ]
     },
     "metadata": {
      "needs_background": "light"
     },
     "output_type": "display_data"
    }
   ],
   "source": [
    "plt.plot(big_grid, pdf1, label='Gaussian PDF1')\n",
    "plt.plot(big_grid, pdf2, label='Gaussian PDF2')\n",
    "plt.plot(big_grid, conv_pdf, label='Sum')\n",
    "plt.legend(loc='best'), plt.suptitle('PDFs')\n",
    "plt.show() "
   ]
  },
  {
   "cell_type": "markdown",
   "id": "acc0ed21",
   "metadata": {},
   "source": [
    "## Mean and variance of convoluted PDF"
   ]
  },
  {
   "cell_type": "code",
   "execution_count": 36,
   "id": "1b3804c8",
   "metadata": {},
   "outputs": [],
   "source": [
    "#E(Z)=E(X)+E(Y); Var(Z)=Var(X)+Var(Y); if E(X)=E(Y)=0 and Var(X)=Var(Y)=1 it follows E(Z)=0 and Var(Z)=2"
   ]
  },
  {
   "cell_type": "code",
   "execution_count": 37,
   "id": "6d0b6649",
   "metadata": {},
   "outputs": [
    {
     "data": {
      "text/plain": [
       "0.00010000002329397552"
      ]
     },
     "execution_count": 37,
     "metadata": {},
     "output_type": "execute_result"
    }
   ],
   "source": [
    "#mean\n",
    "E_Z = (big_grid * conv_pmf).sum(); E_Z  #E(Z) = Σ z . P(z): sum(z[j] * p(z[j]));  expected: E(Z)=0"
   ]
  },
  {
   "cell_type": "code",
   "execution_count": 38,
   "id": "a0cc1e38",
   "metadata": {},
   "outputs": [
    {
     "data": {
      "text/plain": [
       "2.000000009849539"
      ]
     },
     "execution_count": 38,
     "metadata": {},
     "output_type": "execute_result"
    }
   ],
   "source": [
    "E_Z_squared = (big_grid**2 * conv_pmf).sum(); E_Z_squared  #E(Z²) = Σ z² . P(z): sum(z[j]² * p(z[j]))"
   ]
  },
  {
   "cell_type": "code",
   "execution_count": 39,
   "id": "16f31f74",
   "metadata": {},
   "outputs": [
    {
     "data": {
      "text/plain": [
       "1.9999999998495344"
      ]
     },
     "execution_count": 39,
     "metadata": {},
     "output_type": "execute_result"
    }
   ],
   "source": [
    "#variance\n",
    "Var_Z =  E_Z_squared - (E_Z)**2; Var_Z  #Var(Z) = E(Z²) - E(Z)²;  expected: Var(Z)=2"
   ]
  },
  {
   "cell_type": "markdown",
   "id": "e46a679c",
   "metadata": {},
   "source": [
    "## Reference implementation"
   ]
  },
  {
   "cell_type": "code",
   "execution_count": 40,
   "id": "0cf14b4a",
   "metadata": {},
   "outputs": [],
   "source": [
    "import openturns as ot"
   ]
  },
  {
   "cell_type": "code",
   "execution_count": 41,
   "id": "1e0facf1",
   "metadata": {},
   "outputs": [],
   "source": [
    "mean = 0  #E(X)=E(Y)=0\n",
    "std = 1   #Var(X)=Var(Y)=1"
   ]
  },
  {
   "cell_type": "code",
   "execution_count": 42,
   "id": "cc27350b",
   "metadata": {},
   "outputs": [],
   "source": [
    "X = ot.Normal(mean, std)  # Normal distribution mean = 0, std = 1\n",
    "Y = ot.Normal(mean, std)  # Normal distribution mean = 0, std = 1"
   ]
  },
  {
   "cell_type": "code",
   "execution_count": 43,
   "id": "e0dfa5ba",
   "metadata": {},
   "outputs": [],
   "source": [
    "Z = X + Y  #sum of two gaussian random variables"
   ]
  },
  {
   "cell_type": "code",
   "execution_count": 44,
   "id": "024eaad7",
   "metadata": {},
   "outputs": [
    {
     "data": {
      "image/png": "[encoded data removed]",
      "text/plain": [
       "class=Graph name=pdf as a function of X0 implementation=class=GraphImplementation name=pdf as a function of X0 title= xTitle=X0 yTitle=PDF axes=ON grid=ON legendposition=topright legendFontSize=1 drawables=[class=Drawable name=Unnamed implementation=class=Curve name=Unnamed derived from class=DrawableImplementation name=Unnamed legend=X0 PDF data=class=Sample name=Unnamed implementation=class=SampleImplementation name=Unnamed size=129 dimension=2 data=[[-5.27666,0.000267527],[-5.19421,0.00033197],[-5.11176,0.000410539],[-5.02931,0.000505981],[-4.94687,0.000621494],[-4.86442,0.000760789],[-4.78197,0.000928144],[-4.69952,0.00112847],[-4.61708,0.00136738],[-4.53463,0.00165125],[-4.45218,0.00198728],[-4.36973,0.00238358],[-4.28728,0.00284921],[-4.20484,0.00339424],[-4.12239,0.00402982],[-4.03994,0.00476817],[-3.95749,0.00562266],[-3.87505,0.00660779],[-3.7926,0.00773917],[-3.71015,0.00903351],[-3.6277,0.0105085],[-3.54525,0.0121829],[-3.46281,0.0140762],[-3.38036,0.0162085],[-3.29791,0.0186005],[-3.21546,0.0212731],[-3.13302,0.0242471],[-3.05057,0.0275431],[-2.96812,0.031181],[-2.88567,0.0351796],[-2.80322,0.0395564],[-2.72078,0.0443267],[-2.63833,0.0495038],[-2.55588,0.0550979],[-2.47343,0.0611161],[-2.39099,0.0675616],[-2.30854,0.0744335],[-2.22609,0.0817262],[-2.14364,0.0894288],[-2.06119,0.0975254],[-1.97875,0.105994],[-1.8963,0.114807],[-1.81385,0.123932],[-1.7314,0.133327],[-1.64896,0.142948],[-1.56651,0.152743],[-1.48406,0.162656],[-1.40161,0.172624],[-1.31916,0.182581],[-1.23672,0.192458],[-1.15427,0.20218],[-1.07182,0.211673],[-0.989373,0.22086],[-0.906925,0.229663],[-0.824478,0.238008],[-0.74203,0.245818],[-0.659582,0.253023],[-0.577134,0.259556],[-0.494687,0.265354],[-0.412239,0.270361],[-0.329791,0.274528],[-0.247343,0.277813],[-0.164896,0.280184],[-0.0824478,0.281616],[0,0.282095],[0.0824478,0.281616],[0.164896,0.280184],[0.247343,0.277813],[0.329791,0.274528],[0.412239,0.270361],[0.494687,0.265354],[0.577134,0.259556],[0.659582,0.253023],[0.74203,0.245818],[0.824478,0.238008],[0.906925,0.229663],[0.989373,0.22086],[1.07182,0.211673],[1.15427,0.20218],[1.23672,0.192458],[1.31916,0.182581],[1.40161,0.172624],[1.48406,0.162656],[1.56651,0.152743],[1.64896,0.142948],[1.7314,0.133327],[1.81385,0.123932],[1.8963,0.114807],[1.97875,0.105994],[2.06119,0.0975254],[2.14364,0.0894288],[2.22609,0.0817262],[2.30854,0.0744335],[2.39099,0.0675616],[2.47343,0.0611161],[2.55588,0.0550979],[2.63833,0.0495038],[2.72078,0.0443267],[2.80322,0.0395564],[2.88567,0.0351796],[2.96812,0.031181],[3.05057,0.0275431],[3.13302,0.0242471],[3.21546,0.0212731],[3.29791,0.0186005],[3.38036,0.0162085],[3.46281,0.0140762],[3.54525,0.0121829],[3.6277,0.0105085],[3.71015,0.00903351],[3.7926,0.00773917],[3.87505,0.00660779],[3.95749,0.00562266],[4.03994,0.00476817],[4.12239,0.00402982],[4.20484,0.00339424],[4.28728,0.00284921],[4.36973,0.00238358],[4.45218,0.00198728],[4.53463,0.00165125],[4.61708,0.00136738],[4.69952,0.00112847],[4.78197,0.000928144],[4.86442,0.000760789],[4.94687,0.000621494],[5.02931,0.000505981],[5.11176,0.000410539],[5.19421,0.00033197],[5.27666,0.000267527]] color=red fillStyle=solid lineStyle=solid pointStyle=none lineWidth=2]"
      ]
     },
     "execution_count": 44,
     "metadata": {},
     "output_type": "execute_result"
    }
   ],
   "source": [
    "Z.drawPDF()"
   ]
  },
  {
   "cell_type": "code",
   "execution_count": 45,
   "id": "7cfcf692",
   "metadata": {},
   "outputs": [
    {
     "data": {
      "text/html": [
       "<p>[0]</p>"
      ],
      "text/plain": [
       "class=Point name=Unnamed dimension=1 values=[0]"
      ]
     },
     "execution_count": 45,
     "metadata": {},
     "output_type": "execute_result"
    }
   ],
   "source": [
    "Z.getMean()  #E(Z)=E(X)+E(Y)=0"
   ]
  },
  {
   "cell_type": "code",
   "execution_count": 46,
   "id": "be1a8ba8",
   "metadata": {},
   "outputs": [
    {
     "data": {
      "text/html": [
       "<p>[[ 2 ]]</p>"
      ],
      "text/plain": [
       "class=CovarianceMatrix dimension=1 implementation=class=MatrixImplementation name=Unnamed rows=1 columns=1 values=[2]"
      ]
     },
     "execution_count": 46,
     "metadata": {},
     "output_type": "execute_result"
    }
   ],
   "source": [
    "Z.getCovariance()  #Var(Z)=Var(X)+Var(Y)=2"
   ]
  },
  {
   "cell_type": "code",
   "execution_count": null,
   "id": "26cc053f",
   "metadata": {},
   "outputs": [],
   "source": []
  }
 ],
 "metadata": {
  "kernelspec": {
   "display_name": "parquet_env",
   "language": "python",
   "name": "parquet_env"
  },
  "language_info": {
   "codemirror_mode": {
    "name": "ipython",
    "version": 3
   },
   "file_extension": ".py",
   "mimetype": "text/x-python",
   "name": "python",
   "nbconvert_exporter": "python",
   "pygments_lexer": "ipython3",
   "version": "3.9.12"
  }
 },
 "nbformat": 4,
 "nbformat_minor": 5
}

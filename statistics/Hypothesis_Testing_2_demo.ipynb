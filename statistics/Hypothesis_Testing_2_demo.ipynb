{
 "cells": [
  {
   "cell_type": "markdown",
   "id": "186b562c",
   "metadata": {},
   "source": [
    "## Test for the mean. Population variance unknown"
   ]
  },
  {
   "cell_type": "markdown",
   "id": "fb0261d9",
   "metadata": {},
   "source": [
    "### H0: µ0 = 40%;  H1: µ0 ≠ 40%"
   ]
  },
  {
   "cell_type": "markdown",
   "id": "ffc52650",
   "metadata": {},
   "source": [
    "### Test null hypothesis at 1% significance"
   ]
  },
  {
   "cell_type": "markdown",
   "id": "4d185019",
   "metadata": {},
   "source": [
    "### Solution: Null hypothesis (H0) is accepted"
   ]
  },
  {
   "cell_type": "code",
   "execution_count": 25,
   "id": "4953c714",
   "metadata": {},
   "outputs": [],
   "source": [
    "import numpy as np\n",
    "import pandas as pd\n",
    "from scipy.stats import t"
   ]
  },
  {
   "cell_type": "code",
   "execution_count": 26,
   "id": "7fa5e802",
   "metadata": {},
   "outputs": [],
   "source": [
    "pop_mu = 0.4; significance = 0.01  #pop_mu = μ0 = hypothesized mean; significance = α = significance level"
   ]
  },
  {
   "cell_type": "markdown",
   "id": "087284b3",
   "metadata": {},
   "source": [
    "### read data"
   ]
  },
  {
   "cell_type": "code",
   "execution_count": 27,
   "id": "aab60b53",
   "metadata": {},
   "outputs": [],
   "source": [
    "df = pd.read_excel('data/email_spying.xlsx')"
   ]
  },
  {
   "cell_type": "code",
   "execution_count": 28,
   "id": "11c0b929",
   "metadata": {},
   "outputs": [
    {
     "data": {
      "text/html": [
       "<div>\n",
       "<style scoped>\n",
       "    .dataframe tbody tr th:only-of-type {\n",
       "        vertical-align: middle;\n",
       "    }\n",
       "\n",
       "    .dataframe tbody tr th {\n",
       "        vertical-align: top;\n",
       "    }\n",
       "\n",
       "    .dataframe thead th {\n",
       "        text-align: right;\n",
       "    }\n",
       "</style>\n",
       "<table border=\"1\" class=\"dataframe\">\n",
       "  <thead>\n",
       "    <tr style=\"text-align: right;\">\n",
       "      <th></th>\n",
       "      <th>Unnamed: 0</th>\n",
       "      <th>Open rate</th>\n",
       "      <th>Unnamed: 2</th>\n",
       "      <th>Null hypothesis value</th>\n",
       "      <th>0.4</th>\n",
       "    </tr>\n",
       "  </thead>\n",
       "  <tbody>\n",
       "    <tr>\n",
       "      <th>0</th>\n",
       "      <td>NaN</td>\n",
       "      <td>0.26</td>\n",
       "      <td>NaN</td>\n",
       "      <td>NaN</td>\n",
       "      <td>NaN</td>\n",
       "    </tr>\n",
       "    <tr>\n",
       "      <th>1</th>\n",
       "      <td>NaN</td>\n",
       "      <td>0.23</td>\n",
       "      <td>NaN</td>\n",
       "      <td>NaN</td>\n",
       "      <td>NaN</td>\n",
       "    </tr>\n",
       "    <tr>\n",
       "      <th>2</th>\n",
       "      <td>NaN</td>\n",
       "      <td>0.42</td>\n",
       "      <td>NaN</td>\n",
       "      <td>NaN</td>\n",
       "      <td>NaN</td>\n",
       "    </tr>\n",
       "    <tr>\n",
       "      <th>3</th>\n",
       "      <td>NaN</td>\n",
       "      <td>0.49</td>\n",
       "      <td>NaN</td>\n",
       "      <td>NaN</td>\n",
       "      <td>NaN</td>\n",
       "    </tr>\n",
       "    <tr>\n",
       "      <th>4</th>\n",
       "      <td>NaN</td>\n",
       "      <td>0.23</td>\n",
       "      <td>NaN</td>\n",
       "      <td>NaN</td>\n",
       "      <td>NaN</td>\n",
       "    </tr>\n",
       "  </tbody>\n",
       "</table>\n",
       "</div>"
      ],
      "text/plain": [
       "   Unnamed: 0  Open rate  Unnamed: 2  Null hypothesis value  0.4\n",
       "0         NaN       0.26         NaN                    NaN  NaN\n",
       "1         NaN       0.23         NaN                    NaN  NaN\n",
       "2         NaN       0.42         NaN                    NaN  NaN\n",
       "3         NaN       0.49         NaN                    NaN  NaN\n",
       "4         NaN       0.23         NaN                    NaN  NaN"
      ]
     },
     "execution_count": 28,
     "metadata": {},
     "output_type": "execute_result"
    }
   ],
   "source": [
    "df.head()"
   ]
  },
  {
   "cell_type": "code",
   "execution_count": 29,
   "id": "ac266ed0",
   "metadata": {},
   "outputs": [
    {
     "data": {
      "text/plain": [
       "0    0.26\n",
       "1    0.23\n",
       "2    0.42\n",
       "3    0.49\n",
       "4    0.23\n",
       "5    0.59\n",
       "6    0.29\n",
       "7    0.29\n",
       "8    0.57\n",
       "9    0.40\n",
       "Name: Open rate, dtype: float64"
      ]
     },
     "execution_count": 29,
     "metadata": {},
     "output_type": "execute_result"
    }
   ],
   "source": [
    "data = df['Open rate']; data"
   ]
  },
  {
   "cell_type": "markdown",
   "id": "e4603446",
   "metadata": {},
   "source": [
    "### calculate observational test statistic"
   ]
  },
  {
   "cell_type": "code",
   "execution_count": 30,
   "id": "582a4d3a",
   "metadata": {},
   "outputs": [
    {
     "data": {
      "text/plain": [
       "10"
      ]
     },
     "execution_count": 30,
     "metadata": {},
     "output_type": "execute_result"
    }
   ],
   "source": [
    "size = data.shape[0]; size  #sample size = N"
   ]
  },
  {
   "cell_type": "code",
   "execution_count": 31,
   "id": "9e778c51",
   "metadata": {},
   "outputs": [
    {
     "data": {
      "text/plain": [
       "0.37699999999999995"
      ]
     },
     "execution_count": 31,
     "metadata": {},
     "output_type": "execute_result"
    }
   ],
   "source": [
    "mean = data.mean(); mean  #sample mean = x̄"
   ]
  },
  {
   "cell_type": "code",
   "execution_count": 32,
   "id": "8835346f",
   "metadata": {},
   "outputs": [
    {
     "data": {
      "text/plain": [
       "0.13736002976767941"
      ]
     },
     "execution_count": 32,
     "metadata": {},
     "output_type": "execute_result"
    }
   ],
   "source": [
    "std = data.std(); std   #sample standard deviation σ"
   ]
  },
  {
   "cell_type": "code",
   "execution_count": 33,
   "id": "0c49df7f",
   "metadata": {},
   "outputs": [
    {
     "data": {
      "text/plain": [
       "0.04343705535343962"
      ]
     },
     "execution_count": 33,
     "metadata": {},
     "output_type": "execute_result"
    }
   ],
   "source": [
    "std_error = std/np.sqrt(size); std_error  #standard error: σ/√N; σ = sample standard deviation"
   ]
  },
  {
   "cell_type": "code",
   "execution_count": 34,
   "id": "f46dba99",
   "metadata": {},
   "outputs": [],
   "source": [
    "#T-score: T=(x̄-μ0)/σ/√N ~ t(df); t-score=critical value; x̄=sample mean; μ0=hypothesized mean (H0); "
   ]
  },
  {
   "cell_type": "code",
   "execution_count": 35,
   "id": "69c107ca",
   "metadata": {},
   "outputs": [
    {
     "data": {
      "text/plain": [
       "-0.5295018231059438"
      ]
     },
     "execution_count": 35,
     "metadata": {},
     "output_type": "execute_result"
    }
   ],
   "source": [
    "t_score = (mean-pop_mu)/std_error; t_score"
   ]
  },
  {
   "cell_type": "markdown",
   "id": "e11ad277",
   "metadata": {},
   "source": [
    "### hypothesis test"
   ]
  },
  {
   "cell_type": "code",
   "execution_count": 36,
   "id": "11aab6ef",
   "metadata": {},
   "outputs": [],
   "source": [
    "df = size-1  #degree of freedom "
   ]
  },
  {
   "cell_type": "code",
   "execution_count": 37,
   "id": "b6933051",
   "metadata": {},
   "outputs": [],
   "source": [
    "#find c with P(x≤c)=1-α/2; α/2 for two-sided test; ppf=percent point function; "
   ]
  },
  {
   "cell_type": "code",
   "execution_count": 38,
   "id": "a24be1f3",
   "metadata": {},
   "outputs": [
    {
     "data": {
      "text/plain": [
       "3.2498355440153697"
      ]
     },
     "execution_count": 38,
     "metadata": {},
     "output_type": "execute_result"
    }
   ],
   "source": [
    "c = t.ppf(1-significance/2, df, loc=0, scale=1); c"
   ]
  },
  {
   "cell_type": "code",
   "execution_count": 39,
   "id": "3dc86374",
   "metadata": {},
   "outputs": [],
   "source": [
    "#if t-score is in the critical region of the right tail then H0 is false otherwise true"
   ]
  },
  {
   "cell_type": "code",
   "execution_count": 40,
   "id": "94cc06eb",
   "metadata": {},
   "outputs": [
    {
     "data": {
      "text/plain": [
       "False"
      ]
     },
     "execution_count": 40,
     "metadata": {},
     "output_type": "execute_result"
    }
   ],
   "source": [
    "np.absolute(t_score) > c #null hypothesis (H0) accepted"
   ]
  },
  {
   "cell_type": "markdown",
   "id": "7b9354fb",
   "metadata": {},
   "source": [
    "### cross-check hypothesis test with p-value"
   ]
  },
  {
   "cell_type": "code",
   "execution_count": 41,
   "id": "6792c024",
   "metadata": {},
   "outputs": [
    {
     "data": {
      "text/plain": [
       "0.6953658570862282"
      ]
     },
     "execution_count": 41,
     "metadata": {},
     "output_type": "execute_result"
    }
   ],
   "source": [
    "cdf_t = t.cdf(np.absolute(t_score), df, loc=0, scale=1); cdf_t  #cdf_t = P(x ≤ t_score)"
   ]
  },
  {
   "cell_type": "code",
   "execution_count": 42,
   "id": "6ce17d97",
   "metadata": {},
   "outputs": [
    {
     "data": {
      "text/plain": [
       "0.6092682858275436"
      ]
     },
     "execution_count": 42,
     "metadata": {},
     "output_type": "execute_result"
    }
   ],
   "source": [
    "p_value = 2*(1-cdf_t); p_value  #p-value=2*(1-P(x≤t)); two-sided p-value requires factor 2"
   ]
  },
  {
   "cell_type": "code",
   "execution_count": 43,
   "id": "1998d835",
   "metadata": {},
   "outputs": [
    {
     "data": {
      "text/plain": [
       "False"
      ]
     },
     "execution_count": 43,
     "metadata": {},
     "output_type": "execute_result"
    }
   ],
   "source": [
    "p_value < significance   #null hypothesis (H0) accepted"
   ]
  },
  {
   "cell_type": "code",
   "execution_count": null,
   "id": "75b688a0",
   "metadata": {},
   "outputs": [],
   "source": []
  }
 ],
 "metadata": {
  "kernelspec": {
   "display_name": "parquet_env",
   "language": "python",
   "name": "parquet_env"
  },
  "language_info": {
   "codemirror_mode": {
    "name": "ipython",
    "version": 3
   },
   "file_extension": ".py",
   "mimetype": "text/x-python",
   "name": "python",
   "nbconvert_exporter": "python",
   "pygments_lexer": "ipython3",
   "version": "3.8.13"
  }
 },
 "nbformat": 4,
 "nbformat_minor": 5
}

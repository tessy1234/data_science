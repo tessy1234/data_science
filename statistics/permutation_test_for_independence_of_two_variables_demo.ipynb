{
 "cells": [
  {
   "cell_type": "markdown",
   "id": "52668ecc",
   "metadata": {},
   "source": [
    "# Problem statement"
   ]
  },
  {
   "cell_type": "markdown",
   "id": "e9926fc0",
   "metadata": {},
   "source": [
    "### Test independence of two categorical variables Education and DeathPenalty"
   ]
  },
  {
   "cell_type": "markdown",
   "id": "140b4ad6",
   "metadata": {},
   "source": [
    "# Permutation Test for Independence"
   ]
  },
  {
   "cell_type": "code",
   "execution_count": 1,
   "id": "9f7a64d5",
   "metadata": {},
   "outputs": [],
   "source": [
    "import numpy as np\n",
    "import pandas as pd\n",
    "from scipy.stats import chi2\n",
    "import matplotlib.pyplot as plt\n",
    "import seaborn as sns"
   ]
  },
  {
   "cell_type": "code",
   "execution_count": 2,
   "id": "59f52dfd",
   "metadata": {},
   "outputs": [],
   "source": [
    "df_raw = pd.read_csv('data/GSS2002.csv')"
   ]
  },
  {
   "cell_type": "code",
   "execution_count": 3,
   "id": "47d024ca",
   "metadata": {},
   "outputs": [],
   "source": [
    "df = df_raw[['Education','DeathPenalty']].dropna().reset_index(drop=True)  #drop the rows where at least one element is missing."
   ]
  },
  {
   "cell_type": "code",
   "execution_count": 4,
   "id": "f133f08b",
   "metadata": {},
   "outputs": [
    {
     "data": {
      "text/html": [
       "<div>\n",
       "<style scoped>\n",
       "    .dataframe tbody tr th:only-of-type {\n",
       "        vertical-align: middle;\n",
       "    }\n",
       "\n",
       "    .dataframe tbody tr th {\n",
       "        vertical-align: top;\n",
       "    }\n",
       "\n",
       "    .dataframe thead th {\n",
       "        text-align: right;\n",
       "    }\n",
       "</style>\n",
       "<table border=\"1\" class=\"dataframe\">\n",
       "  <thead>\n",
       "    <tr style=\"text-align: right;\">\n",
       "      <th></th>\n",
       "      <th>Education</th>\n",
       "      <th>DeathPenalty</th>\n",
       "    </tr>\n",
       "  </thead>\n",
       "  <tbody>\n",
       "    <tr>\n",
       "      <th>0</th>\n",
       "      <td>HS</td>\n",
       "      <td>Favor</td>\n",
       "    </tr>\n",
       "    <tr>\n",
       "      <th>1</th>\n",
       "      <td>Bachelors</td>\n",
       "      <td>Favor</td>\n",
       "    </tr>\n",
       "    <tr>\n",
       "      <th>2</th>\n",
       "      <td>HS</td>\n",
       "      <td>Favor</td>\n",
       "    </tr>\n",
       "    <tr>\n",
       "      <th>3</th>\n",
       "      <td>HS</td>\n",
       "      <td>Favor</td>\n",
       "    </tr>\n",
       "    <tr>\n",
       "      <th>4</th>\n",
       "      <td>HS</td>\n",
       "      <td>Favor</td>\n",
       "    </tr>\n",
       "  </tbody>\n",
       "</table>\n",
       "</div>"
      ],
      "text/plain": [
       "   Education DeathPenalty\n",
       "0         HS        Favor\n",
       "1  Bachelors        Favor\n",
       "2         HS        Favor\n",
       "3         HS        Favor\n",
       "4         HS        Favor"
      ]
     },
     "execution_count": 4,
     "metadata": {},
     "output_type": "execute_result"
    }
   ],
   "source": [
    "df.head()"
   ]
  },
  {
   "cell_type": "code",
   "execution_count": 7,
   "id": "2a7ffd27",
   "metadata": {},
   "outputs": [
    {
     "name": "stdout",
     "output_type": "stream",
     "text": [
      "<class 'pandas.core.frame.DataFrame'>\n",
      "RangeIndex: 1307 entries, 0 to 1306\n",
      "Data columns (total 2 columns):\n",
      " #   Column        Non-Null Count  Dtype \n",
      "---  ------        --------------  ----- \n",
      " 0   Education     1307 non-null   object\n",
      " 1   DeathPenalty  1307 non-null   object\n",
      "dtypes: object(2)\n",
      "memory usage: 20.5+ KB\n"
     ]
    }
   ],
   "source": [
    "df.info()"
   ]
  },
  {
   "cell_type": "code",
   "execution_count": 5,
   "id": "e3889116",
   "metadata": {},
   "outputs": [
    {
     "data": {
      "text/plain": [
       "['Bachelors', 'Graduate', 'HS', 'Jr Col', 'Left HS']"
      ]
     },
     "execution_count": 5,
     "metadata": {},
     "output_type": "execute_result"
    }
   ],
   "source": [
    "np.sort(df['Education'].unique()).tolist()"
   ]
  },
  {
   "cell_type": "code",
   "execution_count": 6,
   "id": "8fc8cecb",
   "metadata": {},
   "outputs": [
    {
     "data": {
      "text/plain": [
       "['Favor', 'Oppose']"
      ]
     },
     "execution_count": 6,
     "metadata": {},
     "output_type": "execute_result"
    }
   ],
   "source": [
    "df['DeathPenalty'].unique().tolist()"
   ]
  },
  {
   "cell_type": "markdown",
   "id": "2b25dd4b",
   "metadata": {},
   "source": [
    "## Observed test statistic"
   ]
  },
  {
   "cell_type": "code",
   "execution_count": null,
   "id": "03e45d17",
   "metadata": {},
   "outputs": [],
   "source": [
    "#cross tabulation calculates the contingency table which represents the counts for each combination of categories"
   ]
  },
  {
   "cell_type": "code",
   "execution_count": 7,
   "id": "87bfb46c",
   "metadata": {},
   "outputs": [],
   "source": [
    "df_crosstab = pd.crosstab(df['Education'],df['DeathPenalty'])  #cross tabulation of two categorical variables"
   ]
  },
  {
   "cell_type": "code",
   "execution_count": 13,
   "id": "8d1f353b",
   "metadata": {},
   "outputs": [],
   "source": [
    "df_crosstab['rowsum'] = df_crosstab.sum(axis=1)"
   ]
  },
  {
   "cell_type": "code",
   "execution_count": 16,
   "id": "02b1232e",
   "metadata": {},
   "outputs": [],
   "source": [
    "df2 = pd.DataFrame(df_crosstab.sum(axis=0).values.reshape(1,-1), columns=list(df_crosstab), index=['colsum'])"
   ]
  },
  {
   "cell_type": "code",
   "execution_count": 18,
   "id": "62ea6ebe",
   "metadata": {},
   "outputs": [],
   "source": [
    "df_crosstab_ext = pd.concat([df_crosstab, df2], axis = 0)"
   ]
  },
  {
   "cell_type": "code",
   "execution_count": 19,
   "id": "0dd95277",
   "metadata": {},
   "outputs": [
    {
     "data": {
      "text/html": [
       "<div>\n",
       "<style scoped>\n",
       "    .dataframe tbody tr th:only-of-type {\n",
       "        vertical-align: middle;\n",
       "    }\n",
       "\n",
       "    .dataframe tbody tr th {\n",
       "        vertical-align: top;\n",
       "    }\n",
       "\n",
       "    .dataframe thead th {\n",
       "        text-align: right;\n",
       "    }\n",
       "</style>\n",
       "<table border=\"1\" class=\"dataframe\">\n",
       "  <thead>\n",
       "    <tr style=\"text-align: right;\">\n",
       "      <th></th>\n",
       "      <th>Favor</th>\n",
       "      <th>Oppose</th>\n",
       "      <th>rowsum</th>\n",
       "    </tr>\n",
       "  </thead>\n",
       "  <tbody>\n",
       "    <tr>\n",
       "      <th>Bachelors</th>\n",
       "      <td>135</td>\n",
       "      <td>71</td>\n",
       "      <td>206</td>\n",
       "    </tr>\n",
       "    <tr>\n",
       "      <th>Graduate</th>\n",
       "      <td>64</td>\n",
       "      <td>50</td>\n",
       "      <td>114</td>\n",
       "    </tr>\n",
       "    <tr>\n",
       "      <th>HS</th>\n",
       "      <td>511</td>\n",
       "      <td>200</td>\n",
       "      <td>711</td>\n",
       "    </tr>\n",
       "    <tr>\n",
       "      <th>Jr Col</th>\n",
       "      <td>71</td>\n",
       "      <td>16</td>\n",
       "      <td>87</td>\n",
       "    </tr>\n",
       "    <tr>\n",
       "      <th>Left HS</th>\n",
       "      <td>117</td>\n",
       "      <td>72</td>\n",
       "      <td>189</td>\n",
       "    </tr>\n",
       "    <tr>\n",
       "      <th>colsum</th>\n",
       "      <td>898</td>\n",
       "      <td>409</td>\n",
       "      <td>1307</td>\n",
       "    </tr>\n",
       "  </tbody>\n",
       "</table>\n",
       "</div>"
      ],
      "text/plain": [
       "           Favor  Oppose  rowsum\n",
       "Bachelors    135      71     206\n",
       "Graduate      64      50     114\n",
       "HS           511     200     711\n",
       "Jr Col        71      16      87\n",
       "Left HS      117      72     189\n",
       "colsum       898     409    1307"
      ]
     },
     "execution_count": 19,
     "metadata": {},
     "output_type": "execute_result"
    }
   ],
   "source": [
    "df_crosstab_ext"
   ]
  },
  {
   "cell_type": "code",
   "execution_count": 21,
   "id": "84ac32ab",
   "metadata": {},
   "outputs": [],
   "source": [
    "df_crosstab = pd.crosstab(df['Education'],df['DeathPenalty'])"
   ]
  },
  {
   "cell_type": "code",
   "execution_count": 22,
   "id": "f5b692c3",
   "metadata": {},
   "outputs": [
    {
     "data": {
      "text/plain": [
       "DeathPenalty\n",
       "Favor     898\n",
       "Oppose    409\n",
       "dtype: int64"
      ]
     },
     "execution_count": 22,
     "metadata": {},
     "output_type": "execute_result"
    }
   ],
   "source": [
    "colsum = df_crosstab.sum(axis=0); colsum"
   ]
  },
  {
   "cell_type": "code",
   "execution_count": 23,
   "id": "7165cd81",
   "metadata": {},
   "outputs": [
    {
     "data": {
      "text/plain": [
       "Education\n",
       "Bachelors    206\n",
       "Graduate     114\n",
       "HS           711\n",
       "Jr Col        87\n",
       "Left HS      189\n",
       "dtype: int64"
      ]
     },
     "execution_count": 23,
     "metadata": {},
     "output_type": "execute_result"
    }
   ],
   "source": [
    "rowsum = df_crosstab.sum(axis=1); rowsum"
   ]
  },
  {
   "cell_type": "code",
   "execution_count": 24,
   "id": "fbd9fd5e",
   "metadata": {},
   "outputs": [
    {
     "data": {
      "text/html": [
       "<div>\n",
       "<style scoped>\n",
       "    .dataframe tbody tr th:only-of-type {\n",
       "        vertical-align: middle;\n",
       "    }\n",
       "\n",
       "    .dataframe tbody tr th {\n",
       "        vertical-align: top;\n",
       "    }\n",
       "\n",
       "    .dataframe thead th {\n",
       "        text-align: right;\n",
       "    }\n",
       "</style>\n",
       "<table border=\"1\" class=\"dataframe\">\n",
       "  <thead>\n",
       "    <tr style=\"text-align: right;\">\n",
       "      <th>DeathPenalty</th>\n",
       "      <th>Favor</th>\n",
       "      <th>Oppose</th>\n",
       "    </tr>\n",
       "    <tr>\n",
       "      <th>Education</th>\n",
       "      <th></th>\n",
       "      <th></th>\n",
       "    </tr>\n",
       "  </thead>\n",
       "  <tbody>\n",
       "    <tr>\n",
       "      <th>Bachelors</th>\n",
       "      <td>135</td>\n",
       "      <td>71</td>\n",
       "    </tr>\n",
       "    <tr>\n",
       "      <th>Graduate</th>\n",
       "      <td>64</td>\n",
       "      <td>50</td>\n",
       "    </tr>\n",
       "    <tr>\n",
       "      <th>HS</th>\n",
       "      <td>511</td>\n",
       "      <td>200</td>\n",
       "    </tr>\n",
       "    <tr>\n",
       "      <th>Jr Col</th>\n",
       "      <td>71</td>\n",
       "      <td>16</td>\n",
       "    </tr>\n",
       "    <tr>\n",
       "      <th>Left HS</th>\n",
       "      <td>117</td>\n",
       "      <td>72</td>\n",
       "    </tr>\n",
       "  </tbody>\n",
       "</table>\n",
       "</div>"
      ],
      "text/plain": [
       "DeathPenalty  Favor  Oppose\n",
       "Education                  \n",
       "Bachelors       135      71\n",
       "Graduate         64      50\n",
       "HS              511     200\n",
       "Jr Col           71      16\n",
       "Left HS         117      72"
      ]
     },
     "execution_count": 24,
     "metadata": {},
     "output_type": "execute_result"
    }
   ],
   "source": [
    "df_crosstab"
   ]
  },
  {
   "cell_type": "code",
   "execution_count": 25,
   "id": "e6636040",
   "metadata": {},
   "outputs": [],
   "source": [
    "def chisq(obs):\n",
    "    observed = obs.values\n",
    "    rowsum = obs.sum(axis=1)\n",
    "    colsum = obs.sum(axis=0)\n",
    "    expected = np.outer(rowsum,colsum)/observed.sum()    \n",
    "    return ((observed - expected)**2/expected).sum()"
   ]
  },
  {
   "cell_type": "code",
   "execution_count": 26,
   "id": "d7f31395",
   "metadata": {},
   "outputs": [
    {
     "data": {
      "text/plain": [
       "23.450927461370544"
      ]
     },
     "execution_count": 26,
     "metadata": {},
     "output_type": "execute_result"
    }
   ],
   "source": [
    "observed = chisq(df_crosstab); observed  ##calculate cross tabulation of observation"
   ]
  },
  {
   "cell_type": "markdown",
   "id": "69237951",
   "metadata": {},
   "source": [
    "## Calculate permutation distribution"
   ]
  },
  {
   "cell_type": "code",
   "execution_count": 27,
   "id": "86c18f06",
   "metadata": {},
   "outputs": [],
   "source": [
    "edu = df['Education']  #fixed column"
   ]
  },
  {
   "cell_type": "code",
   "execution_count": 33,
   "id": "d424d11b",
   "metadata": {},
   "outputs": [],
   "source": [
    "N = 10**3-1\n",
    "result = np.zeros(N)\n",
    "for i in range(N):\n",
    "    death_penalty_permuted = df['DeathPenalty'].sample(frac=1.0).reset_index(drop=True)  #caution: reset_index must be called\n",
    "    table = pd.crosstab(edu, death_penalty_permuted)  #calculate cross tabulation of fixed and row-sampled column\n",
    "    result[i] = chisq(table)"
   ]
  },
  {
   "cell_type": "markdown",
   "id": "71d7abb4",
   "metadata": {},
   "source": [
    "## Distribution of test statistic (chi-squared)"
   ]
  },
  {
   "cell_type": "code",
   "execution_count": 35,
   "id": "6daa57f6",
   "metadata": {},
   "outputs": [
    {
     "data": {
      "image/png": "[encoded data removed]",
      "text/plain": [
       "<Figure size 432x288 with 1 Axes>"
      ]
     },
     "metadata": {
      "needs_background": "light"
     },
     "output_type": "display_data"
    }
   ],
   "source": [
    "plt.figure(figsize = (6, 4), dpi=72)  #default dpi=100\n",
    "ax = sns.histplot(pd.DataFrame(result), bins=10, kde=True, label='Chi-square frequency')\n",
    "plt.plot([observed, observed], [0, 400], \"k--\")\n",
    "ax.set(xlabel='Chi-square statistic')\n",
    "plt.legend(loc='best')\n",
    "plt.title('Permutation Distribution')\n",
    "plt.show()"
   ]
  },
  {
   "cell_type": "markdown",
   "id": "20b5b9d8",
   "metadata": {},
   "source": [
    "## Hypothesis testing"
   ]
  },
  {
   "cell_type": "code",
   "execution_count": 36,
   "id": "fd2cca73",
   "metadata": {},
   "outputs": [
    {
     "data": {
      "text/plain": [
       "0.001"
      ]
     },
     "execution_count": 36,
     "metadata": {},
     "output_type": "execute_result"
    }
   ],
   "source": [
    "p_value = (sum(result >= observed)+1)/(N+1); p_value  #p_value = probability of exceeding observed test statistic"
   ]
  },
  {
   "cell_type": "code",
   "execution_count": 37,
   "id": "4009ed7a",
   "metadata": {},
   "outputs": [],
   "source": [
    "#if p_value < significance level (1%) then accept alternative hypothesis (H_A)\n",
    "alpha = 0.01  #set significance level\n",
    "H_A = p_value < alpha  #test alternative hypothesis"
   ]
  },
  {
   "cell_type": "code",
   "execution_count": 38,
   "id": "f9a162d3",
   "metadata": {},
   "outputs": [
    {
     "data": {
      "text/plain": [
       "True"
      ]
     },
     "execution_count": 38,
     "metadata": {},
     "output_type": "execute_result"
    }
   ],
   "source": [
    "H_A  #alternative hypothesis is accepted with significance level of 1%."
   ]
  },
  {
   "cell_type": "markdown",
   "id": "1de848db",
   "metadata": {},
   "source": [
    "## Chi-squared reference distribution"
   ]
  },
  {
   "cell_type": "code",
   "execution_count": null,
   "id": "01c88d23",
   "metadata": {},
   "outputs": [],
   "source": [
    "#cdf = cumulative distribution function = P(Z<=observed_value)"
   ]
  },
  {
   "cell_type": "code",
   "execution_count": null,
   "id": "f8c6c827",
   "metadata": {},
   "outputs": [],
   "source": [
    "#df = degree of freedom; df=(I-1)*(J-1) where I and J are the number of rows and columns of the contingency table"
   ]
  },
  {
   "cell_type": "code",
   "execution_count": 42,
   "id": "e423a9d1",
   "metadata": {},
   "outputs": [
    {
     "data": {
      "text/plain": [
       "0.00010293308535880286"
      ]
     },
     "execution_count": 42,
     "metadata": {},
     "output_type": "execute_result"
    }
   ],
   "source": [
    "1-chi2.cdf(23.45, 4)  #equivalent to p-value = 1-P(Z<=observed_value) = 1-P(Z<=23.45);  df=(I-1)*(J-1)=4 with I=5, J=2"
   ]
  },
  {
   "cell_type": "code",
   "execution_count": null,
   "id": "dea9d2ca",
   "metadata": {},
   "outputs": [],
   "source": []
  }
 ],
 "metadata": {
  "kernelspec": {
   "display_name": "parquet_env",
   "language": "python",
   "name": "parquet_env"
  },
  "language_info": {
   "codemirror_mode": {
    "name": "ipython",
    "version": 3
   },
   "file_extension": ".py",
   "mimetype": "text/x-python",
   "name": "python",
   "nbconvert_exporter": "python",
   "pygments_lexer": "ipython3",
   "version": "3.9.12"
  }
 },
 "nbformat": 4,
 "nbformat_minor": 5
}

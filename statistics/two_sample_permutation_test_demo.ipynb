{
 "cells": [
  {
   "cell_type": "markdown",
   "id": "6e247266",
   "metadata": {},
   "source": [
    "# Problem statement"
   ]
  },
  {
   "cell_type": "markdown",
   "id": "1feb4eba",
   "metadata": {},
   "source": [
    "### Observation: On average men eat more hot wings than women. Is this difference a random or real effect?"
   ]
  },
  {
   "cell_type": "markdown",
   "id": "6efe229c",
   "metadata": {},
   "source": [
    "# Two-Sample Permutation Test"
   ]
  },
  {
   "cell_type": "code",
   "execution_count": null,
   "id": "9c59f406",
   "metadata": {},
   "outputs": [],
   "source": [
    "#H_0 = null hypothesis (no effect); H_A = alternative hypothesis (real effect)\n",
    "#test hypothesis: H_0: mean(Male)-mean(Female)=0  versus  H_A: mean(Male)-mean(Female)>0 "
   ]
  },
  {
   "cell_type": "code",
   "execution_count": 19,
   "id": "e786333c",
   "metadata": {},
   "outputs": [],
   "source": [
    "import numpy as np\n",
    "import pandas as pd\n",
    "import matplotlib.pyplot as plt\n",
    "import seaborn as sns\n",
    "from sklearn.preprocessing import LabelEncoder"
   ]
  },
  {
   "cell_type": "code",
   "execution_count": 20,
   "id": "286b3a06",
   "metadata": {},
   "outputs": [],
   "source": [
    "df = pd.read_csv('data/Beerwings.csv')"
   ]
  },
  {
   "cell_type": "code",
   "execution_count": 21,
   "id": "1e9a247f",
   "metadata": {},
   "outputs": [
    {
     "name": "stdout",
     "output_type": "stream",
     "text": [
      "<class 'pandas.core.frame.DataFrame'>\n",
      "RangeIndex: 30 entries, 0 to 29\n",
      "Data columns (total 4 columns):\n",
      " #   Column    Non-Null Count  Dtype \n",
      "---  ------    --------------  ----- \n",
      " 0   ID        30 non-null     int64 \n",
      " 1   Hotwings  30 non-null     int64 \n",
      " 2   Beer      30 non-null     int64 \n",
      " 3   Gender    30 non-null     object\n",
      "dtypes: int64(3), object(1)\n",
      "memory usage: 1.1+ KB\n"
     ]
    }
   ],
   "source": [
    "df.info()"
   ]
  },
  {
   "cell_type": "code",
   "execution_count": 22,
   "id": "8383b146",
   "metadata": {},
   "outputs": [
    {
     "data": {
      "text/html": [
       "<div>\n",
       "<style scoped>\n",
       "    .dataframe tbody tr th:only-of-type {\n",
       "        vertical-align: middle;\n",
       "    }\n",
       "\n",
       "    .dataframe tbody tr th {\n",
       "        vertical-align: top;\n",
       "    }\n",
       "\n",
       "    .dataframe thead th {\n",
       "        text-align: right;\n",
       "    }\n",
       "</style>\n",
       "<table border=\"1\" class=\"dataframe\">\n",
       "  <thead>\n",
       "    <tr style=\"text-align: right;\">\n",
       "      <th></th>\n",
       "      <th>ID</th>\n",
       "      <th>Hotwings</th>\n",
       "      <th>Beer</th>\n",
       "      <th>Gender</th>\n",
       "    </tr>\n",
       "  </thead>\n",
       "  <tbody>\n",
       "    <tr>\n",
       "      <th>0</th>\n",
       "      <td>1</td>\n",
       "      <td>4</td>\n",
       "      <td>24</td>\n",
       "      <td>F</td>\n",
       "    </tr>\n",
       "    <tr>\n",
       "      <th>1</th>\n",
       "      <td>2</td>\n",
       "      <td>5</td>\n",
       "      <td>0</td>\n",
       "      <td>F</td>\n",
       "    </tr>\n",
       "    <tr>\n",
       "      <th>2</th>\n",
       "      <td>3</td>\n",
       "      <td>5</td>\n",
       "      <td>12</td>\n",
       "      <td>F</td>\n",
       "    </tr>\n",
       "    <tr>\n",
       "      <th>3</th>\n",
       "      <td>4</td>\n",
       "      <td>6</td>\n",
       "      <td>12</td>\n",
       "      <td>F</td>\n",
       "    </tr>\n",
       "    <tr>\n",
       "      <th>4</th>\n",
       "      <td>5</td>\n",
       "      <td>7</td>\n",
       "      <td>12</td>\n",
       "      <td>F</td>\n",
       "    </tr>\n",
       "  </tbody>\n",
       "</table>\n",
       "</div>"
      ],
      "text/plain": [
       "   ID  Hotwings  Beer Gender\n",
       "0   1         4    24      F\n",
       "1   2         5     0      F\n",
       "2   3         5    12      F\n",
       "3   4         6    12      F\n",
       "4   5         7    12      F"
      ]
     },
     "execution_count": 22,
     "metadata": {},
     "output_type": "execute_result"
    }
   ],
   "source": [
    "df.head()  #gender: male (M) and female (F)"
   ]
  },
  {
   "cell_type": "markdown",
   "id": "578d8f0c",
   "metadata": {},
   "source": [
    "##  Distribution of Hotwings"
   ]
  },
  {
   "cell_type": "code",
   "execution_count": 23,
   "id": "cf594693",
   "metadata": {},
   "outputs": [
    {
     "data": {
      "image/png": "[encoded data removed]",
      "text/plain": [
       "<Figure size 432x288 with 1 Axes>"
      ]
     },
     "metadata": {
      "needs_background": "light"
     },
     "output_type": "display_data"
    }
   ],
   "source": [
    "plt.figure(figsize = (6, 4), dpi=72)  #default dpi=100\n",
    "ax = sns.histplot(df['Hotwings'], bins=10, kde=True)\n",
    "ax.set(xlabel='Hotwings')\n",
    "plt.title('Distribution of Hotwings')\n",
    "plt.show()"
   ]
  },
  {
   "cell_type": "markdown",
   "id": "bdb136c6",
   "metadata": {},
   "source": [
    "## Hotwings consumed by gender"
   ]
  },
  {
   "cell_type": "code",
   "execution_count": 24,
   "id": "519f10c5",
   "metadata": {},
   "outputs": [
    {
     "data": {
      "text/plain": [
       "F    15\n",
       "M    15\n",
       "Name: Gender, dtype: int64"
      ]
     },
     "execution_count": 24,
     "metadata": {},
     "output_type": "execute_result"
    }
   ],
   "source": [
    "df['Gender'].value_counts()"
   ]
  },
  {
   "cell_type": "code",
   "execution_count": 35,
   "id": "2651ccf0",
   "metadata": {},
   "outputs": [],
   "source": [
    "male = df[df['Gender']=='M']"
   ]
  },
  {
   "cell_type": "code",
   "execution_count": 36,
   "id": "985d71d9",
   "metadata": {},
   "outputs": [],
   "source": [
    "female = df[df['Gender']=='F']"
   ]
  },
  {
   "cell_type": "code",
   "execution_count": 64,
   "id": "12eed537",
   "metadata": {},
   "outputs": [],
   "source": [
    "obs_df = pd.DataFrame({'Male': male['Hotwings'].to_numpy(), 'Female': female['Hotwings'].to_numpy()})"
   ]
  },
  {
   "cell_type": "code",
   "execution_count": 65,
   "id": "86457a2c",
   "metadata": {},
   "outputs": [
    {
     "data": {
      "image/png": "[encoded data removed]",
      "text/plain": [
       "<Figure size 432x288 with 1 Axes>"
      ]
     },
     "metadata": {
      "needs_background": "light"
     },
     "output_type": "display_data"
    }
   ],
   "source": [
    "obs_df.boxplot(grid = True)\n",
    "plt.show()"
   ]
  },
  {
   "cell_type": "markdown",
   "id": "a4e30a89",
   "metadata": {},
   "source": [
    "## Observed test statistic"
   ]
  },
  {
   "cell_type": "code",
   "execution_count": null,
   "id": "c4f4ea6f",
   "metadata": {},
   "outputs": [],
   "source": [
    "#assume that test statistic is mean difference"
   ]
  },
  {
   "cell_type": "code",
   "execution_count": 58,
   "id": "a09287b5",
   "metadata": {},
   "outputs": [
    {
     "data": {
      "text/plain": [
       "14.533333333333333"
      ]
     },
     "execution_count": 58,
     "metadata": {},
     "output_type": "execute_result"
    }
   ],
   "source": [
    "male['Hotwings'].mean()"
   ]
  },
  {
   "cell_type": "code",
   "execution_count": 42,
   "id": "243d80d2",
   "metadata": {},
   "outputs": [
    {
     "data": {
      "text/plain": [
       "9.333333333333334"
      ]
     },
     "execution_count": 42,
     "metadata": {},
     "output_type": "execute_result"
    }
   ],
   "source": [
    "female['Hotwings'].mean()"
   ]
  },
  {
   "cell_type": "code",
   "execution_count": 55,
   "id": "fb60fe8e",
   "metadata": {},
   "outputs": [],
   "source": [
    "observed = male['Hotwings'].mean() - female['Hotwings'].mean()  #observed mean difference between male and female"
   ]
  },
  {
   "cell_type": "code",
   "execution_count": 56,
   "id": "c9279fe8",
   "metadata": {},
   "outputs": [
    {
     "data": {
      "text/plain": [
       "5.199999999999999"
      ]
     },
     "execution_count": 56,
     "metadata": {},
     "output_type": "execute_result"
    }
   ],
   "source": [
    "observed"
   ]
  },
  {
   "cell_type": "markdown",
   "id": "c9cb0ec2",
   "metadata": {},
   "source": [
    "## Calculate permutation distribution"
   ]
  },
  {
   "cell_type": "code",
   "execution_count": null,
   "id": "7a766536",
   "metadata": {},
   "outputs": [],
   "source": [
    "#single population of 30 members (male and female) is randomly divided into two groups (sample1, sample2) of size 15 each;s\n",
    "#process is repeated a number of times."
   ]
  },
  {
   "cell_type": "code",
   "execution_count": 59,
   "id": "c2a25fab",
   "metadata": {},
   "outputs": [],
   "source": [
    "N = 10**4-1\n",
    "result = np.zeros(N)\n",
    "for i in range(N):\n",
    "    sample_1 = df['Hotwings'].sample(n=15)\n",
    "    sample_2 = df['Hotwings'].iloc[df.index.difference(sample_1.index)]\n",
    "    result[i] = sample_1.mean()-sample_2.mean()"
   ]
  },
  {
   "cell_type": "markdown",
   "id": "533b549e",
   "metadata": {},
   "source": [
    "## Distribution of test statistic (difference in means)"
   ]
  },
  {
   "cell_type": "code",
   "execution_count": 60,
   "id": "d6ad0d0f",
   "metadata": {},
   "outputs": [
    {
     "data": {
      "image/png": "[encoded data removed]",
      "text/plain": [
       "<Figure size 432x288 with 1 Axes>"
      ]
     },
     "metadata": {
      "needs_background": "light"
     },
     "output_type": "display_data"
    }
   ],
   "source": [
    "plt.figure(figsize = (6, 4), dpi=72)  #default dpi=100\n",
    "ax = sns.histplot(pd.DataFrame(result), bins=10, kde=True, label='Hotwings')\n",
    "plt.plot([observed, observed], [0, 3000], \"k--\")\n",
    "ax.set(xlabel='difference in means: mean(Male) - mean(Female)')\n",
    "plt.legend(loc='best')\n",
    "plt.title('Permutation Distribution')\n",
    "plt.show()"
   ]
  },
  {
   "cell_type": "code",
   "execution_count": 61,
   "id": "cea56030",
   "metadata": {},
   "outputs": [
    {
     "data": {
      "text/plain": [
       "0.001"
      ]
     },
     "execution_count": 61,
     "metadata": {},
     "output_type": "execute_result"
    }
   ],
   "source": [
    "p_value = (sum(result >= observed)+1)/(N+1); p_value  #p_value = area under PDF for values larger than observed value"
   ]
  },
  {
   "cell_type": "code",
   "execution_count": 62,
   "id": "928202dd",
   "metadata": {},
   "outputs": [],
   "source": [
    "#if p_value < significance level (1%) then accept alternative hypothesis (H_A)\n",
    "alpha = 0.01  #set significance level\n",
    "H_A = p_value < alpha  #test alternative hypothesis"
   ]
  },
  {
   "cell_type": "code",
   "execution_count": 63,
   "id": "bcdfefce",
   "metadata": {},
   "outputs": [
    {
     "data": {
      "text/plain": [
       "True"
      ]
     },
     "execution_count": 63,
     "metadata": {},
     "output_type": "execute_result"
    }
   ],
   "source": [
    "H_A  #alternative hypothesis is accepted if P(T>=observed)< alpha; T=test statistic; observed = observed test statistic;"
   ]
  },
  {
   "cell_type": "code",
   "execution_count": null,
   "id": "713b0085",
   "metadata": {},
   "outputs": [],
   "source": []
  }
 ],
 "metadata": {
  "kernelspec": {
   "display_name": "parquet_env",
   "language": "python",
   "name": "parquet_env"
  },
  "language_info": {
   "codemirror_mode": {
    "name": "ipython",
    "version": 3
   },
   "file_extension": ".py",
   "mimetype": "text/x-python",
   "name": "python",
   "nbconvert_exporter": "python",
   "pygments_lexer": "ipython3",
   "version": "3.9.12"
  }
 },
 "nbformat": 4,
 "nbformat_minor": 5
}

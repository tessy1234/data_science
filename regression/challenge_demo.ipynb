{
 "cells": [
  {
   "cell_type": "markdown",
   "id": "2604292a",
   "metadata": {},
   "source": [
    "# Predict Customer Churn"
   ]
  },
  {
   "cell_type": "markdown",
   "id": "ab327f15",
   "metadata": {},
   "source": [
    "## Problem statement: Predict customer churn based on customer's and team's activity."
   ]
  },
  {
   "cell_type": "code",
   "execution_count": 1,
   "id": "e6d59678",
   "metadata": {},
   "outputs": [],
   "source": [
    "import numpy as np\n",
    "import pandas as pd"
   ]
  },
  {
   "cell_type": "code",
   "execution_count": 2,
   "id": "ca520c8e",
   "metadata": {},
   "outputs": [],
   "source": [
    "mt_activity = pd.read_csv(\"C:\\data\\mt_activity.csv\")"
   ]
  },
  {
   "cell_type": "code",
   "execution_count": 3,
   "id": "26ffa64d",
   "metadata": {},
   "outputs": [],
   "source": [
    "licenses_paid = pd.read_csv(\"C:\\data\\licenses_paid.csv\")"
   ]
  },
  {
   "cell_type": "code",
   "execution_count": 4,
   "id": "191d5a96",
   "metadata": {},
   "outputs": [
    {
     "data": {
      "text/html": [
       "<div>\n",
       "<style scoped>\n",
       "    .dataframe tbody tr th:only-of-type {\n",
       "        vertical-align: middle;\n",
       "    }\n",
       "\n",
       "    .dataframe tbody tr th {\n",
       "        vertical-align: top;\n",
       "    }\n",
       "\n",
       "    .dataframe thead th {\n",
       "        text-align: right;\n",
       "    }\n",
       "</style>\n",
       "<table border=\"1\" class=\"dataframe\">\n",
       "  <thead>\n",
       "    <tr style=\"text-align: right;\">\n",
       "      <th></th>\n",
       "      <th>event_date</th>\n",
       "      <th>person_id</th>\n",
       "      <th>user_id</th>\n",
       "      <th>team_id</th>\n",
       "      <th>projects_created</th>\n",
       "      <th>tasks_created</th>\n",
       "      <th>checklists_created</th>\n",
       "      <th>agenda_events</th>\n",
       "      <th>timeline_events</th>\n",
       "      <th>reports_opened</th>\n",
       "      <th>reports_saved</th>\n",
       "      <th>invitations_sent</th>\n",
       "      <th>invitations_claimed</th>\n",
       "      <th>project_groups_created</th>\n",
       "    </tr>\n",
       "  </thead>\n",
       "  <tbody>\n",
       "    <tr>\n",
       "      <th>4948436</th>\n",
       "      <td>2021-08-06</td>\n",
       "      <td>75495908</td>\n",
       "      <td>71388102</td>\n",
       "      <td>NaN</td>\n",
       "      <td>1.0</td>\n",
       "      <td>NaN</td>\n",
       "      <td>NaN</td>\n",
       "      <td>NaN</td>\n",
       "      <td>NaN</td>\n",
       "      <td>NaN</td>\n",
       "      <td>NaN</td>\n",
       "      <td>NaN</td>\n",
       "      <td>NaN</td>\n",
       "      <td>NaN</td>\n",
       "    </tr>\n",
       "    <tr>\n",
       "      <th>5632804</th>\n",
       "      <td>2021-07-30</td>\n",
       "      <td>75495908</td>\n",
       "      <td>71388102</td>\n",
       "      <td>NaN</td>\n",
       "      <td>1.0</td>\n",
       "      <td>NaN</td>\n",
       "      <td>NaN</td>\n",
       "      <td>NaN</td>\n",
       "      <td>NaN</td>\n",
       "      <td>NaN</td>\n",
       "      <td>NaN</td>\n",
       "      <td>NaN</td>\n",
       "      <td>NaN</td>\n",
       "      <td>NaN</td>\n",
       "    </tr>\n",
       "  </tbody>\n",
       "</table>\n",
       "</div>"
      ],
      "text/plain": [
       "         event_date  person_id   user_id  team_id  projects_created  \\\n",
       "4948436  2021-08-06   75495908  71388102      NaN               1.0   \n",
       "5632804  2021-07-30   75495908  71388102      NaN               1.0   \n",
       "\n",
       "         tasks_created  checklists_created  agenda_events  timeline_events  \\\n",
       "4948436            NaN                 NaN            NaN              NaN   \n",
       "5632804            NaN                 NaN            NaN              NaN   \n",
       "\n",
       "         reports_opened  reports_saved  invitations_sent  invitations_claimed  \\\n",
       "4948436             NaN            NaN               NaN                  NaN   \n",
       "5632804             NaN            NaN               NaN                  NaN   \n",
       "\n",
       "         project_groups_created  \n",
       "4948436                     NaN  \n",
       "5632804                     NaN  "
      ]
     },
     "execution_count": 4,
     "metadata": {},
     "output_type": "execute_result"
    }
   ],
   "source": [
    "mt_activity[mt_activity.isna()['team_id']]"
   ]
  },
  {
   "cell_type": "code",
   "execution_count": 5,
   "id": "4c5dc7ff",
   "metadata": {},
   "outputs": [
    {
     "data": {
      "text/html": [
       "<div>\n",
       "<style scoped>\n",
       "    .dataframe tbody tr th:only-of-type {\n",
       "        vertical-align: middle;\n",
       "    }\n",
       "\n",
       "    .dataframe tbody tr th {\n",
       "        vertical-align: top;\n",
       "    }\n",
       "\n",
       "    .dataframe thead th {\n",
       "        text-align: right;\n",
       "    }\n",
       "</style>\n",
       "<table border=\"1\" class=\"dataframe\">\n",
       "  <thead>\n",
       "    <tr style=\"text-align: right;\">\n",
       "      <th></th>\n",
       "      <th>team_id</th>\n",
       "      <th>plan</th>\n",
       "      <th>duration</th>\n",
       "      <th>quantity</th>\n",
       "      <th>license_start</th>\n",
       "      <th>license_end</th>\n",
       "    </tr>\n",
       "  </thead>\n",
       "  <tbody>\n",
       "    <tr>\n",
       "      <th>110426</th>\n",
       "      <td>NaN</td>\n",
       "      <td>pro12</td>\n",
       "      <td>12</td>\n",
       "      <td>12.0</td>\n",
       "      <td>2022-03-13</td>\n",
       "      <td>2023-03-12</td>\n",
       "    </tr>\n",
       "  </tbody>\n",
       "</table>\n",
       "</div>"
      ],
      "text/plain": [
       "        team_id   plan  duration  quantity license_start license_end\n",
       "110426      NaN  pro12        12      12.0    2022-03-13  2023-03-12"
      ]
     },
     "execution_count": 5,
     "metadata": {},
     "output_type": "execute_result"
    }
   ],
   "source": [
    "licenses_paid[licenses_paid.isna()['team_id']]"
   ]
  },
  {
   "cell_type": "code",
   "execution_count": 6,
   "id": "54fcb0d2",
   "metadata": {},
   "outputs": [
    {
     "data": {
      "text/plain": [
       "False    15455116\n",
       "True            2\n",
       "Name: team_id, dtype: int64"
      ]
     },
     "execution_count": 6,
     "metadata": {},
     "output_type": "execute_result"
    }
   ],
   "source": [
    "mt_activity.isna()['team_id'].value_counts()"
   ]
  },
  {
   "cell_type": "code",
   "execution_count": 7,
   "id": "c10d8b3b",
   "metadata": {},
   "outputs": [],
   "source": [
    "mt_activity.dropna(subset=['team_id'], inplace=True)  #get rid of rows with team_id equal to NaN"
   ]
  },
  {
   "cell_type": "code",
   "execution_count": 8,
   "id": "24391bff",
   "metadata": {},
   "outputs": [
    {
     "data": {
      "text/plain": [
       "False    15455116\n",
       "Name: team_id, dtype: int64"
      ]
     },
     "execution_count": 8,
     "metadata": {},
     "output_type": "execute_result"
    }
   ],
   "source": [
    "mt_activity.isna()['team_id'].value_counts()"
   ]
  },
  {
   "cell_type": "code",
   "execution_count": 9,
   "id": "07a83fa2",
   "metadata": {},
   "outputs": [
    {
     "data": {
      "text/plain": [
       "False    131620\n",
       "True          1\n",
       "Name: team_id, dtype: int64"
      ]
     },
     "execution_count": 9,
     "metadata": {},
     "output_type": "execute_result"
    }
   ],
   "source": [
    "licenses_paid.isna()['team_id'].value_counts()"
   ]
  },
  {
   "cell_type": "code",
   "execution_count": 10,
   "id": "f7aafd89",
   "metadata": {},
   "outputs": [],
   "source": [
    "licenses_paid.dropna(subset=['team_id'], inplace=True)  #get rid of rows with team_id equal to NaN"
   ]
  },
  {
   "cell_type": "code",
   "execution_count": 11,
   "id": "094b0194",
   "metadata": {},
   "outputs": [
    {
     "data": {
      "text/plain": [
       "False    131620\n",
       "Name: team_id, dtype: int64"
      ]
     },
     "execution_count": 11,
     "metadata": {},
     "output_type": "execute_result"
    }
   ],
   "source": [
    "licenses_paid.isna()['team_id'].value_counts()"
   ]
  },
  {
   "cell_type": "code",
   "execution_count": 12,
   "id": "a0279f68",
   "metadata": {},
   "outputs": [],
   "source": [
    "df = pd.merge(mt_activity, licenses_paid, how=\"inner\", on=\"team_id\")  #inner join of two tables"
   ]
  },
  {
   "cell_type": "code",
   "execution_count": 13,
   "id": "95199c60",
   "metadata": {},
   "outputs": [
    {
     "data": {
      "text/plain": [
       "(24751361, 19)"
      ]
     },
     "execution_count": 13,
     "metadata": {},
     "output_type": "execute_result"
    }
   ],
   "source": [
    "df.shape"
   ]
  },
  {
   "cell_type": "code",
   "execution_count": 14,
   "id": "7b0fd009",
   "metadata": {},
   "outputs": [],
   "source": [
    "del mt_activity, licenses_paid  #enforce garbage collection to gain memory resource."
   ]
  },
  {
   "cell_type": "code",
   "execution_count": 15,
   "id": "3de90c3a",
   "metadata": {},
   "outputs": [],
   "source": [
    "missing_props = df.isna().mean(axis=0)"
   ]
  },
  {
   "cell_type": "code",
   "execution_count": 16,
   "id": "1550e088",
   "metadata": {},
   "outputs": [
    {
     "data": {
      "text/plain": [
       "invitations_claimed       0.999481\n",
       "reports_saved             0.998946\n",
       "project_groups_created    0.995623\n",
       "invitations_sent          0.992288\n",
       "timeline_events           0.984867\n",
       "reports_opened            0.976929\n",
       "projects_created          0.960852\n",
       "agenda_events             0.909770\n",
       "checklists_created        0.684436\n",
       "tasks_created             0.410474\n",
       "quantity                  0.000345\n",
       "plan                      0.000000\n",
       "license_start             0.000000\n",
       "duration                  0.000000\n",
       "event_date                0.000000\n",
       "person_id                 0.000000\n",
       "team_id                   0.000000\n",
       "user_id                   0.000000\n",
       "license_end               0.000000\n",
       "dtype: float64"
      ]
     },
     "execution_count": 16,
     "metadata": {},
     "output_type": "execute_result"
    }
   ],
   "source": [
    "missing_props.sort_values(ascending=False)"
   ]
  },
  {
   "cell_type": "code",
   "execution_count": 17,
   "id": "3ed54cc5",
   "metadata": {},
   "outputs": [],
   "source": [
    "over_threshold = missing_props[missing_props >= 0.4]  #missing values greater equal than 40% will be identified."
   ]
  },
  {
   "cell_type": "code",
   "execution_count": 18,
   "id": "eeafec18",
   "metadata": {},
   "outputs": [
    {
     "data": {
      "text/plain": [
       "invitations_claimed       0.999481\n",
       "reports_saved             0.998946\n",
       "project_groups_created    0.995623\n",
       "invitations_sent          0.992288\n",
       "timeline_events           0.984867\n",
       "reports_opened            0.976929\n",
       "projects_created          0.960852\n",
       "agenda_events             0.909770\n",
       "checklists_created        0.684436\n",
       "tasks_created             0.410474\n",
       "dtype: float64"
      ]
     },
     "execution_count": 18,
     "metadata": {},
     "output_type": "execute_result"
    }
   ],
   "source": [
    "over_threshold.sort_values(ascending=False)"
   ]
  },
  {
   "cell_type": "code",
   "execution_count": 19,
   "id": "178d0505",
   "metadata": {},
   "outputs": [],
   "source": [
    "df.drop(over_threshold.index, axis=1, inplace=True)  #drop columns with missing values greater than 40%."
   ]
  },
  {
   "cell_type": "code",
   "execution_count": 20,
   "id": "786b2dd3",
   "metadata": {},
   "outputs": [
    {
     "data": {
      "text/plain": [
       "event_date       0.000000\n",
       "person_id        0.000000\n",
       "user_id          0.000000\n",
       "team_id          0.000000\n",
       "plan             0.000000\n",
       "duration         0.000000\n",
       "quantity         0.000345\n",
       "license_start    0.000000\n",
       "license_end      0.000000\n",
       "dtype: float64"
      ]
     },
     "execution_count": 20,
     "metadata": {},
     "output_type": "execute_result"
    }
   ],
   "source": [
    "df.isna().mean(axis=0)  #only the column quantity has missing values"
   ]
  },
  {
   "cell_type": "code",
   "execution_count": 21,
   "id": "37ba0782",
   "metadata": {},
   "outputs": [],
   "source": [
    "df.dropna(inplace=True)  #delete rows with missing values"
   ]
  },
  {
   "cell_type": "code",
   "execution_count": 22,
   "id": "ded0eafa",
   "metadata": {},
   "outputs": [
    {
     "data": {
      "text/plain": [
       "event_date       0.0\n",
       "person_id        0.0\n",
       "user_id          0.0\n",
       "team_id          0.0\n",
       "plan             0.0\n",
       "duration         0.0\n",
       "quantity         0.0\n",
       "license_start    0.0\n",
       "license_end      0.0\n",
       "dtype: float64"
      ]
     },
     "execution_count": 22,
     "metadata": {},
     "output_type": "execute_result"
    }
   ],
   "source": [
    "df.isna().mean(axis=0)   #no missing values"
   ]
  },
  {
   "cell_type": "code",
   "execution_count": 23,
   "id": "7983dc4d",
   "metadata": {},
   "outputs": [
    {
     "name": "stdout",
     "output_type": "stream",
     "text": [
      "<class 'pandas.core.frame.DataFrame'>\n",
      "Int64Index: 24742831 entries, 0 to 24751360\n",
      "Data columns (total 9 columns):\n",
      " #   Column         Dtype  \n",
      "---  ------         -----  \n",
      " 0   event_date     object \n",
      " 1   person_id      int64  \n",
      " 2   user_id        int64  \n",
      " 3   team_id        float64\n",
      " 4   plan           object \n",
      " 5   duration       int64  \n",
      " 6   quantity       float64\n",
      " 7   license_start  object \n",
      " 8   license_end    object \n",
      "dtypes: float64(2), int64(3), object(4)\n",
      "memory usage: 1.8+ GB\n"
     ]
    }
   ],
   "source": [
    "df.info()"
   ]
  },
  {
   "cell_type": "code",
   "execution_count": 24,
   "id": "8ba71409",
   "metadata": {},
   "outputs": [],
   "source": [
    "df[\"event_date\"] = pd.to_datetime(df[\"event_date\"],   #convert type for this variable from object into datetime\n",
    " format = '%Y-%m-%dT', \n",
    " errors = 'coerce')"
   ]
  },
  {
   "cell_type": "code",
   "execution_count": 25,
   "id": "d570da96",
   "metadata": {},
   "outputs": [
    {
     "name": "stdout",
     "output_type": "stream",
     "text": [
      "<class 'pandas.core.frame.DataFrame'>\n",
      "Int64Index: 24742831 entries, 0 to 24751360\n",
      "Data columns (total 9 columns):\n",
      " #   Column         Dtype         \n",
      "---  ------         -----         \n",
      " 0   event_date     datetime64[ns]\n",
      " 1   person_id      int64         \n",
      " 2   user_id        int64         \n",
      " 3   team_id        float64       \n",
      " 4   plan           object        \n",
      " 5   duration       int64         \n",
      " 6   quantity       float64       \n",
      " 7   license_start  object        \n",
      " 8   license_end    object        \n",
      "dtypes: datetime64[ns](1), float64(2), int64(3), object(3)\n",
      "memory usage: 1.8+ GB\n"
     ]
    }
   ],
   "source": [
    "df.info()"
   ]
  },
  {
   "cell_type": "code",
   "execution_count": 26,
   "id": "ce3aed9f",
   "metadata": {},
   "outputs": [],
   "source": [
    "df[\"license_start\"] = pd.to_datetime(df[\"license_start\"],   #convert type for this variable from object into datetime\n",
    " format = '%Y-%m-%dT', \n",
    " errors = 'coerce')"
   ]
  },
  {
   "cell_type": "code",
   "execution_count": 27,
   "id": "7159eb1a",
   "metadata": {},
   "outputs": [],
   "source": [
    "df[\"license_end\"] = pd.to_datetime(df[\"license_end\"],   #convert type for this variable from object into datetime\n",
    " format = '%Y-%m-%dT', \n",
    " errors = 'coerce')"
   ]
  },
  {
   "cell_type": "code",
   "execution_count": 28,
   "id": "8166fbcf",
   "metadata": {},
   "outputs": [
    {
     "name": "stdout",
     "output_type": "stream",
     "text": [
      "<class 'pandas.core.frame.DataFrame'>\n",
      "Int64Index: 24742831 entries, 0 to 24751360\n",
      "Data columns (total 9 columns):\n",
      " #   Column         Dtype         \n",
      "---  ------         -----         \n",
      " 0   event_date     datetime64[ns]\n",
      " 1   person_id      int64         \n",
      " 2   user_id        int64         \n",
      " 3   team_id        float64       \n",
      " 4   plan           object        \n",
      " 5   duration       int64         \n",
      " 6   quantity       float64       \n",
      " 7   license_start  datetime64[ns]\n",
      " 8   license_end    datetime64[ns]\n",
      "dtypes: datetime64[ns](3), float64(2), int64(3), object(1)\n",
      "memory usage: 1.8+ GB\n"
     ]
    }
   ],
   "source": [
    "df.info()"
   ]
  },
  {
   "cell_type": "code",
   "execution_count": null,
   "id": "83f4a094",
   "metadata": {},
   "outputs": [],
   "source": [
    "#decompose datetime features into their components."
   ]
  },
  {
   "cell_type": "code",
   "execution_count": 29,
   "id": "65363abf",
   "metadata": {},
   "outputs": [],
   "source": [
    "df['event_date_year'] = df['event_date'].dt.year\n",
    "df['event_date_month'] = df['event_date'].dt.month\n",
    "df['event_date_day'] = df['event_date'].dt.day"
   ]
  },
  {
   "cell_type": "code",
   "execution_count": 30,
   "id": "c426fd7f",
   "metadata": {},
   "outputs": [],
   "source": [
    "df['license_start_year'] = df['license_start'].dt.year\n",
    "df['license_start_month'] = df['license_start'].dt.month\n",
    "df['license_start_day'] = df['license_start'].dt.day"
   ]
  },
  {
   "cell_type": "code",
   "execution_count": 31,
   "id": "4fa3e580",
   "metadata": {},
   "outputs": [],
   "source": [
    "df['license_end_year'] = df['license_end'].dt.year\n",
    "df['license_end_month'] = df['license_end'].dt.month\n",
    "df['license_end_day'] = df['license_end'].dt.day"
   ]
  },
  {
   "cell_type": "code",
   "execution_count": 32,
   "id": "4089b54b",
   "metadata": {},
   "outputs": [
    {
     "name": "stdout",
     "output_type": "stream",
     "text": [
      "<class 'pandas.core.frame.DataFrame'>\n",
      "Int64Index: 24742831 entries, 0 to 24751360\n",
      "Data columns (total 18 columns):\n",
      " #   Column               Dtype         \n",
      "---  ------               -----         \n",
      " 0   event_date           datetime64[ns]\n",
      " 1   person_id            int64         \n",
      " 2   user_id              int64         \n",
      " 3   team_id              float64       \n",
      " 4   plan                 object        \n",
      " 5   duration             int64         \n",
      " 6   quantity             float64       \n",
      " 7   license_start        datetime64[ns]\n",
      " 8   license_end          datetime64[ns]\n",
      " 9   event_date_year      int64         \n",
      " 10  event_date_month     int64         \n",
      " 11  event_date_day       int64         \n",
      " 12  license_start_year   int64         \n",
      " 13  license_start_month  int64         \n",
      " 14  license_start_day    int64         \n",
      " 15  license_end_year     int64         \n",
      " 16  license_end_month    int64         \n",
      " 17  license_end_day      int64         \n",
      "dtypes: datetime64[ns](3), float64(2), int64(12), object(1)\n",
      "memory usage: 3.5+ GB\n"
     ]
    }
   ],
   "source": [
    "df.info()"
   ]
  },
  {
   "cell_type": "code",
   "execution_count": 33,
   "id": "08beae95",
   "metadata": {},
   "outputs": [
    {
     "data": {
      "text/html": [
       "<div>\n",
       "<style scoped>\n",
       "    .dataframe tbody tr th:only-of-type {\n",
       "        vertical-align: middle;\n",
       "    }\n",
       "\n",
       "    .dataframe tbody tr th {\n",
       "        vertical-align: top;\n",
       "    }\n",
       "\n",
       "    .dataframe thead th {\n",
       "        text-align: right;\n",
       "    }\n",
       "</style>\n",
       "<table border=\"1\" class=\"dataframe\">\n",
       "  <thead>\n",
       "    <tr style=\"text-align: right;\">\n",
       "      <th></th>\n",
       "      <th>event_date</th>\n",
       "      <th>person_id</th>\n",
       "      <th>user_id</th>\n",
       "      <th>team_id</th>\n",
       "      <th>plan</th>\n",
       "      <th>duration</th>\n",
       "      <th>quantity</th>\n",
       "      <th>license_start</th>\n",
       "      <th>license_end</th>\n",
       "      <th>event_date_year</th>\n",
       "      <th>event_date_month</th>\n",
       "      <th>event_date_day</th>\n",
       "      <th>license_start_year</th>\n",
       "      <th>license_start_month</th>\n",
       "      <th>license_start_day</th>\n",
       "      <th>license_end_year</th>\n",
       "      <th>license_end_month</th>\n",
       "      <th>license_end_day</th>\n",
       "    </tr>\n",
       "  </thead>\n",
       "  <tbody>\n",
       "    <tr>\n",
       "      <th>0</th>\n",
       "      <td>2021-01-27</td>\n",
       "      <td>54812520</td>\n",
       "      <td>50597125</td>\n",
       "      <td>50664030.0</td>\n",
       "      <td>pro12</td>\n",
       "      <td>12</td>\n",
       "      <td>1.0</td>\n",
       "      <td>2020-09-01</td>\n",
       "      <td>2021-08-31</td>\n",
       "      <td>2021</td>\n",
       "      <td>1</td>\n",
       "      <td>27</td>\n",
       "      <td>2020</td>\n",
       "      <td>9</td>\n",
       "      <td>1</td>\n",
       "      <td>2021</td>\n",
       "      <td>8</td>\n",
       "      <td>31</td>\n",
       "    </tr>\n",
       "    <tr>\n",
       "      <th>1</th>\n",
       "      <td>2021-01-27</td>\n",
       "      <td>54812520</td>\n",
       "      <td>50597125</td>\n",
       "      <td>50664030.0</td>\n",
       "      <td>pro12</td>\n",
       "      <td>12</td>\n",
       "      <td>1.0</td>\n",
       "      <td>2021-08-31</td>\n",
       "      <td>2022-08-31</td>\n",
       "      <td>2021</td>\n",
       "      <td>1</td>\n",
       "      <td>27</td>\n",
       "      <td>2021</td>\n",
       "      <td>8</td>\n",
       "      <td>31</td>\n",
       "      <td>2022</td>\n",
       "      <td>8</td>\n",
       "      <td>31</td>\n",
       "    </tr>\n",
       "    <tr>\n",
       "      <th>2</th>\n",
       "      <td>2021-07-05</td>\n",
       "      <td>54812520</td>\n",
       "      <td>50597125</td>\n",
       "      <td>50664030.0</td>\n",
       "      <td>pro12</td>\n",
       "      <td>12</td>\n",
       "      <td>1.0</td>\n",
       "      <td>2020-09-01</td>\n",
       "      <td>2021-08-31</td>\n",
       "      <td>2021</td>\n",
       "      <td>7</td>\n",
       "      <td>5</td>\n",
       "      <td>2020</td>\n",
       "      <td>9</td>\n",
       "      <td>1</td>\n",
       "      <td>2021</td>\n",
       "      <td>8</td>\n",
       "      <td>31</td>\n",
       "    </tr>\n",
       "    <tr>\n",
       "      <th>3</th>\n",
       "      <td>2021-07-05</td>\n",
       "      <td>54812520</td>\n",
       "      <td>50597125</td>\n",
       "      <td>50664030.0</td>\n",
       "      <td>pro12</td>\n",
       "      <td>12</td>\n",
       "      <td>1.0</td>\n",
       "      <td>2021-08-31</td>\n",
       "      <td>2022-08-31</td>\n",
       "      <td>2021</td>\n",
       "      <td>7</td>\n",
       "      <td>5</td>\n",
       "      <td>2021</td>\n",
       "      <td>8</td>\n",
       "      <td>31</td>\n",
       "      <td>2022</td>\n",
       "      <td>8</td>\n",
       "      <td>31</td>\n",
       "    </tr>\n",
       "    <tr>\n",
       "      <th>4</th>\n",
       "      <td>2022-03-02</td>\n",
       "      <td>54812520</td>\n",
       "      <td>50597125</td>\n",
       "      <td>50664030.0</td>\n",
       "      <td>pro12</td>\n",
       "      <td>12</td>\n",
       "      <td>1.0</td>\n",
       "      <td>2020-09-01</td>\n",
       "      <td>2021-08-31</td>\n",
       "      <td>2022</td>\n",
       "      <td>3</td>\n",
       "      <td>2</td>\n",
       "      <td>2020</td>\n",
       "      <td>9</td>\n",
       "      <td>1</td>\n",
       "      <td>2021</td>\n",
       "      <td>8</td>\n",
       "      <td>31</td>\n",
       "    </tr>\n",
       "  </tbody>\n",
       "</table>\n",
       "</div>"
      ],
      "text/plain": [
       "  event_date  person_id   user_id     team_id   plan  duration  quantity  \\\n",
       "0 2021-01-27   54812520  50597125  50664030.0  pro12        12       1.0   \n",
       "1 2021-01-27   54812520  50597125  50664030.0  pro12        12       1.0   \n",
       "2 2021-07-05   54812520  50597125  50664030.0  pro12        12       1.0   \n",
       "3 2021-07-05   54812520  50597125  50664030.0  pro12        12       1.0   \n",
       "4 2022-03-02   54812520  50597125  50664030.0  pro12        12       1.0   \n",
       "\n",
       "  license_start license_end  event_date_year  event_date_month  \\\n",
       "0    2020-09-01  2021-08-31             2021                 1   \n",
       "1    2021-08-31  2022-08-31             2021                 1   \n",
       "2    2020-09-01  2021-08-31             2021                 7   \n",
       "3    2021-08-31  2022-08-31             2021                 7   \n",
       "4    2020-09-01  2021-08-31             2022                 3   \n",
       "\n",
       "   event_date_day  license_start_year  license_start_month  license_start_day  \\\n",
       "0              27                2020                    9                  1   \n",
       "1              27                2021                    8                 31   \n",
       "2               5                2020                    9                  1   \n",
       "3               5                2021                    8                 31   \n",
       "4               2                2020                    9                  1   \n",
       "\n",
       "   license_end_year  license_end_month  license_end_day  \n",
       "0              2021                  8               31  \n",
       "1              2022                  8               31  \n",
       "2              2021                  8               31  \n",
       "3              2022                  8               31  \n",
       "4              2021                  8               31  "
      ]
     },
     "execution_count": 33,
     "metadata": {},
     "output_type": "execute_result"
    }
   ],
   "source": [
    "df.head()"
   ]
  },
  {
   "cell_type": "code",
   "execution_count": 34,
   "id": "05e38db0",
   "metadata": {},
   "outputs": [],
   "source": [
    "df.drop([\"event_date\", \"license_start\", \"license_end\"], axis = 1, inplace = True)  #delete datatime variables"
   ]
  },
  {
   "cell_type": "code",
   "execution_count": 35,
   "id": "76747964",
   "metadata": {},
   "outputs": [
    {
     "name": "stdout",
     "output_type": "stream",
     "text": [
      "<class 'pandas.core.frame.DataFrame'>\n",
      "Int64Index: 24742831 entries, 0 to 24751360\n",
      "Data columns (total 15 columns):\n",
      " #   Column               Dtype  \n",
      "---  ------               -----  \n",
      " 0   person_id            int64  \n",
      " 1   user_id              int64  \n",
      " 2   team_id              float64\n",
      " 3   plan                 object \n",
      " 4   duration             int64  \n",
      " 5   quantity             float64\n",
      " 6   event_date_year      int64  \n",
      " 7   event_date_month     int64  \n",
      " 8   event_date_day       int64  \n",
      " 9   license_start_year   int64  \n",
      " 10  license_start_month  int64  \n",
      " 11  license_start_day    int64  \n",
      " 12  license_end_year     int64  \n",
      " 13  license_end_month    int64  \n",
      " 14  license_end_day      int64  \n",
      "dtypes: float64(2), int64(12), object(1)\n",
      "memory usage: 2.9+ GB\n"
     ]
    }
   ],
   "source": [
    "df.info()"
   ]
  },
  {
   "cell_type": "code",
   "execution_count": 36,
   "id": "c30fc4f0",
   "metadata": {},
   "outputs": [
    {
     "data": {
      "text/plain": [
       "license_start_year\n",
       "2016         335\n",
       "2018         305\n",
       "2019      124985\n",
       "2020     2859595\n",
       "2021    16066497\n",
       "2022     5691114\n",
       "dtype: int64"
      ]
     },
     "execution_count": 36,
     "metadata": {},
     "output_type": "execute_result"
    }
   ],
   "source": [
    "df.groupby(\"license_start_year\").size()"
   ]
  },
  {
   "cell_type": "code",
   "execution_count": 37,
   "id": "c5fd5c7a",
   "metadata": {},
   "outputs": [
    {
     "data": {
      "text/plain": [
       "license_end_year\n",
       "2021    15212527\n",
       "2022     8171090\n",
       "2023     1213477\n",
       "2024      142744\n",
       "2025        2993\n",
       "dtype: int64"
      ]
     },
     "execution_count": 37,
     "metadata": {},
     "output_type": "execute_result"
    }
   ],
   "source": [
    "df.groupby(\"license_end_year\").size()"
   ]
  },
  {
   "cell_type": "code",
   "execution_count": 38,
   "id": "0761b3c7",
   "metadata": {},
   "outputs": [
    {
     "data": {
      "text/html": [
       "<div>\n",
       "<style scoped>\n",
       "    .dataframe tbody tr th:only-of-type {\n",
       "        vertical-align: middle;\n",
       "    }\n",
       "\n",
       "    .dataframe tbody tr th {\n",
       "        vertical-align: top;\n",
       "    }\n",
       "\n",
       "    .dataframe thead th {\n",
       "        text-align: right;\n",
       "    }\n",
       "</style>\n",
       "<table border=\"1\" class=\"dataframe\">\n",
       "  <thead>\n",
       "    <tr style=\"text-align: right;\">\n",
       "      <th></th>\n",
       "      <th>person_id</th>\n",
       "      <th>user_id</th>\n",
       "      <th>team_id</th>\n",
       "      <th>plan</th>\n",
       "      <th>duration</th>\n",
       "      <th>quantity</th>\n",
       "      <th>event_date_year</th>\n",
       "      <th>event_date_month</th>\n",
       "      <th>event_date_day</th>\n",
       "      <th>license_start_year</th>\n",
       "      <th>license_start_month</th>\n",
       "      <th>license_start_day</th>\n",
       "      <th>license_end_year</th>\n",
       "      <th>license_end_month</th>\n",
       "      <th>license_end_day</th>\n",
       "    </tr>\n",
       "  </thead>\n",
       "  <tbody>\n",
       "    <tr>\n",
       "      <th>0</th>\n",
       "      <td>54812520</td>\n",
       "      <td>50597125</td>\n",
       "      <td>50664030.0</td>\n",
       "      <td>pro12</td>\n",
       "      <td>12</td>\n",
       "      <td>1.0</td>\n",
       "      <td>2021</td>\n",
       "      <td>1</td>\n",
       "      <td>27</td>\n",
       "      <td>2020</td>\n",
       "      <td>9</td>\n",
       "      <td>1</td>\n",
       "      <td>2021</td>\n",
       "      <td>8</td>\n",
       "      <td>31</td>\n",
       "    </tr>\n",
       "    <tr>\n",
       "      <th>1</th>\n",
       "      <td>54812520</td>\n",
       "      <td>50597125</td>\n",
       "      <td>50664030.0</td>\n",
       "      <td>pro12</td>\n",
       "      <td>12</td>\n",
       "      <td>1.0</td>\n",
       "      <td>2021</td>\n",
       "      <td>1</td>\n",
       "      <td>27</td>\n",
       "      <td>2021</td>\n",
       "      <td>8</td>\n",
       "      <td>31</td>\n",
       "      <td>2022</td>\n",
       "      <td>8</td>\n",
       "      <td>31</td>\n",
       "    </tr>\n",
       "    <tr>\n",
       "      <th>2</th>\n",
       "      <td>54812520</td>\n",
       "      <td>50597125</td>\n",
       "      <td>50664030.0</td>\n",
       "      <td>pro12</td>\n",
       "      <td>12</td>\n",
       "      <td>1.0</td>\n",
       "      <td>2021</td>\n",
       "      <td>7</td>\n",
       "      <td>5</td>\n",
       "      <td>2020</td>\n",
       "      <td>9</td>\n",
       "      <td>1</td>\n",
       "      <td>2021</td>\n",
       "      <td>8</td>\n",
       "      <td>31</td>\n",
       "    </tr>\n",
       "    <tr>\n",
       "      <th>3</th>\n",
       "      <td>54812520</td>\n",
       "      <td>50597125</td>\n",
       "      <td>50664030.0</td>\n",
       "      <td>pro12</td>\n",
       "      <td>12</td>\n",
       "      <td>1.0</td>\n",
       "      <td>2021</td>\n",
       "      <td>7</td>\n",
       "      <td>5</td>\n",
       "      <td>2021</td>\n",
       "      <td>8</td>\n",
       "      <td>31</td>\n",
       "      <td>2022</td>\n",
       "      <td>8</td>\n",
       "      <td>31</td>\n",
       "    </tr>\n",
       "    <tr>\n",
       "      <th>4</th>\n",
       "      <td>54812520</td>\n",
       "      <td>50597125</td>\n",
       "      <td>50664030.0</td>\n",
       "      <td>pro12</td>\n",
       "      <td>12</td>\n",
       "      <td>1.0</td>\n",
       "      <td>2022</td>\n",
       "      <td>3</td>\n",
       "      <td>2</td>\n",
       "      <td>2020</td>\n",
       "      <td>9</td>\n",
       "      <td>1</td>\n",
       "      <td>2021</td>\n",
       "      <td>8</td>\n",
       "      <td>31</td>\n",
       "    </tr>\n",
       "  </tbody>\n",
       "</table>\n",
       "</div>"
      ],
      "text/plain": [
       "   person_id   user_id     team_id   plan  duration  quantity  \\\n",
       "0   54812520  50597125  50664030.0  pro12        12       1.0   \n",
       "1   54812520  50597125  50664030.0  pro12        12       1.0   \n",
       "2   54812520  50597125  50664030.0  pro12        12       1.0   \n",
       "3   54812520  50597125  50664030.0  pro12        12       1.0   \n",
       "4   54812520  50597125  50664030.0  pro12        12       1.0   \n",
       "\n",
       "   event_date_year  event_date_month  event_date_day  license_start_year  \\\n",
       "0             2021                 1              27                2020   \n",
       "1             2021                 1              27                2021   \n",
       "2             2021                 7               5                2020   \n",
       "3             2021                 7               5                2021   \n",
       "4             2022                 3               2                2020   \n",
       "\n",
       "   license_start_month  license_start_day  license_end_year  \\\n",
       "0                    9                  1              2021   \n",
       "1                    8                 31              2022   \n",
       "2                    9                  1              2021   \n",
       "3                    8                 31              2022   \n",
       "4                    9                  1              2021   \n",
       "\n",
       "   license_end_month  license_end_day  \n",
       "0                  8               31  \n",
       "1                  8               31  \n",
       "2                  8               31  \n",
       "3                  8               31  \n",
       "4                  8               31  "
      ]
     },
     "execution_count": 38,
     "metadata": {},
     "output_type": "execute_result"
    }
   ],
   "source": [
    "df.head()"
   ]
  },
  {
   "cell_type": "code",
   "execution_count": 39,
   "id": "7829ce62",
   "metadata": {},
   "outputs": [
    {
     "data": {
      "text/plain": [
       "pro1            9478152\n",
       "pro12           6930113\n",
       "business12      3432131\n",
       "business1       3100197\n",
       "business36       854778\n",
       "edu12            400067\n",
       "business24       159101\n",
       "business18       140728\n",
       "enterprise12      63601\n",
       "pro6              60949\n",
       "business6         29771\n",
       "academic12        22623\n",
       "academic1         12665\n",
       "pro36             11763\n",
       "edu36              8983\n",
       "pro24              8321\n",
       "edu60              6686\n",
       "business3          6140\n",
       "pro3               5449\n",
       "enterprise36       3375\n",
       "pro18              3282\n",
       "edu3               1917\n",
       "edu6               1666\n",
       "edu24               373\n",
       "Name: plan, dtype: int64"
      ]
     },
     "execution_count": 39,
     "metadata": {},
     "output_type": "execute_result"
    }
   ],
   "source": [
    "df[\"plan\"].value_counts()  #number of occurrences for each categorical value"
   ]
  },
  {
   "cell_type": "code",
   "execution_count": null,
   "id": "bc5fd75f",
   "metadata": {},
   "outputs": [],
   "source": [
    "#categorical variable will be replaced by one hot encoding; the encoding preserves the relationships between category values."
   ]
  },
  {
   "cell_type": "code",
   "execution_count": 40,
   "id": "4ea29c36",
   "metadata": {},
   "outputs": [],
   "source": [
    "from sklearn.preprocessing import OneHotEncoder"
   ]
  },
  {
   "cell_type": "code",
   "execution_count": 41,
   "id": "154aa4c1",
   "metadata": {},
   "outputs": [],
   "source": [
    "ohe = OneHotEncoder()"
   ]
  },
  {
   "cell_type": "code",
   "execution_count": 42,
   "id": "e71948bb",
   "metadata": {},
   "outputs": [],
   "source": [
    "transformed = ohe.fit_transform(df[['plan']])"
   ]
  },
  {
   "cell_type": "code",
   "execution_count": 43,
   "id": "dfe97c2c",
   "metadata": {},
   "outputs": [
    {
     "data": {
      "text/plain": [
       "(24742831, 24)"
      ]
     },
     "execution_count": 43,
     "metadata": {},
     "output_type": "execute_result"
    }
   ],
   "source": [
    "transformed.toarray().shape"
   ]
  },
  {
   "cell_type": "code",
   "execution_count": 44,
   "id": "a06a7f39",
   "metadata": {},
   "outputs": [
    {
     "data": {
      "text/plain": [
       "array([0., 0., 0., 0., 0., 0., 0., 0., 0., 0., 0., 0., 0., 0., 0., 0., 0.,\n",
       "       0., 1., 0., 0., 0., 0., 0.])"
      ]
     },
     "execution_count": 44,
     "metadata": {},
     "output_type": "execute_result"
    }
   ],
   "source": [
    "transformed.toarray()[0]  #one hot encoding for the categorical value \"pro12\" (see also next line)."
   ]
  },
  {
   "cell_type": "code",
   "execution_count": 45,
   "id": "7d110cf6",
   "metadata": {},
   "outputs": [
    {
     "data": {
      "text/plain": [
       "'pro12'"
      ]
     },
     "execution_count": 45,
     "metadata": {},
     "output_type": "execute_result"
    }
   ],
   "source": [
    "df.iloc[0][\"plan\"]"
   ]
  },
  {
   "cell_type": "code",
   "execution_count": 46,
   "id": "b2080ed2",
   "metadata": {},
   "outputs": [
    {
     "data": {
      "text/plain": [
       "array(['academic1', 'academic12', 'business1', 'business12', 'business18',\n",
       "       'business24', 'business3', 'business36', 'business6', 'edu12',\n",
       "       'edu24', 'edu3', 'edu36', 'edu6', 'edu60', 'enterprise12',\n",
       "       'enterprise36', 'pro1', 'pro12', 'pro18', 'pro24', 'pro3', 'pro36',\n",
       "       'pro6'], dtype=object)"
      ]
     },
     "execution_count": 46,
     "metadata": {},
     "output_type": "execute_result"
    }
   ],
   "source": [
    "ohe.categories_[0]  #categorical values for the categorical variable \"plan\""
   ]
  },
  {
   "cell_type": "code",
   "execution_count": 47,
   "id": "3540732d",
   "metadata": {},
   "outputs": [
    {
     "data": {
      "text/plain": [
       "(24,)"
      ]
     },
     "execution_count": 47,
     "metadata": {},
     "output_type": "execute_result"
    }
   ],
   "source": [
    "ohe.categories_[0].shape"
   ]
  },
  {
   "cell_type": "code",
   "execution_count": 48,
   "id": "40c607ae",
   "metadata": {},
   "outputs": [
    {
     "name": "stdout",
     "output_type": "stream",
     "text": [
      "<class 'pandas.core.frame.DataFrame'>\n",
      "Int64Index: 24742831 entries, 0 to 24751360\n",
      "Data columns (total 15 columns):\n",
      " #   Column               Dtype  \n",
      "---  ------               -----  \n",
      " 0   person_id            int64  \n",
      " 1   user_id              int64  \n",
      " 2   team_id              float64\n",
      " 3   plan                 object \n",
      " 4   duration             int64  \n",
      " 5   quantity             float64\n",
      " 6   event_date_year      int64  \n",
      " 7   event_date_month     int64  \n",
      " 8   event_date_day       int64  \n",
      " 9   license_start_year   int64  \n",
      " 10  license_start_month  int64  \n",
      " 11  license_start_day    int64  \n",
      " 12  license_end_year     int64  \n",
      " 13  license_end_month    int64  \n",
      " 14  license_end_day      int64  \n",
      "dtypes: float64(2), int64(12), object(1)\n",
      "memory usage: 2.9+ GB\n"
     ]
    }
   ],
   "source": [
    "df.info()"
   ]
  },
  {
   "cell_type": "code",
   "execution_count": 49,
   "id": "65a04453",
   "metadata": {},
   "outputs": [],
   "source": [
    "df[ohe.categories_[0]] = transformed.toarray()"
   ]
  },
  {
   "cell_type": "code",
   "execution_count": 50,
   "id": "7df4b272",
   "metadata": {},
   "outputs": [
    {
     "name": "stdout",
     "output_type": "stream",
     "text": [
      "<class 'pandas.core.frame.DataFrame'>\n",
      "Int64Index: 24742831 entries, 0 to 24751360\n",
      "Data columns (total 39 columns):\n",
      " #   Column               Dtype  \n",
      "---  ------               -----  \n",
      " 0   person_id            int64  \n",
      " 1   user_id              int64  \n",
      " 2   team_id              float64\n",
      " 3   plan                 object \n",
      " 4   duration             int64  \n",
      " 5   quantity             float64\n",
      " 6   event_date_year      int64  \n",
      " 7   event_date_month     int64  \n",
      " 8   event_date_day       int64  \n",
      " 9   license_start_year   int64  \n",
      " 10  license_start_month  int64  \n",
      " 11  license_start_day    int64  \n",
      " 12  license_end_year     int64  \n",
      " 13  license_end_month    int64  \n",
      " 14  license_end_day      int64  \n",
      " 15  academic1            float64\n",
      " 16  academic12           float64\n",
      " 17  business1            float64\n",
      " 18  business12           float64\n",
      " 19  business18           float64\n",
      " 20  business24           float64\n",
      " 21  business3            float64\n",
      " 22  business36           float64\n",
      " 23  business6            float64\n",
      " 24  edu12                float64\n",
      " 25  edu24                float64\n",
      " 26  edu3                 float64\n",
      " 27  edu36                float64\n",
      " 28  edu6                 float64\n",
      " 29  edu60                float64\n",
      " 30  enterprise12         float64\n",
      " 31  enterprise36         float64\n",
      " 32  pro1                 float64\n",
      " 33  pro12                float64\n",
      " 34  pro18                float64\n",
      " 35  pro24                float64\n",
      " 36  pro3                 float64\n",
      " 37  pro36                float64\n",
      " 38  pro6                 float64\n",
      "dtypes: float64(26), int64(12), object(1)\n",
      "memory usage: 7.4+ GB\n"
     ]
    }
   ],
   "source": [
    "df.info()"
   ]
  },
  {
   "cell_type": "code",
   "execution_count": 51,
   "id": "b59df84a",
   "metadata": {},
   "outputs": [],
   "source": [
    "df.drop([\"plan\"], axis = 1, inplace = True)  #delete categorical variable"
   ]
  },
  {
   "cell_type": "code",
   "execution_count": 52,
   "id": "eb697181",
   "metadata": {},
   "outputs": [
    {
     "name": "stdout",
     "output_type": "stream",
     "text": [
      "<class 'pandas.core.frame.DataFrame'>\n",
      "Int64Index: 24742831 entries, 0 to 24751360\n",
      "Data columns (total 38 columns):\n",
      " #   Column               Dtype  \n",
      "---  ------               -----  \n",
      " 0   person_id            int64  \n",
      " 1   user_id              int64  \n",
      " 2   team_id              float64\n",
      " 3   duration             int64  \n",
      " 4   quantity             float64\n",
      " 5   event_date_year      int64  \n",
      " 6   event_date_month     int64  \n",
      " 7   event_date_day       int64  \n",
      " 8   license_start_year   int64  \n",
      " 9   license_start_month  int64  \n",
      " 10  license_start_day    int64  \n",
      " 11  license_end_year     int64  \n",
      " 12  license_end_month    int64  \n",
      " 13  license_end_day      int64  \n",
      " 14  academic1            float64\n",
      " 15  academic12           float64\n",
      " 16  business1            float64\n",
      " 17  business12           float64\n",
      " 18  business18           float64\n",
      " 19  business24           float64\n",
      " 20  business3            float64\n",
      " 21  business36           float64\n",
      " 22  business6            float64\n",
      " 23  edu12                float64\n",
      " 24  edu24                float64\n",
      " 25  edu3                 float64\n",
      " 26  edu36                float64\n",
      " 27  edu6                 float64\n",
      " 28  edu60                float64\n",
      " 29  enterprise12         float64\n",
      " 30  enterprise36         float64\n",
      " 31  pro1                 float64\n",
      " 32  pro12                float64\n",
      " 33  pro18                float64\n",
      " 34  pro24                float64\n",
      " 35  pro3                 float64\n",
      " 36  pro36                float64\n",
      " 37  pro6                 float64\n",
      "dtypes: float64(26), int64(12)\n",
      "memory usage: 7.2 GB\n"
     ]
    }
   ],
   "source": [
    "df.info()"
   ]
  },
  {
   "cell_type": "code",
   "execution_count": 53,
   "id": "97d00719",
   "metadata": {},
   "outputs": [],
   "source": [
    "df = df.sample(n = len(df), random_state = 42)  #shuffle the dataset"
   ]
  },
  {
   "cell_type": "code",
   "execution_count": 54,
   "id": "982a92b9",
   "metadata": {},
   "outputs": [],
   "source": [
    "df = df.reset_index(drop = True)"
   ]
  },
  {
   "cell_type": "code",
   "execution_count": 55,
   "id": "6be949e0",
   "metadata": {},
   "outputs": [],
   "source": [
    "df_test = df.sample(frac = 0.25, random_state = 42)  #keep aside 25% for the test set"
   ]
  },
  {
   "cell_type": "code",
   "execution_count": 56,
   "id": "06e684c9",
   "metadata": {},
   "outputs": [],
   "source": [
    "df_train = df.drop(df_test.index)  #keep aside 75% for the training set"
   ]
  },
  {
   "cell_type": "code",
   "execution_count": 57,
   "id": "eb6f6179",
   "metadata": {},
   "outputs": [],
   "source": [
    "del df, ohe, transformed  #enforce garbage collection to gain memory resource."
   ]
  },
  {
   "cell_type": "code",
   "execution_count": 58,
   "id": "bfa11fe9",
   "metadata": {},
   "outputs": [],
   "source": [
    "X_train = df_train.drop([\"duration\"], axis = 1).values"
   ]
  },
  {
   "cell_type": "code",
   "execution_count": 59,
   "id": "d28f44b8",
   "metadata": {},
   "outputs": [],
   "source": [
    "X_test = df_test.drop([\"duration\"], axis = 1).values"
   ]
  },
  {
   "cell_type": "code",
   "execution_count": 60,
   "id": "8e343bbf",
   "metadata": {},
   "outputs": [],
   "source": [
    "y_train = df_train[\"duration\"].values"
   ]
  },
  {
   "cell_type": "code",
   "execution_count": 61,
   "id": "164ddf4d",
   "metadata": {},
   "outputs": [],
   "source": [
    "y_test = df_test[\"duration\"].values"
   ]
  },
  {
   "cell_type": "code",
   "execution_count": 62,
   "id": "ad7a97d1",
   "metadata": {},
   "outputs": [],
   "source": [
    "del df_train, df_test  #enforce garbage collection to gain memory resource."
   ]
  },
  {
   "cell_type": "markdown",
   "id": "93307320",
   "metadata": {},
   "source": [
    "## training the model"
   ]
  },
  {
   "cell_type": "code",
   "execution_count": 130,
   "id": "54fcb2c6",
   "metadata": {},
   "outputs": [],
   "source": [
    "from sklearn.ensemble import RandomForestRegressor"
   ]
  },
  {
   "cell_type": "code",
   "execution_count": null,
   "id": "1afc0fb2",
   "metadata": {},
   "outputs": [],
   "source": [
    "#ad hoc hyperparaneter chosen; next steps: streamline preparation steps, create input pipeline and grid search for the best parameters"
   ]
  },
  {
   "cell_type": "code",
   "execution_count": 131,
   "id": "cc8f4520",
   "metadata": {},
   "outputs": [],
   "source": [
    "rf = RandomForestRegressor(max_depth=2, n_estimators=20, random_state = 42, verbose=2)"
   ]
  },
  {
   "cell_type": "code",
   "execution_count": 132,
   "id": "ad9f1d6e",
   "metadata": {},
   "outputs": [
    {
     "name": "stderr",
     "output_type": "stream",
     "text": [
      "[Parallel(n_jobs=1)]: Using backend SequentialBackend with 1 concurrent workers.\n"
     ]
    },
    {
     "name": "stdout",
     "output_type": "stream",
     "text": [
      "building tree 1 of 20\n"
     ]
    },
    {
     "name": "stderr",
     "output_type": "stream",
     "text": [
      "[Parallel(n_jobs=1)]: Done   1 out of   1 | elapsed:  1.1min remaining:    0.0s\n"
     ]
    },
    {
     "name": "stdout",
     "output_type": "stream",
     "text": [
      "building tree 2 of 20\n",
      "building tree 3 of 20\n",
      "building tree 4 of 20\n",
      "building tree 5 of 20\n",
      "building tree 6 of 20\n",
      "building tree 7 of 20\n",
      "building tree 8 of 20\n",
      "building tree 9 of 20\n",
      "building tree 10 of 20\n",
      "building tree 11 of 20\n",
      "building tree 12 of 20\n",
      "building tree 13 of 20\n",
      "building tree 14 of 20\n",
      "building tree 15 of 20\n",
      "building tree 16 of 20\n",
      "building tree 17 of 20\n",
      "building tree 18 of 20\n",
      "building tree 19 of 20\n",
      "building tree 20 of 20\n"
     ]
    },
    {
     "name": "stderr",
     "output_type": "stream",
     "text": [
      "[Parallel(n_jobs=1)]: Done  20 out of  20 | elapsed: 28.4min finished\n"
     ]
    },
    {
     "data": {
      "text/plain": [
       "RandomForestRegressor(max_depth=2, n_estimators=20, random_state=42, verbose=2)"
      ]
     },
     "execution_count": 132,
     "metadata": {},
     "output_type": "execute_result"
    }
   ],
   "source": [
    "rf.fit(X_train, y_train)"
   ]
  },
  {
   "cell_type": "code",
   "execution_count": 133,
   "id": "d199e7b7",
   "metadata": {},
   "outputs": [
    {
     "name": "stderr",
     "output_type": "stream",
     "text": [
      "[Parallel(n_jobs=1)]: Using backend SequentialBackend with 1 concurrent workers.\n",
      "[Parallel(n_jobs=1)]: Done   1 out of   1 | elapsed:    1.3s remaining:    0.0s\n",
      "[Parallel(n_jobs=1)]: Done  20 out of  20 | elapsed:   13.9s finished\n"
     ]
    }
   ],
   "source": [
    "score = rf.score(X_train, y_train)"
   ]
  },
  {
   "cell_type": "code",
   "execution_count": null,
   "id": "b50b6898",
   "metadata": {},
   "outputs": [],
   "source": [
    "#r-squared of 76% reveals that 76% of the variability observed in the target variable is explained by the regression model.\n",
    "#generally, a higher r-squared indicates more variability explained by the model."
   ]
  },
  {
   "cell_type": "code",
   "execution_count": 134,
   "id": "3eb5acc8",
   "metadata": {},
   "outputs": [
    {
     "name": "stdout",
     "output_type": "stream",
     "text": [
      "R-squared: 0.7589941382414015\n"
     ]
    }
   ],
   "source": [
    "print(\"R-squared:\", score)"
   ]
  },
  {
   "cell_type": "code",
   "execution_count": 135,
   "id": "6fd7f868",
   "metadata": {},
   "outputs": [
    {
     "name": "stderr",
     "output_type": "stream",
     "text": [
      "[Parallel(n_jobs=1)]: Using backend SequentialBackend with 1 concurrent workers.\n",
      "[Parallel(n_jobs=1)]: Done   1 out of   1 | elapsed:    0.1s remaining:    0.0s\n",
      "[Parallel(n_jobs=1)]: Done  20 out of  20 | elapsed:    4.2s finished\n"
     ]
    }
   ],
   "source": [
    "y_pred = rf.predict(X_test)"
   ]
  },
  {
   "cell_type": "code",
   "execution_count": 136,
   "id": "49eeea66",
   "metadata": {},
   "outputs": [],
   "source": [
    "from sklearn.metrics import mean_squared_error"
   ]
  },
  {
   "cell_type": "code",
   "execution_count": 137,
   "id": "cddb67a9",
   "metadata": {},
   "outputs": [],
   "source": [
    "mse = mean_squared_error(y_test, y_pred)"
   ]
  },
  {
   "cell_type": "code",
   "execution_count": 138,
   "id": "ace548e9",
   "metadata": {},
   "outputs": [
    {
     "data": {
      "text/plain": [
       "3.8798522282581134"
      ]
     },
     "execution_count": 138,
     "metadata": {},
     "output_type": "execute_result"
    }
   ],
   "source": [
    "rmse = np.sqrt(mse); rmse"
   ]
  },
  {
   "cell_type": "code",
   "execution_count": null,
   "id": "7a647c4f",
   "metadata": {},
   "outputs": [],
   "source": [
    "#RMSE (root mean squared error) lies with a probability of 95% within the confidence interval provided below."
   ]
  },
  {
   "cell_type": "code",
   "execution_count": 139,
   "id": "8c81cdd1",
   "metadata": {},
   "outputs": [
    {
     "data": {
      "text/plain": [
       "array([3.87424977, 3.88544661])"
      ]
     },
     "execution_count": 139,
     "metadata": {},
     "output_type": "execute_result"
    }
   ],
   "source": [
    "from scipy import stats\n",
    "confidence = 0.95\n",
    "squared_errors = (y_pred - y_test)**2\n",
    "np.sqrt(stats.t.interval(confidence, len(squared_error)-1,\n",
    "                         loc=squared_errors.mean(),\n",
    "                         scale=stats.sem(squared_errors)))"
   ]
  },
  {
   "cell_type": "code",
   "execution_count": 140,
   "id": "5ec5ed55",
   "metadata": {},
   "outputs": [],
   "source": [
    "import matplotlib.pyplot as plt"
   ]
  },
  {
   "cell_type": "code",
   "execution_count": null,
   "id": "826cfcf6",
   "metadata": {},
   "outputs": [],
   "source": [
    "#note: it can be clearly seen that the difference between original and predicted is roughly RMSE"
   ]
  },
  {
   "cell_type": "code",
   "execution_count": 147,
   "id": "311e608e",
   "metadata": {},
   "outputs": [
    {
     "data": {
      "image/png": "[encoded data removed]",
      "text/plain": [
       "<Figure size 432x288 with 1 Axes>"
      ]
     },
     "metadata": {
      "needs_background": "light"
     },
     "output_type": "display_data"
    }
   ],
   "source": [
    "x_ax = range(len(y_test[:100]))\n",
    "plt.plot(x_ax, y_test[:100], label=\"original\")\n",
    "plt.plot(x_ax, y_pred[:100], label=\"predicted\")\n",
    "plt.title(\"customer retention: test and predicted data\")\n",
    "plt.xlabel('X-axis')\n",
    "plt.ylabel('Y-axis')\n",
    "plt.legend(loc='best',fancybox=True, shadow=True)\n",
    "plt.grid(True)"
   ]
  },
  {
   "cell_type": "markdown",
   "id": "e404f8d6",
   "metadata": {},
   "source": [
    "## conclusion"
   ]
  },
  {
   "cell_type": "markdown",
   "id": "286a9711",
   "metadata": {},
   "source": [
    "For a new customer with a given history track record the predicted duration may have an error of roughly 4 month."
   ]
  }
 ],
 "metadata": {
  "kernelspec": {
   "display_name": "parquet_env",
   "language": "python",
   "name": "parquet_env"
  },
  "language_info": {
   "codemirror_mode": {
    "name": "ipython",
    "version": 3
   },
   "file_extension": ".py",
   "mimetype": "text/x-python",
   "name": "python",
   "nbconvert_exporter": "python",
   "pygments_lexer": "ipython3",
   "version": "3.8.13"
  }
 },
 "nbformat": 4,
 "nbformat_minor": 5
}

{
 "cells": [
  {
   "cell_type": "markdown",
   "id": "edce92df",
   "metadata": {},
   "source": [
    "## Problem Statement:\n",
    "### Predict whether it will rain today or not based on weather measurements."
   ]
  },
  {
   "cell_type": "markdown",
   "id": "59efc4c2",
   "metadata": {},
   "source": [
    "## Coding:"
   ]
  },
  {
   "cell_type": "code",
   "execution_count": 5,
   "id": "a6559c5e",
   "metadata": {},
   "outputs": [],
   "source": [
    "import warnings\n",
    "warnings.filterwarnings('ignore')"
   ]
  },
  {
   "cell_type": "code",
   "execution_count": 6,
   "id": "b8c0b0f1",
   "metadata": {},
   "outputs": [],
   "source": [
    "from timeit import default_timer\n",
    "from datetime import timedelta\n",
    "import numpy as np\n",
    "import pandas as pd\n",
    "import matplotlib.pyplot as plt\n",
    "import seaborn as sns\n",
    "from sklearn.preprocessing import OneHotEncoder, StandardScaler, LabelEncoder\n",
    "from sklearn.compose import ColumnTransformer\n",
    "from sklearn.pipeline import Pipeline\n",
    "from sklearn.impute import SimpleImputer\n",
    "from sklearn.model_selection import train_test_split\n",
    "from sklearn.metrics import accuracy_score\n",
    "from sklearn.metrics import roc_auc_score\n",
    "from sklearn.metrics import classification_report, confusion_matrix\n",
    "\n",
    "from xgboost import XGBClassifier\n",
    "from embedding_encoder import EmbeddingEncoder\n",
    "from embedding_encoder.utils.compose import ColumnTransformerWithNames"
   ]
  },
  {
   "cell_type": "code",
   "execution_count": 7,
   "id": "1b4ec57f",
   "metadata": {},
   "outputs": [],
   "source": [
    "#data source: https://www.kaggle.com/datasets/jsphyg/weather-dataset-rattle-package"
   ]
  },
  {
   "cell_type": "code",
   "execution_count": 8,
   "id": "fc2bed92",
   "metadata": {},
   "outputs": [],
   "source": [
    "rain = pd.read_csv(\"data/weatherAUS.csv\")"
   ]
  },
  {
   "cell_type": "code",
   "execution_count": 9,
   "id": "e093c61e",
   "metadata": {},
   "outputs": [
    {
     "data": {
      "text/html": [
       "<div>\n",
       "<style scoped>\n",
       "    .dataframe tbody tr th:only-of-type {\n",
       "        vertical-align: middle;\n",
       "    }\n",
       "\n",
       "    .dataframe tbody tr th {\n",
       "        vertical-align: top;\n",
       "    }\n",
       "\n",
       "    .dataframe thead th {\n",
       "        text-align: right;\n",
       "    }\n",
       "</style>\n",
       "<table border=\"1\" class=\"dataframe\">\n",
       "  <thead>\n",
       "    <tr style=\"text-align: right;\">\n",
       "      <th></th>\n",
       "      <th>Date</th>\n",
       "      <th>Location</th>\n",
       "      <th>MinTemp</th>\n",
       "      <th>MaxTemp</th>\n",
       "      <th>Rainfall</th>\n",
       "      <th>Evaporation</th>\n",
       "      <th>Sunshine</th>\n",
       "      <th>WindGustDir</th>\n",
       "      <th>WindGustSpeed</th>\n",
       "      <th>WindDir9am</th>\n",
       "      <th>...</th>\n",
       "      <th>Humidity9am</th>\n",
       "      <th>Humidity3pm</th>\n",
       "      <th>Pressure9am</th>\n",
       "      <th>Pressure3pm</th>\n",
       "      <th>Cloud9am</th>\n",
       "      <th>Cloud3pm</th>\n",
       "      <th>Temp9am</th>\n",
       "      <th>Temp3pm</th>\n",
       "      <th>RainToday</th>\n",
       "      <th>RainTomorrow</th>\n",
       "    </tr>\n",
       "  </thead>\n",
       "  <tbody>\n",
       "    <tr>\n",
       "      <th>0</th>\n",
       "      <td>2008-12-01</td>\n",
       "      <td>Albury</td>\n",
       "      <td>13.4</td>\n",
       "      <td>22.9</td>\n",
       "      <td>0.6</td>\n",
       "      <td>NaN</td>\n",
       "      <td>NaN</td>\n",
       "      <td>W</td>\n",
       "      <td>44.0</td>\n",
       "      <td>W</td>\n",
       "      <td>...</td>\n",
       "      <td>71.0</td>\n",
       "      <td>22.0</td>\n",
       "      <td>1007.7</td>\n",
       "      <td>1007.1</td>\n",
       "      <td>8.0</td>\n",
       "      <td>NaN</td>\n",
       "      <td>16.9</td>\n",
       "      <td>21.8</td>\n",
       "      <td>No</td>\n",
       "      <td>No</td>\n",
       "    </tr>\n",
       "    <tr>\n",
       "      <th>1</th>\n",
       "      <td>2008-12-02</td>\n",
       "      <td>Albury</td>\n",
       "      <td>7.4</td>\n",
       "      <td>25.1</td>\n",
       "      <td>0.0</td>\n",
       "      <td>NaN</td>\n",
       "      <td>NaN</td>\n",
       "      <td>WNW</td>\n",
       "      <td>44.0</td>\n",
       "      <td>NNW</td>\n",
       "      <td>...</td>\n",
       "      <td>44.0</td>\n",
       "      <td>25.0</td>\n",
       "      <td>1010.6</td>\n",
       "      <td>1007.8</td>\n",
       "      <td>NaN</td>\n",
       "      <td>NaN</td>\n",
       "      <td>17.2</td>\n",
       "      <td>24.3</td>\n",
       "      <td>No</td>\n",
       "      <td>No</td>\n",
       "    </tr>\n",
       "    <tr>\n",
       "      <th>2</th>\n",
       "      <td>2008-12-03</td>\n",
       "      <td>Albury</td>\n",
       "      <td>12.9</td>\n",
       "      <td>25.7</td>\n",
       "      <td>0.0</td>\n",
       "      <td>NaN</td>\n",
       "      <td>NaN</td>\n",
       "      <td>WSW</td>\n",
       "      <td>46.0</td>\n",
       "      <td>W</td>\n",
       "      <td>...</td>\n",
       "      <td>38.0</td>\n",
       "      <td>30.0</td>\n",
       "      <td>1007.6</td>\n",
       "      <td>1008.7</td>\n",
       "      <td>NaN</td>\n",
       "      <td>2.0</td>\n",
       "      <td>21.0</td>\n",
       "      <td>23.2</td>\n",
       "      <td>No</td>\n",
       "      <td>No</td>\n",
       "    </tr>\n",
       "    <tr>\n",
       "      <th>3</th>\n",
       "      <td>2008-12-04</td>\n",
       "      <td>Albury</td>\n",
       "      <td>9.2</td>\n",
       "      <td>28.0</td>\n",
       "      <td>0.0</td>\n",
       "      <td>NaN</td>\n",
       "      <td>NaN</td>\n",
       "      <td>NE</td>\n",
       "      <td>24.0</td>\n",
       "      <td>SE</td>\n",
       "      <td>...</td>\n",
       "      <td>45.0</td>\n",
       "      <td>16.0</td>\n",
       "      <td>1017.6</td>\n",
       "      <td>1012.8</td>\n",
       "      <td>NaN</td>\n",
       "      <td>NaN</td>\n",
       "      <td>18.1</td>\n",
       "      <td>26.5</td>\n",
       "      <td>No</td>\n",
       "      <td>No</td>\n",
       "    </tr>\n",
       "    <tr>\n",
       "      <th>4</th>\n",
       "      <td>2008-12-05</td>\n",
       "      <td>Albury</td>\n",
       "      <td>17.5</td>\n",
       "      <td>32.3</td>\n",
       "      <td>1.0</td>\n",
       "      <td>NaN</td>\n",
       "      <td>NaN</td>\n",
       "      <td>W</td>\n",
       "      <td>41.0</td>\n",
       "      <td>ENE</td>\n",
       "      <td>...</td>\n",
       "      <td>82.0</td>\n",
       "      <td>33.0</td>\n",
       "      <td>1010.8</td>\n",
       "      <td>1006.0</td>\n",
       "      <td>7.0</td>\n",
       "      <td>8.0</td>\n",
       "      <td>17.8</td>\n",
       "      <td>29.7</td>\n",
       "      <td>No</td>\n",
       "      <td>No</td>\n",
       "    </tr>\n",
       "  </tbody>\n",
       "</table>\n",
       "<p>5 rows × 23 columns</p>\n",
       "</div>"
      ],
      "text/plain": [
       "         Date Location  MinTemp  MaxTemp  Rainfall  Evaporation  Sunshine  \\\n",
       "0  2008-12-01   Albury     13.4     22.9       0.6          NaN       NaN   \n",
       "1  2008-12-02   Albury      7.4     25.1       0.0          NaN       NaN   \n",
       "2  2008-12-03   Albury     12.9     25.7       0.0          NaN       NaN   \n",
       "3  2008-12-04   Albury      9.2     28.0       0.0          NaN       NaN   \n",
       "4  2008-12-05   Albury     17.5     32.3       1.0          NaN       NaN   \n",
       "\n",
       "  WindGustDir  WindGustSpeed WindDir9am  ... Humidity9am  Humidity3pm  \\\n",
       "0           W           44.0          W  ...        71.0         22.0   \n",
       "1         WNW           44.0        NNW  ...        44.0         25.0   \n",
       "2         WSW           46.0          W  ...        38.0         30.0   \n",
       "3          NE           24.0         SE  ...        45.0         16.0   \n",
       "4           W           41.0        ENE  ...        82.0         33.0   \n",
       "\n",
       "   Pressure9am  Pressure3pm  Cloud9am  Cloud3pm  Temp9am  Temp3pm  RainToday  \\\n",
       "0       1007.7       1007.1       8.0       NaN     16.9     21.8         No   \n",
       "1       1010.6       1007.8       NaN       NaN     17.2     24.3         No   \n",
       "2       1007.6       1008.7       NaN       2.0     21.0     23.2         No   \n",
       "3       1017.6       1012.8       NaN       NaN     18.1     26.5         No   \n",
       "4       1010.8       1006.0       7.0       8.0     17.8     29.7         No   \n",
       "\n",
       "   RainTomorrow  \n",
       "0            No  \n",
       "1            No  \n",
       "2            No  \n",
       "3            No  \n",
       "4            No  \n",
       "\n",
       "[5 rows x 23 columns]"
      ]
     },
     "execution_count": 9,
     "metadata": {},
     "output_type": "execute_result"
    }
   ],
   "source": [
    "rain.head()"
   ]
  },
  {
   "cell_type": "markdown",
   "id": "2d1200b0",
   "metadata": {},
   "source": [
    "### Drop features"
   ]
  },
  {
   "cell_type": "code",
   "execution_count": 10,
   "id": "722721b8",
   "metadata": {},
   "outputs": [],
   "source": [
    "cols_to_drop = [\"Date\", \"Location\", \"RainTomorrow\", \"Rainfall\"]"
   ]
  },
  {
   "cell_type": "code",
   "execution_count": 11,
   "id": "d143495b",
   "metadata": {},
   "outputs": [],
   "source": [
    "rain.drop(cols_to_drop, axis=1, inplace=True)"
   ]
  },
  {
   "cell_type": "code",
   "execution_count": 12,
   "id": "d03f339c",
   "metadata": {},
   "outputs": [],
   "source": [
    "#drop columns with excessive null values (>40%)\n",
    "missing_props = rain.isna().mean(axis=0)  #mean of null-values for each column"
   ]
  },
  {
   "cell_type": "code",
   "execution_count": 13,
   "id": "d9c2b7b9",
   "metadata": {},
   "outputs": [],
   "source": [
    "over_threshold = missing_props[missing_props >= 0.4]"
   ]
  },
  {
   "cell_type": "code",
   "execution_count": 14,
   "id": "b3dd2969",
   "metadata": {},
   "outputs": [],
   "source": [
    "rain.drop(over_threshold.index, \n",
    "          axis=1, \n",
    "          inplace=True)"
   ]
  },
  {
   "cell_type": "code",
   "execution_count": 15,
   "id": "2154186e",
   "metadata": {},
   "outputs": [],
   "source": [
    "X = rain.drop(\"RainToday\", axis=1)"
   ]
  },
  {
   "cell_type": "code",
   "execution_count": 16,
   "id": "8bda8fde",
   "metadata": {},
   "outputs": [],
   "source": [
    "y = rain['RainToday']"
   ]
  },
  {
   "cell_type": "code",
   "execution_count": 17,
   "id": "61ec88f4",
   "metadata": {},
   "outputs": [
    {
     "name": "stdout",
     "output_type": "stream",
     "text": [
      "<class 'pandas.core.frame.DataFrame'>\n",
      "RangeIndex: 145460 entries, 0 to 145459\n",
      "Data columns (total 15 columns):\n",
      " #   Column         Non-Null Count   Dtype  \n",
      "---  ------         --------------   -----  \n",
      " 0   MinTemp        143975 non-null  float64\n",
      " 1   MaxTemp        144199 non-null  float64\n",
      " 2   WindGustDir    135134 non-null  object \n",
      " 3   WindGustSpeed  135197 non-null  float64\n",
      " 4   WindDir9am     134894 non-null  object \n",
      " 5   WindDir3pm     141232 non-null  object \n",
      " 6   WindSpeed9am   143693 non-null  float64\n",
      " 7   WindSpeed3pm   142398 non-null  float64\n",
      " 8   Humidity9am    142806 non-null  float64\n",
      " 9   Humidity3pm    140953 non-null  float64\n",
      " 10  Pressure9am    130395 non-null  float64\n",
      " 11  Pressure3pm    130432 non-null  float64\n",
      " 12  Cloud9am       89572 non-null   float64\n",
      " 13  Temp9am        143693 non-null  float64\n",
      " 14  Temp3pm        141851 non-null  float64\n",
      "dtypes: float64(12), object(3)\n",
      "memory usage: 16.6+ MB\n"
     ]
    }
   ],
   "source": [
    "X.info()  #12 numerical and 3 categorical features"
   ]
  },
  {
   "cell_type": "code",
   "execution_count": 18,
   "id": "ca25fd07",
   "metadata": {},
   "outputs": [
    {
     "data": {
      "text/plain": [
       "array(['W', 'NNW', 'SE', 'ENE', 'SW', 'SSE', 'S', 'NE', nan, 'SSW', 'N',\n",
       "       'WSW', 'ESE', 'E', 'NW', 'WNW', 'NNE'], dtype=object)"
      ]
     },
     "execution_count": 18,
     "metadata": {},
     "output_type": "execute_result"
    }
   ],
   "source": [
    "X['WindDir9am'].unique()  #categorical variable: categorical values (fixed number of possible values (categories; levels))"
   ]
  },
  {
   "cell_type": "code",
   "execution_count": 19,
   "id": "70b85d34",
   "metadata": {},
   "outputs": [
    {
     "data": {
      "text/plain": [
       "145460"
      ]
     },
     "execution_count": 19,
     "metadata": {},
     "output_type": "execute_result"
    }
   ],
   "source": [
    "y.shape[0]"
   ]
  },
  {
   "cell_type": "code",
   "execution_count": 20,
   "id": "d99d08a1",
   "metadata": {},
   "outputs": [
    {
     "data": {
      "text/plain": [
       "142199"
      ]
     },
     "execution_count": 20,
     "metadata": {},
     "output_type": "execute_result"
    }
   ],
   "source": [
    "y.notna().sum()  #non-null values count"
   ]
  },
  {
   "cell_type": "code",
   "execution_count": 21,
   "id": "7e534f1f",
   "metadata": {},
   "outputs": [
    {
     "data": {
      "text/plain": [
       "3261"
      ]
     },
     "execution_count": 21,
     "metadata": {},
     "output_type": "execute_result"
    }
   ],
   "source": [
    "y.isna().sum()  #null values count"
   ]
  },
  {
   "cell_type": "code",
   "execution_count": 22,
   "id": "58b20f21",
   "metadata": {},
   "outputs": [
    {
     "data": {
      "text/plain": [
       "No     110319\n",
       "Yes     31880\n",
       "Name: RainToday, dtype: int64"
      ]
     },
     "execution_count": 22,
     "metadata": {},
     "output_type": "execute_result"
    }
   ],
   "source": [
    "y.value_counts()  #target distribution of labels"
   ]
  },
  {
   "cell_type": "markdown",
   "id": "699650d1",
   "metadata": {},
   "source": [
    "### Preprocessing"
   ]
  },
  {
   "cell_type": "code",
   "execution_count": 23,
   "id": "ac40d599",
   "metadata": {},
   "outputs": [],
   "source": [
    "categorical_pipeline = Pipeline(\n",
    "    steps=[\n",
    "        (\"impute\", SimpleImputer(strategy=\"most_frequent\")),\n",
    "        (\"embedding\", EmbeddingEncoder(task=\"classification\")),  #dim: int(np.ceil((unique+1)/2)))\n",
    "         ]\n",
    ")"
   ]
  },
  {
   "cell_type": "code",
   "execution_count": 24,
   "id": "4cd09ffe",
   "metadata": {},
   "outputs": [],
   "source": [
    "numeric_pipeline = Pipeline(\n",
    "    steps=[(\"impute\", SimpleImputer(strategy=\"mean\")), \n",
    "           (\"scale\", StandardScaler())]\n",
    ")"
   ]
  },
  {
   "cell_type": "code",
   "execution_count": 25,
   "id": "5e0d872b",
   "metadata": {},
   "outputs": [],
   "source": [
    "cat_cols = X.select_dtypes(exclude=\"number\").columns\n",
    "num_cols = X.select_dtypes(include=\"number\").columns"
   ]
  },
  {
   "cell_type": "code",
   "execution_count": 26,
   "id": "bd058da4",
   "metadata": {},
   "outputs": [],
   "source": [
    "full_processor = ColumnTransformerWithNames(\n",
    "    transformers=[\n",
    "        (\"numeric\", numeric_pipeline, num_cols),\n",
    "        (\"categorical\", categorical_pipeline, cat_cols),  #pattern: (name, transformer, columns)\n",
    "    ]\n",
    ")"
   ]
  },
  {
   "cell_type": "code",
   "execution_count": 27,
   "id": "df581808",
   "metadata": {},
   "outputs": [],
   "source": [
    "#target values transformed\n",
    "y = SimpleImputer(strategy=\"most_frequent\").fit_transform(y.values.reshape(-1, 1))  #fill missing values\n",
    "y_processed = LabelEncoder().fit_transform(y.ravel())  #encode labels as integers"
   ]
  },
  {
   "cell_type": "code",
   "execution_count": 28,
   "id": "76cf9d04",
   "metadata": {},
   "outputs": [
    {
     "name": "stdout",
     "output_type": "stream",
     "text": [
      "Time elapsed (hh:mm:ss.ms) 0:01:07.606177\n"
     ]
    }
   ],
   "source": [
    "start = default_timer()\n",
    "X_processed = full_processor.fit_transform(X,y_processed)  #fit neural network to get the embedding matrix\n",
    "end = default_timer()\n",
    "print(f'Time elapsed (hh:mm:ss.ms) {timedelta(seconds=end-start)}')"
   ]
  },
  {
   "cell_type": "markdown",
   "id": "742532d7",
   "metadata": {},
   "source": [
    "### Analyze preprocessed data"
   ]
  },
  {
   "cell_type": "code",
   "execution_count": 29,
   "id": "4574e379",
   "metadata": {},
   "outputs": [
    {
     "data": {
      "text/html": [
       "<div>\n",
       "<style scoped>\n",
       "    .dataframe tbody tr th:only-of-type {\n",
       "        vertical-align: middle;\n",
       "    }\n",
       "\n",
       "    .dataframe tbody tr th {\n",
       "        vertical-align: top;\n",
       "    }\n",
       "\n",
       "    .dataframe thead th {\n",
       "        text-align: right;\n",
       "    }\n",
       "</style>\n",
       "<table border=\"1\" class=\"dataframe\">\n",
       "  <thead>\n",
       "    <tr style=\"text-align: right;\">\n",
       "      <th></th>\n",
       "      <th>MinTemp</th>\n",
       "      <th>MaxTemp</th>\n",
       "      <th>WindGustSpeed</th>\n",
       "      <th>WindSpeed9am</th>\n",
       "      <th>WindSpeed3pm</th>\n",
       "      <th>Humidity9am</th>\n",
       "      <th>Humidity3pm</th>\n",
       "      <th>Pressure9am</th>\n",
       "      <th>Pressure3pm</th>\n",
       "      <th>Cloud9am</th>\n",
       "      <th>...</th>\n",
       "      <th>embedding_cat1_8</th>\n",
       "      <th>embedding_cat2_0</th>\n",
       "      <th>embedding_cat2_1</th>\n",
       "      <th>embedding_cat2_2</th>\n",
       "      <th>embedding_cat2_3</th>\n",
       "      <th>embedding_cat2_4</th>\n",
       "      <th>embedding_cat2_5</th>\n",
       "      <th>embedding_cat2_6</th>\n",
       "      <th>embedding_cat2_7</th>\n",
       "      <th>embedding_cat2_8</th>\n",
       "    </tr>\n",
       "  </thead>\n",
       "  <tbody>\n",
       "    <tr>\n",
       "      <th>0</th>\n",
       "      <td>0.189447</td>\n",
       "      <td>-0.045336</td>\n",
       "      <td>0.302234</td>\n",
       "      <td>0.672222</td>\n",
       "      <td>0.612323</td>\n",
       "      <td>0.112395</td>\n",
       "      <td>-1.442965</td>\n",
       "      <td>-1.478788</td>\n",
       "      <td>-1.223882</td>\n",
       "      <td>1.568037e+00</td>\n",
       "      <td>...</td>\n",
       "      <td>0.146373</td>\n",
       "      <td>-0.043783</td>\n",
       "      <td>-0.030508</td>\n",
       "      <td>0.031324</td>\n",
       "      <td>0.011424</td>\n",
       "      <td>0.004058</td>\n",
       "      <td>0.033508</td>\n",
       "      <td>0.001656</td>\n",
       "      <td>-0.014740</td>\n",
       "      <td>-0.019616</td>\n",
       "    </tr>\n",
       "    <tr>\n",
       "      <th>1</th>\n",
       "      <td>-0.753101</td>\n",
       "      <td>0.265043</td>\n",
       "      <td>0.302234</td>\n",
       "      <td>-1.133438</td>\n",
       "      <td>0.382874</td>\n",
       "      <td>-1.319609</td>\n",
       "      <td>-1.296417</td>\n",
       "      <td>-1.047782</td>\n",
       "      <td>-1.118839</td>\n",
       "      <td>-3.920285e-16</td>\n",
       "      <td>...</td>\n",
       "      <td>0.008603</td>\n",
       "      <td>-0.029921</td>\n",
       "      <td>-0.015160</td>\n",
       "      <td>0.126492</td>\n",
       "      <td>0.022843</td>\n",
       "      <td>-0.043215</td>\n",
       "      <td>0.038320</td>\n",
       "      <td>-0.002112</td>\n",
       "      <td>-0.009769</td>\n",
       "      <td>-0.139634</td>\n",
       "    </tr>\n",
       "    <tr>\n",
       "      <th>2</th>\n",
       "      <td>0.110901</td>\n",
       "      <td>0.349692</td>\n",
       "      <td>0.454694</td>\n",
       "      <td>0.559368</td>\n",
       "      <td>0.841771</td>\n",
       "      <td>-1.637832</td>\n",
       "      <td>-1.052171</td>\n",
       "      <td>-1.493650</td>\n",
       "      <td>-0.983784</td>\n",
       "      <td>-3.920285e-16</td>\n",
       "      <td>...</td>\n",
       "      <td>0.146373</td>\n",
       "      <td>-0.029921</td>\n",
       "      <td>-0.015160</td>\n",
       "      <td>0.126492</td>\n",
       "      <td>0.022843</td>\n",
       "      <td>-0.043215</td>\n",
       "      <td>0.038320</td>\n",
       "      <td>-0.002112</td>\n",
       "      <td>-0.009769</td>\n",
       "      <td>-0.139634</td>\n",
       "    </tr>\n",
       "    <tr>\n",
       "      <th>3</th>\n",
       "      <td>-0.470337</td>\n",
       "      <td>0.674180</td>\n",
       "      <td>-1.222364</td>\n",
       "      <td>-0.343462</td>\n",
       "      <td>-1.108541</td>\n",
       "      <td>-1.266572</td>\n",
       "      <td>-1.736061</td>\n",
       "      <td>-0.007422</td>\n",
       "      <td>-0.368534</td>\n",
       "      <td>-3.920285e-16</td>\n",
       "      <td>...</td>\n",
       "      <td>-0.044967</td>\n",
       "      <td>0.012631</td>\n",
       "      <td>-0.033885</td>\n",
       "      <td>-0.136515</td>\n",
       "      <td>-0.075993</td>\n",
       "      <td>0.115603</td>\n",
       "      <td>-0.043699</td>\n",
       "      <td>-0.072673</td>\n",
       "      <td>0.073103</td>\n",
       "      <td>0.139318</td>\n",
       "    </tr>\n",
       "    <tr>\n",
       "      <th>4</th>\n",
       "      <td>0.833521</td>\n",
       "      <td>1.280830</td>\n",
       "      <td>0.073544</td>\n",
       "      <td>-0.794877</td>\n",
       "      <td>0.153426</td>\n",
       "      <td>0.695804</td>\n",
       "      <td>-0.905623</td>\n",
       "      <td>-1.018057</td>\n",
       "      <td>-1.388949</td>\n",
       "      <td>1.126652e+00</td>\n",
       "      <td>...</td>\n",
       "      <td>-0.110769</td>\n",
       "      <td>-0.066963</td>\n",
       "      <td>-0.035554</td>\n",
       "      <td>0.005933</td>\n",
       "      <td>-0.055451</td>\n",
       "      <td>0.009798</td>\n",
       "      <td>-0.043466</td>\n",
       "      <td>-0.034706</td>\n",
       "      <td>0.054673</td>\n",
       "      <td>0.037254</td>\n",
       "    </tr>\n",
       "  </tbody>\n",
       "</table>\n",
       "<p>5 rows × 39 columns</p>\n",
       "</div>"
      ],
      "text/plain": [
       "    MinTemp   MaxTemp  WindGustSpeed  WindSpeed9am  WindSpeed3pm  Humidity9am  \\\n",
       "0  0.189447 -0.045336       0.302234      0.672222      0.612323     0.112395   \n",
       "1 -0.753101  0.265043       0.302234     -1.133438      0.382874    -1.319609   \n",
       "2  0.110901  0.349692       0.454694      0.559368      0.841771    -1.637832   \n",
       "3 -0.470337  0.674180      -1.222364     -0.343462     -1.108541    -1.266572   \n",
       "4  0.833521  1.280830       0.073544     -0.794877      0.153426     0.695804   \n",
       "\n",
       "   Humidity3pm  Pressure9am  Pressure3pm      Cloud9am  ...  embedding_cat1_8  \\\n",
       "0    -1.442965    -1.478788    -1.223882  1.568037e+00  ...          0.146373   \n",
       "1    -1.296417    -1.047782    -1.118839 -3.920285e-16  ...          0.008603   \n",
       "2    -1.052171    -1.493650    -0.983784 -3.920285e-16  ...          0.146373   \n",
       "3    -1.736061    -0.007422    -0.368534 -3.920285e-16  ...         -0.044967   \n",
       "4    -0.905623    -1.018057    -1.388949  1.126652e+00  ...         -0.110769   \n",
       "\n",
       "   embedding_cat2_0  embedding_cat2_1  embedding_cat2_2  embedding_cat2_3  \\\n",
       "0         -0.043783         -0.030508          0.031324          0.011424   \n",
       "1         -0.029921         -0.015160          0.126492          0.022843   \n",
       "2         -0.029921         -0.015160          0.126492          0.022843   \n",
       "3          0.012631         -0.033885         -0.136515         -0.075993   \n",
       "4         -0.066963         -0.035554          0.005933         -0.055451   \n",
       "\n",
       "   embedding_cat2_4  embedding_cat2_5  embedding_cat2_6  embedding_cat2_7  \\\n",
       "0          0.004058          0.033508          0.001656         -0.014740   \n",
       "1         -0.043215          0.038320         -0.002112         -0.009769   \n",
       "2         -0.043215          0.038320         -0.002112         -0.009769   \n",
       "3          0.115603         -0.043699         -0.072673          0.073103   \n",
       "4          0.009798         -0.043466         -0.034706          0.054673   \n",
       "\n",
       "   embedding_cat2_8  \n",
       "0         -0.019616  \n",
       "1         -0.139634  \n",
       "2         -0.139634  \n",
       "3          0.139318  \n",
       "4          0.037254  \n",
       "\n",
       "[5 rows x 39 columns]"
      ]
     },
     "execution_count": 29,
     "metadata": {},
     "output_type": "execute_result"
    }
   ],
   "source": [
    "X_processed.head()"
   ]
  },
  {
   "cell_type": "code",
   "execution_count": 30,
   "id": "1b9f09a3",
   "metadata": {},
   "outputs": [
    {
     "data": {
      "text/plain": [
       "['embedding_cat0_0',\n",
       " 'embedding_cat0_1',\n",
       " 'embedding_cat0_2',\n",
       " 'embedding_cat0_3',\n",
       " 'embedding_cat0_4',\n",
       " 'embedding_cat0_5',\n",
       " 'embedding_cat0_6',\n",
       " 'embedding_cat0_7',\n",
       " 'embedding_cat0_8',\n",
       " 'embedding_cat1_0',\n",
       " 'embedding_cat1_1',\n",
       " 'embedding_cat1_2',\n",
       " 'embedding_cat1_3',\n",
       " 'embedding_cat1_4',\n",
       " 'embedding_cat1_5',\n",
       " 'embedding_cat1_6',\n",
       " 'embedding_cat1_7',\n",
       " 'embedding_cat1_8',\n",
       " 'embedding_cat2_0',\n",
       " 'embedding_cat2_1',\n",
       " 'embedding_cat2_2',\n",
       " 'embedding_cat2_3',\n",
       " 'embedding_cat2_4',\n",
       " 'embedding_cat2_5',\n",
       " 'embedding_cat2_6',\n",
       " 'embedding_cat2_7',\n",
       " 'embedding_cat2_8']"
      ]
     },
     "execution_count": 30,
     "metadata": {},
     "output_type": "execute_result"
    }
   ],
   "source": [
    "[item for item in np.array(X_processed.columns) if item[:13]=='embedding_cat']  #embedding categories"
   ]
  },
  {
   "cell_type": "code",
   "execution_count": 31,
   "id": "cfff5008",
   "metadata": {},
   "outputs": [
    {
     "data": {
      "text/plain": [
       "(145460, 39)"
      ]
     },
     "execution_count": 31,
     "metadata": {},
     "output_type": "execute_result"
    }
   ],
   "source": [
    "X_processed.shape"
   ]
  },
  {
   "cell_type": "code",
   "execution_count": 32,
   "id": "c0c6ee27",
   "metadata": {},
   "outputs": [
    {
     "data": {
      "text/plain": [
       "12"
      ]
     },
     "execution_count": 32,
     "metadata": {},
     "output_type": "execute_result"
    }
   ],
   "source": [
    "len(num_cols)"
   ]
  },
  {
   "cell_type": "code",
   "execution_count": 33,
   "id": "e45fdd05",
   "metadata": {},
   "outputs": [
    {
     "data": {
      "text/plain": [
       "27"
      ]
     },
     "execution_count": 33,
     "metadata": {},
     "output_type": "execute_result"
    }
   ],
   "source": [
    "len(full_processor.transformers_[1][1]['embedding'].get_feature_names())  #3*9=27 categorical variables"
   ]
  },
  {
   "cell_type": "code",
   "execution_count": 34,
   "id": "35a7bf18",
   "metadata": {},
   "outputs": [
    {
     "data": {
      "text/plain": [
       "['WindGustDir', 'WindDir9am', 'WindDir3pm']"
      ]
     },
     "execution_count": 34,
     "metadata": {},
     "output_type": "execute_result"
    }
   ],
   "source": [
    "list(cat_cols)"
   ]
  },
  {
   "cell_type": "code",
   "execution_count": 35,
   "id": "c8ff31f1",
   "metadata": {},
   "outputs": [
    {
     "data": {
      "text/plain": [
       "dict_keys(['cat0', 'cat1', 'cat2'])"
      ]
     },
     "execution_count": 35,
     "metadata": {},
     "output_type": "execute_result"
    }
   ],
   "source": [
    "full_processor.transformers_[1][1]['embedding']._embeddings_mapping.keys()"
   ]
  },
  {
   "cell_type": "code",
   "execution_count": 36,
   "id": "0fdcb609",
   "metadata": {},
   "outputs": [
    {
     "data": {
      "text/plain": [
       "(17, 9)"
      ]
     },
     "execution_count": 36,
     "metadata": {},
     "output_type": "execute_result"
    }
   ],
   "source": [
    "full_processor.transformers_[1][1]['embedding']._embeddings_mapping['cat1'].shape"
   ]
  },
  {
   "cell_type": "code",
   "execution_count": 37,
   "id": "240eb557",
   "metadata": {},
   "outputs": [
    {
     "data": {
      "text/html": [
       "<div>\n",
       "<style scoped>\n",
       "    .dataframe tbody tr th:only-of-type {\n",
       "        vertical-align: middle;\n",
       "    }\n",
       "\n",
       "    .dataframe tbody tr th {\n",
       "        vertical-align: top;\n",
       "    }\n",
       "\n",
       "    .dataframe thead th {\n",
       "        text-align: right;\n",
       "    }\n",
       "</style>\n",
       "<table border=\"1\" class=\"dataframe\">\n",
       "  <thead>\n",
       "    <tr style=\"text-align: right;\">\n",
       "      <th></th>\n",
       "      <th>embedding_cat1_0</th>\n",
       "      <th>embedding_cat1_1</th>\n",
       "      <th>embedding_cat1_2</th>\n",
       "      <th>embedding_cat1_3</th>\n",
       "      <th>embedding_cat1_4</th>\n",
       "      <th>embedding_cat1_5</th>\n",
       "      <th>embedding_cat1_6</th>\n",
       "      <th>embedding_cat1_7</th>\n",
       "      <th>embedding_cat1_8</th>\n",
       "    </tr>\n",
       "  </thead>\n",
       "  <tbody>\n",
       "    <tr>\n",
       "      <th>0.0</th>\n",
       "      <td>-0.030254</td>\n",
       "      <td>0.021018</td>\n",
       "      <td>0.040030</td>\n",
       "      <td>-0.029919</td>\n",
       "      <td>0.047127</td>\n",
       "      <td>0.027732</td>\n",
       "      <td>-0.017711</td>\n",
       "      <td>0.039655</td>\n",
       "      <td>0.048990</td>\n",
       "    </tr>\n",
       "    <tr>\n",
       "      <th>1.0</th>\n",
       "      <td>0.049420</td>\n",
       "      <td>-0.098400</td>\n",
       "      <td>0.150193</td>\n",
       "      <td>0.146885</td>\n",
       "      <td>-0.161715</td>\n",
       "      <td>-0.024519</td>\n",
       "      <td>0.135762</td>\n",
       "      <td>-0.098589</td>\n",
       "      <td>-0.136324</td>\n",
       "    </tr>\n",
       "    <tr>\n",
       "      <th>2.0</th>\n",
       "      <td>0.104943</td>\n",
       "      <td>-0.155155</td>\n",
       "      <td>0.052272</td>\n",
       "      <td>0.179987</td>\n",
       "      <td>-0.147984</td>\n",
       "      <td>-0.105987</td>\n",
       "      <td>0.156033</td>\n",
       "      <td>-0.149080</td>\n",
       "      <td>-0.110769</td>\n",
       "    </tr>\n",
       "    <tr>\n",
       "      <th>3.0</th>\n",
       "      <td>0.063428</td>\n",
       "      <td>-0.135384</td>\n",
       "      <td>0.044273</td>\n",
       "      <td>0.173206</td>\n",
       "      <td>-0.131889</td>\n",
       "      <td>-0.173308</td>\n",
       "      <td>0.112716</td>\n",
       "      <td>-0.053214</td>\n",
       "      <td>-0.103364</td>\n",
       "    </tr>\n",
       "    <tr>\n",
       "      <th>4.0</th>\n",
       "      <td>0.050113</td>\n",
       "      <td>-0.063170</td>\n",
       "      <td>0.127486</td>\n",
       "      <td>-0.005575</td>\n",
       "      <td>-0.026617</td>\n",
       "      <td>0.047506</td>\n",
       "      <td>0.086088</td>\n",
       "      <td>-0.081155</td>\n",
       "      <td>0.002933</td>\n",
       "    </tr>\n",
       "    <tr>\n",
       "      <th>5.0</th>\n",
       "      <td>0.030611</td>\n",
       "      <td>-0.054296</td>\n",
       "      <td>0.053922</td>\n",
       "      <td>0.136202</td>\n",
       "      <td>-0.139119</td>\n",
       "      <td>-0.089021</td>\n",
       "      <td>0.124014</td>\n",
       "      <td>-0.081321</td>\n",
       "      <td>-0.069375</td>\n",
       "    </tr>\n",
       "    <tr>\n",
       "      <th>6.0</th>\n",
       "      <td>0.055278</td>\n",
       "      <td>-0.085823</td>\n",
       "      <td>0.080782</td>\n",
       "      <td>0.053409</td>\n",
       "      <td>-0.136797</td>\n",
       "      <td>-0.014700</td>\n",
       "      <td>0.100050</td>\n",
       "      <td>-0.125612</td>\n",
       "      <td>-0.078767</td>\n",
       "    </tr>\n",
       "    <tr>\n",
       "      <th>7.0</th>\n",
       "      <td>0.018906</td>\n",
       "      <td>0.000277</td>\n",
       "      <td>-0.114181</td>\n",
       "      <td>0.051417</td>\n",
       "      <td>0.087804</td>\n",
       "      <td>0.057846</td>\n",
       "      <td>-0.006062</td>\n",
       "      <td>0.078000</td>\n",
       "      <td>0.008603</td>\n",
       "    </tr>\n",
       "    <tr>\n",
       "      <th>8.0</th>\n",
       "      <td>0.023440</td>\n",
       "      <td>0.013019</td>\n",
       "      <td>0.062233</td>\n",
       "      <td>-0.085249</td>\n",
       "      <td>-0.033903</td>\n",
       "      <td>0.053277</td>\n",
       "      <td>-0.034581</td>\n",
       "      <td>0.027701</td>\n",
       "      <td>0.105030</td>\n",
       "    </tr>\n",
       "    <tr>\n",
       "      <th>9.0</th>\n",
       "      <td>0.040659</td>\n",
       "      <td>-0.050541</td>\n",
       "      <td>-0.085181</td>\n",
       "      <td>0.012123</td>\n",
       "      <td>0.060693</td>\n",
       "      <td>0.017010</td>\n",
       "      <td>0.058487</td>\n",
       "      <td>0.035154</td>\n",
       "      <td>-0.085550</td>\n",
       "    </tr>\n",
       "    <tr>\n",
       "      <th>10.0</th>\n",
       "      <td>0.058733</td>\n",
       "      <td>-0.054700</td>\n",
       "      <td>0.060395</td>\n",
       "      <td>0.044148</td>\n",
       "      <td>-0.021829</td>\n",
       "      <td>0.044991</td>\n",
       "      <td>0.070388</td>\n",
       "      <td>-0.053535</td>\n",
       "      <td>-0.044967</td>\n",
       "    </tr>\n",
       "    <tr>\n",
       "      <th>11.0</th>\n",
       "      <td>0.061435</td>\n",
       "      <td>-0.050988</td>\n",
       "      <td>-0.011610</td>\n",
       "      <td>0.050507</td>\n",
       "      <td>-0.058612</td>\n",
       "      <td>-0.009386</td>\n",
       "      <td>0.067520</td>\n",
       "      <td>0.062118</td>\n",
       "      <td>-0.067027</td>\n",
       "    </tr>\n",
       "    <tr>\n",
       "      <th>12.0</th>\n",
       "      <td>-0.013650</td>\n",
       "      <td>0.004619</td>\n",
       "      <td>-0.065665</td>\n",
       "      <td>-0.051890</td>\n",
       "      <td>0.100957</td>\n",
       "      <td>0.047433</td>\n",
       "      <td>-0.020007</td>\n",
       "      <td>0.095391</td>\n",
       "      <td>0.091156</td>\n",
       "    </tr>\n",
       "    <tr>\n",
       "      <th>13.0</th>\n",
       "      <td>-0.047049</td>\n",
       "      <td>0.059260</td>\n",
       "      <td>-0.048768</td>\n",
       "      <td>-0.069780</td>\n",
       "      <td>0.090831</td>\n",
       "      <td>-0.048661</td>\n",
       "      <td>-0.047484</td>\n",
       "      <td>0.089645</td>\n",
       "      <td>0.107626</td>\n",
       "    </tr>\n",
       "    <tr>\n",
       "      <th>14.0</th>\n",
       "      <td>-0.059744</td>\n",
       "      <td>0.041318</td>\n",
       "      <td>-0.021612</td>\n",
       "      <td>-0.144525</td>\n",
       "      <td>0.074854</td>\n",
       "      <td>-0.046098</td>\n",
       "      <td>-0.069517</td>\n",
       "      <td>0.018014</td>\n",
       "      <td>0.146373</td>\n",
       "    </tr>\n",
       "    <tr>\n",
       "      <th>15.0</th>\n",
       "      <td>-0.010364</td>\n",
       "      <td>0.055322</td>\n",
       "      <td>0.010299</td>\n",
       "      <td>-0.093055</td>\n",
       "      <td>-0.044606</td>\n",
       "      <td>0.107908</td>\n",
       "      <td>-0.046360</td>\n",
       "      <td>0.029296</td>\n",
       "      <td>0.066073</td>\n",
       "    </tr>\n",
       "    <tr>\n",
       "      <th>16.0</th>\n",
       "      <td>-0.079745</td>\n",
       "      <td>0.087262</td>\n",
       "      <td>-0.081021</td>\n",
       "      <td>-0.080663</td>\n",
       "      <td>0.061739</td>\n",
       "      <td>-0.029703</td>\n",
       "      <td>-0.091169</td>\n",
       "      <td>0.101814</td>\n",
       "      <td>0.088765</td>\n",
       "    </tr>\n",
       "  </tbody>\n",
       "</table>\n",
       "</div>"
      ],
      "text/plain": [
       "      embedding_cat1_0  embedding_cat1_1  embedding_cat1_2  embedding_cat1_3  \\\n",
       "0.0          -0.030254          0.021018          0.040030         -0.029919   \n",
       "1.0           0.049420         -0.098400          0.150193          0.146885   \n",
       "2.0           0.104943         -0.155155          0.052272          0.179987   \n",
       "3.0           0.063428         -0.135384          0.044273          0.173206   \n",
       "4.0           0.050113         -0.063170          0.127486         -0.005575   \n",
       "5.0           0.030611         -0.054296          0.053922          0.136202   \n",
       "6.0           0.055278         -0.085823          0.080782          0.053409   \n",
       "7.0           0.018906          0.000277         -0.114181          0.051417   \n",
       "8.0           0.023440          0.013019          0.062233         -0.085249   \n",
       "9.0           0.040659         -0.050541         -0.085181          0.012123   \n",
       "10.0          0.058733         -0.054700          0.060395          0.044148   \n",
       "11.0          0.061435         -0.050988         -0.011610          0.050507   \n",
       "12.0         -0.013650          0.004619         -0.065665         -0.051890   \n",
       "13.0         -0.047049          0.059260         -0.048768         -0.069780   \n",
       "14.0         -0.059744          0.041318         -0.021612         -0.144525   \n",
       "15.0         -0.010364          0.055322          0.010299         -0.093055   \n",
       "16.0         -0.079745          0.087262         -0.081021         -0.080663   \n",
       "\n",
       "      embedding_cat1_4  embedding_cat1_5  embedding_cat1_6  embedding_cat1_7  \\\n",
       "0.0           0.047127          0.027732         -0.017711          0.039655   \n",
       "1.0          -0.161715         -0.024519          0.135762         -0.098589   \n",
       "2.0          -0.147984         -0.105987          0.156033         -0.149080   \n",
       "3.0          -0.131889         -0.173308          0.112716         -0.053214   \n",
       "4.0          -0.026617          0.047506          0.086088         -0.081155   \n",
       "5.0          -0.139119         -0.089021          0.124014         -0.081321   \n",
       "6.0          -0.136797         -0.014700          0.100050         -0.125612   \n",
       "7.0           0.087804          0.057846         -0.006062          0.078000   \n",
       "8.0          -0.033903          0.053277         -0.034581          0.027701   \n",
       "9.0           0.060693          0.017010          0.058487          0.035154   \n",
       "10.0         -0.021829          0.044991          0.070388         -0.053535   \n",
       "11.0         -0.058612         -0.009386          0.067520          0.062118   \n",
       "12.0          0.100957          0.047433         -0.020007          0.095391   \n",
       "13.0          0.090831         -0.048661         -0.047484          0.089645   \n",
       "14.0          0.074854         -0.046098         -0.069517          0.018014   \n",
       "15.0         -0.044606          0.107908         -0.046360          0.029296   \n",
       "16.0          0.061739         -0.029703         -0.091169          0.101814   \n",
       "\n",
       "      embedding_cat1_8  \n",
       "0.0           0.048990  \n",
       "1.0          -0.136324  \n",
       "2.0          -0.110769  \n",
       "3.0          -0.103364  \n",
       "4.0           0.002933  \n",
       "5.0          -0.069375  \n",
       "6.0          -0.078767  \n",
       "7.0           0.008603  \n",
       "8.0           0.105030  \n",
       "9.0          -0.085550  \n",
       "10.0         -0.044967  \n",
       "11.0         -0.067027  \n",
       "12.0          0.091156  \n",
       "13.0          0.107626  \n",
       "14.0          0.146373  \n",
       "15.0          0.066073  \n",
       "16.0          0.088765  "
      ]
     },
     "execution_count": 37,
     "metadata": {},
     "output_type": "execute_result"
    }
   ],
   "source": [
    "full_processor.transformers_[1][1]['embedding']._embeddings_mapping['cat1']"
   ]
  },
  {
   "cell_type": "code",
   "execution_count": 38,
   "id": "41ff09e8",
   "metadata": {},
   "outputs": [
    {
     "data": {
      "image/png": "[encoded data removed]",
      "text/plain": [
       "<Figure size 800x600 with 1 Axes>"
      ]
     },
     "metadata": {},
     "output_type": "display_data"
    }
   ],
   "source": [
    "full_processor.transformers_[1][1]['embedding'].plot_embeddings(\"cat0\", model=\"pca\");  #default: pca"
   ]
  },
  {
   "cell_type": "markdown",
   "id": "f3fbf653",
   "metadata": {},
   "source": [
    "### Split data into training, evaluation and test dataset"
   ]
  },
  {
   "cell_type": "code",
   "execution_count": 39,
   "id": "2ba2e8b6",
   "metadata": {},
   "outputs": [],
   "source": [
    "X_train, X_test, y_train, y_test = train_test_split(X_processed, y_processed, stratify=y_processed, random_state=42)  #total=100%; train=75%; test=25%\n",
    "X_train_short, X_val, y_train_short, y_val = train_test_split(X_train, y_train, stratify=y_train, random_state=42)    #train_short=56% total; val=19% total; train_short=3/4*3/4=9/16=0.56; val=3/4*1/4=3/16=0.19"
   ]
  },
  {
   "cell_type": "markdown",
   "id": "17c97904",
   "metadata": {},
   "source": [
    "### Tune number of decision trees"
   ]
  },
  {
   "cell_type": "code",
   "execution_count": 40,
   "id": "2225c515",
   "metadata": {},
   "outputs": [],
   "source": [
    "best_params = {\n",
    "    'gamma': 0.25,\n",
    "    'learning_rate': 0.1,\n",
    "    'max_depth': 7,\n",
    "    'reg_lambda': 10,\n",
    "    'scale_pos_weight': 1,\n",
    "}"
   ]
  },
  {
   "cell_type": "code",
   "execution_count": 41,
   "id": "a1c4e800",
   "metadata": {},
   "outputs": [],
   "source": [
    "explore_n_estimators = 600"
   ]
  },
  {
   "cell_type": "code",
   "execution_count": 42,
   "id": "57b347fb",
   "metadata": {},
   "outputs": [],
   "source": [
    "model = XGBClassifier(\n",
    "    n_estimators=explore_n_estimators,\n",
    "    **best_params,\n",
    "    objective=\"binary:logistic\",\n",
    "    colsample_bytree=0.5,\n",
    "    subsample=0.8,\n",
    "    use_label_encoder=False\n",
    ")"
   ]
  },
  {
   "cell_type": "code",
   "execution_count": 43,
   "id": "74e0562d",
   "metadata": {},
   "outputs": [],
   "source": [
    "eval_set = [(X_train_short, y_train_short), (X_val, y_val)]  #metric applied on both train and val dataset"
   ]
  },
  {
   "cell_type": "code",
   "execution_count": 44,
   "id": "46200d55",
   "metadata": {},
   "outputs": [
    {
     "name": "stdout",
     "output_type": "stream",
     "text": [
      "Time elapsed (hh:mm:ss.ms) 0:01:11.349469\n"
     ]
    }
   ],
   "source": [
    "start = default_timer()\n",
    "model.fit(X_train_short, y_train_short, eval_metric=[\"error\", \"logloss\"], eval_set=eval_set, verbose=False)\n",
    "end = default_timer()\n",
    "print(f'Time elapsed (hh:mm:ss.ms) {timedelta(seconds=end-start)}')"
   ]
  },
  {
   "cell_type": "code",
   "execution_count": 45,
   "id": "31dc38cd",
   "metadata": {},
   "outputs": [
    {
     "name": "stdout",
     "output_type": "stream",
     "text": [
      "Accuracy: 85.04\n"
     ]
    }
   ],
   "source": [
    "from sklearn.metrics import accuracy_score\n",
    "\n",
    "y_pred = model.predict(X_val)\n",
    "accuracy = accuracy_score(y_val, y_pred)\n",
    "print(f'Accuracy: {accuracy * 100.0:.2f}')"
   ]
  },
  {
   "cell_type": "code",
   "execution_count": 46,
   "id": "0c4bebc8",
   "metadata": {},
   "outputs": [],
   "source": [
    "results = model.evals_result()\n",
    "epochs = len(results['validation_0']['error'])\n",
    "x_axis = range(0, epochs)"
   ]
  },
  {
   "cell_type": "code",
   "execution_count": 47,
   "id": "484bf392",
   "metadata": {},
   "outputs": [],
   "source": [
    "logloss_errors = results['validation_1']['logloss']  #log loss on val dataset"
   ]
  },
  {
   "cell_type": "code",
   "execution_count": 48,
   "id": "473b979a",
   "metadata": {},
   "outputs": [
    {
     "data": {
      "text/plain": [
       "0.337427"
      ]
     },
     "execution_count": 48,
     "metadata": {},
     "output_type": "execute_result"
    }
   ],
   "source": [
    "min_logloss_errors = np.min(logloss_errors); min_logloss_errors"
   ]
  },
  {
   "cell_type": "code",
   "execution_count": 49,
   "id": "b9bf72c0",
   "metadata": {},
   "outputs": [
    {
     "data": {
      "text/plain": [
       "257"
      ]
     },
     "execution_count": 49,
     "metadata": {},
     "output_type": "execute_result"
    }
   ],
   "source": [
    "bst_n_estimators = np.argmin(logloss_errors); bst_n_estimators"
   ]
  },
  {
   "cell_type": "code",
   "execution_count": 50,
   "id": "62692dc7",
   "metadata": {},
   "outputs": [],
   "source": [
    "acc_error = results['validation_1']['error']  #accuracy on val dataset"
   ]
  },
  {
   "cell_type": "code",
   "execution_count": 51,
   "id": "fbeb14f1",
   "metadata": {},
   "outputs": [
    {
     "data": {
      "text/plain": [
       "0.14831"
      ]
     },
     "execution_count": 51,
     "metadata": {},
     "output_type": "execute_result"
    }
   ],
   "source": [
    "min_acc_error = np.min(acc_error); min_acc_error"
   ]
  },
  {
   "cell_type": "code",
   "execution_count": 52,
   "id": "deaf31d0",
   "metadata": {},
   "outputs": [
    {
     "data": {
      "text/plain": [
       "429"
      ]
     },
     "execution_count": 52,
     "metadata": {},
     "output_type": "execute_result"
    }
   ],
   "source": [
    "bst_n_estimators_acc = np.argmin(acc_error); bst_n_estimators_acc"
   ]
  },
  {
   "cell_type": "code",
   "execution_count": 53,
   "id": "765ace2e",
   "metadata": {},
   "outputs": [
    {
     "data": {
      "text/plain": [
       "600"
      ]
     },
     "execution_count": 53,
     "metadata": {},
     "output_type": "execute_result"
    }
   ],
   "source": [
    "len(results['validation_0']['logloss'])"
   ]
  },
  {
   "cell_type": "code",
   "execution_count": 54,
   "id": "b048c467",
   "metadata": {},
   "outputs": [
    {
     "data": {
      "image/png": "[encoded data removed]",
      "text/plain": [
       "<Figure size 1008x288 with 2 Axes>"
      ]
     },
     "metadata": {},
     "output_type": "display_data"
    }
   ],
   "source": [
    "# plot log loss\n",
    "plt.style.use('default')  #seaborn plot causes style changes; side-effect of plot_embeddings above\n",
    "\n",
    "plt.figure(figsize=(14, 4), dpi=72)  #default dpi=100\n",
    "plt.subplot(121)\n",
    "plt.plot(x_axis, results['validation_0']['logloss'], label='Train')\n",
    "plt.plot(x_axis, results['validation_1']['logloss'], label='Val')\n",
    "plt.annotate(\"#estimators: \"+str(bst_n_estimators), \n",
    "            xy =(bst_n_estimators, -0.05),\n",
    "            xytext =(bst_n_estimators, -0.15),\n",
    "            horizontalalignment=\"center\",\n",
    "            arrowprops=dict(facecolor ='red'),\n",
    "            annotation_clip=False\n",
    "           )\n",
    "plt.plot([bst_n_estimators, bst_n_estimators], [0, min_logloss_errors], \"k--\")\n",
    "plt.plot(bst_n_estimators, min_logloss_errors, \"ko\")\n",
    "plt.text(bst_n_estimators, min_logloss_errors*1.07, \"Minimum\", ha=\"center\", fontsize=14)\n",
    "plt.axis([0, explore_n_estimators, 0, 0.6])\n",
    "plt.legend()\n",
    "plt.ylabel('Log Loss')\n",
    "plt.title('XGBoost Log Loss')\n",
    "\n",
    "# plot classification error\n",
    "plt.subplot(122)\n",
    "plt.plot(x_axis, results['validation_0']['error'], label='Train')\n",
    "plt.plot(x_axis, results['validation_1']['error'], label='Val')\n",
    "plt.annotate(\"#estimators: \"+str(bst_n_estimators_acc), \n",
    "            xy =(bst_n_estimators_acc, -0.016),\n",
    "            xytext =(bst_n_estimators_acc, -0.05),\n",
    "            horizontalalignment=\"center\",\n",
    "            arrowprops=dict(facecolor ='red'),\n",
    "            annotation_clip=False\n",
    "           )\n",
    "plt.plot([bst_n_estimators_acc, bst_n_estimators_acc], [0, min_acc_error], \"k--\")\n",
    "plt.plot(bst_n_estimators_acc, min_acc_error, \"ko\")\n",
    "plt.text(bst_n_estimators_acc, min_acc_error*1.06, \"Minimum\", ha=\"center\", fontsize=14)\n",
    "plt.axis([0, explore_n_estimators, 0, 0.2])\n",
    "plt.legend()\n",
    "plt.ylabel('Classification Error')\n",
    "plt.title('XGBoost Classification Error')\n",
    "\n",
    "plt.show()"
   ]
  },
  {
   "cell_type": "markdown",
   "id": "d52218f5",
   "metadata": {},
   "source": [
    "### Train XGBoost classifier with optimal number of decision trees"
   ]
  },
  {
   "cell_type": "code",
   "execution_count": 55,
   "id": "300811f9",
   "metadata": {},
   "outputs": [
    {
     "data": {
      "text/plain": [
       "257"
      ]
     },
     "execution_count": 55,
     "metadata": {},
     "output_type": "execute_result"
    }
   ],
   "source": [
    "bst_n_estimators"
   ]
  },
  {
   "cell_type": "code",
   "execution_count": 56,
   "id": "8c540e82",
   "metadata": {},
   "outputs": [],
   "source": [
    "final_cl = XGBClassifier(\n",
    "    n_estimators=bst_n_estimators,\n",
    "    **best_params,\n",
    "    colsample_bytree=0.5,\n",
    "    subsample=0.8,\n",
    "    use_label_encoder=False,\n",
    "    verbosity = 0\n",
    ")"
   ]
  },
  {
   "cell_type": "code",
   "execution_count": 57,
   "id": "e4a73aa2",
   "metadata": {},
   "outputs": [
    {
     "name": "stdout",
     "output_type": "stream",
     "text": [
      "Time elapsed (hh:mm:ss.ms) 0:00:35.277210\n"
     ]
    }
   ],
   "source": [
    "start = default_timer()\n",
    "final_cl.fit(X_train, y_train, verbose=False)\n",
    "end = default_timer()\n",
    "print(f'Time elapsed (hh:mm:ss.ms) {timedelta(seconds=end-start)}')"
   ]
  },
  {
   "cell_type": "markdown",
   "id": "a309ccde",
   "metadata": {},
   "source": [
    "### Performance of XGBoost classifier"
   ]
  },
  {
   "cell_type": "code",
   "execution_count": 58,
   "id": "f4e9b250",
   "metadata": {},
   "outputs": [
    {
     "data": {
      "text/plain": [
       "0.8516430633851231"
      ]
     },
     "execution_count": 58,
     "metadata": {},
     "output_type": "execute_result"
    }
   ],
   "source": [
    "final_cl.score(X_test,y_test)"
   ]
  },
  {
   "cell_type": "code",
   "execution_count": 59,
   "id": "3a9b63be",
   "metadata": {},
   "outputs": [
    {
     "data": {
      "text/plain": [
       "0.8830032214924651"
      ]
     },
     "execution_count": 59,
     "metadata": {},
     "output_type": "execute_result"
    }
   ],
   "source": [
    "roc_auc_score(y_test, final_cl.predict_proba(X_test)[:,1])"
   ]
  },
  {
   "cell_type": "code",
   "execution_count": 60,
   "id": "862fda32",
   "metadata": {},
   "outputs": [
    {
     "name": "stdout",
     "output_type": "stream",
     "text": [
      "              precision    recall  f1-score   support\n",
      "\n",
      "           0       0.88      0.94      0.91     28395\n",
      "           1       0.72      0.53      0.61      7970\n",
      "\n",
      "    accuracy                           0.85     36365\n",
      "   macro avg       0.80      0.74      0.76     36365\n",
      "weighted avg       0.84      0.85      0.84     36365\n",
      "\n"
     ]
    }
   ],
   "source": [
    "print(classification_report(y_test, final_cl.predict(X_test)))"
   ]
  },
  {
   "cell_type": "markdown",
   "id": "08eed955",
   "metadata": {},
   "source": [
    "### Determine top-level features"
   ]
  },
  {
   "cell_type": "code",
   "execution_count": 61,
   "id": "e7e76cff",
   "metadata": {},
   "outputs": [
    {
     "data": {
      "text/plain": [
       "(39,)"
      ]
     },
     "execution_count": 61,
     "metadata": {},
     "output_type": "execute_result"
    }
   ],
   "source": [
    "final_cl.feature_importances_.shape"
   ]
  },
  {
   "cell_type": "code",
   "execution_count": 62,
   "id": "73fe8bfa",
   "metadata": {},
   "outputs": [],
   "source": [
    "list_of_tuples = list(zip(X_train.columns.to_numpy(), final_cl.feature_importances_))"
   ]
  },
  {
   "cell_type": "code",
   "execution_count": 63,
   "id": "b8e9e8da",
   "metadata": {},
   "outputs": [],
   "source": [
    "df = pd.DataFrame(list_of_tuples, columns = ['score', 'feature_importances']).sort_values('feature_importances',ascending=False)"
   ]
  },
  {
   "cell_type": "code",
   "execution_count": 64,
   "id": "4dd6b162",
   "metadata": {},
   "outputs": [
    {
     "data": {
      "text/html": [
       "<div>\n",
       "<style scoped>\n",
       "    .dataframe tbody tr th:only-of-type {\n",
       "        vertical-align: middle;\n",
       "    }\n",
       "\n",
       "    .dataframe tbody tr th {\n",
       "        vertical-align: top;\n",
       "    }\n",
       "\n",
       "    .dataframe thead th {\n",
       "        text-align: right;\n",
       "    }\n",
       "</style>\n",
       "<table border=\"1\" class=\"dataframe\">\n",
       "  <thead>\n",
       "    <tr style=\"text-align: right;\">\n",
       "      <th></th>\n",
       "      <th>score</th>\n",
       "      <th>feature_importances</th>\n",
       "    </tr>\n",
       "  </thead>\n",
       "  <tbody>\n",
       "    <tr>\n",
       "      <th>5</th>\n",
       "      <td>Humidity9am</td>\n",
       "      <td>0.156311</td>\n",
       "    </tr>\n",
       "    <tr>\n",
       "      <th>6</th>\n",
       "      <td>Humidity3pm</td>\n",
       "      <td>0.066948</td>\n",
       "    </tr>\n",
       "    <tr>\n",
       "      <th>1</th>\n",
       "      <td>MaxTemp</td>\n",
       "      <td>0.043207</td>\n",
       "    </tr>\n",
       "    <tr>\n",
       "      <th>0</th>\n",
       "      <td>MinTemp</td>\n",
       "      <td>0.042367</td>\n",
       "    </tr>\n",
       "    <tr>\n",
       "      <th>7</th>\n",
       "      <td>Pressure9am</td>\n",
       "      <td>0.039838</td>\n",
       "    </tr>\n",
       "  </tbody>\n",
       "</table>\n",
       "</div>"
      ],
      "text/plain": [
       "         score  feature_importances\n",
       "5  Humidity9am             0.156311\n",
       "6  Humidity3pm             0.066948\n",
       "1      MaxTemp             0.043207\n",
       "0      MinTemp             0.042367\n",
       "7  Pressure9am             0.039838"
      ]
     },
     "execution_count": 64,
     "metadata": {},
     "output_type": "execute_result"
    }
   ],
   "source": [
    "df.head()"
   ]
  },
  {
   "cell_type": "code",
   "execution_count": 65,
   "id": "14f61931",
   "metadata": {},
   "outputs": [],
   "source": [
    "skew_ness = df['feature_importances'].skew()"
   ]
  },
  {
   "cell_type": "code",
   "execution_count": 66,
   "id": "3230ca52",
   "metadata": {},
   "outputs": [
    {
     "data": {
      "image/png": "[encoded data removed]",
      "text/plain": [
       "<Figure size 576x360 with 1 Axes>"
      ]
     },
     "metadata": {},
     "output_type": "display_data"
    }
   ],
   "source": [
    "plt.figure(figsize = (8, 5), dpi=72)  #default dpi=100\n",
    "ax = sns.histplot(df['feature_importances'], label = f'Skewness: {skew_ness:.2f}', bins=10, kde=True)\n",
    "ax.set(xlabel='feature importances')\n",
    "plt.legend(loc = 'best')\n",
    "plt.title('Distribution of feature importances')\n",
    "plt.show()"
   ]
  },
  {
   "cell_type": "code",
   "execution_count": 67,
   "id": "e9466272",
   "metadata": {},
   "outputs": [],
   "source": [
    "cum_sum_features = pd.DataFrame(np.cumsum(df['feature_importances']))"
   ]
  },
  {
   "cell_type": "code",
   "execution_count": 68,
   "id": "c772aedf",
   "metadata": {},
   "outputs": [
    {
     "data": {
      "text/html": [
       "<div>\n",
       "<style scoped>\n",
       "    .dataframe tbody tr th:only-of-type {\n",
       "        vertical-align: middle;\n",
       "    }\n",
       "\n",
       "    .dataframe tbody tr th {\n",
       "        vertical-align: top;\n",
       "    }\n",
       "\n",
       "    .dataframe thead th {\n",
       "        text-align: right;\n",
       "    }\n",
       "</style>\n",
       "<table border=\"1\" class=\"dataframe\">\n",
       "  <thead>\n",
       "    <tr style=\"text-align: right;\">\n",
       "      <th></th>\n",
       "      <th>feature_importances</th>\n",
       "    </tr>\n",
       "  </thead>\n",
       "  <tbody>\n",
       "    <tr>\n",
       "      <th>5</th>\n",
       "      <td>0.156311</td>\n",
       "    </tr>\n",
       "    <tr>\n",
       "      <th>6</th>\n",
       "      <td>0.223259</td>\n",
       "    </tr>\n",
       "    <tr>\n",
       "      <th>1</th>\n",
       "      <td>0.266466</td>\n",
       "    </tr>\n",
       "    <tr>\n",
       "      <th>0</th>\n",
       "      <td>0.308833</td>\n",
       "    </tr>\n",
       "    <tr>\n",
       "      <th>7</th>\n",
       "      <td>0.348671</td>\n",
       "    </tr>\n",
       "  </tbody>\n",
       "</table>\n",
       "</div>"
      ],
      "text/plain": [
       "   feature_importances\n",
       "5             0.156311\n",
       "6             0.223259\n",
       "1             0.266466\n",
       "0             0.308833\n",
       "7             0.348671"
      ]
     },
     "execution_count": 68,
     "metadata": {},
     "output_type": "execute_result"
    }
   ],
   "source": [
    "cum_sum_features.head()"
   ]
  },
  {
   "cell_type": "code",
   "execution_count": 69,
   "id": "07a466ff",
   "metadata": {},
   "outputs": [],
   "source": [
    "top_features_threshold = 0.8  #threshold for accumulative feature importance"
   ]
  },
  {
   "cell_type": "code",
   "execution_count": 70,
   "id": "c8dbab5b",
   "metadata": {},
   "outputs": [
    {
     "data": {
      "text/plain": [
       "23"
      ]
     },
     "execution_count": 70,
     "metadata": {},
     "output_type": "execute_result"
    }
   ],
   "source": [
    "#get features for cumulative feature importance of 80%\n",
    "num_best_features = cum_sum_features[cum_sum_features['feature_importances']<top_features_threshold].shape[0]\n",
    "num_best_features"
   ]
  },
  {
   "cell_type": "code",
   "execution_count": 71,
   "id": "6430f18f",
   "metadata": {},
   "outputs": [
    {
     "data": {
      "text/plain": [
       "['WindGustDir', 'WindDir9am', 'WindDir3pm']"
      ]
     },
     "execution_count": 71,
     "metadata": {},
     "output_type": "execute_result"
    }
   ],
   "source": [
    "list(cat_cols)  #categorical features"
   ]
  },
  {
   "cell_type": "code",
   "execution_count": 72,
   "id": "37d41c58",
   "metadata": {},
   "outputs": [
    {
     "data": {
      "text/plain": [
       "Index(['MinTemp', 'MaxTemp', 'WindGustSpeed', 'WindSpeed9am', 'WindSpeed3pm',\n",
       "       'Humidity9am', 'Humidity3pm', 'Pressure9am', 'Pressure3pm', 'Cloud9am',\n",
       "       'Temp9am', 'Temp3pm', 'embedding_cat0_0', 'embedding_cat0_1',\n",
       "       'embedding_cat0_2', 'embedding_cat0_3', 'embedding_cat0_4',\n",
       "       'embedding_cat0_5', 'embedding_cat0_6', 'embedding_cat0_7',\n",
       "       'embedding_cat0_8', 'embedding_cat1_0', 'embedding_cat1_1'],\n",
       "      dtype='object')"
      ]
     },
     "execution_count": 72,
     "metadata": {},
     "output_type": "execute_result"
    }
   ],
   "source": [
    "X_train.columns[:num_best_features]  #categorical features translate to embedding_cat0_*, embedding_cat1_*, embedding_cat2_*"
   ]
  },
  {
   "cell_type": "code",
   "execution_count": null,
   "id": "4948e664",
   "metadata": {},
   "outputs": [],
   "source": []
  }
 ],
 "metadata": {
  "kernelspec": {
   "display_name": "parquet_env",
   "language": "python",
   "name": "parquet_env"
  },
  "language_info": {
   "codemirror_mode": {
    "name": "ipython",
    "version": 3
   },
   "file_extension": ".py",
   "mimetype": "text/x-python",
   "name": "python",
   "nbconvert_exporter": "python",
   "pygments_lexer": "ipython3",
   "version": "3.9.12"
  }
 },
 "nbformat": 4,
 "nbformat_minor": 5
}
